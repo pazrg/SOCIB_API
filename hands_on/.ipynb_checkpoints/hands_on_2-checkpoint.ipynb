{
 "cells": [
  {
   "cell_type": "markdown",
   "metadata": {},
   "source": [
    "<h1 class=\"header\"><img class=\"logo\" src=\"../images/socib_logo.png\" width=\"200px\"></h1>"
   ]
  },
  {
   "cell_type": "markdown",
   "metadata": {},
   "source": [
    "<h3> STYLING NOTEBOOK (OPTIONAL)</h3>"
   ]
  },
  {
   "cell_type": "code",
   "execution_count": 1,
   "metadata": {
    "collapsed": false
   },
   "outputs": [
    {
     "data": {
      "text/html": [
       "<style>\n",
       "\n",
       "h1{\n",
       "\tfloat:right !important\n",
       "}\n",
       "\n",
       "h1>img{\n",
       "\twidth: 200px !important\n",
       "}\n",
       "\n",
       "h3{\n",
       "\tbackground-color: #00334C;\n",
       "\tborder: 1px solid #e3e3e3;\n",
       "\tborder-radius: 4px;\n",
       "\tcolor: #3dabb6; \n",
       "\tpadding: 19px\n",
       "}\n",
       "\n",
       "h3>span{\n",
       "\tborder: 1px solid #3dabb6;\n",
       "\tborder-radius: 4px;\n",
       "\tbackground-color: #3dabb6; \n",
       "\tcolor: white; \n",
       "\tpadding: 5px\n",
       "}\n",
       "\n",
       "ul>li>b{\n",
       "\tborder: 1px solid #3dabb6;\n",
       "\tborder-radius: 4px;\n",
       "\tbackground-color: #3dabb6; \n",
       "\tcolor: white; padding: 5px;\n",
       "}\n",
       "</style>\n"
      ],
      "text/plain": [
       "<IPython.core.display.HTML object>"
      ]
     },
     "execution_count": 1,
     "metadata": {},
     "output_type": "execute_result"
    }
   ],
   "source": [
    "from IPython.core.display import HTML\n",
    "import urllib\n",
    "HTML(urllib.urlopen('https://raw.githubusercontent.com/socib/API_examples/master/style/custom/custom.css').read())"
   ]
  },
  {
   "cell_type": "markdown",
   "metadata": {},
   "source": [
    "<h3>HANDY PYTHON PACKAGES</h3>"
   ]
  },
  {
   "cell_type": "code",
   "execution_count": 2,
   "metadata": {
    "collapsed": true
   },
   "outputs": [],
   "source": [
    "import requests\n",
    "import json\n",
    "import matplotlib.pyplot as plt\n",
    "import numpy as np\n",
    "from mpl_toolkits.basemap import Basemap\n",
    "from json2html import *\n",
    "from IPython.display import HTML\n",
    "import os\n",
    "import urllib\n",
    "%matplotlib inline"
   ]
  },
  {
   "cell_type": "markdown",
   "metadata": {},
   "source": [
    "<h3>PREREQUISITES</h3>"
   ]
  },
  {
   "cell_type": "code",
   "execution_count": 3,
   "metadata": {
    "collapsed": true
   },
   "outputs": [],
   "source": [
    "api_key = '' #write you SOCIB api_key\n",
    "api_url = 'http://api.socib.es'\n",
    "headers = {\n",
    "    'accept': 'application/vnd.socib+json',\n",
    "    'apikey': api_key,\n",
    "}"
   ]
  },
  {
   "cell_type": "markdown",
   "metadata": {},
   "source": [
    "<h3> GETTING A GIVEN PLATFORM LATEST DATA</h3>"
   ]
  },
  {
   "cell_type": "markdown",
   "metadata": {},
   "source": [
    "Let's target only ongoing gliders:"
   ]
  },
  {
   "cell_type": "code",
   "execution_count": 4,
   "metadata": {
    "collapsed": false
   },
   "outputs": [
    {
     "name": "stdout",
     "output_type": "stream",
     "text": [
      "Requested url: http://api.socib.es/data-platforms/?status=active&platform_type=Glider&page=1\n",
      "Requested url: http://api.socib.es/data-platforms/?page=2&platform_type=Glider&status=active\n"
     ]
    },
    {
     "data": {
      "text/html": [
       "<table border=\"1\"><tr><th>status</th><th>wmo_naming_authority</th><th>name</th><th>initial_datetime</th><th>end_datetime</th><th>wmo_code</th><th>type</th><th>id</th></tr><tr><td>completed</td><td>JCOMMOBS</td><td>icoast00</td><td>2011-09-20T11:01:46Z</td><td>2017-07-12T08:19:37Z</td><td>68968</td><td>Glider</td><td>icoast00</td></tr><tr><td>completed</td><td>JCOMMOBS</td><td>ideep00</td><td>2011-01-12T07:55:19Z</td><td>2016-08-23T10:12:25Z</td><td>68452</td><td>Glider</td><td>ideep00</td></tr><tr><td>completed</td><td>JCOMMOBS</td><td>ideep01</td><td>2011-01-25T17:30:02Z</td><td>2011-02-05T16:22:16Z</td><td>68996</td><td>Glider</td><td>ideep01</td></tr><tr><td>completed</td><td>JCOMMOBS</td><td>ideep02</td><td>2011-10-19T07:50:03Z</td><td>2016-12-15T14:59:55Z</td><td>68966</td><td>Glider</td><td>ideep02</td></tr><tr><td>completed</td><td>JCOMMOBS</td><td>sdeep00</td><td>2012-02-28T10:04:10Z</td><td>2018-08-13T07:06:33Z</td><td>68457</td><td>Glider</td><td>sdeep00</td></tr><tr><td>active</td><td>JCOMMOBS</td><td>sdeep01</td><td>2013-03-22T11:19:44Z</td><td>2018-11-30T11:11:14Z</td><td>68967</td><td>Glider</td><td>sdeep01</td></tr><tr><td>completed</td><td>JCOMMOBS</td><td>sdeep02</td><td>2012-03-12T08:28:00Z</td><td>2013-11-29T12:17:21Z</td><td>68965</td><td>Glider</td><td>sdeep02</td></tr><tr><td>completed</td><td>JCOMMOBS</td><td>sdeep03</td><td>2012-07-17T12:01:52Z</td><td>2013-03-16T08:31:24Z</td><td>68969</td><td>Glider</td><td>sdeep03</td></tr><tr><td>completed</td><td>JCOMMOBS</td><td>sdeep04</td><td>2016-02-23T17:11:09Z</td><td>2018-02-22T18:31:49Z</td><td>68997</td><td>Glider</td><td>sdeep04</td></tr><tr><td>completed</td><td>JCOMMOBS</td><td>sdeep05</td><td>2017-03-03T10:01:15Z</td><td>2018-05-18T02:07:58Z</td><td>68998</td><td>Glider</td><td>sdeep05</td></tr><tr><td>completed</td><td>JCOMMOBS</td><td>sea003</td><td>2018-05-03T10:03:34Z</td><td>2018-05-15T08:33:48Z</td><td>n/a</td><td>Glider</td><td>sea003</td></tr><tr><td>completed</td><td>JCOMMOBS</td><td>sp014</td><td>2018-03-01T18:19:00Z</td><td>2018-05-21T11:12:00Z</td><td>n/a</td><td>Glider</td><td>sp014</td></tr><tr><td>completed</td><td>JCOMMOBS</td><td>sp056</td><td>2018-05-24T15:15:00Z</td><td>2018-08-03T12:35:00Z</td><td>n/a</td><td>Glider</td><td>sp056</td></tr><tr><td>completed</td><td>JCOMMOBS</td><td>sp059</td><td>2018-05-24T15:16:00Z</td><td>2018-08-03T12:36:00Z</td><td>n/a</td><td>Glider</td><td>sp059</td></tr><tr><td>completed</td><td>n/a</td><td>teresa</td><td>2015-08-11T16:23:13Z</td><td>2018-05-31T14:19:27Z</td><td>n/a</td><td>Glider</td><td>teresa</td></tr></table>"
      ],
      "text/plain": [
       "<IPython.core.display.HTML object>"
      ]
     },
     "execution_count": 4,
     "metadata": {},
     "output_type": "execute_result"
    }
   ],
   "source": [
    "platforms = []\n",
    "page = \"http://api.socib.es/data-platforms/?status=active&platform_type=Glider&page=1\"\n",
    "while page != None:\n",
    "    request = requests.get('%s' % (page), headers=headers)\n",
    "    response = json.loads(request.text)\n",
    "    print('Requested url: '+'%s' % (page))\n",
    "    for platform in response['results']:\n",
    "        platforms.append(platform)\n",
    "    page = response['next']\n",
    "HTML(json2html.convert(json=platforms))"
   ]
  },
  {
   "cell_type": "markdown",
   "metadata": {},
   "source": [
    "Let's focus on the first one of the list:"
   ]
  },
  {
   "cell_type": "code",
   "execution_count": 5,
   "metadata": {
    "collapsed": false
   },
   "outputs": [
    {
     "name": "stdout",
     "output_type": "stream",
     "text": [
      "Requested url: http://api.socib.es/data-platforms/icoast00. Be aware of the name requested\n"
     ]
    },
    {
     "data": {
      "text/html": [
       "<table border=\"1\"><tr><th>status</th><td>completed</td></tr><tr><th>wmo_naming_authority</th><td>JCOMMOBS</td></tr><tr><th>name</th><td>icoast00</td></tr><tr><th>initial_datetime</th><td>2011-09-20T11:01:46Z</td></tr><tr><th>end_datetime</th><td>2017-07-12T08:19:37Z</td></tr><tr><th>wmo_code</th><td>68968</td></tr><tr><th>type</th><td>Glider</td></tr><tr><th>id</th><td>icoast00</td></tr></table>"
      ],
      "text/plain": [
       "<IPython.core.display.HTML object>"
      ]
     },
     "execution_count": 5,
     "metadata": {},
     "output_type": "execute_result"
    }
   ],
   "source": [
    "targeted_data_platform = platforms[0]\n",
    "end_point_plus_aux = '/data-platforms/'+targeted_data_platform['name']\n",
    "request = requests.get('%s%s' % (api_url, end_point_plus_aux), headers=headers)\n",
    "response = json.loads(request.text)\n",
    "print('Requested url: '+'%s%s. Be aware of the name requested' % (api_url, end_point_plus_aux))\n",
    "HTML(json2html.convert(json=response))"
   ]
  },
  {
   "cell_type": "code",
   "execution_count": 6,
   "metadata": {
    "collapsed": false
   },
   "outputs": [
    {
     "name": "stdout",
     "output_type": "stream",
     "text": [
      "Requested url: http://api.socib.es/data-platforms/icoast00/files/latest/?current=false. Be aware of the name requested\n"
     ]
    },
    {
     "data": {
      "text/html": [
       "<table border=\"1\"><tr><th>status</th><td>completed</td></tr><tr><th>name</th><td>icoast00</td></tr><tr><th>variables</th><td><ul><li>distance</li><li>internal_pressure</li><li>platform_orientation</li><li>current_target_latitude</li><li>boolean</li><li>target_latitude</li><li>electrical_comsumption</li><li>target_longitude</li><li>location_class</li><li>transmission_duration</li><li>northward_sea_water_velocity</li><li>number_of_dive</li><li>voltage</li><li>eastward_sea_water_velocity</li><li>transmission_retries</li><li>iridium_phone_number</li><li>platform_speed_wrt_ground</li><li>mission_duration</li><li>current_target_longitude</li></ul></td></tr><tr><th>initial_datetime</th><td>2011-09-20T11:01:46Z</td></tr><tr><th>end_datetime</th><td>2017-07-12T08:19:37Z</td></tr><tr><th>entries</th><td><table border=\"1\"><tr><th>http_file</th><th>variables</th><th>last_update</th><th>initial_datetime</th><th>end_datetime</th><th>opendap</th><th>coverage_bounding_box</th><th>processing_level</th></tr><tr><td>http://thredds.socib.es/thredds/fileServer/auv/glider/icoast00-ime_slcost000/L0/2017/dep0007_icoast00_ime-slcost000_L0_2017-06-26.nc</td><td><ul><li>distance</li><li>internal_pressure</li><li>platform_orientation</li><li>current_target_latitude</li><li>boolean</li><li>target_latitude</li><li>electrical_comsumption</li><li>target_longitude</li><li>location_class</li><li>transmission_duration</li><li>northward_sea_water_velocity</li><li>number_of_dive</li><li>voltage</li><li>eastward_sea_water_velocity</li><li>transmission_retries</li><li>iridium_phone_number</li><li>platform_speed_wrt_ground</li><li>mission_duration</li><li>current_target_longitude</li></ul></td><td>2017-07-12 08:34:09+00:00</td><td>2017-06-26 08:02:52+00:00</td><td>2017-07-12 08:19:37+00:00</td><td>http://thredds.socib.es/thredds/dodsC/auv/glider/icoast00-ime_slcost000/L0/2017/dep0007_icoast00_ime-slcost000_L0_2017-06-26.nc</td><td><table border=\"1\"><tr><th>type</th><td>Polygon</td></tr><tr><th>coordinates</th><td><ul><li><ul><li><ul><li>2.5655</li><li>38.2555</li></ul></li><li><ul><li>2.5655</li><li>39.3049</li></ul></li><li><ul><li>3.5357</li><li>39.3049</li></ul></li><li><ul><li>3.5357</li><li>38.2555</li></ul></li><li><ul><li>2.5655</li><li>38.2555</li></ul></li></ul></li></ul></td></tr></table></td><td>L0</td></tr><tr><td>http://thredds.socib.es/thredds/fileServer/auv/glider/icoast00-ime_slcost000/L1/2017/dep0007_icoast00_ime-slcost000_L1_2017-06-26.nc</td><td><ul><li>distance</li><li>internal_pressure</li><li>platform_orientation</li><li>current_target_latitude</li><li>boolean</li><li>target_latitude</li><li>electrical_comsumption</li><li>target_longitude</li><li>location_class</li><li>transmission_duration</li><li>northward_sea_water_velocity</li><li>number_of_dive</li><li>voltage</li><li>eastward_sea_water_velocity</li><li>transmission_retries</li><li>iridium_phone_number</li><li>platform_speed_wrt_ground</li><li>mission_duration</li><li>current_target_longitude</li></ul></td><td>2017-07-12 08:34:09+00:00</td><td>2017-06-26 08:02:52+00:00</td><td>2017-07-12 08:19:37+00:00</td><td>http://thredds.socib.es/thredds/dodsC/auv/glider/icoast00-ime_slcost000/L1/2017/dep0007_icoast00_ime-slcost000_L1_2017-06-26.nc</td><td><table border=\"1\"><tr><th>type</th><td>Polygon</td></tr><tr><th>coordinates</th><td><ul><li><ul><li><ul><li>2.5655</li><li>38.2555</li></ul></li><li><ul><li>2.5655</li><li>39.3049</li></ul></li><li><ul><li>3.5357</li><li>39.3049</li></ul></li><li><ul><li>3.5357</li><li>38.2555</li></ul></li><li><ul><li>2.5655</li><li>38.2555</li></ul></li></ul></li></ul></td></tr></table></td><td>L1</td></tr></table></td></tr><tr><th>type</th><td>Glider</td></tr><tr><th>id</th><td>icoast00</td></tr></table>"
      ],
      "text/plain": [
       "<IPython.core.display.HTML object>"
      ]
     },
     "execution_count": 6,
     "metadata": {},
     "output_type": "execute_result"
    }
   ],
   "source": [
    "targeted_data_platform = platforms[0]\n",
    "end_point_plus_aux = '/data-platforms/'+targeted_data_platform['name']+'/files/latest'\n",
    "url_addons = '/?current=false'\n",
    "request = requests.get('%s%s%s' % (api_url, end_point_plus_aux, url_addons), headers=headers)\n",
    "response = json.loads(request.text)\n",
    "print('Requested url: '+'%s%s%s. Be aware of the name requested' % (api_url, end_point_plus_aux, url_addons))\n",
    "HTML(json2html.convert(json=response))"
   ]
  },
  {
   "cell_type": "markdown",
   "metadata": {},
   "source": [
    "Donwload above latest netCDFs:"
   ]
  },
  {
   "cell_type": "code",
   "execution_count": 7,
   "metadata": {
    "collapsed": true
   },
   "outputs": [],
   "source": [
    "path = os.getcwd() #set the path you want the files to endup. Working directory as default one."
   ]
  },
  {
   "cell_type": "code",
   "execution_count": 20,
   "metadata": {
    "collapsed": false
   },
   "outputs": [
    {
     "name": "stdout",
     "output_type": "stream",
     "text": [
      "dep0007_icoast00_ime-slcost000_L0_2017-06-26.nc\n",
      "dep0007_icoast00_ime-slcost000_L1_2017-06-26.nc\n"
     ]
    }
   ],
   "source": [
    "netCDFs_http_files = [entry['http_file'] for entry in response['entries']]\n",
    "for nc in netCDFs_http_files:\n",
    "    nc_name =  nc[nc.rfind('/')+1:]\n",
    "    urllib.urlretrieve (nc, path+'/'+nc_name)\n",
    "    print(nc_name)"
   ]
  }
 ],
 "metadata": {
  "kernelspec": {
   "display_name": "Python [Root]",
   "language": "python",
   "name": "Python [Root]"
  },
  "language_info": {
   "codemirror_mode": {
    "name": "ipython",
    "version": 2
   },
   "file_extension": ".py",
   "mimetype": "text/x-python",
   "name": "python",
   "nbconvert_exporter": "python",
   "pygments_lexer": "ipython2",
   "version": "2.7.12"
  }
 },
 "nbformat": 4,
 "nbformat_minor": 0
}

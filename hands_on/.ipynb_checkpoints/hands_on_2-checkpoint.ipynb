{
 "cells": [
  {
   "cell_type": "markdown",
   "metadata": {},
   "source": [
    "<h1 class=\"header\"><img class=\"logo\" src=\"../images/socib_logo.png\" width=\"200px\"></h1>"
   ]
  },
  {
   "cell_type": "markdown",
   "metadata": {},
   "source": [
    "<h3> STYLING NOTEBOOK (OPTIONAL)</h3>"
   ]
  },
  {
   "cell_type": "code",
   "execution_count": 1,
   "metadata": {
    "collapsed": false
   },
   "outputs": [
    {
     "data": {
      "text/html": [
       "<style>\n",
       "\n",
       "h1{\n",
       "\tfloat:right !important\n",
       "}\n",
       "\n",
       "h1>img{\n",
       "\twidth: 200px !important\n",
       "}\n",
       "\n",
       "h3{\n",
       "\tbackground-color: #00334C;\n",
       "\tborder: 1px solid #e3e3e3;\n",
       "\tborder-radius: 4px;\n",
       "\tcolor: #3dabb6; \n",
       "\tpadding: 19px\n",
       "}\n",
       "\n",
       "h3>span{\n",
       "\tborder: 1px solid #3dabb6;\n",
       "\tborder-radius: 4px;\n",
       "\tbackground-color: #3dabb6; \n",
       "\tcolor: white; \n",
       "\tpadding: 5px\n",
       "}\n",
       "\n",
       "ul>li>b{\n",
       "\tborder: 1px solid #3dabb6;\n",
       "\tborder-radius: 4px;\n",
       "\tbackground-color: #3dabb6; \n",
       "\tcolor: white; padding: 5px;\n",
       "}\n",
       "</style>\n"
      ],
      "text/plain": [
       "<IPython.core.display.HTML object>"
      ]
     },
     "execution_count": 1,
     "metadata": {},
     "output_type": "execute_result"
    }
   ],
   "source": [
    "from IPython.core.display import HTML\n",
    "import urllib\n",
    "HTML(urllib.urlopen('https://raw.githubusercontent.com/socib/API_examples/master/style/custom/custom.css').read())"
   ]
  },
  {
   "cell_type": "markdown",
   "metadata": {},
   "source": [
    "<h3>HANDY PYTHON PACKAGES</h3>"
   ]
  },
  {
   "cell_type": "code",
   "execution_count": 2,
   "metadata": {
    "collapsed": true
   },
   "outputs": [],
   "source": [
    "import requests\n",
    "import json\n",
    "import matplotlib.pyplot as plt\n",
    "import numpy as np\n",
    "from mpl_toolkits.basemap import Basemap\n",
    "from json2html import *\n",
    "from IPython.display import HTML\n",
    "import os\n",
    "import urllib\n",
    "%matplotlib inline"
   ]
  },
  {
   "cell_type": "markdown",
   "metadata": {},
   "source": [
    "<h3>PREREQUISITES</h3>"
   ]
  },
  {
   "cell_type": "code",
   "execution_count": 3,
   "metadata": {
    "collapsed": true
   },
   "outputs": [],
   "source": [
    "api_key = '' #write you SOCIB api_key\n",
    "api_url = 'http://api.socib.es'\n",
    "headers = {\n",
    "    'accept': 'application/vnd.socib+json',\n",
    "    'apikey': api_key,\n",
    "}"
   ]
  },
  {
   "cell_type": "markdown",
   "metadata": {},
   "source": [
    "<h3>DATA-PLATFORM'S FILES </h3>"
   ]
  },
  {
   "cell_type": "markdown",
   "metadata": {},
   "source": [
    "Data platforms can offer 2 type of files: \n",
    "<ul>\n",
    "    <li><span><b>deployment files</b></span>: are the ordinary netCDFs originated from the intruments on board of the platform. <br>These files are therefore the same kind as the ones offered in the data-source endpoint (the so-called <i>entries</i>). </li><br>\n",
    "    <li><span><b>platform files</b></span>: <i>added-value</i> netCDFs obtained after performing higher level operations over the data directly derived from the intruments on board of the platform. These files are therefore <i>enriched files</i> and can,  for example, self-contain all the data comming from the different intruments deployed (a single file per platfrom intead of the different files per instrument) and even procure new variables derived form the data comming from the different instruments. </li>\n",
    "</ul>"
   ]
  },
  {
   "cell_type": "markdown",
   "metadata": {},
   "source": [
    "<h3> GETTING A GIVEN PLATFORM LATEST FILES</h3>"
   ]
  },
  {
   "cell_type": "markdown",
   "metadata": {},
   "source": [
    "Let's target only ongoing gliders:"
   ]
  },
  {
   "cell_type": "code",
   "execution_count": 18,
   "metadata": {
    "collapsed": false
   },
   "outputs": [
    {
     "name": "stdout",
     "output_type": "stream",
     "text": [
      "Requested url: http://api.socib.es/data-platforms/?is_active=True&platform_type=Glider&page=1\n"
     ]
    },
    {
     "data": {
      "text/html": [
       "<table border=\"1\"><tr><th>status</th><th>wmo_naming_authority</th><th>name</th><th>initial_datetime</th><th>end_datetime</th><th>wmo_code</th><th>type</th><th>id</th></tr><tr><td>active</td><td>JCOMMOBS</td><td>ideep02</td><td>2011-10-19T07:50:03Z</td><td>2018-12-12T11:26:28Z</td><td>68966</td><td>Glider</td><td>ideep02</td></tr></table>"
      ],
      "text/plain": [
       "<IPython.core.display.HTML object>"
      ]
     },
     "execution_count": 18,
     "metadata": {},
     "output_type": "execute_result"
    }
   ],
   "source": [
    "platforms = []\n",
    "page = \"http://api.socib.es/data-platforms/?is_active=True&platform_type=Glider&page=1\"\n",
    "while page != None:\n",
    "    request = requests.get('%s' % (page), headers=headers)\n",
    "    response = json.loads(request.text)\n",
    "    print('Requested url: '+'%s' % (page))\n",
    "    for platform in response['results']:\n",
    "        platforms.append(platform)\n",
    "    page = response['next']\n",
    "HTML(json2html.convert(json=platforms))"
   ]
  },
  {
   "cell_type": "markdown",
   "metadata": {},
   "source": [
    "Let's focus on the first one of the list:"
   ]
  },
  {
   "cell_type": "code",
   "execution_count": 19,
   "metadata": {
    "collapsed": false
   },
   "outputs": [
    {
     "name": "stdout",
     "output_type": "stream",
     "text": [
      "Requested url: http://api.socib.es/data-platforms/ideep02\n"
     ]
    },
    {
     "data": {
      "text/html": [
       "<table border=\"1\"><tr><th>status</th><td>active</td></tr><tr><th>wmo_naming_authority</th><td>JCOMMOBS</td></tr><tr><th>name</th><td>ideep02</td></tr><tr><th>initial_datetime</th><td>2011-10-19T07:50:03Z</td></tr><tr><th>end_datetime</th><td>2018-12-12T11:26:28Z</td></tr><tr><th>wmo_code</th><td>68966</td></tr><tr><th>type</th><td>Glider</td></tr><tr><th>id</th><td>ideep02</td></tr></table>"
      ],
      "text/plain": [
       "<IPython.core.display.HTML object>"
      ]
     },
     "execution_count": 19,
     "metadata": {},
     "output_type": "execute_result"
    }
   ],
   "source": [
    "targeted_data_platform = platforms[0]\n",
    "end_point_plus_aux = '/data-platforms/'+targeted_data_platform['name']\n",
    "request = requests.get('%s%s' % (api_url, end_point_plus_aux), headers=headers)\n",
    "response = json.loads(request.text)\n",
    "print('Requested url: '+'%s%s' % (api_url, end_point_plus_aux))\n",
    "HTML(json2html.convert(json=response))"
   ]
  },
  {
   "cell_type": "code",
   "execution_count": 20,
   "metadata": {
    "collapsed": false
   },
   "outputs": [
    {
     "name": "stdout",
     "output_type": "stream",
     "text": [
      "Requested url: http://api.socib.es/data-platforms/ideep02/files/latest/?current=false\n"
     ]
    }
   ],
   "source": [
    "targeted_data_platform = platforms[0]\n",
    "end_point_plus_aux = '/data-platforms/'+targeted_data_platform['id']+'/files/latest'\n",
    "url_addons = '/?current=false'\n",
    "request = requests.get('%s%s%s' % (api_url, end_point_plus_aux, url_addons), headers=headers)\n",
    "response = json.loads(request.text)\n",
    "print('Requested url: '+'%s%s%s' % (api_url, end_point_plus_aux, url_addons))"
   ]
  },
  {
   "cell_type": "code",
   "execution_count": 21,
   "metadata": {
    "collapsed": false
   },
   "outputs": [
    {
     "data": {
      "text/html": [
       "<table border=\"1\"><tr><th>files</th><td><table border=\"1\"><tr><th>platform</th><td><table border=\"1\"><tr><th>variables:</th><td></td></tr><tr><th>entries</th><td></td></tr></table></td></tr><tr><th>deployment</th><td><table border=\"1\"><tr><th>variables:</th><td><ul><li>distance</li><li>internal_pressure</li><li>platform_orientation</li><li>current_target_latitude</li><li>boolean</li><li>target_latitude</li><li>electrical_comsumption</li><li>target_longitude</li><li>location_class</li><li>transmission_duration</li><li>northward_sea_water_velocity</li><li>number_of_dive</li><li>voltage</li><li>eastward_sea_water_velocity</li><li>transmission_retries</li><li>iridium_phone_number</li><li>platform_speed_wrt_ground</li><li>mission_duration</li><li>current_target_longitude</li></ul></td></tr><tr><th>entries</th><td><table border=\"1\"><tr><th>http_file</th><th>variables</th><th>last_update</th><th>initial_datetime</th><th>end_datetime</th><th>opendap</th><th>coverage_bounding_box</th><th>processing_level</th></tr><tr><td>http://thredds.socib.es/thredds/fileServer/auv/glider/ideep02-ime_sldeep002/L0/2018/dep0010_ideep02_ime-sldeep002_L0_2018-12-04.nc</td><td><ul><li>distance</li><li>internal_pressure</li><li>platform_orientation</li><li>current_target_latitude</li><li>boolean</li><li>target_latitude</li><li>electrical_comsumption</li><li>target_longitude</li><li>location_class</li><li>transmission_duration</li><li>northward_sea_water_velocity</li><li>number_of_dive</li><li>voltage</li><li>eastward_sea_water_velocity</li><li>transmission_retries</li><li>iridium_phone_number</li><li>platform_speed_wrt_ground</li><li>mission_duration</li><li>current_target_longitude</li></ul></td><td>2018-12-12 11:32:08+00:00</td><td>2018-12-04 10:05:42+00:00</td><td>2018-12-12 11:26:28+00:00</td><td>http://thredds.socib.es/thredds/dodsC/auv/glider/ideep02-ime_sldeep002/L0/2018/dep0010_ideep02_ime-sldeep002_L0_2018-12-04.nc</td><td>None</td><td>L0</td></tr></table></td></tr></table></td></tr></table></td></tr></table>"
      ],
      "text/plain": [
       "<IPython.core.display.HTML object>"
      ]
     },
     "execution_count": 21,
     "metadata": {},
     "output_type": "execute_result"
    }
   ],
   "source": [
    "HTML(json2html.convert(json=response))"
   ]
  },
  {
   "cell_type": "markdown",
   "metadata": {},
   "source": [
    "Let's focuse on the entries of type 'deployment' and donwload them:"
   ]
  },
  {
   "cell_type": "code",
   "execution_count": 14,
   "metadata": {
    "collapsed": true
   },
   "outputs": [],
   "source": [
    "path = os.getcwd() #set the path you want the files to endup. Working directory as default one."
   ]
  },
  {
   "cell_type": "code",
   "execution_count": 20,
   "metadata": {
    "collapsed": false
   },
   "outputs": [
    {
     "name": "stdout",
     "output_type": "stream",
     "text": [
      "dep0007_icoast00_ime-slcost000_L0_2017-06-26.nc\n",
      "dep0007_icoast00_ime-slcost000_L1_2017-06-26.nc\n"
     ]
    }
   ],
   "source": [
    "netCDFs_http_files = [entry['http_file'] for entry in response['files']['deployment']['entries']]\n",
    "for nc in netCDFs_http_files:\n",
    "    nc_name =  nc[nc.rfind('/')+1:]\n",
    "    urllib.urlretrieve (nc, path+'/'+nc_name)\n",
    "    print(nc_name)"
   ]
  }
 ],
 "metadata": {
  "kernelspec": {
   "display_name": "Python [Root]",
   "language": "python",
   "name": "Python [Root]"
  },
  "language_info": {
   "codemirror_mode": {
    "name": "ipython",
    "version": 2
   },
   "file_extension": ".py",
   "mimetype": "text/x-python",
   "name": "python",
   "nbconvert_exporter": "python",
   "pygments_lexer": "ipython2",
   "version": "2.7.12"
  }
 },
 "nbformat": 4,
 "nbformat_minor": 0
}

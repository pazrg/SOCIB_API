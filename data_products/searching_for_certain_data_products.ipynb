{
 "cells": [
  {
   "cell_type": "markdown",
   "metadata": {},
   "source": [
    "<h1 class=\"header\"><img class=\"logo\" src=\"https://github.com/pazrg/SOCIB_API/raw/master/images/socib_logo.png\" width=\"200px\"></h1>"
   ]
  },
  {
   "cell_type": "markdown",
   "metadata": {},
   "source": [
    "<h3> STYLING NOTEBOOK (OPTIONAL)</h3>"
   ]
  },
  {
   "cell_type": "code",
   "execution_count": 1,
   "metadata": {
    "collapsed": false
   },
   "outputs": [
    {
     "data": {
      "text/html": [
       "<style>\n",
       "\n",
       "h1{\n",
       "\tfloat:right !important\n",
       "}\n",
       "\n",
       "h1>img{\n",
       "\twidth: 200px !important\n",
       "}\n",
       "\n",
       "h3{\n",
       "\tbackground-color: #00334C;\n",
       "\tborder: 1px solid #e3e3e3;\n",
       "\tborder-radius: 4px;\n",
       "\tcolor: #3dabb6; \n",
       "\tpadding: 19px\n",
       "}\n",
       "\n",
       "h3>span{\n",
       "\tborder: 1px solid #3dabb6;\n",
       "\tborder-radius: 4px;\n",
       "\tbackground-color: #3dabb6; \n",
       "\tcolor: white; \n",
       "\tpadding: 5px\n",
       "}\n",
       "\n",
       "ul>li>b{\n",
       "\tborder: 1px solid #3dabb6;\n",
       "\tborder-radius: 4px;\n",
       "\tbackground-color: #3dabb6; \n",
       "\tcolor: white; padding: 5px;\n",
       "}\n",
       "</style>\n"
      ],
      "text/plain": [
       "<IPython.core.display.HTML object>"
      ]
     },
     "execution_count": 1,
     "metadata": {},
     "output_type": "execute_result"
    }
   ],
   "source": [
    "from IPython.core.display import HTML\n",
    "import urllib2\n",
    "HTML(urllib2.urlopen('https://raw.githubusercontent.com/pazrg/SOCIB_API/master/style/custom/custom.css').read())"
   ]
  },
  {
   "cell_type": "markdown",
   "metadata": {},
   "source": [
    "<h3>HANDY PYTHON PACKAGES</h3>"
   ]
  },
  {
   "cell_type": "code",
   "execution_count": 3,
   "metadata": {
    "collapsed": true
   },
   "outputs": [],
   "source": [
    "import requests\n",
    "import json\n",
    "import matplotlib.pyplot as plt\n",
    "import numpy as np\n",
    "from json2html import *\n",
    "from IPython.display import HTML\n",
    "%matplotlib inline"
   ]
  },
  {
   "cell_type": "markdown",
   "metadata": {},
   "source": [
    "<h3>PREREQUISITES</h3>"
   ]
  },
  {
   "cell_type": "code",
   "execution_count": 4,
   "metadata": {
    "collapsed": true
   },
   "outputs": [],
   "source": [
    "api_key = '' #write you SOCIB api_key\n",
    "api_url = 'http://api.socib.es'\n",
    "headers = {\n",
    "    'accept': 'application/vnd.socib+json',\n",
    "    'apikey': api_key,\n",
    "}"
   ]
  },
  {
   "cell_type": "markdown",
   "metadata": {},
   "source": [
    "<h3>  HOW DO I SEARCH FOR CERTIAN DATA-PRODUCT? </h3>"
   ]
  },
  {
   "cell_type": "markdown",
   "metadata": {},
   "source": [
    "As we already saw in [Quick start](https://github.com/pazrg/SOCIB_API/blob/master/tips/quick_start.ipynb) and [What is a data-product?](https://github.com/pazrg/SOCIB_API/blob/master/data_products/what_is_a_data_product.ipynb) there is an ENDPOINT that allows users to explore all the data-products:"
   ]
  },
  {
   "cell_type": "code",
   "execution_count": 5,
   "metadata": {
    "collapsed": false
   },
   "outputs": [
    {
     "name": "stdout",
     "output_type": "stream",
     "text": [
      "Requested url: http://api.socib.es/data-products/\n",
      "A total of 169 data-products\n"
     ]
    }
   ],
   "source": [
    "end_point = '/data-products/'\n",
    "request = requests.get('%s%s' % (api_url, end_point), headers=headers)\n",
    "response = json.loads(request.text)\n",
    "\n",
    "print('Requested url: '+'%s%s' % (api_url, end_point))\n",
    "print(\"A total of %s data-products\"%(response['count']))"
   ]
  },
  {
   "cell_type": "markdown",
   "metadata": {},
   "source": [
    "This enpoint enables also users to set up certain searching criteria via the so called ENDPOINT'S 'PARAMS': additional url elements that filter the initial/bare ENDPOINT response accordingly((<i>name, coverage_bounding_box, type, id, status, description, data_type, instrument, platform, update_time, initial_time, end_time & processing levels</i>). <br>Let's see each of these  is available query parameters:"
   ]
  },
  {
   "cell_type": "markdown",
   "metadata": {},
   "source": [
    "<h3>  SEARCHING DATA-PRODUCTS IN A CERTAIN <span>TIME RANGE</span></h3>"
   ]
  },
  {
   "cell_type": "code",
   "execution_count": 6,
   "metadata": {
    "collapsed": false
   },
   "outputs": [
    {
     "name": "stdout",
     "output_type": "stream",
     "text": [
      "Requested url: http://api.socib.es/data-products/?initial_datetime=2018-01-01T00:00:00&end_datetime=2018-01-02T00:00:00\n",
      " \n",
      "25 SOCIB data-products covering that time range\n"
     ]
    }
   ],
   "source": [
    "end_point = '/data-products/'\n",
    "time_range_start = '2018-01-01T00:00:00' # should match the notation YYYY-MM-DDTHH:MM:SS\n",
    "time_range_end =  '2018-01-02T00:00:00' # should match the notation YYYY-MM-DDTHH:MM:SS\n",
    "url_addons = '?initial_datetime=%s&end_datetime=%s'%(time_range_start, time_range_end)\n",
    "request = requests.get('%s%s%s' % (api_url, end_point,url_addons), headers=headers)\n",
    "response = json.loads(request.text)\n",
    "\n",
    "print('Requested url: '+'%s%s%s' % (api_url, end_point,url_addons))\n",
    "print(\" \")\n",
    "print('%s SOCIB data-products covering that time range'% (response['count']))"
   ]
  },
  {
   "cell_type": "markdown",
   "metadata": {},
   "source": [
    "Quick view of the first 8 data-products:"
   ]
  },
  {
   "cell_type": "code",
   "execution_count": 8,
   "metadata": {
    "collapsed": false
   },
   "outputs": [
    {
     "data": {
      "text/html": [
       "<table border=\"1\"><tr><th>info</th><th>description</th><th>id</th><th>name</th></tr><tr><td>None</td><td>Sampling bluefin tuna larvae and hydrographic variables in the Balearic Sea during the spawning season of bluefin tuna. Samples cover a standard grid during the first part of the sampling and follow tuna larva patches during the second part of the campaign.</td><td>bluefintuna-tsk-balearicsea-jun2017</td><td>BluefinTuna TSK BalearicSEA Jun2017</td></tr><tr><td>None</td><td>Data produced in the platform Buoy BahiaDePalma. It's compound by: Conductivity and Temperature Recorder, Current profiler, Currentmeter, Multiparameter probe, Oceanographic Buoy, Status, Waves recorder, Weather Station data</td><td>buoy-bahiadepalma</td><td>Buoy BahiaDePalma data</td></tr><tr><td>None</td><td>Data produced in the platform Buoy CanalDeIbiza. It's compound by: Conductivity and Temperature Recorder, Current profiler, Currentmeter, Multiparameter probe, Status, Temperature Recorder, Waves recorder, Weather Station data</td><td>buoy-canaldeibiza</td><td>Buoy CanalDeIbiza data</td></tr><tr><td>None</td><td>Data produced in the platform HF Radar Ibiza. It's compound by: HF-Radar data</td><td>hf-radar-ibiza</td><td>HF Radar Ibiza data</td></tr><tr><td>None</td><td>Lagrangian approach to understand upper ocean processes</td><td>ieo-epr-lagapoce-april2014</td><td>IEO EPR LAGAPOCE April2014</td></tr><tr><td>None</td><td>IRENE experiment (revealIng veRtical ExchangES) objective is to improve understanding of what shapes the three-dimensional trajectories of water parcels and semi-Lagrangian objects in the surface ocean. Specifically, in this study, we will address the following objectives:\n",
       "Characterize the Alboran front at high resolution using underway-CTD from a Spanish research vessel, and make ADCP measurements from a drifting buoy.\n",
       "Model the mechanisms generating vertical motion at the front. Quantify the vertical fluxes of water and properties, and relate the model results to observations.\n",
       "Develop a scientific collaboration between the US research team at WHOI and the Spanish team at IMEDEA(CSIC-UIB) and SOCIB.</td><td>imedea-epr-irene-jul2017</td><td>IMEDEA EPR IRENE Jul2017</td></tr><tr><td>None</td><td>Data produced in the platform Mobims CalaMillor. It's compound by: Coastal Station, Weather Station data</td><td>mobims-calamillor</td><td>Mobims CalaMillor data</td></tr><tr><td>None</td><td>Data produced in the platform Mobims SonBou. It's compound by: Coastal Station, Weather Station data</td><td>mobims-sonbou</td><td>Mobims SonBou data</td></tr></table>"
      ],
      "text/plain": [
       "<IPython.core.display.HTML object>"
      ]
     },
     "execution_count": 8,
     "metadata": {},
     "output_type": "execute_result"
    }
   ],
   "source": [
    "HTML(json2html.convert(json=response['results']))"
   ]
  },
  {
   "cell_type": "markdown",
   "metadata": {},
   "source": [
    "<h3>  SEARCHING DATA-PRODUCTS MEASURING CERTAIN <span>VARIABLES</span></h3>"
   ]
  },
  {
   "cell_type": "code",
   "execution_count": 12,
   "metadata": {
    "collapsed": false
   },
   "outputs": [
    {
     "name": "stdout",
     "output_type": "stream",
     "text": [
      "Requested url: http://api.socib.es/data-products/?standard_variable=sea_surface_wave_max_height&standard_variable=sea_water_temperature\n",
      " \n",
      "149 SOCIB data-products contain deployments measuring standard_variable=sea_surface_wave_max_height&standard_variable=sea_water_temperature\n"
     ]
    }
   ],
   "source": [
    "end_point = '/data-products/'\n",
    "variables = 'standard_variable=sea_surface_wave_max_height&standard_variable=sea_water_temperature'\n",
    "url_addons = '?%s'%(variables)\n",
    "request = requests.get('%s%s%s' % (api_url, end_point,url_addons), headers=headers)\n",
    "response = json.loads(request.text)\n",
    "\n",
    "print('Requested url: '+'%s%s%s' % (api_url, end_point,url_addons))\n",
    "print(\" \")print('%s SOCIB data-products contain deployments measuring %s'% (response['count'],variables))\n",
    "print('%s SOCIB data-products contain deployments measuring %s'% (response['count'],variables))"
   ]
  },
  {
   "cell_type": "markdown",
   "metadata": {},
   "source": [
    "<h3>  SEARCHING DATA-PRODUCTS PRODUCING CERTAIN <span>FEATURE TYPES</span></h3>"
   ]
  },
  {
   "cell_type": "code",
   "execution_count": 15,
   "metadata": {
    "collapsed": false
   },
   "outputs": [
    {
     "name": "stdout",
     "output_type": "stream",
     "text": [
      "Requested url: http://api.socib.es/data-products/?feature_type=timeSeriesProfile&feature_type=trajectory\n",
      " \n",
      "143 SOCIB data-products contain deployments measuring feature_type=timeSeriesProfile&feature_type=trajectory\n"
     ]
    }
   ],
   "source": [
    "end_point = '/data-products/'\n",
    "feature_types = 'feature_type=timeSeriesProfile&feature_type=trajectory'\n",
    "url_addons = '?%s'%(feature_types)\n",
    "request = requests.get('%s%s%s' % (api_url, end_point,url_addons), headers=headers)\n",
    "response = json.loads(request.text)\n",
    "\n",
    "print('Requested url: '+'%s%s%s' % (api_url, end_point,url_addons))\n",
    "print(\" \")\n",
    "print('%s SOCIB data-products contain deployments measuring %s'% (response['count'],feature_types))"
   ]
  },
  {
   "cell_type": "markdown",
   "metadata": {},
   "source": [
    "<h3>  SEARCHING DATA-PRODUCTS INVOLVING CERTAIN <span>PLATFORMS TYPES</span></h3>"
   ]
  },
  {
   "cell_type": "code",
   "execution_count": 20,
   "metadata": {
    "collapsed": false
   },
   "outputs": [
    {
     "name": "stdout",
     "output_type": "stream",
     "text": [
      "Requested url: http://api.socib.es/data-products/?platform_type=Surface drifter&Profiler drifter\n",
      " \n",
      "45 SOCIB data-products contain deployments involving Surface drifter&Profiler drifter\n"
     ]
    }
   ],
   "source": [
    "end_point = '/data-products/'\n",
    "platforms = 'Surface drifter&Profiler drifter'\n",
    "url_addons = '?platform_type=%s'%(platforms)\n",
    "request = requests.get('%s%s%s' % (api_url, end_point,url_addons), headers=headers)\n",
    "response = json.loads(request.text)\n",
    "\n",
    "print('Requested url: '+'%s%s%s' % (api_url, end_point,url_addons))\n",
    "print(\" \")\n",
    "print('%s SOCIB data-products contain deployments involving %s'% (response['count'],platforms))"
   ]
  },
  {
   "cell_type": "markdown",
   "metadata": {},
   "source": [
    "<h3>  SEARCHING DATA-PRODUCTS INVOLVING CERTAIN <span>INSTRUMENT TYPES</span></h3>"
   ]
  },
  {
   "cell_type": "code",
   "execution_count": 21,
   "metadata": {
    "collapsed": false
   },
   "outputs": [
    {
     "name": "stdout",
     "output_type": "stream",
     "text": [
      "Requested url: http://api.socib.es/data-products/?instrument_type=Glider\n",
      " \n",
      "56 SOCIB data-products contain deployments involving Glider\n"
     ]
    }
   ],
   "source": [
    "end_point = '/data-products/'\n",
    "instrument = 'Glider'\n",
    "url_addons = '?instrument_type=%s'%(instrument)\n",
    "request = requests.get('%s%s%s' % (api_url, end_point,url_addons), headers=headers)\n",
    "response = json.loads(request.text)\n",
    "\n",
    "print('Requested url: '+'%s%s%s' % (api_url, end_point,url_addons))\n",
    "print(\" \")\n",
    "print('%s SOCIB data-products contain deployments involving %s'% (response['count'],instrument))"
   ]
  },
  {
   "cell_type": "markdown",
   "metadata": {},
   "source": [
    "<h3>  SEARCHING DATA-PRODUCTS BY <span>NAME</span></h3>"
   ]
  },
  {
   "cell_type": "code",
   "execution_count": 22,
   "metadata": {
    "collapsed": false
   },
   "outputs": [
    {
     "name": "stdout",
     "output_type": "stream",
     "text": [
      "Requested url: http://api.socib.es/data-products/?name=Glider\n",
      " \n",
      "48 SOCIB data-products that contains canales on its name\n"
     ]
    }
   ],
   "source": [
    "end_point = '/data-products/'\n",
    "name = 'canales'\n",
    "url_addons = '?name=%s'%(instrument)\n",
    "request = requests.get('%s%s%s' % (api_url, end_point,url_addons), headers=headers)\n",
    "response = json.loads(request.text)\n",
    "\n",
    "print('Requested url: '+'%s%s%s' % (api_url, end_point,url_addons))\n",
    "print(\" \")\n",
    "print('%s SOCIB data-products that contains %s on its name'% (response['count'],name))"
   ]
  },
  {
   "cell_type": "markdown",
   "metadata": {},
   "source": [
    "<h3>  SEARCHING DATA-PRODUCTS BY <span>STATUS</span></h3>"
   ]
  },
  {
   "cell_type": "code",
   "execution_count": 24,
   "metadata": {
    "collapsed": false
   },
   "outputs": [
    {
     "name": "stdout",
     "output_type": "stream",
     "text": [
      "Requested url: http://api.socib.es/data-products/?status=active\n",
      " \n",
      "There are a total of 24 SOCIB products have deployments still active\n"
     ]
    }
   ],
   "source": [
    "end_point = '/data-products/'\n",
    "status = 'active'\n",
    "url_addons = '?status=%s'%(status)\n",
    "request = requests.get('%s%s%s' % (api_url, end_point,url_addons), headers=headers)\n",
    "response = json.loads(request.text)\n",
    "\n",
    "print('Requested url: '+'%s%s%s' % (api_url, end_point,url_addons))\n",
    "print(\" \")\n",
    "print('There are a total of %s SOCIB products have deployments still %s'% (response['count'],status))"
   ]
  },
  {
   "cell_type": "code",
   "execution_count": 25,
   "metadata": {
    "collapsed": false
   },
   "outputs": [
    {
     "name": "stdout",
     "output_type": "stream",
     "text": [
      "Requested url: http://api.socib.es/data-products/?status=completed\n",
      " \n",
      "There are a total of 145 products closed (deployments already completed)\n"
     ]
    }
   ],
   "source": [
    "end_point = '/data-products/'\n",
    "status = 'completed'\n",
    "url_addons = '?status=%s'%(status)\n",
    "request = requests.get('%s%s%s' % (api_url, end_point,url_addons), headers=headers)\n",
    "response = json.loads(request.text)\n",
    "\n",
    "print('Requested url: '+'%s%s%s' % (api_url, end_point,url_addons))\n",
    "print(\" \")\n",
    "print('There are a total of %s products closed (deployments already %s)'% (response['count'],status))"
   ]
  },
  {
   "cell_type": "markdown",
   "metadata": {},
   "source": [
    "<h3>  SEARCHING DATA-PRODUCTS IN A CERTAIN <span>BOUNDING BOX</span></h3>"
   ]
  },
  {
   "cell_type": "code",
   "execution_count": 26,
   "metadata": {
    "collapsed": true
   },
   "outputs": [],
   "source": [
    "min_lat = 34.5#float\n",
    "max_lat = 37.5 #float\n",
    "min_lon = -6.0 #float\n",
    "max_lon = -3.0#float\n",
    "bbox = str(min_lat)+','+str(max_lat)+','+str(min_lon)+','+str(max_lon)"
   ]
  },
  {
   "cell_type": "code",
   "execution_count": 28,
   "metadata": {
    "collapsed": false
   },
   "outputs": [
    {
     "name": "stdout",
     "output_type": "stream",
     "text": [
      "Requested url: http://api.socib.es/data-products/?bbox=34.5,37.5,-6.0,-3.0\n",
      " \n",
      "A total of 8 SOCIB products contains deployments verlapping such area\n"
     ]
    }
   ],
   "source": [
    "end_point = '/data-products/'\n",
    "url_addons = '?bbox=%s'%(bbox)\n",
    "request = requests.get('%s%s%s' % (api_url, end_point,url_addons), headers=headers)\n",
    "response = json.loads(request.text)\n",
    "print('Requested url: '+'%s%s%s' % (api_url, end_point,url_addons))\n",
    "print(\" \")\n",
    "print('A total of %s SOCIB products contains deployments verlapping such area'% (response['count']))"
   ]
  },
  {
   "cell_type": "code",
   "execution_count": 29,
   "metadata": {
    "collapsed": false
   },
   "outputs": [
    {
     "data": {
      "text/html": [
       "<table border=\"1\"><tr><th>count</th><td>8</td></tr><tr><th>previous</th><td>None</td></tr><tr><th>results</th><td><table border=\"1\"><tr><th>info</th><th>description</th><th>id</th><th>name</th></tr><tr><td>None</td><td>Several drifter buoys, provided by different Spanish MEDESS-4MS partners, will be launched to monitor the surface currents pattern occurred in the region. The measurements provided by the launched drifters will be used as references data for validating ocean and oil-spill models. The MEDESS-GIB-SG will involve participation of the following Spanish groups and institutions: ICM-CSIC, IMEDEA/UIB-SOCIB, INNOVAMAR, the Harbour Authority of Bahia de Algeciras (APBA) and Puertos del Estado (PdE), all of them MEDESS-4Ms partners, together with SASEMAR, who is a key end-user of the Project services.</td><td>medess-epr-alboransea-sep2014</td><td>MEDESS EPR AlboranSea Sep2014</td></tr><tr><td>None</td><td>The general aim of the oceanographic campaigns in Madeira is to sample\n",
       "the main physical and biological characteristics (pelagic and benthic) of this inshore-offshore\n",
       "gradient that persistently forms around islands. Processes at the sea-surface, highly influence\n",
       "by the atmosphere are expected to be decoupled from the water-column (pelagic) dynamics.\n",
       "Bottom sediments are expected to hold an important historical record of the dominant\n",
       "oceanographic processes and organisms.</td><td>oom-caldeira-aug2017</td><td>OOM Caldeira Aug2017</td></tr><tr><td>None</td><td>SOCIB02 Position data</td><td>socib02-position</td><td>SOCIB02 Position</td></tr><tr><td>None</td><td>SOCIB02 R/V meteo data</td><td>socib02-rv-meteo</td><td>SOCIB02 R/V meteo</td></tr><tr><td>None</td><td>SOCIB-Canales is a seasonal cruise developed by SOCIB team that includes a mesh  of  25 CTD stations in the Ibiza Channel and a radial (with 10 stations) crossing the Mallorca channel.</td><td>socib-enl-canales-jul2015</td><td>SOCIB ENL Canales Jul2015</td></tr><tr><td>None</td><td>SOCIB R/V Canales campaign</td><td>socib-enl-canales-nov2014</td><td>SOCIB ENL Canales Nov2014</td></tr><tr><td>None</td><td>To undertake 5 transects across the Northern Current (NC) over 5 days ending by sampling across the Almeria­-Oran front, in order to look at the role of the Ibiza Channel (IC) and the impact of the seasonality/high frequency changes we see in circulation in IC on the Almeria­-Oran front/eastern Alboran Sea. Glider sampling will be undertaken simultaneously across the CANALES and ALMO cruises, managed by Marc Torner. In addition some drifters and an Argo float will be deployed. Altimetry will be used to check the location of the Almeria-­Oran front and adjust the location of the final transect.</td><td>socib-epr-almo-nov2015</td><td>SOCIB EPR ALMO NOV2015</td></tr><tr><td>None</td><td>Coherent Lagrangian Pathways from the Surface Ocean to Interior (CALYPSO) Departmental Research Initiative. This study is anticipated to take place in the Southwest Mediterranean Sea, which harbors an unstable front between salty Mediterranean water and the relatively fresh Atlantic water entering through Gibraltar. This location was identified in pilot studies and provides an ocean laboratory with predictable frontal structures of the appropriate scale and energetics. We anticipate that the study will be in partnership with scientists from the Mediterranean Institute for Advanced Studies - Spanish National Research Council and the University of the Balearic Islands (IMEDEA (CSIC-UIB)) and the Balearic Islands Coastal Observing and Forecasting System (SOCIB Research Infrastructure), in Mallorca, Spain, who conducted a cutting edge experiment “AlborEx” in the region in 2014.</td><td>socib-int-calypso-may2018</td><td>SOCIB INT CALYPSO May2018</td></tr></table></td></tr><tr><th>next</th><td>None</td></tr></table>"
      ],
      "text/plain": [
       "<IPython.core.display.HTML object>"
      ]
     },
     "execution_count": 29,
     "metadata": {},
     "output_type": "execute_result"
    }
   ],
   "source": [
    "HTML(json2html.convert(json=response))"
   ]
  },
  {
   "cell_type": "markdown",
   "metadata": {},
   "source": [
    "<h3>WHAT ELSE?</h3>"
   ]
  },
  {
   "cell_type": "markdown",
   "metadata": {},
   "source": [
    "<ul><li><b>REQUESTING DATA-PRODUCT'S FILES</b> <br><br> If you want to know more about how to access a given data-product's data please have a look at the <a href=\"https://github.com/pazrg/SOCIB_API/blob/master/data_platforms/requesting_a_data_product_files.ipynb\" target=\"_blank\">Example 12</a> ('Accessing the data of a data-product'), where it is explained how to request a data-product's files via its data-sources</li>\n",
    "</ul>"
   ]
  }
 ],
 "metadata": {
  "kernelspec": {
   "display_name": "Python [Root]",
   "language": "python",
   "name": "Python [Root]"
  },
  "language_info": {
   "codemirror_mode": {
    "name": "ipython",
    "version": 2
   },
   "file_extension": ".py",
   "mimetype": "text/x-python",
   "name": "python",
   "nbconvert_exporter": "python",
   "pygments_lexer": "ipython2",
   "version": "2.7.12"
  }
 },
 "nbformat": 4,
 "nbformat_minor": 1
}

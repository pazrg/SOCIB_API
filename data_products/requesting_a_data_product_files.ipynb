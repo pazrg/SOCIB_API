{
 "cells": [
  {
   "cell_type": "markdown",
   "metadata": {},
   "source": [
    "<h1 class=\"header\"><img class=\"logo\" src=\"https://github.com/pazrg/SOCIB_API/raw/master/images/socib_logo.png\" width=\"200px\"></h1>"
   ]
  },
  {
   "cell_type": "markdown",
   "metadata": {},
   "source": [
    "<h3> STYLING NOTEBOOK (OPTIONAL)</h3>"
   ]
  },
  {
   "cell_type": "code",
   "execution_count": 1,
   "metadata": {
    "collapsed": false
   },
   "outputs": [
    {
     "data": {
      "text/html": [
       "<style>\n",
       "\n",
       "h1{\n",
       "\tfloat:right !important\n",
       "}\n",
       "\n",
       "h1>img{\n",
       "\twidth: 200px !important\n",
       "}\n",
       "\n",
       "h3{\n",
       "\tbackground-color: #00334C;\n",
       "\tborder: 1px solid #e3e3e3;\n",
       "\tborder-radius: 4px;\n",
       "\tcolor: #3dabb6; \n",
       "\tpadding: 19px\n",
       "}\n",
       "\n",
       "h3>span{\n",
       "\tborder: 1px solid #3dabb6;\n",
       "\tborder-radius: 4px;\n",
       "\tbackground-color: #3dabb6; \n",
       "\tcolor: white; \n",
       "\tpadding: 5px\n",
       "}\n",
       "\n",
       "ul>li>b{\n",
       "\tborder: 1px solid #3dabb6;\n",
       "\tborder-radius: 4px;\n",
       "\tbackground-color: #3dabb6; \n",
       "\tcolor: white; padding: 5px;\n",
       "}\n",
       "</style>\n"
      ],
      "text/plain": [
       "<IPython.core.display.HTML object>"
      ]
     },
     "execution_count": 1,
     "metadata": {},
     "output_type": "execute_result"
    }
   ],
   "source": [
    "from IPython.core.display import HTML\n",
    "import urllib2\n",
    "HTML(urllib2.urlopen('https://raw.githubusercontent.com/pazrg/SOCIB_API/master/style/custom/custom.css').read())"
   ]
  },
  {
   "cell_type": "markdown",
   "metadata": {},
   "source": [
    "<h3> HANDY PYTHON PACKAGES </h3>"
   ]
  },
  {
   "cell_type": "code",
   "execution_count": 3,
   "metadata": {
    "collapsed": true
   },
   "outputs": [],
   "source": [
    "import requests\n",
    "import json\n",
    "import matplotlib.pyplot as plt\n",
    "import numpy as np\n",
    "from json2html import *\n",
    "from IPython.display import HTML, display\n",
    "from datetime import datetime\n",
    "%matplotlib inline"
   ]
  },
  {
   "cell_type": "markdown",
   "metadata": {},
   "source": [
    "<h3> PREREQUISITES </h3>"
   ]
  },
  {
   "cell_type": "code",
   "execution_count": 4,
   "metadata": {
    "collapsed": true
   },
   "outputs": [],
   "source": [
    "api_key = '' #write you SOCIB api_key\n",
    "api_url = 'http://api.socib.es'\n",
    "headers = {\n",
    "    'accept': 'application/vnd.socib+json',\n",
    "    'apikey': api_key,\n",
    "}"
   ]
  },
  {
   "cell_type": "markdown",
   "metadata": {},
   "source": [
    "<h3> REQUESTING A DATA-PRODUCTS'S DATA </h3>"
   ]
  },
  {
   "cell_type": "markdown",
   "metadata": {},
   "source": [
    "Let's look for data-products involving a certain platform type:"
   ]
  },
  {
   "cell_type": "code",
   "execution_count": 6,
   "metadata": {
    "collapsed": false
   },
   "outputs": [
    {
     "name": "stdout",
     "output_type": "stream",
     "text": [
      "Requested url: http://api.socib.es/data-products/?platform_type=Glider\n",
      " \n",
      "56 data-products contains deployments involving Glider \n"
     ]
    }
   ],
   "source": [
    "end_point = '/data-products/'\n",
    "platform_type = 'Glider'\n",
    "url_addons = \"?platform_type=%s\"%(platform_type)\n",
    "request = requests.get('%s%s%s' % (api_url, end_point,url_addons), headers=headers)\n",
    "response = json.loads(request.text)\n",
    "\n",
    "print('Requested url: '+'%s%s%s' % (api_url, end_point,url_addons))\n",
    "print(\" \")\n",
    "print('%s data-products contains deployments involving %s '% (response['count'], platform_type))"
   ]
  },
  {
   "cell_type": "markdown",
   "metadata": {},
   "source": [
    "As the pagination is 8, we will have to loop all pages to get the full list of the data-products of type glider:"
   ]
  },
  {
   "cell_type": "code",
   "execution_count": 7,
   "metadata": {
    "collapsed": true
   },
   "outputs": [],
   "source": [
    "results = response['results']\n",
    "page = response['next']\n",
    "while page != None:\n",
    "    request = requests.get(page, headers=headers)\n",
    "    response = json.loads(request.text)\n",
    "    for glider in response['results']:\n",
    "        results.append(glider)\n",
    "    page = response['next']"
   ]
  },
  {
   "cell_type": "code",
   "execution_count": 8,
   "metadata": {
    "collapsed": false
   },
   "outputs": [
    {
     "data": {
      "text/html": [
       "<table border=\"1\"><tr><th>info</th><th>description</th><th>id</th><th>name</th></tr><tr><td>None</td><td>Butterfly cruise serving as Engineering Trial for Slocum scientific mission</td><td>bfly-precartex</td><td>bfly preCARTEX</td></tr><tr><td>None</td><td>Canales cruise, defined and followed by SOCIB (with in kind collaboration of IMEDEA-CSIC) to implement the inter-annual monitoring endurance line (ENL1) covering the Balearic channels of Mallorca and Eïvissa during the year 2013 as defined in the SOCIB's Implementation Plan 2013. The list of waypoints conforming this cruise stand as the default set for all the canales missions for the campaign of 2013; nevertheless, slightly modifications may be applied under special circumstances.</td><td>canales2013</td><td>canales2013</td></tr><tr><td>None</td><td>All missions with the main objective of testing all aspects of operational gliders</td><td>engineering-tests2018</td><td>engineering tests2018</td></tr><tr><td>None</td><td>Galtika cruise, carried out by IMEDEA and SOCIB in the frame of the MyOcean2 project, comprises the coordinated deployment of two surface drifters and a glider in a region close to the track 16 of the SARAL satellite mission, located in the Western Mediterranean close to Eivissa island during August 2013, to allow intercalibration of altimetry data from the AltiKa altimeter, also taking advantage of data from models and the HF-radar stations available in the region.\n",
       "</td><td>galtika</td><td>Galtika</td></tr><tr><td>None</td><td>GARICAST stands for Glider Against Rosette Inter-comparison CAST. This is the name given, at SOCIB, to the action of attaching an AUV-GLIDER to SOCIB-RV's CTD-Rosette and deploying this whole setup in order to gather CTD, OXY and FLNTU synoptic data from both observing platforms. The main goal of this effort is to validate Glider sensors taking Rosette sensors as benchmark. Consequently, GARICAST missions always occur in the frame of a SOCIB-RV cruise.\n",
       "\n",
       "GARICAST_#### stands for the annual (year ####) campaign of Glider sensor validation by means of using SOCIB-RV as calibration facility.</td><td>garicast-2017</td><td>GARICAST 2017</td></tr><tr><td>None</td><td>SOCIB Glider Facility Sea-Trial Tests during year 2015</td><td>gf-tests-2015</td><td>GF TESTS 2015</td></tr><tr><td>None</td><td>Canales cruise, defined and followed by SOCIB (with in kind collaboration of IMEDEA-CSIC) to implement the inter-annual monitoring endurance line (ENL1) covering the Balearic channels of Mallorca and Eïvissa during the year 2014 as defined in the SOCIB's Implementation Plan 2013. The list of waypoints conforming this cruise stand as the default set for all the canales missions for the campaign of 2014; nevertheless, slightly modifications may be applied under special circumstances.</td><td>glider-canales2014</td><td>glider canales2014</td></tr><tr><td>None</td><td>Canales cruise, defined and followed by SOCIB (with in kind collaboration of IMEDEA-CSIC) to implement the inter-annual monitoring endurance line (ENL1) covering the Balearic channels of Mallorca and Eïvissa during the year 2015 as defined in the SOCIB's Implementation Plan 2013. The list of waypoints conforming this cruise stand as the default set for all the canales missions for the campaign of 2015; nevertheless, slightly modifications may be applied under special circumstances.</td><td>glider-canales2015</td><td>glider canales2015</td></tr><tr><td>None</td><td>Canales cruise, defined and followed by SOCIB (with in kind collaboration of IMEDEA-CSIC) to implement the inter-annual monitoring endurance line (ENL1) covering the Balearic channels of Mallorca and Eïvissa during the year 2016 as defined in the SOCIB's Implementation Plan 2013. The list of waypoints conforming this cruise stand as the default set for all the canales missions for the campaign of 2016; nevertheless, slightly modifications may be applied under special circumstances.</td><td>glider-canales2016</td><td>glider canales2016</td></tr><tr><td>None</td><td>Canales cruise, defined and followed by SOCIB (with in kind collaboration of IMEDEA-CSIC) to implement the inter-annual monitoring endurance line (ENL1) covering the Balearic channels of Mallorca and Eïvissa during the year 2017. The list of waypoints conforming this cruise stand as the default set for all the canales missions for the campaign of 2017; nevertheless, slightly modifications may be applied under special circumstances.</td><td>glider-canales2017</td><td>glider canales2017</td></tr><tr><td>None</td><td>Canales cruise, defined and followed by SOCIB (with in kind collaboration of IMEDEA-CSIC) to implement the inter-annual monitoring endurance line (ENL1) covering the Balearic channels of Mallorca and Eïvissa during the year 2018. The list of waypoints conforming this cruise stand as the default set for all the canales missions for the campaign of 2018; nevertheless, slightly modifications may be applied under special circumstances.</td><td>glider-canales2018</td><td>glider canales2018</td></tr><tr><td>None</td><td></td><td>glider-smart2017</td><td>glider smart2017</td></tr><tr><td>None</td><td></td><td>glider-smart2018</td><td>glider smart2018</td></tr><tr><td>None</td><td>IRENE experiment (revealIng veRtical ExchangES) objective is to improve understanding of what shapes the three-dimensional trajectories of water parcels and semi-Lagrangian objects in the surface ocean. Specifically, in this study, we will address the following objectives:\n",
       "Characterize the Alboran front at high resolution using underway-CTD from a Spanish research vessel, and make ADCP measurements from a drifting buoy.\n",
       "Model the mechanisms generating vertical motion at the front. Quantify the vertical fluxes of water and properties, and relate the model results to observations.\n",
       "Develop a scientific collaboration between the US research team at WHOI and the Spanish team at IMEDEA(CSIC-UIB) and SOCIB.</td><td>imedea-epr-irene-jul2017</td><td>IMEDEA EPR IRENE Jul2017</td></tr><tr><td>None</td><td>Mesoscale and sub-mesoscale vertical exchanges from multi-platform experiments and supporting modeling simulations: anticipating SWOT launch (PRE-SWOT). Vertical motion associated with mesoscale and sub-mesoscale ocean features such as fronts, meanders, eddies and filaments plays a critical role in the exchanges of heat, fresh water and biogeochemical tracers between the surface and the ocean interior. Integrating our understanding of these processes to a climate scale, is one of the key challenges that faces Earth observation, limited by the high resolution of ocean data required to estimate the dynamic vertical transports and their correlation with horizontal heterogeneity. The forthcoming wide-swath satellite altimeter (SWOT) with a resolution one order of magnitude higher than previous instruments is the next big breakthrough in Earth observation. SWOT altimeter swaths will provide a perfect observational region around the Balearic Islands. Within PRE-SWOT, we anticipate the high resolution data that SWOT will provide, and lead the observations of vertical transports, associated with mesoscale and sub-mesoscale structures, that need to be collected. We propose a high-resolution multi-platform and multidisciplinary synoptic experiment. In situ systems, including gliders, drifters, CTD, ADCP, and water samples, will be coordinated with satellite data and modeling simulations to objectively determine physical and biochemical variability. The Spanish waters of the Western Mediterranean, have an unprecedented opportunity to provide an ideal ‘Pocket sized’ study region for quantification of the dynamic ocean interior exchange mechanisms, during the 60 days fast phase after launch in which the satellite will provide daily high resolution sea surface height measurements in selected areas of the global ocean.  This is an opportunistic proving ground for SWOT capability, such that this project will provide SWOT readiness and a national capability for observing the major global ocean climates.\n",
       "The members of this proposal have experience in the above-described activities. Both PIs of this project have participated in and/or lead several national and European funded projects as well as international initiatives where the problems addressed in this research have been identified, in journals such as “Nature”, as the next key elements to be solved in the coming years. More specifically, in the last 10 years their contributions provide the basis and approach for the present project: (1) studying mesoscale dynamics with satellite altimetry (2) estimating and analyzing vertical motion using Quasi-Geostrophic dynamics applied to in situ data, satellite data (3) exploring alternative mechanisms that can affect ocean ecosystems through combined multidisciplinary observations and modeling. Finally, the coordinator of this proposal is the only Spanish member of the present SWOT Science Team (SWOT-ST). PRE-SWOT brings expertise to the SWOT-ST, firstly in terms of experimental capacities for (sub) mesoscale multi-platform experiments and high resolution models, and secondly providing world class observational access to the region through Spanish infrastructure, including the fine tuning of regional in situ monitoring strategies, as essential preparatory activities needed before the launch of SWOT. The region described in this project is one of the Calibration/Validation and science sites, which will be targeted by in situ experiments during the fast sampling phase of SWOT. PRE-SWOT represents the unique opportunity for a leading Spanish contribution to the NASA-CNES SWOT mission.\n",
       "</td><td>imedea-epr-pre-swot-may2018</td><td>IMEDEA EPR Pre SWOT May2018</td></tr><tr><td>None</td><td>Deployment of Seaglider 1KA glider sdeep03 in transnational agreement campaign Menorca-Sardegna 2013 (JERICO  project, call 1.8 proposed by CNR IAMC), covering Menorca-Sardegna channel (2 transects) during February and March 2013.</td><td>jerico-tna-sardegna-jan2013-sdeep03</td><td>JERICO TNA Sardegna Jan2013 sdeep03</td></tr><tr><td>None</td><td>Deployment of Seaglider 1KA glider sdeep02 in transnational agreement campaign Menorca-Sardegna 2012 (JERICO  project, call 1.8 proposed by CNR IAMC), covering Menorca-Sardegna channel (incomplete transect due to emergency abort).</td><td>jerico-tna-sardegna-oct2012-sdeep02</td><td>JERICO TNA Sardegna Oct2012 sdeep02</td></tr><tr><td>None</td><td>Deployment of Seaglider 1KA glider sdeep02 in transnational agreement campaign Menorca-Sardegna 2013 (JERICO  project, call 1.8 proposed by CNR IAMC), covering Menorca-Sardegna channel (2 transects) during October and November 2013.</td><td>jerico-tna-sardegna-oct2013-sdeep02</td><td>JERICO TNA Sardegna Oct2013 sdeep02</td></tr><tr><td>None</td><td>Data from the meteorological station installed at the SOCIB R/V. SOCIB Glider Facility and ETD Sea-Trial Tests to compare CTD profiles with glider profiles obtained during the same casts.</td><td>socib-eng-tests-feb2017</td><td>SOCIB ENG TESTS Feb2017</td></tr><tr><td>None</td><td>(Proto)Endurance Line 2016 (demo)Campaign in the Algerian Basin (South of Mallorca)</td><td>socib-enl-algbasin-2016</td><td>SOCIB ENL ALGBASIN 2016</td></tr><tr><td>None</td><td>SOCIB-Canales ia a seasonal hydrographic survey of the Balearic Sea, monitoring the Ibiza and Mallorca Channels. 28 CTD stations were carried out over 3 days; 18 CTD stations forming two transects across the Ibiza Channel (IC) and 10 CTD stations across the Mallorca Channel (MC).</td><td>socib-enl-canales-apr2018</td><td>SOCIB ENL Canales Apr2018</td></tr><tr><td>None</td><td>Deployment of Slocum G1 deep glider ideep00 in endurance line campaign Canales 2012 (SOCIB operational programme), covering Eivissa channel (4 transects) and Mallorca channel (2 transects) during August and September 2012.</td><td>socib-enl-canales-aug2012-ideep00</td><td>SOCIB ENL Canales Aug2012 ideep00</td></tr><tr><td>None</td><td>Deployment of Slocum G1 deep glider ideep00 in endurance line campaign Canales 2011 (SOCIB operational programme), covering Mallorca channel (1 transect) and Eivissa channel (4 transects) during February and March 2011.</td><td>socib-enl-canales-feb2011-ideep00</td><td>SOCIB ENL Canales Feb2011 ideep00</td></tr><tr><td>None</td><td>Deployment of Slocum G1 deep glider ideep01 in endurance line campaign Canales 2011 (SOCIB operational programme), aborted because of a critical error in the Iridium module after the first day of mission.</td><td>socib-enl-canales-feb2011-ideep01</td><td>SOCIB ENL Canales Feb2011 ideep01</td></tr><tr><td>None</td><td>Deployment of Slocum G1 deep glider ideep00 in endurance line campaign Canales 2011 (SOCIB operational programme), covering Mallorca channel (1 transect) and Eivissa channel (4 transects) during January and February 2011.</td><td>socib-enl-canales-jan2011-ideep00</td><td>SOCIB ENL Canales Jan2011 ideep00</td></tr><tr><td>None</td><td>Deployment of Slocum G2 deep glider sdeep00 in endurance line campaign Canales 2013 (SOCIB operational programme), covering Mallorca channel (1 transect) and Eivissa channel (4 transects) during January and February 2013 with science payload turned off few days before the end of the mission.</td><td>socib-enl-canales-jan2013-sdeep00</td><td>SOCIB ENL Canales Jan2013 sdeep00</td></tr><tr><td>None</td><td>Deployment of Slocum G1 deep glider ideep00 in endurance line campaign Canales 2011 (SOCIB operational programme), covering Mallorca channel (1 transect) and Eivissa channel (4 transects) during July and August 2011, without logging science data due to a configuration error.</td><td>socib-enl-canales-jul2011-ideep00</td><td>SOCIB ENL Canales Jul2011 ideep00</td></tr><tr><td>None</td><td>Deployment of Slocum G1 deep glider ideep00 in endurance line campaign Canales 2012 (SOCIB operational programme), covering Mallorca channel (2 transects) and Eivissa channel (4 transects) during July and August 2012.</td><td>socib-enl-canales-jul2012-ideep00</td><td>SOCIB ENL Canales Jul2012 ideep00</td></tr><tr><td>None</td><td>Deployment of Slocum G2 deep glider sdeep00 in endurance line campaign Canales 2013 (SOCIB operational programme), covering Mallorca channel (1 transects) and Eivissa channel (4 transects) during July and August 2013.</td><td>socib-enl-canales-jul2013-sdeep00</td><td>SOCIB ENL Canales Jul2013 sdeep00</td></tr><tr><td>None</td><td>Deployment of Slocum G1 deep glider ideep00 in endurance line campaign Canales 2011 (SOCIB operational programme), covering Mallorca channel (1 transect) and Eivissa channel (4 transects) during June 2011.</td><td>socib-enl-canales-jun2011-ideep00</td><td>SOCIB ENL Canales Jun2011 ideep00</td></tr><tr><td>None</td><td>Deployment of Slocum G1 deep glider ideep00 in endurance line campaign Canales 2011 (SOCIB operational programme), covering Mallorca channel (1 transect) and Eivissa channel (4 transects) during March and April 2011.</td><td>socib-enl-canales-mar2011-ideep00</td><td>SOCIB ENL Canales Mar2011 ideep00</td></tr><tr><td>None</td><td>Deployment of Seaglider 1KA glider sdeep02 for a test mission from SÃ³ller to Dragonera (Mallorca) in March 2012;  followed by a a mission in endurance line campaign Canales 2012 (SOCIB operational programme), covering Eivissa channel (2 transects) and Mallorca channel (1 transect) during March and April 2012.  </td><td>socib-enl-canales-mar2012-sdeep02</td><td>SOCIB ENL Canales Mar2012 sdeep02</td></tr><tr><td>None</td><td>Deployment of Slocum G2 deep glider sdeep01 in endurance line campaign Canales 2013 (SOCIB operational programme), covering Mallorca channel (1 transect) and Eivissa channel (4 transects) during March and April 2013, with previous depth tests.</td><td>socib-enl-canales-mar2013-sdeep01</td><td>SOCIB ENL Canales Mar2013 sdeep01</td></tr><tr><td>None</td><td>Deployment of Slocum G1 deep glider ideep00 in endurance line campaign Canales 2011 (SOCIB operational programme), covering Mallorca channel (1 transect) and Eivissa channel (4 transects) during May 2011.</td><td>socib-enl-canales-may2011-ideep00</td><td>SOCIB ENL Canales May2011 ideep00</td></tr><tr><td>None</td><td>Deployment of Slocum G1 deep glider ideep02 in endurance line campaign Canales 2012 (SOCIB operational programme), covering Mallorca channel (1,5 transects) and Eivissa channel (4 transects) during May and June 2012.</td><td>socib-enl-canales-may2012-ideep02</td><td>SOCIB ENL Canales May2012 ideep02</td></tr><tr><td>None</td><td>Deployment of Slocum G2 deep glider sdeep00 in endurance line campaign Canales 2013 (SOCIB operational programme), covering Mallorca channel (2 transects) and Eivissa channel (4 transects) during May and June 2013.</td><td>socib-enl-canales-may2013-sdeep00</td><td>SOCIB ENL Canales May2013 sdeep00</td></tr><tr><td>None</td><td>Deployment of Slocum G1 deep glider ideep02 in endurance line campaign Canales 2012 (SOCIB operational programme), aborted because of a water leak few hours after the start of the mission.</td><td>socib-enl-canales-nov2012-ideep02</td><td>SOCIB ENL Canales Nov2012 ideep02</td></tr><tr><td>None</td><td>Deployment of Slocum G2 deep glider sdeep00 in endurance line campaign Canales 2012 (SOCIB operational programme), covering Mallorca channel (2 transects) and Eivissa channel (2 transects) during November and December 2012.</td><td>socib-enl-canales-nov2012-sdeep00</td><td>SOCIB ENL Canales Nov2012 sdeep00</td></tr><tr><td>None</td><td>Deployment of Slocum G1 deep glider ideep02 in endurance line campaign Canales 2012 (SOCIB operational programme), aborted because of a water leak after covering Mallorca channel (1 transect) and Eivissa channel (1 incomplete transect).</td><td>socib-enl-canales-oct2012-ideep02</td><td>SOCIB ENL Canales Oct2012 ideep02</td></tr><tr><td>None</td><td>Deployment of Slocum G1 coastal glider icoast00 in endurance line campaign Canales 2011 (SOCIB operational programme), aborted because of an air leak through the air bladder after covering Eivissa channel (1 transect).</td><td>socib-enl-canales-sep2011-icoast00</td><td>SOCIB ENL Canales Sep2011 icoast00</td></tr><tr><td>None</td><td>PERSEUS project multi-platform experiment of which two IMEDEA gliders are part: U050 (icoast00: shallow G1) and U184 (ideep00: deep G1)</td><td>socib-epr-alborex-may2014-icoast00-ideep00</td><td>SOCIB EPR alborex May2014 icoast00 ideep00</td></tr><tr><td>None</td><td>SOCIB missions executed in the frame of the EU-FP7 project JERICO-NEXT (TNA program). \n",
       "Year 2016</td><td>socib-epr-jerico-next-tna-2016</td><td>SOCIB EPR JERICO NEXT TNA 2016</td></tr><tr><td>None</td><td>SOCIB missions executed in the frame of the EU-FP7 project JERICO-NEXT (TNA program). \n",
       "Year 2017</td><td>socib-epr-jerico-next-tna-2017</td><td>SOCIB EPR JERICO NEXT TNA 2017</td></tr><tr><td>None</td><td>SOCIB missions executed in the frame of the EU-FP7 project JERICO-NEXT (TNA program). \n",
       "Year 2018</td><td>socib-epr-jerico-next-tna-2018</td><td>SOCIB EPR JERICO NEXT TNA 2018</td></tr><tr><td>None</td><td>Internal Demo Mission for monitoring Southern waters of Cabrera National Park</td><td>socib-int-cabrera-swot-2015</td><td>SOCIB INT CABRERA SWOT 2015</td></tr><tr><td>None</td><td>Coherent Lagrangian Pathways from the Surface Ocean to Interior (CALYPSO) Departmental Research Initiative. This study is anticipated to take place in the Southwest Mediterranean Sea, which harbors an unstable front between salty Mediterranean water and the relatively fresh Atlantic water entering through Gibraltar. This location was identified in pilot studies and provides an ocean laboratory with predictable frontal structures of the appropriate scale and energetics. We anticipate that the study will be in partnership with scientists from the Mediterranean Institute for Advanced Studies - Spanish National Research Council and the University of the Balearic Islands (IMEDEA (CSIC-UIB)) and the Balearic Islands Coastal Observing and Forecasting System (SOCIB Research Infrastructure), in Mallorca, Spain, who conducted a cutting edge experiment “AlborEx” in the region in 2014.</td><td>socib-int-calypso-may2018</td><td>SOCIB INT CALYPSO May2018</td></tr><tr><td>None</td><td>Multi-platform experiment that associates a sea turtle, drifters (3) and a glider. </td><td>socib-int-glidingturtles-jul2016</td><td>SOCIB INT GlidingTurtles Jul2016</td></tr><tr><td>None</td><td>Multi-platform experiment that associates a sea turtle, drifters (3) and a glider. </td><td>socib-int-tortugasoceanografas-jun2017</td><td>SOCIB INT TortugasOceanografas Jun2017</td></tr><tr><td>None</td><td>GF-MR-0030_JERICO-TNA-Abacus-Sep2014_sdeep01</td><td>socib-tna-abacus-2014</td><td>SOCIB TNA Abacus 2014</td></tr><tr><td>None</td><td>Deployment of Slocum G1 deep glider ideep01 in execution of its first ever test mission to prove hull resistance to maximum operative depth (975m) during January 2011.</td><td>socib-tst-depthtest-jan2011-ideep01</td><td>SOCIB TST DepthTest Jan2011 ideep01</td></tr><tr><td>None</td><td>Deployment of Seaglider 1KA glider sdeep03 in execution of a test mission to prove hull resistance to maximum operative depth (975m) during July 2012.</td><td>socib-tst-depthtest-jul2012-sdeep03</td><td>SOCIB TST DepthTest Jul2012 sdeep03</td></tr><tr><td>None</td><td>Deployment of Slocum G1 deep glider ideep00 in execution of a test mission to prove hull resistance to maximum operative depth (975m) during June 2012.</td><td>socib-tst-depthtest-jun2012-ideep00</td><td>SOCIB TST DepthTest Jun2012 ideep00</td></tr><tr><td>None</td><td>Deployment of Slocum G1 deep glider ideep02 in execution of its first ever test mission to prove hull resistance to maximum operative depth (975m) during October 2011.</td><td>socib-tst-depthtest-oct2011-ideep02</td><td>SOCIB TST DepthTest Oct2011 ideep02</td></tr><tr><td>None</td><td>Deployment of Slocum G2 deep glider sdeep00 in execution of a test mission to prove hull resistance to maximum operative depth (975m) and overall performance following a triangular path during Februay and March 2013, aborted after the 4th day due to a repetition of buoy pump errors and with corrossion detected on the CTD.</td><td>socib-tst-depthtesttriang-feb2012-sdeep00</td><td>SOCIB TST DepthTestTriang Feb2012 sdeep00</td></tr><tr><td>None</td><td>Deployment of Slocum G1 deep glider ideep02 in execution of a test mission to prove hull resistance to maximum operative depth (975m) and overall performance following a triangular path during March 2012.</td><td>socib-tst-depthtesttriang-mar2012-ideep02</td><td>SOCIB TST DepthTestTriang Mar2012 ideep02</td></tr><tr><td>None</td><td>Deployment of Slocum G1 coastal glider icoast00 in execution of a test mission to prove hull resistance to maximum operative depth (200m) and overall performance following a square-shaped path during May and June 2012.</td><td>socib-tst-testsquad-may2012-icoast00</td><td>SOCIB TST TestSquad May2012 icoast00</td></tr></table>"
      ],
      "text/plain": [
       "<IPython.core.display.HTML object>"
      ]
     },
     "execution_count": 8,
     "metadata": {},
     "output_type": "execute_result"
    }
   ],
   "source": [
    "HTML(json2html.convert(json=results))"
   ]
  },
  {
   "cell_type": "markdown",
   "metadata": {},
   "source": [
    "Next we will see how to get the data comming from one of the above data-products."
   ]
  },
  {
   "cell_type": "markdown",
   "metadata": {},
   "source": [
    "<h3>GETTING A DATA-PRODUCT'S <span>netCDFs</span></h3>"
   ]
  },
  {
   "cell_type": "markdown",
   "metadata": {},
   "source": [
    "Let's focuse on the first data-platform from above list:"
   ]
  },
  {
   "cell_type": "code",
   "execution_count": 9,
   "metadata": {
    "collapsed": true
   },
   "outputs": [],
   "source": [
    "targeted_data_product = results[0] #data platform number 0"
   ]
  },
  {
   "cell_type": "code",
   "execution_count": 11,
   "metadata": {
    "collapsed": false
   },
   "outputs": [
    {
     "name": "stdout",
     "output_type": "stream",
     "text": [
      "Requested url: http://api.socib.es/data-products/bfly-precartex. Be aware of the name requested\n"
     ]
    }
   ],
   "source": [
    "end_point_plus_aux = '/data-products/'+targeted_data_product['id']\n",
    "request = requests.get('%s%s' % (api_url, end_point_plus_aux), headers=headers)\n",
    "response = json.loads(request.text)\n",
    "print('Requested url: '+'%s%s. Be aware of the name requested' % (api_url, end_point_plus_aux))"
   ]
  },
  {
   "cell_type": "code",
   "execution_count": 12,
   "metadata": {
    "collapsed": false
   },
   "outputs": [
    {
     "data": {
      "text/html": [
       "<table border=\"1\"><tr><th>info</th><td>None</td></tr><tr><th>sources</th><td>4</td></tr><tr><th>description</th><td>Butterfly cruise serving as Engineering Trial for Slocum scientific mission</td></tr><tr><th>name</th><td>bfly preCARTEX</td></tr><tr><th>id</th><td>bfly-precartex</td></tr></table>"
      ],
      "text/plain": [
       "<IPython.core.display.HTML object>"
      ]
     },
     "execution_count": 12,
     "metadata": {},
     "output_type": "execute_result"
    }
   ],
   "source": [
    "files_metadata = {k:v for k, v in response.items() if k != 'sources'} #skipping the product's deployment's data for later\n",
    "for k, v in response.items():\n",
    "    if k == 'sources':\n",
    "        files_metadata[k] = len(v) \n",
    "HTML(json2html.convert(json=files_metadata))"
   ]
  },
  {
   "cell_type": "markdown",
   "metadata": {},
   "source": [
    "In order to access the netCDFS you should request each of the composing deployment 'entries' (see [what is a data source](http://localhost:8888/notebooks/data_sources/what_is_a_data_source.ipynb)):"
   ]
  },
  {
   "cell_type": "markdown",
   "metadata": {},
   "source": [
    "So for example, let's loop over every netCDF available for every of the above source:"
   ]
  },
  {
   "cell_type": "code",
   "execution_count": 22,
   "metadata": {
    "collapsed": false
   },
   "outputs": [
    {
     "name": "stdout",
     "output_type": "stream",
     "text": [
      "This product contains a total of 11 netCDFs\n"
     ]
    }
   ],
   "source": [
    "netCDFs = []\n",
    "for source in response['sources']:\n",
    "    for netCDF in source['entries']:\n",
    "        netCDFs.append(netCDF)\n",
    "print('This product contains a total of %s netCDFs' % (len(netCDFs)))"
   ]
  },
  {
   "cell_type": "code",
   "execution_count": 23,
   "metadata": {
    "collapsed": false
   },
   "outputs": [
    {
     "data": {
      "text/html": [
       "<table border=\"1\"><tr><th>name</th><th>last_update</th><th>initial_datetime</th><th>end_datetime</th><th>services</th><th>viewers</th><th>processing_level</th></tr><tr><td>data from 2014-05-13 10:42:18+00:00 to 2014-05-14 15:05:31+00:00</td><td>2015-03-09 17:04:27+00:00</td><td>2014-05-13 10:42:18+00:00</td><td>2014-05-14 15:05:31+00:00</td><td><table border=\"1\"><tr><th>http_file</th><td><table border=\"1\"><tr><th>url</th><td>http://thredds.socib.es/thredds/fileServer/auv/glider/icoast00-ime_slcost000/L2/2014/dep0003_icoast00_ime-slcost000_L2_2014-05-13_data_rt.nc</td></tr></table></td></tr><tr><th>opendap</th><td><table border=\"1\"><tr><th>url</th><td>http://thredds.socib.es/thredds/dodsC/auv/glider/icoast00-ime_slcost000/L2/2014/dep0003_icoast00_ime-slcost000_L2_2014-05-13_data_rt.nc</td></tr></table></td></tr><tr><th>thredds_catalog</th><td><table border=\"1\"><tr><th>url</th><td>http://thredds.socib.es/thredds/catalog/auv/glider/icoast00-ime_slcost000/L2/2014/catalog.html?dataset=auv/glider/icoast00-ime_slcost000/L2/2014/dep0003_icoast00_ime-slcost000_L2_2014-05-13_data_rt.nc</td></tr></table></td></tr></table></td><td><table border=\"1\"><tr><th>jwebchart</th><td><table border=\"1\"><tr><th>url</th><td>http://www.socib.es/jwebchart/?file=http://thredds.socib.es/thredds/dodsC/auv/glider/icoast00-ime_slcost000/L2/2014/dep0003_icoast00_ime-slcost000_L2_2014-05-13_data_rt.nc</td></tr></table></td></tr><tr><th>dapp</th><td><table border=\"1\"><tr><th>url</th><td>http://apps.socib.es/dapp/?deployments=316</td></tr></table></td></tr></table></td><td>L2</td></tr><tr><td>data from 2014-05-13 10:00:00+00:00 to 2014-05-14 15:09:33+00:00</td><td>2015-03-09 17:04:21+00:00</td><td>2014-05-13 10:00:00+00:00</td><td>2014-05-14 15:09:33+00:00</td><td><table border=\"1\"><tr><th>http_file</th><td><table border=\"1\"><tr><th>url</th><td>http://thredds.socib.es/thredds/fileServer/auv/glider/icoast00-ime_slcost000/L1/2014/dep0003_icoast00_ime-slcost000_L1_2014-05-13_data_rt.nc</td></tr></table></td></tr><tr><th>opendap</th><td><table border=\"1\"><tr><th>url</th><td>http://thredds.socib.es/thredds/dodsC/auv/glider/icoast00-ime_slcost000/L1/2014/dep0003_icoast00_ime-slcost000_L1_2014-05-13_data_rt.nc</td></tr></table></td></tr><tr><th>thredds_catalog</th><td><table border=\"1\"><tr><th>url</th><td>http://thredds.socib.es/thredds/catalog/auv/glider/icoast00-ime_slcost000/L1/2014/catalog.html?dataset=auv/glider/icoast00-ime_slcost000/L1/2014/dep0003_icoast00_ime-slcost000_L1_2014-05-13_data_rt.nc</td></tr></table></td></tr></table></td><td><table border=\"1\"><tr><th>jwebchart</th><td><table border=\"1\"><tr><th>url</th><td>http://www.socib.es/jwebchart/?file=http://thredds.socib.es/thredds/dodsC/auv/glider/icoast00-ime_slcost000/L1/2014/dep0003_icoast00_ime-slcost000_L1_2014-05-13_data_rt.nc</td></tr></table></td></tr><tr><th>dapp</th><td><table border=\"1\"><tr><th>url</th><td>http://apps.socib.es/dapp/?deployments=316</td></tr></table></td></tr></table></td><td>L1</td></tr><tr><td>data from 2014-05-13 10:00:00+00:00 to 2014-05-14 15:09:33+00:00</td><td>2015-03-09 17:04:20+00:00</td><td>2014-05-13 10:00:00+00:00</td><td>2014-05-14 15:09:33+00:00</td><td><table border=\"1\"><tr><th>http_file</th><td><table border=\"1\"><tr><th>url</th><td>http://thredds.socib.es/thredds/fileServer/auv/glider/icoast00-ime_slcost000/L0/2014/dep0003_icoast00_ime-slcost000_L0_2014-05-13_data_rt.nc</td></tr></table></td></tr><tr><th>opendap</th><td><table border=\"1\"><tr><th>url</th><td>http://thredds.socib.es/thredds/dodsC/auv/glider/icoast00-ime_slcost000/L0/2014/dep0003_icoast00_ime-slcost000_L0_2014-05-13_data_rt.nc</td></tr></table></td></tr><tr><th>thredds_catalog</th><td><table border=\"1\"><tr><th>url</th><td>http://thredds.socib.es/thredds/catalog/auv/glider/icoast00-ime_slcost000/L0/2014/catalog.html?dataset=auv/glider/icoast00-ime_slcost000/L0/2014/dep0003_icoast00_ime-slcost000_L0_2014-05-13_data_rt.nc</td></tr></table></td></tr></table></td><td><table border=\"1\"><tr><th>jwebchart</th><td><table border=\"1\"><tr><th>url</th><td>http://www.socib.es/jwebchart/?file=http://thredds.socib.es/thredds/dodsC/auv/glider/icoast00-ime_slcost000/L0/2014/dep0003_icoast00_ime-slcost000_L0_2014-05-13_data_rt.nc</td></tr></table></td></tr><tr><th>dapp</th><td><table border=\"1\"><tr><th>url</th><td>http://apps.socib.es/dapp/?deployments=316</td></tr></table></td></tr></table></td><td>L0</td></tr><tr><td>data from 2014-05-17 10:09:31+00:00 to 2014-05-17 15:58:04+00:00</td><td>2015-03-09 17:03:50+00:00</td><td>2014-05-17 10:09:31+00:00</td><td>2014-05-17 15:58:04+00:00</td><td><table border=\"1\"><tr><th>http_file</th><td><table border=\"1\"><tr><th>url</th><td>http://thredds.socib.es/thredds/fileServer/auv/glider/icoast00-ime_slcost000/L2/2014/dep0004_icoast00_ime-slcost000_L2_2014-05-17_data_rt.nc</td></tr></table></td></tr><tr><th>opendap</th><td><table border=\"1\"><tr><th>url</th><td>http://thredds.socib.es/thredds/dodsC/auv/glider/icoast00-ime_slcost000/L2/2014/dep0004_icoast00_ime-slcost000_L2_2014-05-17_data_rt.nc</td></tr></table></td></tr><tr><th>thredds_catalog</th><td><table border=\"1\"><tr><th>url</th><td>http://thredds.socib.es/thredds/catalog/auv/glider/icoast00-ime_slcost000/L2/2014/catalog.html?dataset=auv/glider/icoast00-ime_slcost000/L2/2014/dep0004_icoast00_ime-slcost000_L2_2014-05-17_data_rt.nc</td></tr></table></td></tr></table></td><td><table border=\"1\"><tr><th>jwebchart</th><td><table border=\"1\"><tr><th>url</th><td>http://www.socib.es/jwebchart/?file=http://thredds.socib.es/thredds/dodsC/auv/glider/icoast00-ime_slcost000/L2/2014/dep0004_icoast00_ime-slcost000_L2_2014-05-17_data_rt.nc</td></tr></table></td></tr><tr><th>dapp</th><td><table border=\"1\"><tr><th>url</th><td>http://apps.socib.es/dapp/?deployments=345</td></tr></table></td></tr></table></td><td>L2</td></tr><tr><td>data from 2014-05-17 10:04:37+00:00 to 2014-05-17 16:05:59+00:00</td><td>2015-03-09 17:03:45+00:00</td><td>2014-05-17 10:04:37+00:00</td><td>2014-05-17 16:05:59+00:00</td><td><table border=\"1\"><tr><th>http_file</th><td><table border=\"1\"><tr><th>url</th><td>http://thredds.socib.es/thredds/fileServer/auv/glider/icoast00-ime_slcost000/L1/2014/dep0004_icoast00_ime-slcost000_L1_2014-05-17_data_rt.nc</td></tr></table></td></tr><tr><th>opendap</th><td><table border=\"1\"><tr><th>url</th><td>http://thredds.socib.es/thredds/dodsC/auv/glider/icoast00-ime_slcost000/L1/2014/dep0004_icoast00_ime-slcost000_L1_2014-05-17_data_rt.nc</td></tr></table></td></tr><tr><th>thredds_catalog</th><td><table border=\"1\"><tr><th>url</th><td>http://thredds.socib.es/thredds/catalog/auv/glider/icoast00-ime_slcost000/L1/2014/catalog.html?dataset=auv/glider/icoast00-ime_slcost000/L1/2014/dep0004_icoast00_ime-slcost000_L1_2014-05-17_data_rt.nc</td></tr></table></td></tr></table></td><td><table border=\"1\"><tr><th>jwebchart</th><td><table border=\"1\"><tr><th>url</th><td>http://www.socib.es/jwebchart/?file=http://thredds.socib.es/thredds/dodsC/auv/glider/icoast00-ime_slcost000/L1/2014/dep0004_icoast00_ime-slcost000_L1_2014-05-17_data_rt.nc</td></tr></table></td></tr><tr><th>dapp</th><td><table border=\"1\"><tr><th>url</th><td>http://apps.socib.es/dapp/?deployments=345</td></tr></table></td></tr></table></td><td>L1</td></tr><tr><td>data from 2014-05-17 10:04:37+00:00 to 2014-05-17 16:05:59+00:00</td><td>2015-03-09 17:03:44+00:00</td><td>2014-05-17 10:04:37+00:00</td><td>2014-05-17 16:05:59+00:00</td><td><table border=\"1\"><tr><th>http_file</th><td><table border=\"1\"><tr><th>url</th><td>http://thredds.socib.es/thredds/fileServer/auv/glider/icoast00-ime_slcost000/L0/2014/dep0004_icoast00_ime-slcost000_L0_2014-05-17_data_rt.nc</td></tr></table></td></tr><tr><th>opendap</th><td><table border=\"1\"><tr><th>url</th><td>http://thredds.socib.es/thredds/dodsC/auv/glider/icoast00-ime_slcost000/L0/2014/dep0004_icoast00_ime-slcost000_L0_2014-05-17_data_rt.nc</td></tr></table></td></tr><tr><th>thredds_catalog</th><td><table border=\"1\"><tr><th>url</th><td>http://thredds.socib.es/thredds/catalog/auv/glider/icoast00-ime_slcost000/L0/2014/catalog.html?dataset=auv/glider/icoast00-ime_slcost000/L0/2014/dep0004_icoast00_ime-slcost000_L0_2014-05-17_data_rt.nc</td></tr></table></td></tr></table></td><td><table border=\"1\"><tr><th>jwebchart</th><td><table border=\"1\"><tr><th>url</th><td>http://www.socib.es/jwebchart/?file=http://thredds.socib.es/thredds/dodsC/auv/glider/icoast00-ime_slcost000/L0/2014/dep0004_icoast00_ime-slcost000_L0_2014-05-17_data_rt.nc</td></tr></table></td></tr><tr><th>dapp</th><td><table border=\"1\"><tr><th>url</th><td>http://apps.socib.es/dapp/?deployments=345</td></tr></table></td></tr></table></td><td>L0</td></tr><tr><td>data from 2014-05-13 10:16:10+00:00 to 2014-05-13 12:23:11+00:00</td><td>2014-05-13 16:01:59+00:00</td><td>2014-05-13 10:16:10+00:00</td><td>2014-05-13 12:23:11+00:00</td><td><table border=\"1\"><tr><th>http_file</th><td><table border=\"1\"><tr><th>url</th><td>http://thredds.socib.es/thredds/fileServer/auv/glider/ideep00-ime_sldeep000/L1/2014/dep0010_ideep00_ime-sldeep000_L1_2014-05-13.nc</td></tr></table></td></tr><tr><th>opendap</th><td><table border=\"1\"><tr><th>url</th><td>http://thredds.socib.es/thredds/dodsC/auv/glider/ideep00-ime_sldeep000/L1/2014/dep0010_ideep00_ime-sldeep000_L1_2014-05-13.nc</td></tr></table></td></tr><tr><th>thredds_catalog</th><td><table border=\"1\"><tr><th>url</th><td>http://thredds.socib.es/thredds/catalog/auv/glider/ideep00-ime_sldeep000/L1/2014/catalog.html?dataset=auv/glider/ideep00-ime_sldeep000/L1/2014/dep0010_ideep00_ime-sldeep000_L1_2014-05-13.nc</td></tr></table></td></tr></table></td><td><table border=\"1\"><tr><th>jwebchart</th><td><table border=\"1\"><tr><th>url</th><td>http://www.socib.es/jwebchart/?file=http://thredds.socib.es/thredds/dodsC/auv/glider/ideep00-ime_sldeep000/L1/2014/dep0010_ideep00_ime-sldeep000_L1_2014-05-13.nc</td></tr></table></td></tr><tr><th>dapp</th><td><table border=\"1\"><tr><th>url</th><td>http://apps.socib.es/dapp/?deployments=317</td></tr></table></td></tr></table></td><td>L1</td></tr><tr><td>data from 2014-05-13 10:16:10+00:00 to 2014-05-13 12:23:11+00:00</td><td>2014-05-13 16:01:59+00:00</td><td>2014-05-13 10:16:10+00:00</td><td>2014-05-13 12:23:11+00:00</td><td><table border=\"1\"><tr><th>http_file</th><td><table border=\"1\"><tr><th>url</th><td>http://thredds.socib.es/thredds/fileServer/auv/glider/ideep00-ime_sldeep000/L0/2014/dep0010_ideep00_ime-sldeep000_L0_2014-05-13.nc</td></tr></table></td></tr><tr><th>opendap</th><td><table border=\"1\"><tr><th>url</th><td>http://thredds.socib.es/thredds/dodsC/auv/glider/ideep00-ime_sldeep000/L0/2014/dep0010_ideep00_ime-sldeep000_L0_2014-05-13.nc</td></tr></table></td></tr><tr><th>thredds_catalog</th><td><table border=\"1\"><tr><th>url</th><td>http://thredds.socib.es/thredds/catalog/auv/glider/ideep00-ime_sldeep000/L0/2014/catalog.html?dataset=auv/glider/ideep00-ime_sldeep000/L0/2014/dep0010_ideep00_ime-sldeep000_L0_2014-05-13.nc</td></tr></table></td></tr></table></td><td><table border=\"1\"><tr><th>jwebchart</th><td><table border=\"1\"><tr><th>url</th><td>http://www.socib.es/jwebchart/?file=http://thredds.socib.es/thredds/dodsC/auv/glider/ideep00-ime_sldeep000/L0/2014/dep0010_ideep00_ime-sldeep000_L0_2014-05-13.nc</td></tr></table></td></tr><tr><th>dapp</th><td><table border=\"1\"><tr><th>url</th><td>http://apps.socib.es/dapp/?deployments=317</td></tr></table></td></tr></table></td><td>L0</td></tr><tr><td>data from 2014-05-17 09:00:32+00:00 to 2014-05-19 03:22:40+00:00</td><td>2015-03-10 14:01:09+00:00</td><td>2014-05-17 09:00:32+00:00</td><td>2014-05-19 03:22:40+00:00</td><td><table border=\"1\"><tr><th>http_file</th><td><table border=\"1\"><tr><th>url</th><td>http://thredds.socib.es/thredds/fileServer/auv/glider/ideep00-ime_sldeep000/L2/2014/dep0011_ideep00_ime-sldeep000_L2_2014-05-17_data_rt.nc</td></tr></table></td></tr><tr><th>opendap</th><td><table border=\"1\"><tr><th>url</th><td>http://thredds.socib.es/thredds/dodsC/auv/glider/ideep00-ime_sldeep000/L2/2014/dep0011_ideep00_ime-sldeep000_L2_2014-05-17_data_rt.nc</td></tr></table></td></tr><tr><th>thredds_catalog</th><td><table border=\"1\"><tr><th>url</th><td>http://thredds.socib.es/thredds/catalog/auv/glider/ideep00-ime_sldeep000/L2/2014/catalog.html?dataset=auv/glider/ideep00-ime_sldeep000/L2/2014/dep0011_ideep00_ime-sldeep000_L2_2014-05-17_data_rt.nc</td></tr></table></td></tr></table></td><td><table border=\"1\"><tr><th>jwebchart</th><td><table border=\"1\"><tr><th>url</th><td>http://www.socib.es/jwebchart/?file=http://thredds.socib.es/thredds/dodsC/auv/glider/ideep00-ime_sldeep000/L2/2014/dep0011_ideep00_ime-sldeep000_L2_2014-05-17_data_rt.nc</td></tr></table></td></tr><tr><th>dapp</th><td><table border=\"1\"><tr><th>url</th><td>http://apps.socib.es/dapp/?deployments=344</td></tr></table></td></tr></table></td><td>L2</td></tr><tr><td>data from 2014-05-17 09:00:04+00:00 to 2014-05-19 03:55:43+00:00</td><td>2015-03-10 14:00:54+00:00</td><td>2014-05-17 09:00:04+00:00</td><td>2014-05-19 03:55:43+00:00</td><td><table border=\"1\"><tr><th>http_file</th><td><table border=\"1\"><tr><th>url</th><td>http://thredds.socib.es/thredds/fileServer/auv/glider/ideep00-ime_sldeep000/L1/2014/dep0011_ideep00_ime-sldeep000_L1_2014-05-17_data_rt.nc</td></tr></table></td></tr><tr><th>opendap</th><td><table border=\"1\"><tr><th>url</th><td>http://thredds.socib.es/thredds/dodsC/auv/glider/ideep00-ime_sldeep000/L1/2014/dep0011_ideep00_ime-sldeep000_L1_2014-05-17_data_rt.nc</td></tr></table></td></tr><tr><th>thredds_catalog</th><td><table border=\"1\"><tr><th>url</th><td>http://thredds.socib.es/thredds/catalog/auv/glider/ideep00-ime_sldeep000/L1/2014/catalog.html?dataset=auv/glider/ideep00-ime_sldeep000/L1/2014/dep0011_ideep00_ime-sldeep000_L1_2014-05-17_data_rt.nc</td></tr></table></td></tr></table></td><td><table border=\"1\"><tr><th>jwebchart</th><td><table border=\"1\"><tr><th>url</th><td>http://www.socib.es/jwebchart/?file=http://thredds.socib.es/thredds/dodsC/auv/glider/ideep00-ime_sldeep000/L1/2014/dep0011_ideep00_ime-sldeep000_L1_2014-05-17_data_rt.nc</td></tr></table></td></tr><tr><th>dapp</th><td><table border=\"1\"><tr><th>url</th><td>http://apps.socib.es/dapp/?deployments=344</td></tr></table></td></tr></table></td><td>L1</td></tr><tr><td>data from 2014-05-17 09:00:04+00:00 to 2014-05-19 03:55:43+00:00</td><td>2015-03-10 14:00:46+00:00</td><td>2014-05-17 09:00:04+00:00</td><td>2014-05-19 03:55:43+00:00</td><td><table border=\"1\"><tr><th>http_file</th><td><table border=\"1\"><tr><th>url</th><td>http://thredds.socib.es/thredds/fileServer/auv/glider/ideep00-ime_sldeep000/L0/2014/dep0011_ideep00_ime-sldeep000_L0_2014-05-17_data_rt.nc</td></tr></table></td></tr><tr><th>opendap</th><td><table border=\"1\"><tr><th>url</th><td>http://thredds.socib.es/thredds/dodsC/auv/glider/ideep00-ime_sldeep000/L0/2014/dep0011_ideep00_ime-sldeep000_L0_2014-05-17_data_rt.nc</td></tr></table></td></tr><tr><th>thredds_catalog</th><td><table border=\"1\"><tr><th>url</th><td>http://thredds.socib.es/thredds/catalog/auv/glider/ideep00-ime_sldeep000/L0/2014/catalog.html?dataset=auv/glider/ideep00-ime_sldeep000/L0/2014/dep0011_ideep00_ime-sldeep000_L0_2014-05-17_data_rt.nc</td></tr></table></td></tr></table></td><td><table border=\"1\"><tr><th>jwebchart</th><td><table border=\"1\"><tr><th>url</th><td>http://www.socib.es/jwebchart/?file=http://thredds.socib.es/thredds/dodsC/auv/glider/ideep00-ime_sldeep000/L0/2014/dep0011_ideep00_ime-sldeep000_L0_2014-05-17_data_rt.nc</td></tr></table></td></tr><tr><th>dapp</th><td><table border=\"1\"><tr><th>url</th><td>http://apps.socib.es/dapp/?deployments=344</td></tr></table></td></tr></table></td><td>L0</td></tr></table>"
      ],
      "text/plain": [
       "<IPython.core.display.HTML object>"
      ]
     },
     "execution_count": 23,
     "metadata": {},
     "output_type": "execute_result"
    }
   ],
   "source": [
    "HTML(json2html.convert(json=netCDFs))"
   ]
  },
  {
   "cell_type": "markdown",
   "metadata": {},
   "source": [
    "Focusing just on the services to download, explore or view:"
   ]
  },
  {
   "cell_type": "code",
   "execution_count": 24,
   "metadata": {
    "collapsed": false
   },
   "outputs": [
    {
     "name": "stdout",
     "output_type": "stream",
     "text": [
      "This product contains a total of 11 netCDFs\n"
     ]
    }
   ],
   "source": [
    "netCDFs = []\n",
    "for source in response['sources']:\n",
    "    for netCDF in source['entries']:\n",
    "        netCDFs.append(netCDF['services'])\n",
    "print('This product contains a total of %s netCDFs' % (len(netCDFs)))"
   ]
  },
  {
   "cell_type": "code",
   "execution_count": 25,
   "metadata": {
    "collapsed": false
   },
   "outputs": [
    {
     "data": {
      "text/html": [
       "<table border=\"1\"><tr><th>http_file</th><th>opendap</th><th>thredds_catalog</th></tr><tr><td><table border=\"1\"><tr><th>url</th><td>http://thredds.socib.es/thredds/fileServer/auv/glider/icoast00-ime_slcost000/L2/2014/dep0003_icoast00_ime-slcost000_L2_2014-05-13_data_rt.nc</td></tr></table></td><td><table border=\"1\"><tr><th>url</th><td>http://thredds.socib.es/thredds/dodsC/auv/glider/icoast00-ime_slcost000/L2/2014/dep0003_icoast00_ime-slcost000_L2_2014-05-13_data_rt.nc</td></tr></table></td><td><table border=\"1\"><tr><th>url</th><td>http://thredds.socib.es/thredds/catalog/auv/glider/icoast00-ime_slcost000/L2/2014/catalog.html?dataset=auv/glider/icoast00-ime_slcost000/L2/2014/dep0003_icoast00_ime-slcost000_L2_2014-05-13_data_rt.nc</td></tr></table></td></tr><tr><td><table border=\"1\"><tr><th>url</th><td>http://thredds.socib.es/thredds/fileServer/auv/glider/icoast00-ime_slcost000/L1/2014/dep0003_icoast00_ime-slcost000_L1_2014-05-13_data_rt.nc</td></tr></table></td><td><table border=\"1\"><tr><th>url</th><td>http://thredds.socib.es/thredds/dodsC/auv/glider/icoast00-ime_slcost000/L1/2014/dep0003_icoast00_ime-slcost000_L1_2014-05-13_data_rt.nc</td></tr></table></td><td><table border=\"1\"><tr><th>url</th><td>http://thredds.socib.es/thredds/catalog/auv/glider/icoast00-ime_slcost000/L1/2014/catalog.html?dataset=auv/glider/icoast00-ime_slcost000/L1/2014/dep0003_icoast00_ime-slcost000_L1_2014-05-13_data_rt.nc</td></tr></table></td></tr><tr><td><table border=\"1\"><tr><th>url</th><td>http://thredds.socib.es/thredds/fileServer/auv/glider/icoast00-ime_slcost000/L0/2014/dep0003_icoast00_ime-slcost000_L0_2014-05-13_data_rt.nc</td></tr></table></td><td><table border=\"1\"><tr><th>url</th><td>http://thredds.socib.es/thredds/dodsC/auv/glider/icoast00-ime_slcost000/L0/2014/dep0003_icoast00_ime-slcost000_L0_2014-05-13_data_rt.nc</td></tr></table></td><td><table border=\"1\"><tr><th>url</th><td>http://thredds.socib.es/thredds/catalog/auv/glider/icoast00-ime_slcost000/L0/2014/catalog.html?dataset=auv/glider/icoast00-ime_slcost000/L0/2014/dep0003_icoast00_ime-slcost000_L0_2014-05-13_data_rt.nc</td></tr></table></td></tr><tr><td><table border=\"1\"><tr><th>url</th><td>http://thredds.socib.es/thredds/fileServer/auv/glider/icoast00-ime_slcost000/L2/2014/dep0004_icoast00_ime-slcost000_L2_2014-05-17_data_rt.nc</td></tr></table></td><td><table border=\"1\"><tr><th>url</th><td>http://thredds.socib.es/thredds/dodsC/auv/glider/icoast00-ime_slcost000/L2/2014/dep0004_icoast00_ime-slcost000_L2_2014-05-17_data_rt.nc</td></tr></table></td><td><table border=\"1\"><tr><th>url</th><td>http://thredds.socib.es/thredds/catalog/auv/glider/icoast00-ime_slcost000/L2/2014/catalog.html?dataset=auv/glider/icoast00-ime_slcost000/L2/2014/dep0004_icoast00_ime-slcost000_L2_2014-05-17_data_rt.nc</td></tr></table></td></tr><tr><td><table border=\"1\"><tr><th>url</th><td>http://thredds.socib.es/thredds/fileServer/auv/glider/icoast00-ime_slcost000/L1/2014/dep0004_icoast00_ime-slcost000_L1_2014-05-17_data_rt.nc</td></tr></table></td><td><table border=\"1\"><tr><th>url</th><td>http://thredds.socib.es/thredds/dodsC/auv/glider/icoast00-ime_slcost000/L1/2014/dep0004_icoast00_ime-slcost000_L1_2014-05-17_data_rt.nc</td></tr></table></td><td><table border=\"1\"><tr><th>url</th><td>http://thredds.socib.es/thredds/catalog/auv/glider/icoast00-ime_slcost000/L1/2014/catalog.html?dataset=auv/glider/icoast00-ime_slcost000/L1/2014/dep0004_icoast00_ime-slcost000_L1_2014-05-17_data_rt.nc</td></tr></table></td></tr><tr><td><table border=\"1\"><tr><th>url</th><td>http://thredds.socib.es/thredds/fileServer/auv/glider/icoast00-ime_slcost000/L0/2014/dep0004_icoast00_ime-slcost000_L0_2014-05-17_data_rt.nc</td></tr></table></td><td><table border=\"1\"><tr><th>url</th><td>http://thredds.socib.es/thredds/dodsC/auv/glider/icoast00-ime_slcost000/L0/2014/dep0004_icoast00_ime-slcost000_L0_2014-05-17_data_rt.nc</td></tr></table></td><td><table border=\"1\"><tr><th>url</th><td>http://thredds.socib.es/thredds/catalog/auv/glider/icoast00-ime_slcost000/L0/2014/catalog.html?dataset=auv/glider/icoast00-ime_slcost000/L0/2014/dep0004_icoast00_ime-slcost000_L0_2014-05-17_data_rt.nc</td></tr></table></td></tr><tr><td><table border=\"1\"><tr><th>url</th><td>http://thredds.socib.es/thredds/fileServer/auv/glider/ideep00-ime_sldeep000/L1/2014/dep0010_ideep00_ime-sldeep000_L1_2014-05-13.nc</td></tr></table></td><td><table border=\"1\"><tr><th>url</th><td>http://thredds.socib.es/thredds/dodsC/auv/glider/ideep00-ime_sldeep000/L1/2014/dep0010_ideep00_ime-sldeep000_L1_2014-05-13.nc</td></tr></table></td><td><table border=\"1\"><tr><th>url</th><td>http://thredds.socib.es/thredds/catalog/auv/glider/ideep00-ime_sldeep000/L1/2014/catalog.html?dataset=auv/glider/ideep00-ime_sldeep000/L1/2014/dep0010_ideep00_ime-sldeep000_L1_2014-05-13.nc</td></tr></table></td></tr><tr><td><table border=\"1\"><tr><th>url</th><td>http://thredds.socib.es/thredds/fileServer/auv/glider/ideep00-ime_sldeep000/L0/2014/dep0010_ideep00_ime-sldeep000_L0_2014-05-13.nc</td></tr></table></td><td><table border=\"1\"><tr><th>url</th><td>http://thredds.socib.es/thredds/dodsC/auv/glider/ideep00-ime_sldeep000/L0/2014/dep0010_ideep00_ime-sldeep000_L0_2014-05-13.nc</td></tr></table></td><td><table border=\"1\"><tr><th>url</th><td>http://thredds.socib.es/thredds/catalog/auv/glider/ideep00-ime_sldeep000/L0/2014/catalog.html?dataset=auv/glider/ideep00-ime_sldeep000/L0/2014/dep0010_ideep00_ime-sldeep000_L0_2014-05-13.nc</td></tr></table></td></tr><tr><td><table border=\"1\"><tr><th>url</th><td>http://thredds.socib.es/thredds/fileServer/auv/glider/ideep00-ime_sldeep000/L2/2014/dep0011_ideep00_ime-sldeep000_L2_2014-05-17_data_rt.nc</td></tr></table></td><td><table border=\"1\"><tr><th>url</th><td>http://thredds.socib.es/thredds/dodsC/auv/glider/ideep00-ime_sldeep000/L2/2014/dep0011_ideep00_ime-sldeep000_L2_2014-05-17_data_rt.nc</td></tr></table></td><td><table border=\"1\"><tr><th>url</th><td>http://thredds.socib.es/thredds/catalog/auv/glider/ideep00-ime_sldeep000/L2/2014/catalog.html?dataset=auv/glider/ideep00-ime_sldeep000/L2/2014/dep0011_ideep00_ime-sldeep000_L2_2014-05-17_data_rt.nc</td></tr></table></td></tr><tr><td><table border=\"1\"><tr><th>url</th><td>http://thredds.socib.es/thredds/fileServer/auv/glider/ideep00-ime_sldeep000/L1/2014/dep0011_ideep00_ime-sldeep000_L1_2014-05-17_data_rt.nc</td></tr></table></td><td><table border=\"1\"><tr><th>url</th><td>http://thredds.socib.es/thredds/dodsC/auv/glider/ideep00-ime_sldeep000/L1/2014/dep0011_ideep00_ime-sldeep000_L1_2014-05-17_data_rt.nc</td></tr></table></td><td><table border=\"1\"><tr><th>url</th><td>http://thredds.socib.es/thredds/catalog/auv/glider/ideep00-ime_sldeep000/L1/2014/catalog.html?dataset=auv/glider/ideep00-ime_sldeep000/L1/2014/dep0011_ideep00_ime-sldeep000_L1_2014-05-17_data_rt.nc</td></tr></table></td></tr><tr><td><table border=\"1\"><tr><th>url</th><td>http://thredds.socib.es/thredds/fileServer/auv/glider/ideep00-ime_sldeep000/L0/2014/dep0011_ideep00_ime-sldeep000_L0_2014-05-17_data_rt.nc</td></tr></table></td><td><table border=\"1\"><tr><th>url</th><td>http://thredds.socib.es/thredds/dodsC/auv/glider/ideep00-ime_sldeep000/L0/2014/dep0011_ideep00_ime-sldeep000_L0_2014-05-17_data_rt.nc</td></tr></table></td><td><table border=\"1\"><tr><th>url</th><td>http://thredds.socib.es/thredds/catalog/auv/glider/ideep00-ime_sldeep000/L0/2014/catalog.html?dataset=auv/glider/ideep00-ime_sldeep000/L0/2014/dep0011_ideep00_ime-sldeep000_L0_2014-05-17_data_rt.nc</td></tr></table></td></tr></table>"
      ],
      "text/plain": [
       "<IPython.core.display.HTML object>"
      ]
     },
     "execution_count": 25,
     "metadata": {},
     "output_type": "execute_result"
    }
   ],
   "source": [
    "HTML(json2html.convert(json=netCDFs))"
   ]
  }
 ],
 "metadata": {
  "kernelspec": {
   "display_name": "Python [Root]",
   "language": "python",
   "name": "Python [Root]"
  },
  "language_info": {
   "codemirror_mode": {
    "name": "ipython",
    "version": 2
   },
   "file_extension": ".py",
   "mimetype": "text/x-python",
   "name": "python",
   "nbconvert_exporter": "python",
   "pygments_lexer": "ipython2",
   "version": "2.7.12"
  }
 },
 "nbformat": 4,
 "nbformat_minor": 1
}

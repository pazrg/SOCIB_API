{
 "cells": [
  {
   "cell_type": "markdown",
   "metadata": {},
   "source": [
    "<h1 class=\"header\"><img class=\"logo\" src=\"../images/socib_logo.png\" width=\"200px\"></h1>"
   ]
  },
  {
   "cell_type": "markdown",
   "metadata": {},
   "source": [
    "<h3> STYLING NOTEBOOK (OPTIONAL)</h3>"
   ]
  },
  {
   "cell_type": "code",
   "execution_count": 2,
   "metadata": {
    "collapsed": false
   },
   "outputs": [
    {
     "data": {
      "text/html": [
       "<style>\n",
       "\n",
       "h1{\n",
       "\tfloat:right !important\n",
       "}\n",
       "\n",
       "h1>img{\n",
       "\twidth: 200px !important\n",
       "}\n",
       "\n",
       "h3{\n",
       "\tbackground-color: #00334C;\n",
       "\tborder: 1px solid #e3e3e3;\n",
       "\tborder-radius: 4px;\n",
       "\tcolor: #3dabb6; \n",
       "\tpadding: 19px\n",
       "}\n",
       "\n",
       "h3>span{\n",
       "\tborder: 1px solid #3dabb6;\n",
       "\tborder-radius: 4px;\n",
       "\tbackground-color: #3dabb6; \n",
       "\tcolor: white; \n",
       "\tpadding: 5px\n",
       "}\n",
       "\n",
       "ul>li>b{\n",
       "\tborder: 1px solid #3dabb6;\n",
       "\tborder-radius: 4px;\n",
       "\tbackground-color: #3dabb6; \n",
       "\tcolor: white; padding: 5px;\n",
       "}\n",
       "</style>\n"
      ],
      "text/plain": [
       "<IPython.core.display.HTML object>"
      ]
     },
     "execution_count": 2,
     "metadata": {},
     "output_type": "execute_result"
    }
   ],
   "source": [
    "from IPython.core.display import HTML\n",
    "import urllib\n",
    "HTML(urllib.urlopen('https://raw.githubusercontent.com/socib/API_examples/master/style/custom/custom.css').read())"
   ]
  },
  {
   "cell_type": "markdown",
   "metadata": {
    "collapsed": true
   },
   "source": [
    "<h3>HANDY PYTHON PACKAGES</h3>"
   ]
  },
  {
   "cell_type": "code",
   "execution_count": 3,
   "metadata": {
    "collapsed": true
   },
   "outputs": [],
   "source": [
    "import requests\n",
    "import json\n",
    "import matplotlib.pyplot as plt\n",
    "import numpy as np\n",
    "from json2html import *\n",
    "from IPython.display import HTML\n",
    "%matplotlib inline"
   ]
  },
  {
   "cell_type": "markdown",
   "metadata": {},
   "source": [
    "<h3>PREREQUISITES</h3>"
   ]
  },
  {
   "cell_type": "code",
   "execution_count": 4,
   "metadata": {
    "collapsed": true
   },
   "outputs": [],
   "source": [
    "api_key = '' #write you SOCIB api_key\n",
    "api_url = 'http://api.socib.es'\n",
    "headers = {\n",
    "    'accept': 'application/vnd.socib+json',\n",
    "    'apikey': api_key,\n",
    "}"
   ]
  },
  {
   "cell_type": "markdown",
   "metadata": {},
   "source": [
    "<h3> WHAT ARE EXACTLY DATA-PRODUCTS?</h3>"
   ]
  },
  {
   "cell_type": "markdown",
   "metadata": {},
   "source": [
    "SOCIB Data-products wrapp data-sources (instrument&platform enssembles) sharing the same deployment (releasing or mooring) context. These entities enables a quick recovery of grouped deployments paticularly useful in case of campaings (i.e CANALES), projects (i.e ABACUS, [\"gliding turtles\"](http://www.socib.eu/?seccion=siasDivision&facility=oceanographic-turtles)), operations (maintenance) etc. "
   ]
  },
  {
   "cell_type": "markdown",
   "metadata": {},
   "source": [
    "A certain SOCIB data-product can be composed then by a single data-source (i.e such data-source was deployed lonely) or serveral (i.e data-sources deployed during the same event). "
   ]
  },
  {
   "cell_type": "markdown",
   "metadata": {},
   "source": [
    "Examples of a mutiplatform product (glider + turtles) below: \n",
    "<img src=\"https://github.com/pazrg/SOCIB_API/raw/master/images/glidingturtles.jpg\">"
   ]
  },
  {
   "cell_type": "markdown",
   "metadata": {},
   "source": [
    "SOCIB data-products constitute the second level of abstraction build over the data-sources, being the first one the so-called SOCIB data-platforms."
   ]
  },
  {
   "cell_type": "markdown",
   "metadata": {},
   "source": [
    "<h3>WHICH ENDPOINT DO I USE TO EXPLORE SOCIB DATA-PRODUCTS?</h3> "
   ]
  },
  {
   "cell_type": "markdown",
   "metadata": {},
   "source": [
    "As we already saw in [Quick start](../tips/quick_start.ipynb) there is an ENDPOINT that allows users to dive into all the data-products (groups of one or more SOCIB deployments sharing same deployemnt context):"
   ]
  },
  {
   "cell_type": "code",
   "execution_count": 5,
   "metadata": {
    "collapsed": false
   },
   "outputs": [
    {
     "name": "stdout",
     "output_type": "stream",
     "text": [
      "Requested url: http://api.socib.es/data-products/\n",
      "A total of 172 data-products offered\n"
     ]
    }
   ],
   "source": [
    "end_point = '/data-products/'\n",
    "request = requests.get('%s%s' % (api_url, end_point), headers=headers)\n",
    "response = json.loads(request.text)\n",
    "\n",
    "print('Requested url: '+'%s%s' % (api_url, end_point))\n",
    "print(\"A total of %s data-products offered\"%(response['count']))"
   ]
  },
  {
   "cell_type": "markdown",
   "metadata": {},
   "source": [
    "<h3>HOW DOES IT WORKS?</h3> "
   ]
  },
  {
   "cell_type": "markdown",
   "metadata": {},
   "source": [
    "Regarding the data-products, the API resembles a catalogue that someone can read-trough; with a number of pages to turn and, as content of such pages, a number of data-products:"
   ]
  },
  {
   "cell_type": "code",
   "execution_count": 6,
   "metadata": {
    "collapsed": false
   },
   "outputs": [
    {
     "name": "stdout",
     "output_type": "stream",
     "text": [
      "Catalogue total number of pages: 22\n"
     ]
    }
   ],
   "source": [
    "print('Catalogue total number of pages: '+str((response['count']/len(response['results']))+1))"
   ]
  },
  {
   "cell_type": "code",
   "execution_count": 7,
   "metadata": {
    "collapsed": false
   },
   "outputs": [
    {
     "name": "stdout",
     "output_type": "stream",
     "text": [
      "Number of data-products per page: 8\n"
     ]
    }
   ],
   "source": [
    "print('Number of data-products per page: '+str(len(response['results'])))"
   ]
  },
  {
   "cell_type": "markdown",
   "metadata": {},
   "source": [
    "<h3>OVERVIEW OF A GIVEN DATA-PRODUCT - <span> PRODUCTS'S METADATA </span></h3>"
   ]
  },
  {
   "cell_type": "markdown",
   "metadata": {},
   "source": [
    "Imagine you are on page 2 of the data-product catalogue:"
   ]
  },
  {
   "cell_type": "code",
   "execution_count": 8,
   "metadata": {
    "collapsed": false
   },
   "outputs": [
    {
     "name": "stdout",
     "output_type": "stream",
     "text": [
      "Requested url: http://api.socib.es/data-products/?page=2\n",
      "Next url: http://api.socib.es/data-products/?page=3\n",
      "Previous url: http://api.socib.es/data-products/\n"
     ]
    }
   ],
   "source": [
    "end_point = '/data-products/?page=2'\n",
    "request = requests.get('%s%s' % (api_url, end_point), headers=headers)\n",
    "response = json.loads(request.text)\n",
    "print('Requested url: '+'%s%s' % (api_url, end_point))\n",
    "print('Next url: '+response['next'])\n",
    "print('Previous url: '+response['previous'])"
   ]
  },
  {
   "cell_type": "markdown",
   "metadata": {},
   "source": [
    "Each data-product (stored as <b>'results'</b> in the response of the above query), is uniquely identified by 3 mandatory properties: <i>id, name and description</i> plus an optional one, <i>info</i>.<br>\n",
    "Let's have a look to the metadata of one of the data-products:"
   ]
  },
  {
   "cell_type": "code",
   "execution_count": 9,
   "metadata": {
    "collapsed": false
   },
   "outputs": [
    {
     "data": {
      "text/html": [
       "<table border=\"1\"><tr><th>info</th><td>None</td></tr><tr><th>description</th><td>Data produced in the platform Buoy CanalDeIbiza. It's compound by: Conductivity and Temperature Recorder, Current profiler, Currentmeter, Multiparameter probe, Status, Temperature Recorder, Waves recorder, Weather Station data</td></tr><tr><th>name</th><td>Buoy CanalDeIbiza data</td></tr><tr><th>id</th><td>buoy-canaldeibiza</td></tr></table>"
      ],
      "text/plain": [
       "<IPython.core.display.HTML object>"
      ]
     },
     "execution_count": 9,
     "metadata": {},
     "output_type": "execute_result"
    }
   ],
   "source": [
    "targeted_data_product = response['results'][0]#i.e data-product number 0 of the above page\n",
    "metadata = {k:v for k, v in targeted_data_product.items()} \n",
    "HTML(json2html.convert(json=metadata))"
   ]
  },
  {
   "cell_type": "markdown",
   "metadata": {},
   "source": [
    "<h3>DETAILED VIEW OF A GIVEN DATA-PRODUCT - <span>SHORCUT TO A KNOWN PRODUCT</span></h3>"
   ]
  },
  {
   "cell_type": "markdown",
   "metadata": {},
   "source": [
    "We have found and explored the above data-product by targeting an specific page number and position on this page, but this whole searching process can be skipped onwards by preserving its name: "
   ]
  },
  {
   "cell_type": "code",
   "execution_count": 10,
   "metadata": {
    "collapsed": false
   },
   "outputs": [
    {
     "name": "stdout",
     "output_type": "stream",
     "text": [
      "Requested url: http://api.socib.es/data-products/buoy-canaldeibiza. Be aware of the name.\n"
     ]
    }
   ],
   "source": [
    "end_point = '/data-products/'+targeted_data_product['id']\n",
    "request = requests.get('%s%s' % (api_url, end_point), headers=headers)\n",
    "response = json.loads(request.text)\n",
    "print('Requested url: '+'%s%s. Be aware of the name.' % (api_url, end_point))"
   ]
  },
  {
   "cell_type": "code",
   "execution_count": 11,
   "metadata": {
    "collapsed": false
   },
   "outputs": [
    {
     "data": {
      "text/html": [
       "<table border=\"1\"><tr><th>info</th><td>None</td></tr><tr><th>sources</th><td>27</td></tr><tr><th>description</th><td>Data produced in the platform Buoy CanalDeIbiza. It's compound by: Conductivity and Temperature Recorder, Current profiler, Currentmeter, Multiparameter probe, Status, Temperature Recorder, Waves recorder, Weather Station data</td></tr><tr><th>name</th><td>Buoy CanalDeIbiza data</td></tr><tr><th>id</th><td>buoy-canaldeibiza</td></tr></table>"
      ],
      "text/plain": [
       "<IPython.core.display.HTML object>"
      ]
     },
     "execution_count": 11,
     "metadata": {},
     "output_type": "execute_result"
    }
   ],
   "source": [
    "metadata = {k:v for k, v in response.items() if k != 'sources'} #skipping data-sources overview\n",
    "for k,v in response.items():\n",
    "    if k == 'sources':\n",
    "        metadata[k] = len(v)\n",
    "HTML(json2html.convert(json=metadata))"
   ]
  },
  {
   "cell_type": "markdown",
   "metadata": {},
   "source": [
    "For the detailed view, the data-sources (see number above) composing the product are retourned."
   ]
  },
  {
   "cell_type": "markdown",
   "metadata": {},
   "source": [
    "<h3>WHAT ELSE?</h3>"
   ]
  },
  {
   "cell_type": "markdown",
   "metadata": {},
   "source": [
    "<ul>\n",
    "<li><b>SEARCHING FOR CERTAIN DATA-PRODUCT</b><br><br>If you want to retrieve SOCIB data-products matching certain criteria please have a look at the [Example 11](searching_for_certain_data_products.ipynb) ('Searching for certain data-poducts'), where it is explained how to set different searching criteria over the generic /data-product/ ENDPOINT to filter the available data-products accordingly.</li>\n",
    "<br>\n",
    "<li><b>REQUESTING DATA-PRODUCT'S FILES</b> <br><br> If you want to know more about how to access a given data-product's data please have a look at the [Example 12](requesting_a_data_product_files.ipynb) ('Accessing the data of a data-product'), where it is explained how to request a data-product's files via its data-sources</li>\n",
    "</ul>"
   ]
  }
 ],
 "metadata": {
  "kernelspec": {
   "display_name": "Python [Root]",
   "language": "python",
   "name": "Python [Root]"
  },
  "language_info": {
   "codemirror_mode": {
    "name": "ipython",
    "version": 2
   },
   "file_extension": ".py",
   "mimetype": "text/x-python",
   "name": "python",
   "nbconvert_exporter": "python",
   "pygments_lexer": "ipython2",
   "version": "2.7.12"
  }
 },
 "nbformat": 4,
 "nbformat_minor": 1
}

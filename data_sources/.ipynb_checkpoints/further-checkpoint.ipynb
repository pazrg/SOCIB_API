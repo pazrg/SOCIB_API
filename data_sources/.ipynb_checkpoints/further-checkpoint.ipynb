{
 "cells": [
  {
   "cell_type": "code",
   "execution_count": null,
   "metadata": {
    "collapsed": true
   },
   "outputs": [],
   "source": [
    "deployment_ids = []\n",
    "a = ''\n",
    "page = 1\n",
    "while a != None:\n",
    "    request = requests.get('%s%s?%s&%s' % (api_url, end_point,params_concatenation,'page='+str(page)), headers=headers)\n",
    "    response = json.loads(request.text)\n",
    "    for deployment in response['results']:\n",
    "        print('Data-source with id %s' %(deployment['id']))\n",
    "        deployment_ids.append(deployment['id'])\n",
    "    page = page +1\n",
    "    a = response['next']"
   ]
  },
  {
   "cell_type": "code",
   "execution_count": null,
   "metadata": {
    "collapsed": true
   },
   "outputs": [],
   "source": [
    "If you want to know more about any of them then you can ask specifically for each one as follow:"
   ]
  },
  {
   "cell_type": "code",
   "execution_count": null,
   "metadata": {
    "collapsed": true
   },
   "outputs": [],
   "source": [
    "for id_numb in deployment_ids:\n",
    "    request = requests.get('%s%s%s/' % (api_url, end_point, id_numb), headers=headers)\n",
    "    print('%s%s%s/' % (api_url, end_point, id_numb))\n",
    "    response = json.loads(request.text)\n",
    "    print('Deployment with id %s:'%(id_numb))\n",
    "    print('   - is %s'%(response['status']))\n",
    "    print('   - covered the time period %s/%s:'%(response['initial_datetime'], response['end_datetime']))\n",
    "    print('   - last updated back in %s'%(response['update_datetime']))\n",
    "    print('   - is composed by %s netCDFs'%(len(response['entries'])))\n",
    "    print('   - is attached to a %s called %s'%(response['platform']['type']['name'],response['platform']['name']))\n",
    "    print('   - includes a %s named %s'%(response['instrument']['type']['name'],response['instrument']['name']))\n",
    "    print('   - provides %s data'%(response['data_type']))\n",
    "    print(' ')"
   ]
  },
  {
   "cell_type": "code",
   "execution_count": null,
   "metadata": {
    "collapsed": true
   },
   "outputs": [],
   "source": [
    "Furthermore you can access the data by completing the url adding /data/:"
   ]
  },
  {
   "cell_type": "code",
   "execution_count": null,
   "metadata": {
    "collapsed": true
   },
   "outputs": [],
   "source": [
    "for id_numb in deployment_ids:\n",
    "    request = requests.get('%s%s%s/data/' % (api_url, end_point, id_numb), headers=headers)\n",
    "    print('%s%s%s/' % (api_url, end_point, id_numb))\n",
    "    response = json.loads(request.text)\n",
    "    for proc_level in response.keys():\n",
    "        for feature in response[proc_level]['features']:\n",
    "            print(feature['feature_type'])\n",
    "            print(feature['coordinates'].keys())\n",
    "            print(feature['variables'].keys())\n",
    "            for var in feature['variables'].keys():\n",
    "                print(var+' expressed as :')\n",
    "                print('   '+','.join(feature['variables'][var].keys()))\n",
    "    print(' ')"
   ]
  }
 ],
 "metadata": {
  "kernelspec": {
   "display_name": "Python [Root]",
   "language": "python",
   "name": "Python [Root]"
  },
  "language_info": {
   "codemirror_mode": {
    "name": "ipython",
    "version": 2
   },
   "file_extension": ".py",
   "mimetype": "text/x-python",
   "name": "python",
   "nbconvert_exporter": "python",
   "pygments_lexer": "ipython2",
   "version": "2.7.12"
  }
 },
 "nbformat": 4,
 "nbformat_minor": 0
}

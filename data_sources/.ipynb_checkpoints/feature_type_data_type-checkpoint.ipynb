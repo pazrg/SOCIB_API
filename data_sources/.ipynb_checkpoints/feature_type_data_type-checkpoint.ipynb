{
 "cells": [
  {
   "cell_type": "code",
   "execution_count": 2,
   "metadata": {
    "collapsed": true
   },
   "outputs": [],
   "source": [
    "import requests\n",
    "import json\n",
    "from random import randint\n",
    "import math\n",
    "import pandas as pd\n",
    "from IPython.display import display, HTML, JSON\n",
    "import matplotlib.pyplot as plt\n",
    "import numpy as np\n",
    "from mpl_toolkits.basemap import Basemap\n",
    "import datetime\n",
    "import shapely\n",
    "from shapely.geometry import box\n",
    "from matplotlib.patches import Polygon\n",
    "from matplotlib import colors\n",
    "from mpl_toolkits.mplot3d import Axes3D\n",
    "from json2html import *\n",
    "from IPython.display import HTML, display\n",
    "%matplotlib inline"
   ]
  },
  {
   "cell_type": "code",
   "execution_count": 85,
   "metadata": {
    "collapsed": true
   },
   "outputs": [],
   "source": [
    "def get_features(data_reponse, targeted_deployment_id):\n",
    "    for key in data_reponse.keys():\n",
    "        level = data_reponse[key]\n",
    "        features = [feature['feature_type'] for feature in level['features']]\n",
    "        if len(features)==1:\n",
    "            return {'ok': [len(features), features, targeted_deployment_id]}\n",
    "        else:\n",
    "            return {'outlier': [len(features), features, targeted_deployment_id]}"
   ]
  },
  {
   "cell_type": "code",
   "execution_count": 86,
   "metadata": {
    "collapsed": true
   },
   "outputs": [],
   "source": [
    "api_key = 'ad2b2674568a4928ace841492298aba7' #write you SOCIB api_key\n",
    "api_url = 'http://api.socib.es'\n",
    "headers = {\n",
    "    'accept': 'application/vnd.socib+json',\n",
    "    'api_key': api_key,\n",
    "}"
   ]
  },
  {
   "cell_type": "code",
   "execution_count": 121,
   "metadata": {
    "collapsed": true
   },
   "outputs": [],
   "source": [
    "broken_pages = []\n",
    "broken_datasets = []\n",
    "broken_dataset_data = []\n",
    "features_ok = []\n",
    "features_outliers = []\n",
    "page = 1\n",
    "next_page = 0"
   ]
  },
  {
   "cell_type": "code",
   "execution_count": 122,
   "metadata": {
    "collapsed": false
   },
   "outputs": [],
   "source": [
    "while next_page != None:\n",
    "    end_point = '/data-sources/'\n",
    "    url_addons = '?page=%s'%(page)\n",
    "    request = requests.get('%s%s%s' % (api_url, end_point,url_addons), headers=headers)\n",
    "    response = json.loads(request.text)\n",
    "    try:\n",
    "        next_page = response['next']\n",
    "        for targeted_deployment in response['results']:\n",
    "            try:\n",
    "                end_point_plus_aux = '/data-sources/'+targeted_deployment['id']+'/data/'\n",
    "                request = requests.get('%s%s' % (api_url, end_point_plus_aux), headers=headers)\n",
    "                response_deployment = json.loads(request.text)\n",
    "                features_repsonse = get_features(response_deployment, '%s%s' % (api_url, end_point_plus_aux))\n",
    "                if 'ok' in features_repsonse.keys():\n",
    "                    features_ok.append(features_repsonse)\n",
    "                else:\n",
    "                    features_outliers.append(features_repsonse)\n",
    "            except:\n",
    "                broken_datasets.append('%s%s' % (api_url, end_point_plus_aux))\n",
    "    except:\n",
    "        broken_pages.append('%s%s%s' % (api_url, end_point,url_addons))\n",
    "    page = page +1"
   ]
  },
  {
   "cell_type": "code",
   "execution_count": 126,
   "metadata": {
    "collapsed": false
   },
   "outputs": [
    {
     "name": "stdout",
     "output_type": "stream",
     "text": [
      "broken pages: 0\n",
      "broken dataset: 131\n",
      "features_regular: 492\n",
      "features_outliers: 202\n",
      "disctinct_features_outliers: 121\n"
     ]
    }
   ],
   "source": [
    "print('broken pages: '+str(len(broken_pages)))\n",
    "print('broken dataset: '+str(len(broken_datasets)))\n",
    "print('features_regular: '+str(len(features_ok)))\n",
    "print('features_outliers: '+str(len(features_outliers)))\n",
    "print('disctinct_features_outliers: '+str(len([feature  for feature in features_outliers if all(x==feature['outlier'][1][0] for x in feature['outlier'][1]) != True])))"
   ]
  },
  {
   "cell_type": "code",
   "execution_count": 124,
   "metadata": {
    "collapsed": false
   },
   "outputs": [],
   "source": [
    "writer = pd.ExcelWriter('api.xlsx')\n",
    "df1 = pd.DataFrame(broken_pages)\n",
    "df2 = pd.DataFrame(broken_datasets)\n",
    "df3 = pd.DataFrame({'total':  item['outlier'][0],'disctinct': 'False' if all(x==item['outlier'][1][0] for x in item['outlier'][1]) else 'True','names': ','.join(item['outlier'][1]), 'source': item['outlier'][2]} for item in features_outliers)\n",
    "df3.to_excel(writer,'OUTLIERS')\n",
    "df1.to_excel(writer,'PAGE_ERRORS')\n",
    "df2.to_excel(writer,'DATASET_ERRORS')\n",
    "writer.save()"
   ]
  }
 ],
 "metadata": {
  "kernelspec": {
   "display_name": "Python [Root]",
   "language": "python",
   "name": "Python [Root]"
  },
  "language_info": {
   "codemirror_mode": {
    "name": "ipython",
    "version": 2
   },
   "file_extension": ".py",
   "mimetype": "text/x-python",
   "name": "python",
   "nbconvert_exporter": "python",
   "pygments_lexer": "ipython2",
   "version": "2.7.12"
  }
 },
 "nbformat": 4,
 "nbformat_minor": 0
}

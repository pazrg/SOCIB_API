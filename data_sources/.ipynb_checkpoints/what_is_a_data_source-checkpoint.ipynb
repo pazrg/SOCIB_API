{
 "cells": [
  {
   "cell_type": "markdown",
   "metadata": {
    "collapsed": true
   },
   "source": [
    "<h3> HANDY PYTHON PACKAGES </h3>"
   ]
  },
  {
   "cell_type": "code",
   "execution_count": 148,
   "metadata": {
    "collapsed": true
   },
   "outputs": [],
   "source": [
    "import requests\n",
    "import json\n",
    "from random import randint\n",
    "import math\n",
    "import pandas as pd\n",
    "from IPython.display import display, HTML\n",
    "import matplotlib.pyplot as plt\n",
    "import numpy as np\n",
    "from mpl_toolkits.basemap import Basemap\n",
    "from matplotlib.patches import Polygon\n",
    "%matplotlib inline"
   ]
  },
  {
   "cell_type": "markdown",
   "metadata": {},
   "source": [
    "<H3> PREREQUISITES</H3>"
   ]
  },
  {
   "cell_type": "code",
   "execution_count": 1,
   "metadata": {
    "collapsed": true
   },
   "outputs": [],
   "source": [
    "api_key = '' #write you SOCIB api_key\n",
    "api_url = 'http://api.socib.es'\n",
    "headers = {\n",
    "    'accept': 'application/vnd.socib+json',\n",
    "    'api_key': api_key,\n",
    "}"
   ]
  },
  {
   "cell_type": "markdown",
   "metadata": {},
   "source": [
    "<h3> WHAT ARE EXACTLY DATA-SOURCES? </h3>"
   ]
  },
  {
   "cell_type": "markdown",
   "metadata": {},
   "source": [
    "SOCIB Data-sources represents the so-called <i>deployments</i>. A deployment is an instrument&platform enssemble deployed (placed or released) to retrieve data from the ocean. During the time period this combo is active, the data measured by it is said to belong to the same deployment (it all shares features inherited from the intrument&platform enssemble that produce it) and therefore grouped together. This way, deployments have stand-out as the basic unit of organization for oceanographic data and SOCIB archiving reflects this policy."
   ]
  },
  {
   "cell_type": "markdown",
   "metadata": {},
   "source": [
    "As we already saw in [Quick start](https://github.com/pazrg/SOCIB_API/blob/master/tips/quick_start.ipynb) there is an ENDPOINT that allows users to dive into all the data-sources (deployments) that SOCIB has ever performed:"
   ]
  },
  {
   "cell_type": "code",
   "execution_count": 4,
   "metadata": {
    "collapsed": false
   },
   "outputs": [
    {
     "name": "stdout",
     "output_type": "stream",
     "text": [
      "Requested url: http://api.socib.es/data-sources/\n",
      "SOCIB has performed so far a total of 661 deployments\n"
     ]
    }
   ],
   "source": [
    "end_point = '/data-sources/'\n",
    "request = requests.get('%s%s' % (api_url, end_point), headers=headers)\n",
    "response = json.loads(request.text)\n",
    "\n",
    "print('Requested url: '+'%s%s' % (api_url, end_point))\n",
    "print('SOCIB has performed so far a total of %s deployments'%(response['count']))"
   ]
  },
  {
   "cell_type": "markdown",
   "metadata": {},
   "source": [
    "<h3> WHAT INFORMATION CONTAINS A GIVEN DATA-SOURCE? </h3>"
   ]
  },
  {
   "cell_type": "markdown",
   "metadata": {},
   "source": [
    "The API resembles a catalogue of deployments that someone can read-trough. On this catalogue, the API list 8 deployments per page. Knowing this, when querying for a random one, you should first find out the page where it is listed and then, access it."
   ]
  },
  {
   "cell_type": "markdown",
   "metadata": {},
   "source": [
    "Let's choose randomly one of the above deployments to have a better look of the information you can find about one: "
   ]
  },
  {
   "cell_type": "code",
   "execution_count": 90,
   "metadata": {
    "collapsed": false
   },
   "outputs": [
    {
     "name": "stdout",
     "output_type": "stream",
     "text": [
      "Deployment number 520 is on page 66 at position 0\n"
     ]
    }
   ],
   "source": [
    "random = randint(0,response['count']-1) #random deployment\n",
    "frac, whole = math.modf(float(random)/8) #there is a pagination of 8 deployments (position 0, 1, 2, 3, 4, 5, 6, 7)\n",
    "page = int(whole) + 1\n",
    "position = int(8 - ((page*8) - random))\n",
    "print('Deployment number %s is on page %s at position %s'%(random,page,position))"
   ]
  },
  {
   "cell_type": "code",
   "execution_count": 98,
   "metadata": {
    "collapsed": false
   },
   "outputs": [
    {
     "name": "stdout",
     "output_type": "stream",
     "text": [
      "Requested url: http://api.socib.es/data-sources/?page=66\n"
     ]
    },
    {
     "data": {
      "text/html": [
       "\n",
       "        <style  type=\"text/css\" >\n",
       "        \n",
       "        \n",
       "        </style>\n",
       "\n",
       "        <table id=\"T_274e1138_10ba_11e8_aae1_64006a8d5c4b\" None>\n",
       "        \n",
       "\n",
       "        <thead>\n",
       "            \n",
       "            <tr>\n",
       "                \n",
       "                \n",
       "                <th class=\"blank level0\" >\n",
       "                  \n",
       "                \n",
       "                \n",
       "                \n",
       "                <th class=\"col_heading level0 col0\" colspan=1>\n",
       "                  deployment 2989e9531c\n",
       "                \n",
       "                \n",
       "            </tr>\n",
       "            \n",
       "        </thead>\n",
       "        <tbody>\n",
       "            \n",
       "            <tr>\n",
       "                \n",
       "                \n",
       "                <th id=\"T_274e1138_10ba_11e8_aae1_64006a8d5c4b\"\n",
       "                 class=\"row_heading level0 row0\" rowspan=1>\n",
       "                    status\n",
       "                \n",
       "                \n",
       "                \n",
       "                <td id=\"T_274e1138_10ba_11e8_aae1_64006a8d5c4brow0_col0\"\n",
       "                 class=\"data row0 col0\" >\n",
       "                    completed\n",
       "                \n",
       "                \n",
       "            </tr>\n",
       "            \n",
       "            <tr>\n",
       "                \n",
       "                \n",
       "                <th id=\"T_274e1138_10ba_11e8_aae1_64006a8d5c4b\"\n",
       "                 class=\"row_heading level0 row1\" rowspan=1>\n",
       "                    description\n",
       "                \n",
       "                \n",
       "                \n",
       "                <td id=\"T_274e1138_10ba_11e8_aae1_64006a8d5c4brow1_col0\"\n",
       "                 class=\"data row1 col0\" >\n",
       "                    Surface drifter observational data\n",
       "                \n",
       "                \n",
       "            </tr>\n",
       "            \n",
       "            <tr>\n",
       "                \n",
       "                \n",
       "                <th id=\"T_274e1138_10ba_11e8_aae1_64006a8d5c4b\"\n",
       "                 class=\"row_heading level0 row2\" rowspan=1>\n",
       "                    data_type\n",
       "                \n",
       "                \n",
       "                \n",
       "                <td id=\"T_274e1138_10ba_11e8_aae1_64006a8d5c4brow2_col0\"\n",
       "                 class=\"data row2 col0\" >\n",
       "                    Trajectory\n",
       "                \n",
       "                \n",
       "            </tr>\n",
       "            \n",
       "            <tr>\n",
       "                \n",
       "                \n",
       "                <th id=\"T_274e1138_10ba_11e8_aae1_64006a8d5c4b\"\n",
       "                 class=\"row_heading level0 row3\" rowspan=1>\n",
       "                    instrument\n",
       "                \n",
       "                \n",
       "                \n",
       "                <td id=\"T_274e1138_10ba_11e8_aae1_64006a8d5c4brow3_col0\"\n",
       "                 class=\"data row3 col0\" >\n",
       "                    {u'type': {u'type': u'Drifter', u'name': u'Surface drifter'}, u'id': 272, u'name': u'IME-MD03001'}\n",
       "                \n",
       "                \n",
       "            </tr>\n",
       "            \n",
       "            <tr>\n",
       "                \n",
       "                \n",
       "                <th id=\"T_274e1138_10ba_11e8_aae1_64006a8d5c4b\"\n",
       "                 class=\"row_heading level0 row4\" rowspan=1>\n",
       "                    processing_levels\n",
       "                \n",
       "                \n",
       "                \n",
       "                <td id=\"T_274e1138_10ba_11e8_aae1_64006a8d5c4brow4_col0\"\n",
       "                 class=\"data row4 col0\" >\n",
       "                    {u'L0': {u'variables': [u'number_of_satellites', u'sea_water_temperature', u'voltage', u'quality_gsm_service', u'gps_positionig_mode']}, u'L1': {u'variables': [u'gps_positionig_mode', u'number_of_satellites', u'voltage', u'sea_water_temperature', u'platform_speed_wrt_ground', u'quality_gsm_service']}}\n",
       "                \n",
       "                \n",
       "            </tr>\n",
       "            \n",
       "            <tr>\n",
       "                \n",
       "                \n",
       "                <th id=\"T_274e1138_10ba_11e8_aae1_64006a8d5c4b\"\n",
       "                 class=\"row_heading level0 row5\" rowspan=1>\n",
       "                    platform\n",
       "                \n",
       "                \n",
       "                \n",
       "                <td id=\"T_274e1138_10ba_11e8_aae1_64006a8d5c4brow5_col0\"\n",
       "                 class=\"data row5 col0\" >\n",
       "                    {u'type': {u'type': u'Drifter', u'name': u'Surface drifter'}, u'id': 118, u'name': u'Drifter_MD001'}\n",
       "                \n",
       "                \n",
       "            </tr>\n",
       "            \n",
       "            <tr>\n",
       "                \n",
       "                \n",
       "                <th id=\"T_274e1138_10ba_11e8_aae1_64006a8d5c4b\"\n",
       "                 class=\"row_heading level0 row6\" rowspan=1>\n",
       "                    update_datetime\n",
       "                \n",
       "                \n",
       "                \n",
       "                <td id=\"T_274e1138_10ba_11e8_aae1_64006a8d5c4brow6_col0\"\n",
       "                 class=\"data row6 col0\" >\n",
       "                    2012-09-22T03:00:19Z\n",
       "                \n",
       "                \n",
       "            </tr>\n",
       "            \n",
       "            <tr>\n",
       "                \n",
       "                \n",
       "                <th id=\"T_274e1138_10ba_11e8_aae1_64006a8d5c4b\"\n",
       "                 class=\"row_heading level0 row7\" rowspan=1>\n",
       "                    initial_datetime\n",
       "                \n",
       "                \n",
       "                \n",
       "                <td id=\"T_274e1138_10ba_11e8_aae1_64006a8d5c4brow7_col0\"\n",
       "                 class=\"data row7 col0\" >\n",
       "                    2012-09-19T13:16:46Z\n",
       "                \n",
       "                \n",
       "            </tr>\n",
       "            \n",
       "            <tr>\n",
       "                \n",
       "                \n",
       "                <th id=\"T_274e1138_10ba_11e8_aae1_64006a8d5c4b\"\n",
       "                 class=\"row_heading level0 row8\" rowspan=1>\n",
       "                    end_datetime\n",
       "                \n",
       "                \n",
       "                \n",
       "                <td id=\"T_274e1138_10ba_11e8_aae1_64006a8d5c4brow8_col0\"\n",
       "                 class=\"data row8 col0\" >\n",
       "                    2012-09-22T02:49:47Z\n",
       "                \n",
       "                \n",
       "            </tr>\n",
       "            \n",
       "            <tr>\n",
       "                \n",
       "                \n",
       "                <th id=\"T_274e1138_10ba_11e8_aae1_64006a8d5c4b\"\n",
       "                 class=\"row_heading level0 row9\" rowspan=1>\n",
       "                    entries\n",
       "                \n",
       "                \n",
       "                \n",
       "                <td id=\"T_274e1138_10ba_11e8_aae1_64006a8d5c4brow9_col0\"\n",
       "                 class=\"data row9 col0\" >\n",
       "                    [{u'name': u'data from 2012/09/19 to 2012/09/22', u'initial_datetime': u'2012/09/19', u'processing_level': u'L1', u'services': {u'http_file': {u'url': u'http://thredds.socib.es/thredds/fileServer/drifter/surface_drifter/drifter_md001-ime_md03001/L1/2012/dep0001_drifter-md001_ime-md03001_L1_2012-09-19.nc'}, u'opendap': {u'url': u'http://thredds.socib.es/thredds/dodsC/drifter/surface_drifter/drifter_md001-ime_md03001/L1/2012/dep0001_drifter-md001_ime-md03001_L1_2012-09-19.nc'}, u'thredds_catalog': {u'url': u'http://thredds.socib.es/thredds/catalog/drifter/surface_drifter/drifter_md001-ime_md03001/L1/2012/catalog.html?dataset=drifter/surface_drifter/drifter_md001-ime_md03001/L1/2012/dep0001_drifter-md001_ime-md03001_L1_2012-09-19.nc'}}, u'viewers': {u'jwebchart': {u'url': u'http://www.socib.es/jwebchart/?file=http://thredds.socib.es/thredds/dodsC/drifter/surface_drifter/drifter_md001-ime_md03001/L1/2012/dep0001_drifter-md001_ime-md03001_L1_2012-09-19.nc'}, u'dapp': {u'url': u'http://apps.socib.es/dapp/?deployments=104'}}, u'end_datetime': u'2012/09/22'}, {u'name': u'data from 2012/09/19 to 2012/09/22', u'initial_datetime': u'2012/09/19', u'processing_level': u'L0', u'services': {u'http_file': {u'url': u'http://thredds.socib.es/thredds/fileServer/drifter/surface_drifter/drifter_md001-ime_md03001/L0/2012/dep0001_drifter-md001_ime-md03001_L0_2012-09-19.nc'}, u'opendap': {u'url': u'http://thredds.socib.es/thredds/dodsC/drifter/surface_drifter/drifter_md001-ime_md03001/L0/2012/dep0001_drifter-md001_ime-md03001_L0_2012-09-19.nc'}, u'thredds_catalog': {u'url': u'http://thredds.socib.es/thredds/catalog/drifter/surface_drifter/drifter_md001-ime_md03001/L0/2012/catalog.html?dataset=drifter/surface_drifter/drifter_md001-ime_md03001/L0/2012/dep0001_drifter-md001_ime-md03001_L0_2012-09-19.nc'}}, u'viewers': {u'jwebchart': {u'url': u'http://www.socib.es/jwebchart/?file=http://thredds.socib.es/thredds/dodsC/drifter/surface_drifter/drifter_md001-ime_md03001/L0/2012/dep0001_drifter-md001_ime-md03001_L0_2012-09-19.nc'}, u'dapp': {u'url': u'http://apps.socib.es/dapp/?deployments=104'}}, u'end_datetime': u'2012/09/22'}]\n",
       "                \n",
       "                \n",
       "            </tr>\n",
       "            \n",
       "            <tr>\n",
       "                \n",
       "                \n",
       "                <th id=\"T_274e1138_10ba_11e8_aae1_64006a8d5c4b\"\n",
       "                 class=\"row_heading level0 row10\" rowspan=1>\n",
       "                    coverage_bounding_box\n",
       "                \n",
       "                \n",
       "                \n",
       "                <td id=\"T_274e1138_10ba_11e8_aae1_64006a8d5c4brow10_col0\"\n",
       "                 class=\"data row10 col0\" >\n",
       "                    {u'type': u'Polygon', u'coordinates': [[[0.91619503, 38.8206], [0.91619503, 39.05854], [1.086, 39.05854], [1.086, 38.8206], [0.91619503, 38.8206]]]}\n",
       "                \n",
       "                \n",
       "            </tr>\n",
       "            \n",
       "            <tr>\n",
       "                \n",
       "                \n",
       "                <th id=\"T_274e1138_10ba_11e8_aae1_64006a8d5c4b\"\n",
       "                 class=\"row_heading level0 row11\" rowspan=1>\n",
       "                    type\n",
       "                \n",
       "                \n",
       "                \n",
       "                <td id=\"T_274e1138_10ba_11e8_aae1_64006a8d5c4brow11_col0\"\n",
       "                 class=\"data row11 col0\" >\n",
       "                    observational\n",
       "                \n",
       "                \n",
       "            </tr>\n",
       "            \n",
       "            <tr>\n",
       "                \n",
       "                \n",
       "                <th id=\"T_274e1138_10ba_11e8_aae1_64006a8d5c4b\"\n",
       "                 class=\"row_heading level0 row12\" rowspan=1>\n",
       "                    id\n",
       "                \n",
       "                \n",
       "                \n",
       "                <td id=\"T_274e1138_10ba_11e8_aae1_64006a8d5c4brow12_col0\"\n",
       "                 class=\"data row12 col0\" >\n",
       "                    2989e9531c\n",
       "                \n",
       "                \n",
       "            </tr>\n",
       "            \n",
       "            <tr>\n",
       "                \n",
       "                \n",
       "                <th id=\"T_274e1138_10ba_11e8_aae1_64006a8d5c4b\"\n",
       "                 class=\"row_heading level0 row13\" rowspan=1>\n",
       "                    name\n",
       "                \n",
       "                \n",
       "                \n",
       "                <td id=\"T_274e1138_10ba_11e8_aae1_64006a8d5c4brow13_col0\"\n",
       "                 class=\"data row13 col0\" >\n",
       "                    Surface drifter observational data\n",
       "                \n",
       "                \n",
       "            </tr>\n",
       "            \n",
       "        </tbody>\n",
       "        </table>\n",
       "        "
      ],
      "text/plain": [
       "<pandas.formats.style.Styler at 0x7f6e6f495e10>"
      ]
     },
     "execution_count": 98,
     "metadata": {},
     "output_type": "execute_result"
    }
   ],
   "source": [
    "#requesting the page where the deployment is\n",
    "end_point = '/data-sources/'\n",
    "page_request = requests.get('%s%s?%s' % (api_url, end_point, 'page='+str(page)), headers=headers)\n",
    "page_response = json.loads(page_request.text)\n",
    "print('Requested url: '+'%s%s?%s' % (api_url, end_point, 'page='+str(page)))\n",
    "\n",
    "#accessing the targeted deployment:\n",
    "targeted_deployment = page_response['results'][position]\n",
    "\n",
    "#info of the targeted deployment  into table\n",
    "df = pd.DataFrame(targeted_deployment.values(), index=targeted_deployment.keys(), columns=['deployment '+targeted_deployment['id']])\n",
    "df.style"
   ]
  },
  {
   "cell_type": "markdown",
   "metadata": {},
   "source": [
    "According to the above API response, there are a number of properties that distinguish every deployment as unique. Let's have a deeper look to the more encripted ones."
   ]
  },
  {
   "cell_type": "markdown",
   "metadata": {},
   "source": [
    "<H3>WHAT IS A DATA-SOURCE MADE OF?</H3>"
   ]
  },
  {
   "cell_type": "markdown",
   "metadata": {},
   "source": [
    "As stated before, a data-source refers a given deployment, which is an instrument&platform enssemble deployed (placed or released) to retrieve data from the ocean. Let's see have a deeper look to this enssemble:"
   ]
  },
  {
   "cell_type": "code",
   "execution_count": 97,
   "metadata": {
    "collapsed": false
   },
   "outputs": [
    {
     "data": {
      "text/html": [
       "\n",
       "        <style  type=\"text/css\" >\n",
       "        \n",
       "        \n",
       "        </style>\n",
       "\n",
       "        <table id=\"T_09406f7e_10ba_11e8_aae1_64006a8d5c4b\" None>\n",
       "        \n",
       "\n",
       "        <thead>\n",
       "            \n",
       "            <tr>\n",
       "                \n",
       "                \n",
       "                <th class=\"blank level0\" >\n",
       "                  \n",
       "                \n",
       "                \n",
       "                \n",
       "                <th class=\"col_heading level0 col0\" colspan=1>\n",
       "                  2989e9531c\n",
       "                \n",
       "                \n",
       "            </tr>\n",
       "            \n",
       "        </thead>\n",
       "        <tbody>\n",
       "            \n",
       "            <tr>\n",
       "                \n",
       "                \n",
       "                <th id=\"T_09406f7e_10ba_11e8_aae1_64006a8d5c4b\"\n",
       "                 class=\"row_heading level0 row0\" rowspan=1>\n",
       "                    type\n",
       "                \n",
       "                \n",
       "                \n",
       "                <td id=\"T_09406f7e_10ba_11e8_aae1_64006a8d5c4brow0_col0\"\n",
       "                 class=\"data row0 col0\" >\n",
       "                    Drifter\n",
       "                \n",
       "                \n",
       "            </tr>\n",
       "            \n",
       "            <tr>\n",
       "                \n",
       "                \n",
       "                <th id=\"T_09406f7e_10ba_11e8_aae1_64006a8d5c4b\"\n",
       "                 class=\"row_heading level0 row1\" rowspan=1>\n",
       "                    name\n",
       "                \n",
       "                \n",
       "                \n",
       "                <td id=\"T_09406f7e_10ba_11e8_aae1_64006a8d5c4brow1_col0\"\n",
       "                 class=\"data row1 col0\" >\n",
       "                    Surface drifter\n",
       "                \n",
       "                \n",
       "            </tr>\n",
       "            \n",
       "        </tbody>\n",
       "        </table>\n",
       "        "
      ],
      "text/plain": [
       "<pandas.formats.style.Styler at 0x7f6e6f68f290>"
      ]
     },
     "execution_count": 97,
     "metadata": {},
     "output_type": "execute_result"
    }
   ],
   "source": [
    "carriying_platform = targeted_deployment['platform']\n",
    "df = pd.DataFrame(carriying_platform.values(), index=carriying_platform.keys(), columns=['deployment '+targeted_deployment['id']])\n",
    "df.style"
   ]
  },
  {
   "cell_type": "code",
   "execution_count": null,
   "metadata": {
    "collapsed": true
   },
   "outputs": [],
   "source": [
    "attached_instruments = targeted_deployment['instrument']\n",
    "df = pd.DataFrame(attached_instruments.values(), index=attached_instruments.keys(), columns=['deployment '+attached_instruments['id']])\n",
    "df.style"
   ]
  },
  {
   "cell_type": "markdown",
   "metadata": {},
   "source": [
    "<H3>WHICH AREA DID IT COVERED?</H3>"
   ]
  },
  {
   "cell_type": "markdown",
   "metadata": {},
   "source": [
    "Depending on the nature of the platform composing the deployment enssemble (instrument & platfrom) a data-source can be mobile or fixed, and depending on this, the resulting deployment's coverage will be reduced to a point (case of moorings) or to a wider polygon (case of drifters, profilers, vessels etc). Let's have a look to the present one:"
   ]
  },
  {
   "cell_type": "code",
   "execution_count": 173,
   "metadata": {
    "collapsed": false
   },
   "outputs": [
    {
     "data": {
      "text/plain": [
       "<matplotlib.patches.Polygon at 0x7f6e5c77c590>"
      ]
     },
     "execution_count": 173,
     "metadata": {},
     "output_type": "execute_result"
    },
    {
     "data": {
      "image/png": "[encoded data removed]",
      "text/plain": [
       "<matplotlib.figure.Figure at 0x7f6e4fd8abd0>"
      ]
     },
     "metadata": {},
     "output_type": "display_data"
    }
   ],
   "source": [
    "fig = plt.figure(figsize=(20,16))\n",
    "m = Basemap(projection='merc', llcrnrlat=30., urcrnrlat=46.,llcrnrlon=-10, urcrnrlon=40., lat_ts=38., resolution='l')\n",
    "m.fillcontinents(zorder=2)\n",
    "m.drawparallels(np.arange(-90.,91.,2.), labels=[1,0,0,0], linewidth=0.5, zorder=1, fontsize=20)\n",
    "m.drawmeridians(np.arange(-180.,181.,3.), labels=[0,0,1,0], linewidth=0.5, zorder=1, fontsize=20)\n",
    "lats = [item[1] for item in targeted_deployment['coverage_bounding_box']['coordinates'][0]]\n",
    "lons = [item[0] for item in targeted_deployment['coverage_bounding_box']['coordinates'][0]]\n",
    "x,y = m( lons, lats )\n",
    "xy = zip(x,y)\n",
    "poly = Polygon( xy, facecolor='white', edgecolor='blue', alpha=0.4, linewidth=2,zorder=3)\n",
    "plt.gca().add_patch(poly)"
   ]
  },
  {
   "cell_type": "code",
   "execution_count": 174,
   "metadata": {
    "collapsed": false
   },
   "outputs": [
    {
     "data": {
      "text/plain": [
       "<matplotlib.patches.Polygon at 0x7f6e5c774210>"
      ]
     },
     "execution_count": 174,
     "metadata": {},
     "output_type": "execute_result"
    },
    {
     "data": {
      "image/png": "[encoded data removed]",
      "text/plain": [
       "<matplotlib.figure.Figure at 0x7f6e5cb93290>"
      ]
     },
     "metadata": {},
     "output_type": "display_data"
    }
   ],
   "source": [
    "fig = plt.figure(figsize=(20,16))\n",
    "m = Basemap(projection='merc', llcrnrlat=min(lats)-5, urcrnrlat=max(lats)+5,llcrnrlon=min(lons)-5, urcrnrlon=max(lons)+5, lat_ts=38., resolution='l')\n",
    "m.fillcontinents(zorder=2)\n",
    "m.drawparallels(np.arange(-90.,91.,2.), labels=[1,0,0,0], linewidth=0.5, zorder=1, fontsize=20)\n",
    "m.drawmeridians(np.arange(-180.,181.,3.), labels=[0,0,1,0], linewidth=0.5, zorder=1, fontsize=20)\n",
    "x,y = m( lons, lats )\n",
    "xy = zip(x,y)\n",
    "poly = Polygon( xy, facecolor='white', edgecolor='blue', alpha=0.4, linewidth=2,zorder=3)\n",
    "plt.gca().add_patch(poly)"
   ]
  },
  {
   "cell_type": "markdown",
   "metadata": {},
   "source": [
    "<H3>WHICH VARIABLES HAVE BEEN MEASURED BY A DATA-SOURCE?</H3>"
   ]
  },
  {
   "cell_type": "markdown",
   "metadata": {},
   "source": [
    "SOCIB can potentially serve the data collected by a data-source (deployment) in 3 different ways according to the level of processing they have experienced:\n",
    "<ul>\n",
    "<li>L0: raw data </li>\n",
    "<li>L1: data with quality flags</li>\n",
    "<li>L2: derived product</li>\n",
    "</ul>\n",
    "\n",
    "Let's check which variables are available in each of the processing levels for the above deplooyment:"
   ]
  },
  {
   "cell_type": "code",
   "execution_count": 106,
   "metadata": {
    "collapsed": false
   },
   "outputs": [
    {
     "data": {
      "text/html": [
       "\n",
       "        <style  type=\"text/css\" >\n",
       "        \n",
       "        \n",
       "        </style>\n",
       "\n",
       "        <table id=\"T_f834a8a4_10bd_11e8_aae1_64006a8d5c4b\" None>\n",
       "        \n",
       "\n",
       "        <thead>\n",
       "            \n",
       "            <tr>\n",
       "                \n",
       "                \n",
       "                <th class=\"blank level0\" >\n",
       "                  \n",
       "                \n",
       "                \n",
       "                \n",
       "                <th class=\"col_heading level0 col0\" colspan=1>\n",
       "                  deployment 2989e9531c\n",
       "                \n",
       "                \n",
       "            </tr>\n",
       "            \n",
       "        </thead>\n",
       "        <tbody>\n",
       "            \n",
       "            <tr>\n",
       "                \n",
       "                \n",
       "                <th id=\"T_f834a8a4_10bd_11e8_aae1_64006a8d5c4b\"\n",
       "                 class=\"row_heading level0 row0\" rowspan=1>\n",
       "                    L0\n",
       "                \n",
       "                \n",
       "                \n",
       "                <td id=\"T_f834a8a4_10bd_11e8_aae1_64006a8d5c4brow0_col0\"\n",
       "                 class=\"data row0 col0\" >\n",
       "                    number_of_satellites , sea_water_temperature , voltage , quality_gsm_service , gps_positionig_mode\n",
       "                \n",
       "                \n",
       "            </tr>\n",
       "            \n",
       "            <tr>\n",
       "                \n",
       "                \n",
       "                <th id=\"T_f834a8a4_10bd_11e8_aae1_64006a8d5c4b\"\n",
       "                 class=\"row_heading level0 row1\" rowspan=1>\n",
       "                    L1\n",
       "                \n",
       "                \n",
       "                \n",
       "                <td id=\"T_f834a8a4_10bd_11e8_aae1_64006a8d5c4brow1_col0\"\n",
       "                 class=\"data row1 col0\" >\n",
       "                    gps_positionig_mode , number_of_satellites , voltage , sea_water_temperature , platform_speed_wrt_ground , quality_gsm_service\n",
       "                \n",
       "                \n",
       "            </tr>\n",
       "            \n",
       "        </tbody>\n",
       "        </table>\n",
       "        "
      ],
      "text/plain": [
       "<pandas.formats.style.Styler at 0x7f6e690d0310>"
      ]
     },
     "execution_count": 106,
     "metadata": {},
     "output_type": "execute_result"
    }
   ],
   "source": [
    "variables = []\n",
    "processing_levels = targeted_deployment['processing_levels']\n",
    "for processing_level in processing_levels.keys():\n",
    "    variables.append(\" , \".join(processing_levels[processing_level]['variables']))\n",
    "\n",
    "df = pd.DataFrame(values, index=processing_levels.keys(), columns=['deployment '+targeted_deployment['id']])\n",
    "df.style"
   ]
  },
  {
   "cell_type": "markdown",
   "metadata": {},
   "source": [
    "<H3>WHERE IS A DATA-SOURCE'S DATA?</H3>"
   ]
  },
  {
   "cell_type": "markdown",
   "metadata": {},
   "source": [
    "As we saw before, the data measured by a deployment is grouped together. This 'grouping' or 'storage' of a given deployment data is represented by a collection of netCDF files in SOCIB archiving. Due to its Open Acess policy, all netCDFs from deployments are distributed by SOCIB THREDDS data servers. These servers maps the available netCDFs and provide several services for it to be downloaded, accessed and viewed. \n",
    "\n",
    "Let's see how many netCDFs produced the present deployment and the available services: "
   ]
  },
  {
   "cell_type": "code",
   "execution_count": 135,
   "metadata": {
    "collapsed": false
   },
   "outputs": [
    {
     "name": "stdout",
     "output_type": "stream",
     "text": [
      "Deployment number 520 produced 2 netCDFs\n"
     ]
    },
    {
     "data": {
      "text/html": [
       "\n",
       "        <style  type=\"text/css\" >\n",
       "        \n",
       "        \n",
       "        </style>\n",
       "\n",
       "        <table id=\"T_76e21502_10c7_11e8_aae1_64006a8d5c4b\" None>\n",
       "        \n",
       "\n",
       "        <thead>\n",
       "            \n",
       "            <tr>\n",
       "                \n",
       "                \n",
       "                <th class=\"blank level0\" >\n",
       "                  \n",
       "                \n",
       "                \n",
       "                \n",
       "                <th class=\"col_heading level0 col0\" colspan=1>\n",
       "                  dep0001_drifter-md001_ime-md03001_L1_2012-09-19.nc\n",
       "                \n",
       "                \n",
       "            </tr>\n",
       "            \n",
       "        </thead>\n",
       "        <tbody>\n",
       "            \n",
       "            <tr>\n",
       "                \n",
       "                \n",
       "                <th id=\"T_76e21502_10c7_11e8_aae1_64006a8d5c4b\"\n",
       "                 class=\"row_heading level0 row0\" rowspan=1>\n",
       "                    name\n",
       "                \n",
       "                \n",
       "                \n",
       "                <td id=\"T_76e21502_10c7_11e8_aae1_64006a8d5c4brow0_col0\"\n",
       "                 class=\"data row0 col0\" >\n",
       "                    data from 2012/09/19 to 2012/09/22\n",
       "                \n",
       "                \n",
       "            </tr>\n",
       "            \n",
       "            <tr>\n",
       "                \n",
       "                \n",
       "                <th id=\"T_76e21502_10c7_11e8_aae1_64006a8d5c4b\"\n",
       "                 class=\"row_heading level0 row1\" rowspan=1>\n",
       "                    initial_datetime\n",
       "                \n",
       "                \n",
       "                \n",
       "                <td id=\"T_76e21502_10c7_11e8_aae1_64006a8d5c4brow1_col0\"\n",
       "                 class=\"data row1 col0\" >\n",
       "                    2012/09/19\n",
       "                \n",
       "                \n",
       "            </tr>\n",
       "            \n",
       "            <tr>\n",
       "                \n",
       "                \n",
       "                <th id=\"T_76e21502_10c7_11e8_aae1_64006a8d5c4b\"\n",
       "                 class=\"row_heading level0 row2\" rowspan=1>\n",
       "                    processing_level\n",
       "                \n",
       "                \n",
       "                \n",
       "                <td id=\"T_76e21502_10c7_11e8_aae1_64006a8d5c4brow2_col0\"\n",
       "                 class=\"data row2 col0\" >\n",
       "                    L1\n",
       "                \n",
       "                \n",
       "            </tr>\n",
       "            \n",
       "            <tr>\n",
       "                \n",
       "                \n",
       "                <th id=\"T_76e21502_10c7_11e8_aae1_64006a8d5c4b\"\n",
       "                 class=\"row_heading level0 row3\" rowspan=1>\n",
       "                    services\n",
       "                \n",
       "                \n",
       "                \n",
       "                <td id=\"T_76e21502_10c7_11e8_aae1_64006a8d5c4brow3_col0\"\n",
       "                 class=\"data row3 col0\" >\n",
       "                    <a href=\"http://thredds.socib.es/thredds/fileServer/drifter/surface_drifter/drifter_md001-ime_md03001/L1/2012/dep0001_drifter-md001_ime-md03001_L1_2012-09-19.nc\" target=\"_blank\">http://thredds.socib.es/thredds/fileServer/drifter/surface_drifter/drifter_md001-ime_md03001/L1/2012/dep0001_drifter-md001_ime-md03001_L1_2012-09-19.nc</a> (http_file)<br><a href=\"http://thredds.socib.es/thredds/dodsC/drifter/surface_drifter/drifter_md001-ime_md03001/L1/2012/dep0001_drifter-md001_ime-md03001_L1_2012-09-19.nc\" target=\"_blank\">http://thredds.socib.es/thredds/dodsC/drifter/surface_drifter/drifter_md001-ime_md03001/L1/2012/dep0001_drifter-md001_ime-md03001_L1_2012-09-19.nc</a> (opendap)<br><a href=\"http://thredds.socib.es/thredds/catalog/drifter/surface_drifter/drifter_md001-ime_md03001/L1/2012/catalog.html?dataset=drifter/surface_drifter/drifter_md001-ime_md03001/L1/2012/dep0001_drifter-md001_ime-md03001_L1_2012-09-19.nc\" target=\"_blank\">http://thredds.socib.es/thredds/catalog/drifter/surface_drifter/drifter_md001-ime_md03001/L1/2012/catalog.html?dataset=drifter/surface_drifter/drifter_md001-ime_md03001/L1/2012/dep0001_drifter-md001_ime-md03001_L1_2012-09-19.nc</a> (thredds_catalog)<br>\n",
       "                \n",
       "                \n",
       "            </tr>\n",
       "            \n",
       "            <tr>\n",
       "                \n",
       "                \n",
       "                <th id=\"T_76e21502_10c7_11e8_aae1_64006a8d5c4b\"\n",
       "                 class=\"row_heading level0 row4\" rowspan=1>\n",
       "                    viewers\n",
       "                \n",
       "                \n",
       "                \n",
       "                <td id=\"T_76e21502_10c7_11e8_aae1_64006a8d5c4brow4_col0\"\n",
       "                 class=\"data row4 col0\" >\n",
       "                    <a href=\"http://www.socib.es/jwebchart/?file=http://thredds.socib.es/thredds/dodsC/drifter/surface_drifter/drifter_md001-ime_md03001/L1/2012/dep0001_drifter-md001_ime-md03001_L1_2012-09-19.nc\" target=\"_blank\">http://www.socib.es/jwebchart/?file=http://thredds.socib.es/thredds/dodsC/drifter/surface_drifter/drifter_md001-ime_md03001/L1/2012/dep0001_drifter-md001_ime-md03001_L1_2012-09-19.nc</a> (jwebchart)<br><a href=\"http://apps.socib.es/dapp/?deployments=104\" target=\"_blank\">http://apps.socib.es/dapp/?deployments=104</a> (dapp)<br>\n",
       "                \n",
       "                \n",
       "            </tr>\n",
       "            \n",
       "            <tr>\n",
       "                \n",
       "                \n",
       "                <th id=\"T_76e21502_10c7_11e8_aae1_64006a8d5c4b\"\n",
       "                 class=\"row_heading level0 row5\" rowspan=1>\n",
       "                    end_datetime\n",
       "                \n",
       "                \n",
       "                \n",
       "                <td id=\"T_76e21502_10c7_11e8_aae1_64006a8d5c4brow5_col0\"\n",
       "                 class=\"data row5 col0\" >\n",
       "                    2012/09/22\n",
       "                \n",
       "                \n",
       "            </tr>\n",
       "            \n",
       "        </tbody>\n",
       "        </table>\n",
       "        "
      ],
      "text/plain": [
       "<pandas.formats.style.Styler at 0x7f6e69048890>"
      ]
     },
     "metadata": {},
     "output_type": "display_data"
    },
    {
     "data": {
      "text/html": [
       "\n",
       "        <style  type=\"text/css\" >\n",
       "        \n",
       "        \n",
       "        </style>\n",
       "\n",
       "        <table id=\"T_76e21503_10c7_11e8_aae1_64006a8d5c4b\" None>\n",
       "        \n",
       "\n",
       "        <thead>\n",
       "            \n",
       "            <tr>\n",
       "                \n",
       "                \n",
       "                <th class=\"blank level0\" >\n",
       "                  \n",
       "                \n",
       "                \n",
       "                \n",
       "                <th class=\"col_heading level0 col0\" colspan=1>\n",
       "                  dep0001_drifter-md001_ime-md03001_L0_2012-09-19.nc\n",
       "                \n",
       "                \n",
       "            </tr>\n",
       "            \n",
       "        </thead>\n",
       "        <tbody>\n",
       "            \n",
       "            <tr>\n",
       "                \n",
       "                \n",
       "                <th id=\"T_76e21503_10c7_11e8_aae1_64006a8d5c4b\"\n",
       "                 class=\"row_heading level0 row0\" rowspan=1>\n",
       "                    name\n",
       "                \n",
       "                \n",
       "                \n",
       "                <td id=\"T_76e21503_10c7_11e8_aae1_64006a8d5c4brow0_col0\"\n",
       "                 class=\"data row0 col0\" >\n",
       "                    data from 2012/09/19 to 2012/09/22\n",
       "                \n",
       "                \n",
       "            </tr>\n",
       "            \n",
       "            <tr>\n",
       "                \n",
       "                \n",
       "                <th id=\"T_76e21503_10c7_11e8_aae1_64006a8d5c4b\"\n",
       "                 class=\"row_heading level0 row1\" rowspan=1>\n",
       "                    initial_datetime\n",
       "                \n",
       "                \n",
       "                \n",
       "                <td id=\"T_76e21503_10c7_11e8_aae1_64006a8d5c4brow1_col0\"\n",
       "                 class=\"data row1 col0\" >\n",
       "                    2012/09/19\n",
       "                \n",
       "                \n",
       "            </tr>\n",
       "            \n",
       "            <tr>\n",
       "                \n",
       "                \n",
       "                <th id=\"T_76e21503_10c7_11e8_aae1_64006a8d5c4b\"\n",
       "                 class=\"row_heading level0 row2\" rowspan=1>\n",
       "                    processing_level\n",
       "                \n",
       "                \n",
       "                \n",
       "                <td id=\"T_76e21503_10c7_11e8_aae1_64006a8d5c4brow2_col0\"\n",
       "                 class=\"data row2 col0\" >\n",
       "                    L0\n",
       "                \n",
       "                \n",
       "            </tr>\n",
       "            \n",
       "            <tr>\n",
       "                \n",
       "                \n",
       "                <th id=\"T_76e21503_10c7_11e8_aae1_64006a8d5c4b\"\n",
       "                 class=\"row_heading level0 row3\" rowspan=1>\n",
       "                    services\n",
       "                \n",
       "                \n",
       "                \n",
       "                <td id=\"T_76e21503_10c7_11e8_aae1_64006a8d5c4brow3_col0\"\n",
       "                 class=\"data row3 col0\" >\n",
       "                    <a href=\"http://thredds.socib.es/thredds/fileServer/drifter/surface_drifter/drifter_md001-ime_md03001/L0/2012/dep0001_drifter-md001_ime-md03001_L0_2012-09-19.nc\" target=\"_blank\">http://thredds.socib.es/thredds/fileServer/drifter/surface_drifter/drifter_md001-ime_md03001/L0/2012/dep0001_drifter-md001_ime-md03001_L0_2012-09-19.nc</a> (http_file)<br><a href=\"http://thredds.socib.es/thredds/dodsC/drifter/surface_drifter/drifter_md001-ime_md03001/L0/2012/dep0001_drifter-md001_ime-md03001_L0_2012-09-19.nc\" target=\"_blank\">http://thredds.socib.es/thredds/dodsC/drifter/surface_drifter/drifter_md001-ime_md03001/L0/2012/dep0001_drifter-md001_ime-md03001_L0_2012-09-19.nc</a> (opendap)<br><a href=\"http://thredds.socib.es/thredds/catalog/drifter/surface_drifter/drifter_md001-ime_md03001/L0/2012/catalog.html?dataset=drifter/surface_drifter/drifter_md001-ime_md03001/L0/2012/dep0001_drifter-md001_ime-md03001_L0_2012-09-19.nc\" target=\"_blank\">http://thredds.socib.es/thredds/catalog/drifter/surface_drifter/drifter_md001-ime_md03001/L0/2012/catalog.html?dataset=drifter/surface_drifter/drifter_md001-ime_md03001/L0/2012/dep0001_drifter-md001_ime-md03001_L0_2012-09-19.nc</a> (thredds_catalog)<br>\n",
       "                \n",
       "                \n",
       "            </tr>\n",
       "            \n",
       "            <tr>\n",
       "                \n",
       "                \n",
       "                <th id=\"T_76e21503_10c7_11e8_aae1_64006a8d5c4b\"\n",
       "                 class=\"row_heading level0 row4\" rowspan=1>\n",
       "                    viewers\n",
       "                \n",
       "                \n",
       "                \n",
       "                <td id=\"T_76e21503_10c7_11e8_aae1_64006a8d5c4brow4_col0\"\n",
       "                 class=\"data row4 col0\" >\n",
       "                    <a href=\"http://www.socib.es/jwebchart/?file=http://thredds.socib.es/thredds/dodsC/drifter/surface_drifter/drifter_md001-ime_md03001/L0/2012/dep0001_drifter-md001_ime-md03001_L0_2012-09-19.nc\" target=\"_blank\">http://www.socib.es/jwebchart/?file=http://thredds.socib.es/thredds/dodsC/drifter/surface_drifter/drifter_md001-ime_md03001/L0/2012/dep0001_drifter-md001_ime-md03001_L0_2012-09-19.nc</a> (jwebchart)<br><a href=\"http://apps.socib.es/dapp/?deployments=104\" target=\"_blank\">http://apps.socib.es/dapp/?deployments=104</a> (dapp)<br>\n",
       "                \n",
       "                \n",
       "            </tr>\n",
       "            \n",
       "            <tr>\n",
       "                \n",
       "                \n",
       "                <th id=\"T_76e21503_10c7_11e8_aae1_64006a8d5c4b\"\n",
       "                 class=\"row_heading level0 row5\" rowspan=1>\n",
       "                    end_datetime\n",
       "                \n",
       "                \n",
       "                \n",
       "                <td id=\"T_76e21503_10c7_11e8_aae1_64006a8d5c4brow5_col0\"\n",
       "                 class=\"data row5 col0\" >\n",
       "                    2012/09/22\n",
       "                \n",
       "                \n",
       "            </tr>\n",
       "            \n",
       "        </tbody>\n",
       "        </table>\n",
       "        "
      ],
      "text/plain": [
       "<pandas.formats.style.Styler at 0x7f6e69048a10>"
      ]
     },
     "metadata": {},
     "output_type": "display_data"
    }
   ],
   "source": [
    "entries = targeted_deployment['entries']\n",
    "print('Deployment number %s produced %s netCDFs'%(random,len(entries)))\n",
    "for netCDF in entries:\n",
    "    values = []\n",
    "    indexes = []\n",
    "    for key in netCDF.keys():\n",
    "        indexes.append(key)\n",
    "        if key == 'services' or key == 'viewers':\n",
    "            val = ''\n",
    "            for item in netCDF[key].keys():\n",
    "                val = val+'<a href=\"'+netCDF[key][item]['url']+'\" target=\"_blank\">'+netCDF[key][item]['url']+'</a> ('+item+')<br>'\n",
    "            values.append(val)\n",
    "        else:\n",
    "            values.append(netCDF[key])\n",
    "            \n",
    "    df = pd.DataFrame(values, index=indexes, columns=[netCDF['services']['http_file']['url'].split('/')[len(entry['services']['http_file']['url'].split('/'))-1]])\n",
    "    display(df.style)"
   ]
  },
  {
   "cell_type": "markdown",
   "metadata": {},
   "source": [
    "<h3>WHAT ELSE?</h3>"
   ]
  },
  {
   "cell_type": "markdown",
   "metadata": {},
   "source": [
    "<ul>\n",
    "<li><b>SELECTION OF A DATA-SOURCE.</b> If you want to find an specific data-source (not a random one), please have a look at the <a href=\"https://github.com/pazrg/SOCIB_API/blob/master/data_sources/selecting_a_data_source.ipynb\" target=\"_blank\">Example 2</a> ('Selecting your data-source'), where it is explained how to set a searching criteria over the generic /data-source/ ENDPOINT to filter the available data-sources according to your needs.</li>\n",
    "<li><b>QUERYING A DATA-SOURCE'S DATA.</b> If you want to know more about how to access a given data-source's data, please have a look at the <a href=\"https://github.com/pazrg/SOCIB_API/blob/master/data_sources/querying_a_data_source_data.ipynb\" target=\"_blank\">Example 3</a> ('Accessing the data of a data-source'), where it is explained how to ask the API for a deployments data.</li>\n",
    "</ul>"
   ]
  }
 ],
 "metadata": {
  "kernelspec": {
   "display_name": "Python [Root]",
   "language": "python",
   "name": "Python [Root]"
  },
  "language_info": {
   "codemirror_mode": {
    "name": "ipython",
    "version": 2
   },
   "file_extension": ".py",
   "mimetype": "text/x-python",
   "name": "python",
   "nbconvert_exporter": "python",
   "pygments_lexer": "ipython2",
   "version": "2.7.12"
  }
 },
 "nbformat": 4,
 "nbformat_minor": 0
}

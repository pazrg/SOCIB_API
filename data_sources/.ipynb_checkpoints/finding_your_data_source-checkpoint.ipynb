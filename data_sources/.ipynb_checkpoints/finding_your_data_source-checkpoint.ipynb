{
 "cells": [
  {
   "cell_type": "markdown",
   "metadata": {
    "collapsed": true
   },
   "source": [
    "<h3> HANDY PYTHON PACKAGES </h3>"
   ]
  },
  {
   "cell_type": "code",
   "execution_count": 3,
   "metadata": {
    "collapsed": true
   },
   "outputs": [],
   "source": [
    "import requests\n",
    "import json"
   ]
  },
  {
   "cell_type": "markdown",
   "metadata": {},
   "source": [
    "<H3> PREREQUISITES</H3>"
   ]
  },
  {
   "cell_type": "code",
   "execution_count": 7,
   "metadata": {
    "collapsed": true
   },
   "outputs": [],
   "source": [
    "api_key = '' #write you SOCIB api_key\n",
    "api_url = 'http://api.socib.es'\n",
    "headers = {\n",
    "    'accept': 'application/vnd.socib+json',\n",
    "    'api_key': api_key,\n",
    "}"
   ]
  },
  {
   "cell_type": "markdown",
   "metadata": {},
   "source": [
    "<h3> DATA-SOURCES ENDPOINT </h3>"
   ]
  },
  {
   "cell_type": "markdown",
   "metadata": {},
   "source": [
    "SOCIB Data-sources represents the so-called <i>deployments</i>. A deployment is an instrument&platform enssemble deployed (placed or released) to retrieve data from the ocean. During the time period this combo is active, the data measured by it is said to belong to the same deployment (it all shares features inherited from the intrument&platform enssemble that produce it) and there so grouped together. This way, deployments have stand-out as the basic unit of organization for oceanographic data and SOCIB archiving reflects this policy."
   ]
  },
  {
   "cell_type": "markdown",
   "metadata": {},
   "source": [
    "As we already saw in [Quick start](https://github.com/pazrg/SOCIB_API/blob/master/tips/quick_start.ipynb) there is an ENDPOINT that allows users to dive into all the data-sources (deployments) that SOCIB has ever performed:"
   ]
  },
  {
   "cell_type": "code",
   "execution_count": 19,
   "metadata": {
    "collapsed": false
   },
   "outputs": [
    {
     "name": "stdout",
     "output_type": "stream",
     "text": [
      "Requested url: http://api.socib.es/data-sources/\n",
      "SOCIB has performed so far a total of 667 deployments\n"
     ]
    }
   ],
   "source": [
    "end_point = '/data-sources/'\n",
    "request = requests.get('%s%s' % (api_url, end_point), headers=headers)\n",
    "response = json.loads(request.text)\n",
    "\n",
    "print('Requested url: '+'%s%s' % (api_url, end_point))\n",
    "print('SOCIB has performed so far a total of %s deployments'%(response['count']))"
   ]
  },
  {
   "cell_type": "markdown",
   "metadata": {},
   "source": [
    "According to the above API response, there are a number of properties that distinguish every deployment as unique. "
   ]
  },
  {
   "cell_type": "code",
   "execution_count": 14,
   "metadata": {
    "collapsed": false
   },
   "outputs": [
    {
     "name": "stdout",
     "output_type": "stream",
     "text": [
      "Each deployment is defined by 14 properties:\n",
      "    status\n",
      "    description\n",
      "    data_type\n",
      "    instrument\n",
      "    available_entries_processing_levels\n",
      "    platform\n",
      "    update_datetime\n",
      "    initial_datetime\n",
      "    end_datetime\n",
      "    entries\n",
      "    coverage_bounding_box\n",
      "    type\n",
      "    id\n",
      "    name\n"
     ]
    }
   ],
   "source": [
    "print('Each deployment is defined by %s properties:' %(len(response['results'][0].keys())))\n",
    "for prop in response['results'][0].keys():\n",
    "    print('    '+prop)"
   ]
  },
  {
   "cell_type": "markdown",
   "metadata": {},
   "source": [
    "These same properties can be accessed also if the deployemnt <i>id</i> is know beforehand by adding such <i>id</i> as an auxiliary ENDPOINT to the generic data-sources:"
   ]
  },
  {
   "cell_type": "code",
   "execution_count": 27,
   "metadata": {
    "collapsed": false
   },
   "outputs": [
    {
     "name": "stdout",
     "output_type": "stream",
     "text": [
      "Requested url: http://api.socib.es/data-sources/068638f928\n",
      "The detailed request for a given deployment gives more defining properties than the generic one:\n",
      "    status\n",
      "    description\n",
      "    data_type\n",
      "    instrument\n",
      "    available_entries_processing_levels\n",
      "    platform\n",
      "    update_datetime\n",
      "    initial_datetime\n",
      "    end_datetime\n",
      "    entries\n",
      "    coverage_bounding_box\n",
      "    type\n",
      "    id\n",
      "    name\n"
     ]
    }
   ],
   "source": [
    "detailed_end_point = '/data-sources/'+response['results'][0]['id'] #first of above\n",
    "detailed_request = requests.get('%s%s' % (api_url, detailed_end_point), headers=headers)\n",
    "detailed_response = json.loads(detailed_request.text)\n",
    "\n",
    "print('Requested url: '+'%s%s' % (api_url, detailed_end_point))\n",
    "print('The detailed request for a given deployment gives more defining properties than the generic one:')\n",
    "for detailed_prop in detailed_response.keys():\n",
    "    print('    '+detailed_prop)"
   ]
  },
  {
   "cell_type": "markdown",
   "metadata": {},
   "source": [
    "<h3> DATA-SOURCES PARAMS</h3>"
   ]
  },
  {
   "cell_type": "markdown",
   "metadata": {},
   "source": [
    "SOCIB API enables users to setup certain conditions to match for deployment filtering so that, from the generic answer, it is possible  to keep only the ones that better suits user needs. These conditions can be built via the so-called PARAMS. PARAMS are additional url elements that allows to filter the initial/bare ENDPOINT answer. These params can be added after a given generic/bare ENDPOINT alone or in combination (more than one):"
   ]
  },
  {
   "cell_type": "code",
   "execution_count": 36,
   "metadata": {
    "collapsed": false
   },
   "outputs": [
    {
     "name": "stdout",
     "output_type": "stream",
     "text": [
      "Requested url: http://api.socib.es/data-sources/?platform_type=Oceanographic%20Buoy\n",
      " \n",
      "SOCIB has performed so far a total of 55 deployments involving Oceanographic Buoy as platform_type\n"
     ]
    }
   ],
   "source": [
    "#one PARAM example\n",
    "end_point = '/data-sources/'\n",
    "PARAM = 'platform_type'\n",
    "PARAM_value = 'Oceanographic Buoy'\n",
    "\n",
    "#request with one PARAM\n",
    "request = requests.get('%s%s?%s=%s' % (api_url, end_point,PARAM,PARAM_value), headers=headers)\n",
    "response = json.loads(request.text)\n",
    "\n",
    "print('Requested url: '+('%s%s?%s=%s' % (api_url, end_point,PARAM,PARAM_value)).replace (\" \",\"%20\"))\n",
    "print(\" \")\n",
    "print('SOCIB has performed so far a total of %s deployments involving %s as %s'%(response['count'], PARAM_value, PARAM))"
   ]
  },
  {
   "cell_type": "code",
   "execution_count": 42,
   "metadata": {
    "collapsed": false
   },
   "outputs": [
    {
     "name": "stdout",
     "output_type": "stream",
     "text": [
      "Requested url: http://api.socib.es/data-sources/?platform_type=Oceanographic%20Buoy&initial_datetime=2017-02-01T00:00:00&end_datetime=2017-02-28T00:00:00&standard_variable=sea_water_temperature\n",
      " \n",
      "SOCIB has performed so far a total of 8 deployments involving:\n",
      "   Oceanographic Buoy as platform_type\n",
      "   2017-02-01T00:00:00 as initial_datetime\n",
      "   2017-02-28T00:00:00 as end_datetime\n",
      "   sea_water_temperature as standard_variable\n"
     ]
    }
   ],
   "source": [
    "#several PARAM examples\n",
    "end_point = '/data-sources/'\n",
    "PARAMS = ['platform_type','initial_datetime','end_datetime','standard_variable']\n",
    "PARAMS_values = ['Oceanographic Buoy','2017-02-01T00:00:00','2017-02-28T00:00:00','sea_water_temperature']\n",
    "\n",
    "#concatenation of PARAMS\n",
    "params_concatenation = ''\n",
    "for param, value in zip(PARAMS,PARAMS_values):\n",
    "    if PARAMS.index(param) != len(PARAMS)-1:\n",
    "        params_concatenation = params_concatenation + param+'='+value+'&'\n",
    "    else:\n",
    "        params_concatenation = params_concatenation + param+'='+value\n",
    "\n",
    "#request with more than one PARAM\n",
    "request = requests.get('%s%s?%s' % (api_url, end_point,params_concatenation), headers=headers)\n",
    "response = json.loads(request.text)\n",
    "\n",
    "print('Requested url: '+('%s%s?%s' % (api_url, end_point,params_concatenation)).replace (\" \",\"%20\"))\n",
    "print(' ')\n",
    "print('SOCIB has performed so far a total of %s deployments involving:' %(response['count']))\n",
    "for param, value in zip(PARAMS,PARAMS_values):\n",
    "    print('   '+value +' as '+ param)"
   ]
  },
  {
   "cell_type": "markdown",
   "metadata": {},
   "source": [
    "<h3> ALL DATA-SOURCE PARAMS</h3>"
   ]
  },
  {
   "cell_type": "markdown",
   "metadata": {},
   "source": [
    "There is a total of 11 PARAMS you can play with in order to filter the /data-source/ ENDPOINT initial answer. All of them can be found next:\n",
    "<ul><li>initial_datetime</li> \n",
    "    <ul>UTC time as YYY-MM-DDTHH:MM:SS</ul>\n",
    "</ul>\n",
    "<ul><li>end_datetime</li> \n",
    "    <ul>UTC time as YYY-MM-DDTHH:MM:SS</ul>\n",
    "</ul>\n",
    "<ul><li>standard_variable</li> \n",
    "    <ul>Any value of those returned by <a href=\"https://github.com/pazrg/SOCIB_API/blob/master/tips/quick_start.ipynb\" target=\"_blank\">/standard-variables/ ENDPOINT</a></ul>\n",
    "</ul>\n",
    "<ul><li>bbox</li>\n",
    "    <ul>Area where a given deployment has been operating since deployed (released or placed). Area should be specify as a 4 comma-separated float numbers following the structure: min. lat., max. lat., min. lon., max. lon</ul>\n",
    "</ul>\n",
    "<ul><li>platform_type</li>\n",
    "    <ul>Any value of those returned by <a href=\"https://github.com/pazrg/SOCIB_API/blob/master/tips/quick_start.ipynb\" target=\"_blank\">/platform-types/ ENDPOINT</a></ul>\n",
    "</ul>\n",
    "<ul><li>instrument_type</li>\n",
    "    <ul>Any value of those returned by <a href=\"https://github.com/pazrg/SOCIB_API/blob/master/tips/quick_start.ipynb\" target=\"_blank\">/instrument-types/ ENDPOINT</a></ul>\n",
    "</ul>\n",
    "<ul><li>data_type</li>\n",
    "    <ul>Any value of those returned by <a href=\"https://github.com/pazrg/SOCIB_API/blob/master/tips/quick_start.ipynb\" target=\"_blank\">/data-types/ ENDPOINT</a></ul>\n",
    "</ul>\n",
    "<ul><li>status</li>\n",
    "    <ul>Two posibilities: active or completed</ul>\n",
    "</ul>\n",
    "<ul><li>platform_name</li> \n",
    "    <ul>Any string within a deployment name</ul>\n",
    "</ul>\n",
    "<ul><li>description</li>\n",
    "    <ul>Any string within a deployment description</ul>\n",
    "</ul>\n",
    "<ul><li>page</li>\n",
    "    <ul>A pagination of 8 is currently set-up when retrieveing the list of data-sources. When <i>count</i> is more than 8 you should loop over the different pages (1 as default) in order to access all deployments details. </ul>\n",
    "</ul>"
   ]
  }
 ],
 "metadata": {
  "kernelspec": {
   "display_name": "Python [Root]",
   "language": "python",
   "name": "Python [Root]"
  },
  "language_info": {
   "codemirror_mode": {
    "name": "ipython",
    "version": 2
   },
   "file_extension": ".py",
   "mimetype": "text/x-python",
   "name": "python",
   "nbconvert_exporter": "python",
   "pygments_lexer": "ipython2",
   "version": "2.7.12"
  }
 },
 "nbformat": 4,
 "nbformat_minor": 0
}

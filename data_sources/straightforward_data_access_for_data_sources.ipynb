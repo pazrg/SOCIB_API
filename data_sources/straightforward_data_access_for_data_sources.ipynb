{
 "cells": [
  {
   "cell_type": "markdown",
   "metadata": {},
   "source": [
    "<h3> HANDY PYTHON PACKAGES </h3>"
   ]
  },
  {
   "cell_type": "code",
   "execution_count": 86,
   "metadata": {
    "collapsed": true
   },
   "outputs": [],
   "source": [
    "import requests\n",
    "import json\n",
    "import urllib\n",
    "import os\n",
    "import matplotlib.pyplot as plt\n",
    "from random import randint\n",
    "%matplotlib inline"
   ]
  },
  {
   "cell_type": "markdown",
   "metadata": {},
   "source": [
    "<H3> PREREQUISITES</H3>"
   ]
  },
  {
   "cell_type": "code",
   "execution_count": 65,
   "metadata": {
    "collapsed": false
   },
   "outputs": [],
   "source": [
    "api_key = '' #write you SOCIB api_key\n",
    "api_url = 'http://api.socib.es'\n",
    "headers = {\n",
    "    'accept': 'application/vnd.socib+json; version=latest',#'application/vnd.socib+json', #application/vnd.socib+json; version=latest\n",
    "    'api_key': api_key,\n",
    "}"
   ]
  },
  {
   "cell_type": "markdown",
   "metadata": {},
   "source": [
    "<h3> DATA-SOURCE/ID/DATA: STRAIGHT FORWARD DATA ACCESS</h3>"
   ]
  },
  {
   "cell_type": "markdown",
   "metadata": {},
   "source": [
    "As we already know from:\n",
    "<ul>\n",
    "    <li>[Quick start](https://github.com/pazrg/SOCIB_API/blob/master/tips/quick_start.ipynb)</li>\n",
    "    <li>[finding_your_data_source](https://github.com/pazrg/SOCIB_API/blob/master/data_sources/finding_your_data_source.ipynb)</li>\n",
    "    <li>[working_with_data_sources_netcdfs](https://github.com/pazrg/SOCIB_API/blob/master/working_with_data_sources_netcdfs.ipynb)</li>\n",
    "</ul>\n",
    "\n",
    "SOCIB API provides:\n",
    "<ul>\n",
    "    <li>information about the available deployments and netCDFs by the /DATA-SOURCES/ ENDPOINT</li>\n",
    "    <li>detailed information about a given deployment by the /DATA-SOURCES/ID/</li>\n",
    "    <li>filtering capabilities over the retourned ones by playing with the so-called PARAMS</li>\n",
    "</ul>\n",
    "\n",
    "Apart from that, SOCIB API also facilitates a quick and agnostic (not need to deal with netCDF format) access to the deployment data. This is accomplished by a new ENDPOINT: /DATA-SOURCES/ID/DATA/. <br>\n",
    "Let's dive into this new ENPOINT."
   ]
  },
  {
   "cell_type": "markdown",
   "metadata": {},
   "source": [
    "Making a simple query to the /DATA-SOURCE/ ENDPOINT: "
   ]
  },
  {
   "cell_type": "code",
   "execution_count": 87,
   "metadata": {
    "collapsed": false
   },
   "outputs": [
    {
     "name": "stdout",
     "output_type": "stream",
     "text": [
      "Requested url: http://api.socib.es/data-sources/\n",
      "SOCIB has performed so far a total of 667 deployments\n"
     ]
    }
   ],
   "source": [
    "end_point = '/data-sources/'\n",
    "request = requests.get('%s%s' % (api_url, end_point), headers=headers)\n",
    "response = json.loads(request.text)\n",
    "\n",
    "print('Requested url: '+'%s%s' % (api_url, end_point))\n",
    "print('SOCIB has performed so far a total of %s deployments'%(response['count']))"
   ]
  },
  {
   "cell_type": "markdown",
   "metadata": {},
   "source": [
    "Choosing randomly one of the above deployments and asking for its data:"
   ]
  },
  {
   "cell_type": "code",
   "execution_count": 88,
   "metadata": {
    "collapsed": false
   },
   "outputs": [
    {
     "name": "stdout",
     "output_type": "stream",
     "text": [
      "441\n"
     ]
    }
   ],
   "source": [
    "random = randint(0,response['count']-1) #random deployment\n",
    "print(random)"
   ]
  },
  {
   "cell_type": "code",
   "execution_count": 89,
   "metadata": {
    "collapsed": false
   },
   "outputs": [
    {
     "name": "stdout",
     "output_type": "stream",
     "text": [
      "Deployment number 441 is on page 55 at position 0:\n"
     ]
    }
   ],
   "source": [
    "page = random/8\n",
    "item = (random - (random/8)*8)-1\n",
    "print('Deployment number %s is on page %s at position %s:'%(random,page,item))"
   ]
  },
  {
   "cell_type": "code",
   "execution_count": 90,
   "metadata": {
    "collapsed": false
   },
   "outputs": [
    {
     "name": "stdout",
     "output_type": "stream",
     "text": [
      "- Data-source with id 6d903d486b is composed by 2 netCDF files:\n",
      "   dep0004_buoy-canaldeibiza_scb-met010_L1_2017-02.nc\n",
      "   dep0004_buoy-canaldeibiza_scb-met010_L0_2017-02.nc\n",
      " \n"
     ]
    }
   ],
   "source": [
    "#requesting the page where the deployment is\n",
    "end_point = '/data-sources/'\n",
    "random_request = requests.get('%s%s?%s' % (api_url, end_point, 'page='+str(page)), headers=headers)\n",
    "random_response = json.loads(random_request.text)\n",
    "\n",
    "#selecting inside this page the desired deployment\n",
    "random_deployment = random_response['results'][item] \n",
    "\n",
    "print('- Data-source with id %s is composed by %s netCDF files:' %(deployment['id'], len(deployment['entries'])))\n",
    "for netCDF in deployment['entries']:\n",
    "    netCDF_name = netCDF['services']['opendap']['url'].split('/')[10]\n",
    "    print('   '+ netCDF_name)\n",
    "print(' ')"
   ]
  },
  {
   "cell_type": "markdown",
   "metadata": {},
   "source": [
    "If we want to know the data contained within an specific deployment, we can either rely on THREDDS (see <a href=\"working_with_data_sources_netcdfs\" targter=\"_blank\">working_with_data_sources_netcdfs</a>) or asking directly the API for it by providing the id of such deployment. From example, from the above query whe know data-sources id:"
   ]
  },
  {
   "cell_type": "code",
   "execution_count": 102,
   "metadata": {
    "collapsed": false
   },
   "outputs": [
    {
     "name": "stdout",
     "output_type": "stream",
     "text": [
      "http://api.socib.es/data-sources/6d903d486b/\n",
      "\n",
      "Deployment with id7af052fbbb\n",
      "--------------------------------------------\n",
      "** For processing level L0 contains 1 data type: :\n",
      "   - trajectory with coordinates latitude,depth,longitude,time and variables:\n",
      "        sea_water_temperature expressed as: WTEM\n",
      "        __NONE__ expressed as: VOLT,LOCCLASS,DROGUE\n",
      "** For processing level L1 contains 1 data type: :\n",
      "   - trajectory with coordinates latitude,depth,longitude,time and variables:\n",
      "        sea_water_temperature expressed as: WTEM\n",
      "        platform_speed_wrt_ground expressed as: PSPEED\n",
      "        __NONE__ expressed as: VOLT,LOCCLASS,DROGUE\n",
      " \n"
     ]
    }
   ],
   "source": [
    "request = requests.get('%s%s%s/data/' % (api_url, end_point, random_deployment['id']), headers=headers)\n",
    "print('%s%s%s/' % (api_url, end_point, id_numb))\n",
    "response = json.loads(request.text)\n",
    "print('')\n",
    "print('Deployment with id' +random_deployment['id'])\n",
    "print('--------------------------------------------')\n",
    "for proc_level in response.keys():\n",
    "    print('** For processing level %s contains %s data type: :'%(proc_level, len(response[proc_level]['features'])))\n",
    "    for feature in response[proc_level]['features']:\n",
    "        print('   - '+feature['feature_type']+ ' with coordinates %s and variables:'% (','.join(feature['coordinates'].keys())))\n",
    "        for var in feature['variables']:\n",
    "            print('        '+ var+' expressed as: '+','.join(feature['variables'][var].keys()))\n",
    "print(' ')"
   ]
  },
  {
   "cell_type": "markdown",
   "metadata": {},
   "source": [
    "This way, variables (here stated by its standard names) are associated to specific parameters so that it is easier to know which parameter(s) represent(s) such variable. All those parameters that are still under study (are they practical? are they redundant?) at SOCIB are grouped temporary under a <i>fake</i> standard name: _NONE_. "
   ]
  },
  {
   "cell_type": "markdown",
   "metadata": {},
   "source": [
    "Then in case you want to access any of the variables data, you just have to access the <i>data</i> key of a given parameter. <br> Let's see just the first 10 values of some:"
   ]
  },
  {
   "cell_type": "code",
   "execution_count": 111,
   "metadata": {
    "collapsed": false
   },
   "outputs": [
    {
     "name": "stdout",
     "output_type": "stream",
     "text": [
      "** For processing level L0 contains 1 data type: :\n",
      "   - trajectory with coordinates latitude,depth,longitude,time and variables:\n",
      "        sea_water_temperature expressed as:\n",
      "        WTEM :\n",
      "[28.755, 28.712, 28.712, 28.669, 28.583, 28.54, 28.583, 28.669, 28.626, 28.54]\n",
      "\n",
      "        __NONE__ expressed as:\n",
      "        VOLT :\n",
      "[10.8, 10.8, 10.8, 10.8, 10.8, 10.8, 10.8, 10.8, 10.8, 10.8]\n",
      "        LOCCLASS :\n",
      "[4.0, 4.0, 4.0, 4.0, 4.0, 4.0, 4.0, 4.0, 4.0, 4.0]\n",
      "        DROGUE :\n",
      "[7.0, 6.0, 6.0, 6.0, 6.0, 6.0, 6.0, 6.0, 6.0, 6.0]\n",
      "\n",
      "** For processing level L1 contains 1 data type: :\n",
      "   - trajectory with coordinates latitude,depth,longitude,time and variables:\n",
      "        sea_water_temperature expressed as:\n",
      "        WTEM :\n",
      "[28.755, 28.712, 28.712, 28.669, 28.583, 28.54, 28.583, 28.669, 28.626, 28.54]\n",
      "\n",
      "        platform_speed_wrt_ground expressed as:\n",
      "        PSPEED :\n",
      "[0.1951, 0.1649, 0.2033, 0.2333, 0.2673, 0.2919, 0.3542, 0.3903, 0.4015, 0.4189]\n",
      "\n",
      "        __NONE__ expressed as:\n",
      "        VOLT :\n",
      "[10.8, 10.8, 10.8, 10.8, 10.8, 10.8, 10.8, 10.8, 10.8, 10.8]\n",
      "        LOCCLASS :\n",
      "[4.0, 4.0, 4.0, 4.0, 4.0, 4.0, 4.0, 4.0, 4.0, 4.0]\n",
      "        DROGUE :\n",
      "[7.0, 6.0, 6.0, 6.0, 6.0, 6.0, 6.0, 6.0, 6.0, 6.0]\n",
      "\n",
      " \n"
     ]
    }
   ],
   "source": [
    "for proc_level in response.keys():\n",
    "    print('** For processing level %s contains %s data type: :'%(proc_level, len(response[proc_level]['features'])))\n",
    "    for feature in response[proc_level]['features']:\n",
    "        print('   - '+feature['feature_type']+ ' with coordinates %s and variables:'% (','.join(feature['coordinates'].keys())))\n",
    "        for var in feature['variables']:\n",
    "            print('        '+ var+' expressed as:')\n",
    "            for param in feature['variables'][var].keys():\n",
    "                print('        '+param+' :')\n",
    "                print(feature['variables'][var][param]['data'][0:10])\n",
    "            print('')\n",
    "print(' ')"
   ]
  }
 ],
 "metadata": {
  "kernelspec": {
   "display_name": "Python [Root]",
   "language": "python",
   "name": "Python [Root]"
  },
  "language_info": {
   "codemirror_mode": {
    "name": "ipython",
    "version": 2
   },
   "file_extension": ".py",
   "mimetype": "text/x-python",
   "name": "python",
   "nbconvert_exporter": "python",
   "pygments_lexer": "ipython2",
   "version": "2.7.12"
  }
 },
 "nbformat": 4,
 "nbformat_minor": 0
}

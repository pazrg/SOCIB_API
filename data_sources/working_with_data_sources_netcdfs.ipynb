{
 "cells": [
  {
   "cell_type": "markdown",
   "metadata": {},
   "source": [
    "<h3> HANDY PYTHON PACKAGES </h3>"
   ]
  },
  {
   "cell_type": "code",
   "execution_count": 136,
   "metadata": {
    "collapsed": true
   },
   "outputs": [],
   "source": [
    "import requests\n",
    "import json\n",
    "import urllib\n",
    "import os\n",
    "from IPython.display import display, HTML\n",
    "from random import randint\n",
    "%matplotlib inline"
   ]
  },
  {
   "cell_type": "markdown",
   "metadata": {},
   "source": [
    "<H3> PREREQUISITES</H3>"
   ]
  },
  {
   "cell_type": "code",
   "execution_count": 131,
   "metadata": {
    "collapsed": true
   },
   "outputs": [],
   "source": [
    "api_key = '' #write you SOCIB api_key\n",
    "api_url = 'http://api.socib.es'\n",
    "headers = {\n",
    "    'accept': 'application/vnd.socib+json',\n",
    "    'api_key': api_key,\n",
    "}"
   ]
  },
  {
   "cell_type": "markdown",
   "metadata": {},
   "source": [
    "<h3> DATA-SOURCE & THREDDS SERVICES </h3>"
   ]
  },
  {
   "cell_type": "markdown",
   "metadata": {},
   "source": [
    "SOCIB Data-sources represents the so-called <i>deployments</i>. A deployment is an instrument&platform enssemble deployed (placed or released) to retrieve data from the ocean. During the time period this combo is active, the data measured by it is said to belong to the same deployment (it all shares features inherited from the intrument&platform enssemble that produce it) and there so grouped together in a number of netCDFs files. This way, deployments have stand-out as the basic unit of organization for oceanographic data and SOCIB archiving reflects this policy. "
   ]
  },
  {
   "cell_type": "markdown",
   "metadata": {},
   "source": [
    "As we already saw in [Quick start](https://github.com/pazrg/SOCIB_API/blob/master/tips/quick_start.ipynb) and [finding_your_data_source](https://github.com/pazrg/SOCIB_API/blob/master/data_sources/finding_your_data_source.ipynb), SOCIB API provides information about the available deployments by the /data-sources/ ENDPOINT:"
   ]
  },
  {
   "cell_type": "code",
   "execution_count": 183,
   "metadata": {
    "collapsed": false
   },
   "outputs": [
    {
     "name": "stdout",
     "output_type": "stream",
     "text": [
      "Requested url: http://api.socib.es/data-sources/\n",
      "SOCIB has performed so far a total of 667 deployments\n"
     ]
    }
   ],
   "source": [
    "end_point = '/data-sources/'\n",
    "request = requests.get('%s%s' % (api_url, end_point), headers=headers)\n",
    "response = json.loads(request.text)\n",
    "\n",
    "print('Requested url: '+'%s%s' % (api_url, end_point))\n",
    "print('SOCIB has performed so far a total of %s deployments'%(response['count']))"
   ]
  },
  {
   "cell_type": "markdown",
   "metadata": {},
   "source": [
    "This ENDPOINT answer allows to know also about how many netCDFs compose every deployment by having a look to   every data-sources <i>entries</i>. Choosing randomly one of the above deployments:"
   ]
  },
  {
   "cell_type": "code",
   "execution_count": 187,
   "metadata": {
    "collapsed": false
   },
   "outputs": [
    {
     "name": "stdout",
     "output_type": "stream",
     "text": [
      "278\n"
     ]
    }
   ],
   "source": [
    "random = randint(0,response['count']-1) #random deployment\n",
    "print(random)"
   ]
  },
  {
   "cell_type": "markdown",
   "metadata": {},
   "source": [
    "Knowing that the total catalogue of deployments contains a maximun of 8 deployments by page, we should first ask for the right page:"
   ]
  },
  {
   "cell_type": "code",
   "execution_count": 190,
   "metadata": {
    "collapsed": false
   },
   "outputs": [
    {
     "name": "stdout",
     "output_type": "stream",
     "text": [
      "Deployment number 278 is on page 34 at position 5:\n"
     ]
    }
   ],
   "source": [
    "page = random/8\n",
    "item = (random - (random/8)*8)-1\n",
    "print('Deployment number %s is on page %s at position %s:'%(random,page,item))"
   ]
  },
  {
   "cell_type": "markdown",
   "metadata": {},
   "source": [
    "We can proceed to request the random deployment and having  alook to how many netCDF files compose it:"
   ]
  },
  {
   "cell_type": "code",
   "execution_count": 192,
   "metadata": {
    "collapsed": false
   },
   "outputs": [
    {
     "name": "stdout",
     "output_type": "stream",
     "text": [
      "- Data-source with id 7b300c06da is composed by 102 netCDF files:\n",
      "   dep0001_station-sarapita_scb-baro007_L1_2017-10.nc\n",
      "   dep0001_station-sarapita_scb-baro007_L1_2017-11.nc\n",
      "   dep0001_station-sarapita_scb-baro007_L0_2017-11.nc\n",
      "   dep0001_station-sarapita_scb-baro007_L0_2017-10.nc\n",
      "   dep0001_station-sarapita_scb-baro007_L1_2017-09.nc\n",
      "   dep0001_station-sarapita_scb-baro007_L0_2017-09.nc\n",
      "   dep0001_station-sarapita_scb-baro007_L1_2017-08.nc\n",
      "   dep0001_station-sarapita_scb-baro007_L1_2017-07.nc\n",
      "   dep0001_station-sarapita_scb-baro007_L1_2017-06.nc\n",
      "   dep0001_station-sarapita_scb-baro007_L1_2017-05.nc\n",
      "   dep0001_station-sarapita_scb-baro007_L1_2017-04.nc\n",
      "   dep0001_station-sarapita_scb-baro007_L1_2017-03.nc\n",
      "   dep0001_station-sarapita_scb-baro007_L1_2017-02.nc\n",
      "   dep0001_station-sarapita_scb-baro007_L1_2017-01.nc\n",
      "   dep0001_station-sarapita_scb-baro007_L0_2017-08.nc\n",
      "   dep0001_station-sarapita_scb-baro007_L0_2017-07.nc\n",
      "   dep0001_station-sarapita_scb-baro007_L0_2017-06.nc\n",
      "   dep0001_station-sarapita_scb-baro007_L0_2017-05.nc\n",
      "   dep0001_station-sarapita_scb-baro007_L0_2017-04.nc\n",
      "   dep0001_station-sarapita_scb-baro007_L0_2017-03.nc\n",
      "   dep0001_station-sarapita_scb-baro007_L0_2017-02.nc\n",
      "   dep0001_station-sarapita_scb-baro007_L0_2017-01.nc\n",
      "   dep0001_station-sarapita_scb-baro007_L1_2016-12.nc\n",
      "   dep0001_station-sarapita_scb-baro007_L1_2016-11.nc\n",
      "   dep0001_station-sarapita_scb-baro007_L1_2016-10.nc\n",
      "   dep0001_station-sarapita_scb-baro007_L1_2016-09.nc\n",
      "   dep0001_station-sarapita_scb-baro007_L1_2016-08.nc\n",
      "   dep0001_station-sarapita_scb-baro007_L1_2016-07.nc\n",
      "   dep0001_station-sarapita_scb-baro007_L1_2016-06.nc\n",
      "   dep0001_station-sarapita_scb-baro007_L1_2016-05.nc\n",
      "   dep0001_station-sarapita_scb-baro007_L1_2016-04.nc\n",
      "   dep0001_station-sarapita_scb-baro007_L1_2016-03.nc\n",
      "   dep0001_station-sarapita_scb-baro007_L1_2016-02.nc\n",
      "   dep0001_station-sarapita_scb-baro007_L1_2016-01.nc\n",
      "   dep0001_station-sarapita_scb-baro007_L0_2016-12.nc\n",
      "   dep0001_station-sarapita_scb-baro007_L0_2016-11.nc\n",
      "   dep0001_station-sarapita_scb-baro007_L0_2016-10.nc\n",
      "   dep0001_station-sarapita_scb-baro007_L0_2016-09.nc\n",
      "   dep0001_station-sarapita_scb-baro007_L0_2016-08.nc\n",
      "   dep0001_station-sarapita_scb-baro007_L0_2016-07.nc\n",
      "   dep0001_station-sarapita_scb-baro007_L0_2016-06.nc\n",
      "   dep0001_station-sarapita_scb-baro007_L0_2016-05.nc\n",
      "   dep0001_station-sarapita_scb-baro007_L0_2016-04.nc\n",
      "   dep0001_station-sarapita_scb-baro007_L0_2016-03.nc\n",
      "   dep0001_station-sarapita_scb-baro007_L0_2016-02.nc\n",
      "   dep0001_station-sarapita_scb-baro007_L0_2016-01.nc\n",
      "   dep0001_station-sarapita_scb-baro007_L1_2015-12.nc\n",
      "   dep0001_station-sarapita_scb-baro007_L1_2015-11.nc\n",
      "   dep0001_station-sarapita_scb-baro007_L1_2015-10.nc\n",
      "   dep0001_station-sarapita_scb-baro007_L1_2015-09.nc\n",
      "   dep0001_station-sarapita_scb-baro007_L1_2015-08.nc\n",
      "   dep0001_station-sarapita_scb-baro007_L1_2015-07.nc\n",
      "   dep0001_station-sarapita_scb-baro007_L1_2015-06.nc\n",
      "   dep0001_station-sarapita_scb-baro007_L1_2015-05.nc\n",
      "   dep0001_station-sarapita_scb-baro007_L1_2015-04.nc\n",
      "   dep0001_station-sarapita_scb-baro007_L1_2015-03.nc\n",
      "   dep0001_station-sarapita_scb-baro007_L1_2015-02.nc\n",
      "   dep0001_station-sarapita_scb-baro007_L1_2015-01.nc\n",
      "   dep0001_station-sarapita_scb-baro007_L0_2015-12.nc\n",
      "   dep0001_station-sarapita_scb-baro007_L0_2015-11.nc\n",
      "   dep0001_station-sarapita_scb-baro007_L0_2015-10.nc\n",
      "   dep0001_station-sarapita_scb-baro007_L0_2015-09.nc\n",
      "   dep0001_station-sarapita_scb-baro007_L0_2015-08.nc\n",
      "   dep0001_station-sarapita_scb-baro007_L0_2015-07.nc\n",
      "   dep0001_station-sarapita_scb-baro007_L0_2015-06.nc\n",
      "   dep0001_station-sarapita_scb-baro007_L0_2015-05.nc\n",
      "   dep0001_station-sarapita_scb-baro007_L0_2015-04.nc\n",
      "   dep0001_station-sarapita_scb-baro007_L0_2015-03.nc\n",
      "   dep0001_station-sarapita_scb-baro007_L0_2015-02.nc\n",
      "   dep0001_station-sarapita_scb-baro007_L0_2015-01.nc\n",
      "   dep0001_station-sarapita_scb-baro007_L1_2014-12.nc\n",
      "   dep0001_station-sarapita_scb-baro007_L1_2014-11.nc\n",
      "   dep0001_station-sarapita_scb-baro007_L1_2014-10.nc\n",
      "   dep0001_station-sarapita_scb-baro007_L1_2014-09.nc\n",
      "   dep0001_station-sarapita_scb-baro007_L1_2014-08.nc\n",
      "   dep0001_station-sarapita_scb-baro007_L1_2014-07.nc\n",
      "   dep0001_station-sarapita_scb-baro007_L1_2014-06.nc\n",
      "   dep0001_station-sarapita_scb-baro007_L1_2014-05.nc\n",
      "   dep0001_station-sarapita_scb-baro007_L1_2014-04.nc\n",
      "   dep0001_station-sarapita_scb-baro007_L1_2014-03.nc\n",
      "   dep0001_station-sarapita_scb-baro007_L1_2014-02.nc\n",
      "   dep0001_station-sarapita_scb-baro007_L1_2014-01.nc\n",
      "   dep0001_station-sarapita_scb-baro007_L0_2014-12.nc\n",
      "   dep0001_station-sarapita_scb-baro007_L0_2014-11.nc\n",
      "   dep0001_station-sarapita_scb-baro007_L0_2014-10.nc\n",
      "   dep0001_station-sarapita_scb-baro007_L0_2014-09.nc\n",
      "   dep0001_station-sarapita_scb-baro007_L0_2014-08.nc\n",
      "   dep0001_station-sarapita_scb-baro007_L0_2014-07.nc\n",
      "   dep0001_station-sarapita_scb-baro007_L0_2014-06.nc\n",
      "   dep0001_station-sarapita_scb-baro007_L0_2014-05.nc\n",
      "   dep0001_station-sarapita_scb-baro007_L0_2014-04.nc\n",
      "   dep0001_station-sarapita_scb-baro007_L0_2014-03.nc\n",
      "   dep0001_station-sarapita_scb-baro007_L0_2014-02.nc\n",
      "   dep0001_station-sarapita_scb-baro007_L0_2014-01.nc\n",
      "   dep0001_station-sarapita_scb-baro007_L1_2013-12.nc\n",
      "   dep0001_station-sarapita_scb-baro007_L1_2013-11.nc\n",
      "   dep0001_station-sarapita_scb-baro007_L1_2013-10.nc\n",
      "   dep0001_station-sarapita_scb-baro007_L1_2013-09.nc\n",
      "   dep0001_station-sarapita_scb-baro007_L0_2013-12.nc\n",
      "   dep0001_station-sarapita_scb-baro007_L0_2013-11.nc\n",
      "   dep0001_station-sarapita_scb-baro007_L0_2013-10.nc\n",
      "   dep0001_station-sarapita_scb-baro007_L0_2013-09.nc\n",
      " \n"
     ]
    }
   ],
   "source": [
    "#requesting the page where the deployment is\n",
    "end_point = '/data-sources/'\n",
    "random_request = requests.get('%s%s?%s' % (api_url, end_point, 'page='+str(page)), headers=headers)\n",
    "random_response = json.loads(random_request.text)\n",
    "\n",
    "#selecting inside this page the desired deployment\n",
    "random_deployment = random_response['results'][item] \n",
    "\n",
    "print('- Data-source with id %s is composed by %s netCDF files:' %(deployment['id'], len(deployment['entries'])))\n",
    "for netCDF in deployment['entries']:\n",
    "    netCDF_name = netCDF['services']['opendap']['url'].split('/')[10]\n",
    "    print('   '+ netCDF_name)\n",
    "print(' ')"
   ]
  },
  {
   "cell_type": "markdown",
   "metadata": {},
   "source": [
    "If deploymetns (data-sources) are understood as collections of netCDF files, gathering the data from a given data-source (deployment) turns out to be equivalent to gather all the data stored into the netCDF collection originated during such deployment. In this sense, it is important to know that SOCIB relys on a THREDDS server in order to distribute its data. This means that, apart from inherit the same organization by deployment, SOCIB THREDDS server maps every netCDF and provide a number of access protocols to them (http, opendap...). This way, every data-source <i>entry</i> will have a number of services that allows its netCDF file download or remote access."
   ]
  },
  {
   "cell_type": "markdown",
   "metadata": {},
   "source": [
    "For example, a random netCDF file from our choosen deployment will have the next THREDDS services:"
   ]
  },
  {
   "cell_type": "code",
   "execution_count": 195,
   "metadata": {
    "collapsed": false
   },
   "outputs": [
    {
     "name": "stdout",
     "output_type": "stream",
     "text": [
      "   dep0016_sdeep00_scb-sldeep000_L1_2015-10-19.nc\n",
      "   Available at:\n",
      "     http_file :\n",
      "http://thredds.socib.es/thredds/fileServer/auv/glider/sdeep00-scb_sldeep000/L1/2015/dep0016_sdeep00_scb-sldeep000_L1_2015-10-19.nc\n",
      "     opendap :\n",
      "http://thredds.socib.es/thredds/dodsC/auv/glider/sdeep00-scb_sldeep000/L1/2015/dep0016_sdeep00_scb-sldeep000_L1_2015-10-19.nc\n",
      "     thredds_catalog :\n",
      "http://thredds.socib.es/thredds/catalog/auv/glider/sdeep00-scb_sldeep000/L1/2015/catalog.html?dataset=auv/glider/sdeep00-scb_sldeep000/L1/2015/dep0016_sdeep00_scb-sldeep000_L1_2015-10-19.nc\n",
      "    With viewers:\n",
      "     jwebchart :\n",
      "http://www.socib.es/jwebchart/?file=http://thredds.socib.es/thredds/dodsC/auv/glider/sdeep00-scb_sldeep000/L1/2015/dep0016_sdeep00_scb-sldeep000_L1_2015-10-19.nc\n",
      "     dapp :\n",
      "http://apps.socib.es/dapp/?deployments=531\n",
      " \n"
     ]
    }
   ],
   "source": [
    "random = randint(0,len(random_deployment['entries'])-1) #random netCDF\n",
    "\n",
    "netCDF = random_deployment['entries'][random]\n",
    "netCDF_name = netCDF['services']['opendap']['url'].split('/')[10]\n",
    "print('   '+ netCDF_name)\n",
    "print('   Available at:')\n",
    "for service in netCDF['services']:\n",
    "    print('     '+ service+ ' :')\n",
    "    print(netCDF['services'][service]['url'])\n",
    "print('    With viewers:')\n",
    "for viewer in netCDF['viewers']:\n",
    "    print('     '+ viewer+ ' :')\n",
    "    print(netCDF['viewers'][viewer]['url'])\n",
    "print(' ')"
   ]
  },
  {
   "cell_type": "markdown",
   "metadata": {},
   "source": [
    "This way users can download the files (http service), access remotely (opendap service) and visualize it by a number of applications provided by SOCIB:"
   ]
  },
  {
   "cell_type": "markdown",
   "metadata": {},
   "source": [
    "<h3>i.e DATA-SOURCES: DATA DOWNLOAD</h3>"
   ]
  },
  {
   "cell_type": "markdown",
   "metadata": {},
   "source": [
    "Using the http service, it is posible to download every netCDF associated to a data-source (deployment). For example, the previous netCDF can be downloaded as:"
   ]
  },
  {
   "cell_type": "code",
   "execution_count": 199,
   "metadata": {
    "collapsed": false
   },
   "outputs": [
    {
     "name": "stdout",
     "output_type": "stream",
     "text": [
      "   Downloaded dep0016_sdeep00_scb-sldeep000_L1_2015-10-19.nc\n",
      " \n"
     ]
    }
   ],
   "source": [
    "output_dir = '/' #set path\n",
    "netCDF_name = netCDF['services']['opendap']['url'].split('/')[10]\n",
    "fullfilename = os.path.join(output_dir, netCDF_name)\n",
    "netcdf_http = netCDF['services']['opendap']['url']\n",
    "print('   Downloaded '+ netCDF_name)\n",
    "print(' ')\n",
    "os.chdir(cwd)"
   ]
  },
  {
   "cell_type": "markdown",
   "metadata": {},
   "source": [
    "<H3>i.e DATA-SOURCES: DATA VIEWER</H3>"
   ]
  },
  {
   "cell_type": "markdown",
   "metadata": {},
   "source": [
    "Using the viewers services available in SOCIB thredds it is possible to get a quick view of the content of every netCDF associated to a data-source (deployment). A first visulization of the previous netCDF can be found at:"
   ]
  },
  {
   "cell_type": "code",
   "execution_count": 200,
   "metadata": {
    "collapsed": false,
    "scrolled": true
   },
   "outputs": [
    {
     "name": "stdout",
     "output_type": "stream",
     "text": [
      "dep0016_sdeep00_scb-sldeep000_L1_2015-10-19.nc visu with jwebchart\n",
      "http://www.socib.es/jwebchart/?file=http://thredds.socib.es/thredds/dodsC/auv/glider/sdeep00-scb_sldeep000/L1/2015/dep0016_sdeep00_scb-sldeep000_L1_2015-10-19.nc\n"
     ]
    },
    {
     "data": {
      "text/html": [
       "<iframe src=\"http://www.socib.es/jwebchart/?file=http://thredds.socib.es/thredds/dodsC/auv/glider/sdeep00-scb_sldeep000/L1/2015/dep0016_sdeep00_scb-sldeep000_L1_2015-10-19.nc\" width=1000 height=350></iframe>"
      ],
      "text/plain": [
       "<IPython.core.display.HTML object>"
      ]
     },
     "metadata": {},
     "output_type": "display_data"
    },
    {
     "name": "stdout",
     "output_type": "stream",
     "text": [
      "dep0016_sdeep00_scb-sldeep000_L1_2015-10-19.nc visu with dapp\n",
      "http://apps.socib.es/dapp/?deployments=531\n"
     ]
    },
    {
     "data": {
      "text/html": [
       "<iframe src=\"http://apps.socib.es/dapp/?deployments=531\" width=1000 height=350></iframe>"
      ],
      "text/plain": [
       "<IPython.core.display.HTML object>"
      ]
     },
     "metadata": {},
     "output_type": "display_data"
    }
   ],
   "source": [
    "for viewer in netCDF['viewers']:\n",
    "    print(netCDF_name+ ' visu with '+viewer)\n",
    "    print(netCDF['viewers'][viewer]['url'])\n",
    "    display(HTML('<iframe src=\"' +netCDF['viewers'][viewer]['url'] +'\" width=1000 height=350></iframe>'))"
   ]
  }
 ],
 "metadata": {
  "kernelspec": {
   "display_name": "Python [Root]",
   "language": "python",
   "name": "Python [Root]"
  },
  "language_info": {
   "codemirror_mode": {
    "name": "ipython",
    "version": 2
   },
   "file_extension": ".py",
   "mimetype": "text/x-python",
   "name": "python",
   "nbconvert_exporter": "python",
   "pygments_lexer": "ipython2",
   "version": "2.7.12"
  }
 },
 "nbformat": 4,
 "nbformat_minor": 0
}

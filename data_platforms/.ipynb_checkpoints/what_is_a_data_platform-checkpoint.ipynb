{
 "cells": [
  {
   "cell_type": "markdown",
   "metadata": {},
   "source": [
    "<h1 class=\"header\"><img class=\"logo\" src=\"../images/socib_logo.png\" width=\"200px\"></h1>"
   ]
  },
  {
   "cell_type": "markdown",
   "metadata": {},
   "source": [
    "<h3> STYLING NOTEBOOK (OPTIONAL)</h3>"
   ]
  },
  {
   "cell_type": "code",
   "execution_count": 1,
   "metadata": {
    "collapsed": false
   },
   "outputs": [
    {
     "data": {
      "text/html": [
       "<style>\n",
       "\n",
       "h1{\n",
       "\tfloat:right !important\n",
       "}\n",
       "\n",
       "h1>img{\n",
       "\twidth: 200px !important\n",
       "}\n",
       "\n",
       "h3{\n",
       "\tbackground-color: #00334C;\n",
       "\tborder: 1px solid #e3e3e3;\n",
       "\tborder-radius: 4px;\n",
       "\tcolor: #3dabb6; \n",
       "\tpadding: 19px\n",
       "}\n",
       "\n",
       "h3>span{\n",
       "\tborder: 1px solid #3dabb6;\n",
       "\tborder-radius: 4px;\n",
       "\tbackground-color: #3dabb6; \n",
       "\tcolor: white; \n",
       "\tpadding: 5px\n",
       "}\n",
       "\n",
       "ul>li>b{\n",
       "\tborder: 1px solid #3dabb6;\n",
       "\tborder-radius: 4px;\n",
       "\tbackground-color: #3dabb6; \n",
       "\tcolor: white; padding: 5px;\n",
       "}\n",
       "</style>\n"
      ],
      "text/plain": [
       "<IPython.core.display.HTML object>"
      ]
     },
     "execution_count": 1,
     "metadata": {},
     "output_type": "execute_result"
    }
   ],
   "source": [
    "from IPython.core.display import HTML\n",
    "import urllib\n",
    "HTML(urllib.urlopen('https://raw.githubusercontent.com/socib/API_examples/master/style/custom/custom.css').read())"
   ]
  },
  {
   "cell_type": "markdown",
   "metadata": {
    "collapsed": true
   },
   "source": [
    "<h3>HANDY PYTHON PACKAGES</h3>"
   ]
  },
  {
   "cell_type": "code",
   "execution_count": 2,
   "metadata": {
    "collapsed": true
   },
   "outputs": [],
   "source": [
    "import requests\n",
    "import json\n",
    "import matplotlib.pyplot as plt\n",
    "import numpy as np\n",
    "from json2html import *\n",
    "from IPython.display import HTML\n",
    "%matplotlib inline"
   ]
  },
  {
   "cell_type": "markdown",
   "metadata": {},
   "source": [
    "<h3>PREREQUISITES</h3>"
   ]
  },
  {
   "cell_type": "code",
   "execution_count": 3,
   "metadata": {
    "collapsed": true
   },
   "outputs": [],
   "source": [
    "api_key = '' #write you SOCIB api_key\n",
    "api_url = 'http://api.socib.es'\n",
    "headers = {\n",
    "    'accept': 'application/vnd.socib+json',\n",
    "    'apikey': api_key,\n",
    "}"
   ]
  },
  {
   "cell_type": "markdown",
   "metadata": {},
   "source": [
    "<h3> WHAT ARE EXACTLY DATA-PLATFORMS?</h3>"
   ]
  },
  {
   "cell_type": "markdown",
   "metadata": {},
   "source": [
    "SOCIB Data-platforms wrapp data-sources (instrument&platform enssembles) sharing the same platform. These entities (platforms used in SOCIB's deployments) enables a quick recovery of the latest or historical data comming from a specific platform, which is particularly useful in case of long-term platform-based monitoring. "
   ]
  },
  {
   "cell_type": "markdown",
   "metadata": {},
   "source": [
    "A certain SOCIB data-platform can be composed then by a single data-source (i.e only one deployment has been performed with such platform) or serveral (i.e more than one deloyment has been perfomed with such platform). "
   ]
  },
  {
   "cell_type": "markdown",
   "metadata": {},
   "source": [
    "Examples of long-term platform-based monitoring are the continuous monitoring performed by SOCIB [fixed-stations](http://www.socib.eu/?seccion=observingFacilities&facility=mooring) (HFRadar, Ocenographic buoys, Sea Level stations, Weather Stations etc) or other platforms recurringly deployed to cover the same track (ie SOCIB [gliders](http://www.socib.eu/?seccion=observingFacilities&facility=glider) involved in 'CANALES').\n",
    "<img src=\"../images/SOCIBfixed_station.jpg\">"
   ]
  },
  {
   "cell_type": "markdown",
   "metadata": {},
   "source": [
    "SOCIB data-platforms constitute the first level of abstraction build over the data-sources, being the second one the so-called SOCIB data-products."
   ]
  },
  {
   "cell_type": "markdown",
   "metadata": {},
   "source": [
    "<h3>WHICH ENDPOINT DO I USE TO EXPLORE SOCIB DATA-PLATFORMS?</h3> "
   ]
  },
  {
   "cell_type": "markdown",
   "metadata": {},
   "source": [
    "As we already saw in [Quick start](../tips/quick_start.ipynb) there is an ENDPOINT that allows users to dive into all the data-platforms (groups of one or more SOCIB deployments sharing same platform) are available:"
   ]
  },
  {
   "cell_type": "code",
   "execution_count": 4,
   "metadata": {
    "collapsed": false
   },
   "outputs": [
    {
     "name": "stdout",
     "output_type": "stream",
     "text": [
      "Requested url: http://api.socib.es/data-platforms/\n",
      "A total of 211 platforms has been used in SOCIB's deployments\n"
     ]
    }
   ],
   "source": [
    "end_point = '/data-platforms/'\n",
    "request = requests.get('%s%s' % (api_url, end_point), headers=headers)\n",
    "response = json.loads(request.text)\n",
    "\n",
    "print('Requested url: '+'%s%s' % (api_url, end_point))\n",
    "print(\"A total of %s platforms has been used in SOCIB's deployments\"%(response['count']))"
   ]
  },
  {
   "cell_type": "markdown",
   "metadata": {},
   "source": [
    "<h3>HOW DOES IT WORKS?</h3> "
   ]
  },
  {
   "cell_type": "markdown",
   "metadata": {},
   "source": [
    "Regarding the data-platforms, the API resembles a catalogue that someone can read-trough; with a number of pages to turn and, as content of such pages, a number of data-platforms:"
   ]
  },
  {
   "cell_type": "code",
   "execution_count": 5,
   "metadata": {
    "collapsed": false
   },
   "outputs": [
    {
     "name": "stdout",
     "output_type": "stream",
     "text": [
      "Catalogue total number of pages: 27\n"
     ]
    }
   ],
   "source": [
    "print('Catalogue total number of pages: '+str((response['count']/len(response['results']))+1))"
   ]
  },
  {
   "cell_type": "code",
   "execution_count": 6,
   "metadata": {
    "collapsed": false
   },
   "outputs": [
    {
     "name": "stdout",
     "output_type": "stream",
     "text": [
      "Number of data-platforms per page: 8\n"
     ]
    }
   ],
   "source": [
    "print('Number of data-platforms per page: '+str(len(response['results'])))"
   ]
  },
  {
   "cell_type": "markdown",
   "metadata": {},
   "source": [
    "<h3>OVERVIEW OF A GIVEN DATA-PLATFORM - <span> PLATFORM'S METADATA </span></h3>"
   ]
  },
  {
   "cell_type": "markdown",
   "metadata": {},
   "source": [
    "Imagine you are on page 2 of the data-platforms catalogue:"
   ]
  },
  {
   "cell_type": "code",
   "execution_count": 7,
   "metadata": {
    "collapsed": false
   },
   "outputs": [
    {
     "name": "stdout",
     "output_type": "stream",
     "text": [
      "Requested url: http://api.socib.es/data-platforms/?page=2\n",
      "Next url: http://api.socib.es/data-platforms/?page=3\n",
      "Previous url: http://api.socib.es/data-platforms/\n"
     ]
    }
   ],
   "source": [
    "end_point = '/data-platforms/?page=2'\n",
    "request = requests.get('%s%s' % (api_url, end_point), headers=headers)\n",
    "response = json.loads(request.text)\n",
    "print('Requested url: '+'%s%s' % (api_url, end_point))\n",
    "print('Next url: '+response['next'])\n",
    "print('Previous url: '+response['previous'])"
   ]
  },
  {
   "cell_type": "markdown",
   "metadata": {},
   "source": [
    "Each data-platform (stored as <b>'results'</b> in the response of the above query), is uniquely identified by 5 properties: <i>id, name, type, status, datetime (initial and end) and wmo (code and authority)</i>.<br>\n",
    "Let's have a look to the metadata of one of the data-platforms:"
   ]
  },
  {
   "cell_type": "code",
   "execution_count": 8,
   "metadata": {
    "collapsed": false
   },
   "outputs": [
    {
     "data": {
      "text/html": [
       "<table border=\"1\"><tr><th>status</th><td>completed</td></tr><tr><th>wmo_naming_authority</th><td>JCOMMOBS</td></tr><tr><th>name</th><td>Buoy_CanalDeIbiza</td></tr><tr><th>initial_datetime</th><td>2013-07-01T00:00:00Z</td></tr><tr><th>end_datetime</th><td>2018-05-31T23:00:00Z</td></tr><tr><th>wmo_code</th><td>61141</td></tr><tr><th>type</th><td>Oceanographic Buoy</td></tr><tr><th>id</th><td>Buoy_CanalDeIbiza</td></tr></table>"
      ],
      "text/plain": [
       "<IPython.core.display.HTML object>"
      ]
     },
     "execution_count": 8,
     "metadata": {},
     "output_type": "execute_result"
    }
   ],
   "source": [
    "targeted_data_platform = response['results'][0]#i.e data-platform number 0 of the above page\n",
    "metadata = {k:v for k, v in targeted_data_platform.items()} \n",
    "HTML(json2html.convert(json=metadata))"
   ]
  },
  {
   "cell_type": "markdown",
   "metadata": {},
   "source": [
    "<h3>DETAILED VIEW OF A GIVEN DATA-PLATFORM - <span>SHORTCUT TO A KNOWN PLATFORM</span></h3>"
   ]
  },
  {
   "cell_type": "markdown",
   "metadata": {},
   "source": [
    "We have found and explored the above data-platform by targeting an specific page number and position on this page, but this whole searching process can be skipped onwards by preserving its id: "
   ]
  },
  {
   "cell_type": "code",
   "execution_count": 9,
   "metadata": {
    "collapsed": false
   },
   "outputs": [
    {
     "name": "stdout",
     "output_type": "stream",
     "text": [
      "Requested url: http://api.socib.es/data-platforms/Buoy_CanalDeIbiza. Be aware of the id.\n"
     ]
    }
   ],
   "source": [
    "end_point = '/data-platforms/'+targeted_data_platform['id']\n",
    "request = requests.get('%s%s' % (api_url, end_point), headers=headers)\n",
    "response = json.loads(request.text)\n",
    "print('Requested url: '+'%s%s. Be aware of the id.' % (api_url, end_point))"
   ]
  },
  {
   "cell_type": "code",
   "execution_count": 10,
   "metadata": {
    "collapsed": false
   },
   "outputs": [
    {
     "data": {
      "text/html": [
       "<table border=\"1\"><tr><th>status</th><td>completed</td></tr><tr><th>wmo_naming_authority</th><td>JCOMMOBS</td></tr><tr><th>name</th><td>Buoy_CanalDeIbiza</td></tr><tr><th>initial_datetime</th><td>2013-07-01T00:00:00Z</td></tr><tr><th>end_datetime</th><td>2018-05-31T23:00:00Z</td></tr><tr><th>wmo_code</th><td>61141</td></tr><tr><th>type</th><td>Oceanographic Buoy</td></tr><tr><th>id</th><td>Buoy_CanalDeIbiza</td></tr></table>"
      ],
      "text/plain": [
       "<IPython.core.display.HTML object>"
      ]
     },
     "execution_count": 10,
     "metadata": {},
     "output_type": "execute_result"
    }
   ],
   "source": [
    "targeted_data_platform = response\n",
    "metadata = {k:v for k, v in targeted_data_platform.items()}\n",
    "HTML(json2html.convert(json=metadata))"
   ]
  },
  {
   "cell_type": "markdown",
   "metadata": {},
   "source": [
    "<h3>WHAT ELSE?</h3>"
   ]
  },
  {
   "cell_type": "markdown",
   "metadata": {},
   "source": [
    "<ul>\n",
    "<li><b>SEARCHING FOR CERTAIN DATA-PLATFORM</b><br><br>If you want to retrieve SOCIB data-platforms matching certain platform types, please have a look at the [Example 7](searching_for_certain_data_platforms.ipynb) ('Searching for certain data-platforms'), where it is explained how to set this searching criteria over the generic /data-platform/ ENDPOINT to filter the available data-platforms according to type, wmo code, status etc.</li>\n",
    "<br>\n",
    "<li><b>REQUESTING HISTORICAL DATA-PLATFORM'S FILES</b> <br><br> If you want to know more about how to access a given data-platform's data please have a look at the [Example 8](requesting_a_data_platforms_historical_files.ipynb) ('Accessing the historical files of a data-platform'), where it is explained how to request a data-platform historical files (its netCDFs)</li>\n",
    "<br>\n",
    "<li><b>REQUESTING LATEST DATA-PLATFORM'S FILES</b> <br><br> If you want to know more about how to access a given data-platform's data please have a look at the [Example 9](requesting_a_data_platforms_latest_files.ipynb)('Accessing the latest files of a data-platform'), where it is explained how to request a data-platform lastest files (its netCDFs)</li>\n",
    "</ul>"
   ]
  }
 ],
 "metadata": {
  "kernelspec": {
   "display_name": "Python [Root]",
   "language": "python",
   "name": "Python [Root]"
  },
  "language_info": {
   "codemirror_mode": {
    "name": "ipython",
    "version": 2
   },
   "file_extension": ".py",
   "mimetype": "text/x-python",
   "name": "python",
   "nbconvert_exporter": "python",
   "pygments_lexer": "ipython2",
   "version": "2.7.12"
  }
 },
 "nbformat": 4,
 "nbformat_minor": 1
}

{
 "cells": [
  {
   "cell_type": "markdown",
   "metadata": {},
   "source": [
    "<h1 class=\"header\"><img class=\"logo\" src=\"../images/socib_logo.png\" width=\"200px\"></h1>"
   ]
  },
  {
   "cell_type": "markdown",
   "metadata": {},
   "source": [
    "<h3> STYLING NOTEBOOK (OPTIONAL)</h3>"
   ]
  },
  {
   "cell_type": "code",
   "execution_count": 34,
   "metadata": {
    "collapsed": false
   },
   "outputs": [
    {
     "data": {
      "text/html": [
       "<style>\n",
       "\n",
       "h1{\n",
       "\tfloat:right !important\n",
       "}\n",
       "\n",
       "h1>img{\n",
       "\twidth: 200px !important\n",
       "}\n",
       "\n",
       "h3{\n",
       "\tbackground-color: #00334C;\n",
       "\tborder: 1px solid #e3e3e3;\n",
       "\tborder-radius: 4px;\n",
       "\tcolor: #3dabb6; \n",
       "\tpadding: 19px\n",
       "}\n",
       "\n",
       "h3>span{\n",
       "\tborder: 1px solid #3dabb6;\n",
       "\tborder-radius: 4px;\n",
       "\tbackground-color: #3dabb6; \n",
       "\tcolor: white; \n",
       "\tpadding: 5px\n",
       "}\n",
       "\n",
       "ul>li>b{\n",
       "\tborder: 1px solid #3dabb6;\n",
       "\tborder-radius: 4px;\n",
       "\tbackground-color: #3dabb6; \n",
       "\tcolor: white; padding: 5px;\n",
       "}\n",
       "</style>\n"
      ],
      "text/plain": [
       "<IPython.core.display.HTML object>"
      ]
     },
     "execution_count": 34,
     "metadata": {},
     "output_type": "execute_result"
    }
   ],
   "source": [
    "from IPython.core.display import HTML\n",
    "import urllib\n",
    "HTML(urllib.urlopen('https://raw.githubusercontent.com/socib/API_examples/master/style/custom/custom.css').read())"
   ]
  },
  {
   "cell_type": "markdown",
   "metadata": {},
   "source": [
    "<h3> HANDY PYTHON PACKAGES </h3>"
   ]
  },
  {
   "cell_type": "code",
   "execution_count": 35,
   "metadata": {
    "collapsed": false
   },
   "outputs": [],
   "source": [
    "import requests\n",
    "import json\n",
    "import numpy as np\n",
    "from json2html import *\n",
    "from IPython.display import HTML, display\n",
    "%matplotlib inline"
   ]
  },
  {
   "cell_type": "markdown",
   "metadata": {},
   "source": [
    "<h3> PREREQUISITES </h3>"
   ]
  },
  {
   "cell_type": "code",
   "execution_count": 36,
   "metadata": {
    "collapsed": true
   },
   "outputs": [],
   "source": [
    "api_key = '' #write you SOCIB api_key\n",
    "api_url = 'http://api.socib.es'\n",
    "headers = {\n",
    "    'accept': 'application/vnd.socib+json',\n",
    "    'apikey': api_key,\n",
    "}"
   ]
  },
  {
   "cell_type": "markdown",
   "metadata": {},
   "source": [
    "<h3>DATA-PLATFORM'S FILES </h3>"
   ]
  },
  {
   "cell_type": "markdown",
   "metadata": {},
   "source": [
    "Data platforms can offer 2 type of files: \n",
    "<ul>\n",
    "    <li><span><b>deployment files</b></span>: are the ordinary netCDFs originated from the intruments on board of the platform. <br>These files are therefore the same kind as the ones offered in the data-source endpoint (the so-called <i>entries</i>). </li><br>\n",
    "    <li><span><b>platform files</b></span>: <i>added-value</i> netCDFs obtained after performing higher level operations over the data directly derived from the intruments on board of the platform. These files are therefore <i>enriched files</i> and can,  for example, self-contain all the data comming from the different intruments deployed (a single file per platfrom intead of the different files per instrument) and even procure new variables derived form the data comming from the different instruments. </li>\n",
    "</ul>"
   ]
  },
  {
   "cell_type": "markdown",
   "metadata": {},
   "source": [
    "Let's see illustrate this by requesting a platform data."
   ]
  },
  {
   "cell_type": "markdown",
   "metadata": {},
   "source": [
    "<h3> REQUESTING A DATA-PLATFORM'S <span>HISTORICAL FILES</span> </h3>"
   ]
  },
  {
   "cell_type": "markdown",
   "metadata": {},
   "source": [
    "Let's look for a certain type of data-platforms:"
   ]
  },
  {
   "cell_type": "code",
   "execution_count": 55,
   "metadata": {
    "collapsed": false
   },
   "outputs": [
    {
     "name": "stdout",
     "output_type": "stream",
     "text": [
      "Requested url: http://api.socib.es/data-platforms/?platform_type=Coastal Station\n",
      " \n",
      "6 platforms of type Coastal Station has been used in SOCIB deployments \n"
     ]
    }
   ],
   "source": [
    "end_point = '/data-platforms/'\n",
    "platform_type = 'Coastal Station'\n",
    "url_addons = \"?platform_type=%s\"%(platform_type)\n",
    "request = requests.get('%s%s%s' % (api_url, end_point,url_addons), headers=headers)\n",
    "response = json.loads(request.text)\n",
    "\n",
    "print('Requested url: '+'%s%s%s' % (api_url, end_point,url_addons))\n",
    "print(\" \")\n",
    "print('%s platforms of type %s has been used in SOCIB deployments '% (response['count'], platform_type))"
   ]
  },
  {
   "cell_type": "code",
   "execution_count": 56,
   "metadata": {
    "collapsed": false
   },
   "outputs": [
    {
     "data": {
      "text/html": [
       "<table border=\"1\"><tr><th>status</th><th>wmo_naming_authority</th><th>name</th><th>initial_datetime</th><th>end_datetime</th><th>wmo_code</th><th>type</th><th>id</th></tr><tr><td>active</td><td>None</td><td>Mobims_CalaMillor</td><td>2011-05-20T16:00:00Z</td><td>2018-12-12T10:59:00Z</td><td>None</td><td>Coastal Station</td><td>Mobims_CalaMillor</td></tr><tr><td>active</td><td>None</td><td>Mobims_PlayaDePalma</td><td>2012-01-18T12:00:00Z</td><td>2017-02-23T08:48:14Z</td><td>None</td><td>Coastal Station</td><td>Mobims_PlayaDePalma</td></tr><tr><td>active</td><td>None</td><td>Mobims_SonBou</td><td>2011-10-05T12:00:00Z</td><td>2018-12-12T10:59:00Z</td><td>None</td><td>Coastal Station</td><td>Mobims_SonBou</td></tr><tr><td>active</td><td>None</td><td>Station_Ciutadella</td><td>2014-09-19T00:00:26Z</td><td>2018-12-12T10:59:00Z</td><td>None</td><td>Coastal Station</td><td>Station_Ciutadella</td></tr><tr><td>active</td><td>None</td><td>Station_LaMola</td><td>2011-04-28T11:22:30Z</td><td>2018-12-12T10:58:30Z</td><td>None</td><td>Coastal Station</td><td>Station_LaMola</td></tr><tr><td>active</td><td>None</td><td>Station_SonBlanc</td><td>2016-09-05T10:29:44Z</td><td>2018-12-12T05:07:15Z</td><td>None</td><td>Coastal Station</td><td>Station_SonBlanc</td></tr></table>"
      ],
      "text/plain": [
       "<IPython.core.display.HTML object>"
      ]
     },
     "execution_count": 56,
     "metadata": {},
     "output_type": "execute_result"
    }
   ],
   "source": [
    "HTML(json2html.convert(json=response['results']))"
   ]
  },
  {
   "cell_type": "markdown",
   "metadata": {},
   "source": [
    "Let's focuse on the first data-platform from above list and request its historical files:"
   ]
  },
  {
   "cell_type": "code",
   "execution_count": 57,
   "metadata": {
    "collapsed": false
   },
   "outputs": [
    {
     "data": {
      "text/html": [
       "<table border=\"1\"><tr><th>status</th><td>active</td></tr><tr><th>wmo_naming_authority</th><td>None</td></tr><tr><th>name</th><td>Mobims_CalaMillor</td></tr><tr><th>initial_datetime</th><td>2011-05-20T16:00:00Z</td></tr><tr><th>end_datetime</th><td>2018-12-12T10:59:00Z</td></tr><tr><th>wmo_code</th><td>None</td></tr><tr><th>type</th><td>Coastal Station</td></tr><tr><th>id</th><td>Mobims_CalaMillor</td></tr></table>"
      ],
      "text/plain": [
       "<IPython.core.display.HTML object>"
      ]
     },
     "execution_count": 57,
     "metadata": {},
     "output_type": "execute_result"
    }
   ],
   "source": [
    "targeted_data_platform = response['results'][0] #data platform number 0\n",
    "HTML(json2html.convert(json=targeted_data_platform))"
   ]
  },
  {
   "cell_type": "markdown",
   "metadata": {},
   "source": [
    "How many netCDFs are available from this platform?"
   ]
  },
  {
   "cell_type": "code",
   "execution_count": 58,
   "metadata": {
    "collapsed": false
   },
   "outputs": [
    {
     "name": "stdout",
     "output_type": "stream",
     "text": [
      "Requested url: http://api.socib.es/data-platforms/Mobims_CalaMillor/files/historical\n"
     ]
    }
   ],
   "source": [
    "end_point_plus_aux = '/data-platforms/'+targeted_data_platform['id']+'/files/historical'\n",
    "request = requests.get('%s%s' % (api_url, end_point_plus_aux), headers=headers)\n",
    "response = json.loads(request.text)\n",
    "print('Requested url: '+'%s%s' % (api_url, end_point_plus_aux))"
   ]
  },
  {
   "cell_type": "code",
   "execution_count": 61,
   "metadata": {
    "collapsed": false
   },
   "outputs": [
    {
     "data": {
      "text/html": [
       "<table border=\"1\"><tr><th>files</th><td><table border=\"1\"><tr><th>platform</th><td><table border=\"1\"><tr><th>variables:</th><td><ul><li>sea_surface_wave_maximum_period</li><li>sea_surface_wave_peak_period</li><li>sea_surface_wave_significant_height</li><li>sea_surface_wave_mean_height</li><li>sea_surface_wave_mean_period</li><li>sea_surface_wave_max_height</li><li>sea_surface_wave_from_direction</li><li>sea_surface_wave_mean_directional_dispersion</li></ul></td></tr><tr><th>entries</th><td>79</td></tr></table></td></tr><tr><th>deployment</th><td><table border=\"1\"><tr><th>variables:</th><td><ul><li>wind_speed</li><li>rain_duration</li><li>wind_speed_of_gust</li><li>acyclic_wind_direction</li><li>rain_intensity</li><li>relative_humidity</li><li>air_temperature</li><li>voltage</li><li>rain_accumulation</li><li>wind_from_direction</li><li>rain_peak_intensity</li><li>air_pressure</li></ul></td></tr><tr><th>entries</th><td>178</td></tr></table></td></tr></table></td></tr></table>"
      ],
      "text/plain": [
       "<IPython.core.display.HTML object>"
      ]
     },
     "execution_count": 61,
     "metadata": {},
     "output_type": "execute_result"
    }
   ],
   "source": [
    "files_metadata = {'files':{}}\n",
    "for type_of_netcdf in response['files'].keys():\n",
    "    files_metadata['files'][type_of_netcdf] = {}\n",
    "    for k,v in response['files'][type_of_netcdf].items():\n",
    "        if k == 'entries':\n",
    "            files_metadata['files'][type_of_netcdf][k] = len(v)\n",
    "        else:\n",
    "            files_metadata['files'][type_of_netcdf][k] = v\n",
    "HTML(json2html.convert(json=files_metadata))"
   ]
  },
  {
   "cell_type": "markdown",
   "metadata": {},
   "source": [
    "Let's have a look to the first netCDF of type <i>platform</i> to see the services you have available to download, access and explore a given data-platform files."
   ]
  },
  {
   "cell_type": "code",
   "execution_count": 62,
   "metadata": {
    "collapsed": false
   },
   "outputs": [
    {
     "data": {
      "text/html": [
       "<table border=\"1\"><tr><th>http_file</th><td>http://thredds.socib.es/thredds/fileServer/mooring/waves_recorder/mobims_calamillor/L1/2017/dep20110520_mobims-calamillor_L1_2017-11.nc</td></tr><tr><th>variables</th><td><ul><li>sea_surface_wave_maximum_period</li><li>sea_surface_wave_peak_period</li><li>sea_surface_wave_significant_height</li><li>sea_surface_wave_mean_height</li><li>sea_surface_wave_mean_period</li><li>sea_surface_wave_max_height</li><li>sea_surface_wave_from_direction</li><li>sea_surface_wave_mean_directional_dispersion</li></ul></td></tr><tr><th>last_update</th><td>2017-11-30 10:41:31+00:00</td></tr><tr><th>initial_datetime</th><td>2017-11-01 00:00:00+00:00</td></tr><tr><th>end_datetime</th><td>2017-11-16 10:00:00+00:00</td></tr><tr><th>opendap</th><td>http://thredds.socib.es/thredds/dodsC/mooring/waves_recorder/mobims_calamillor/L1/2017/dep20110520_mobims-calamillor_L1_2017-11.nc</td></tr><tr><th>coverage_bounding_box</th><td><table border=\"1\"><tr><th>type</th><td>Polygon</td></tr><tr><th>coordinates</th><td><ul><li><ul><li><ul><li>3.39974</li><li>39.59236</li></ul></li><li><ul><li>3.39974</li><li>39.59236</li></ul></li><li><ul><li>3.39974</li><li>39.59236</li></ul></li><li><ul><li>3.39974</li><li>39.59236</li></ul></li><li><ul><li>3.39974</li><li>39.59236</li></ul></li></ul></li></ul></td></tr></table></td></tr><tr><th>processing_level</th><td>L1</td></tr></table>"
      ],
      "text/plain": [
       "<IPython.core.display.HTML object>"
      ]
     },
     "execution_count": 62,
     "metadata": {},
     "output_type": "execute_result"
    }
   ],
   "source": [
    "platform_netCDF = response['files']['platform']['entries'][0] #netCDF number 0 of type platform\n",
    "HTML(json2html.convert(json=platform_netCDF))"
   ]
  },
  {
   "cell_type": "markdown",
   "metadata": {},
   "source": [
    "<h3> REQUESTING A DATA-PLATFORM'S <span>HISTORICAL FILES WITH A CERTAIN VARIABLE</span> </h3>"
   ]
  },
  {
   "cell_type": "markdown",
   "metadata": {},
   "source": [
    "Let's repeat the above query asking only for those netCDFs containign a certain variable (i.e wind_speed):"
   ]
  },
  {
   "cell_type": "code",
   "execution_count": 63,
   "metadata": {
    "collapsed": false
   },
   "outputs": [
    {
     "name": "stdout",
     "output_type": "stream",
     "text": [
      "Requested url: http://api.socib.es/data-platforms/Mobims_CalaMillor/files/historical/?standard_variable=wind_speed\n"
     ]
    }
   ],
   "source": [
    "end_point_plus_aux = '/data-platforms/'+targeted_data_platform['id']+'/files/historical'\n",
    "url_addons = '/?standard_variable=wind_speed'\n",
    "request = requests.get('%s%s%s' % (api_url, end_point_plus_aux, url_addons), headers=headers)\n",
    "response = json.loads(request.text)\n",
    "print('Requested url: '+'%s%s%s' % (api_url, end_point_plus_aux, url_addons))"
   ]
  },
  {
   "cell_type": "code",
   "execution_count": 64,
   "metadata": {
    "collapsed": false
   },
   "outputs": [
    {
     "data": {
      "text/html": [
       "<table border=\"1\"><tr><th>files</th><td><table border=\"1\"><tr><th>platform</th><td><table border=\"1\"><tr><th>variables:</th><td></td></tr><tr><th>entries</th><td>0</td></tr></table></td></tr><tr><th>deployment</th><td><table border=\"1\"><tr><th>variables:</th><td><ul><li>wind_speed</li><li>rain_duration</li><li>wind_speed_of_gust</li><li>rain_accumulation</li><li>rain_intensity</li><li>relative_humidity</li><li>air_temperature</li><li>voltage</li><li>wind_from_direction</li><li>rain_peak_intensity</li><li>air_pressure</li><li>acyclic_wind_direction</li></ul></td></tr><tr><th>entries</th><td>178</td></tr></table></td></tr></table></td></tr></table>"
      ],
      "text/plain": [
       "<IPython.core.display.HTML object>"
      ]
     },
     "execution_count": 64,
     "metadata": {},
     "output_type": "execute_result"
    }
   ],
   "source": [
    "files_metadata = {'files':{}}\n",
    "for type_of_netcdf in response['files'].keys():\n",
    "    files_metadata['files'][type_of_netcdf] = {}\n",
    "    for k,v in response['files'][type_of_netcdf].items():\n",
    "        if k == 'entries':\n",
    "            files_metadata['files'][type_of_netcdf][k] = len(v)\n",
    "        else:\n",
    "            files_metadata['files'][type_of_netcdf][k] = v\n",
    "HTML(json2html.convert(json=files_metadata))"
   ]
  },
  {
   "cell_type": "markdown",
   "metadata": {},
   "source": [
    "Let's try again with other variable (i.e sea_surface_wave_significant_height):"
   ]
  },
  {
   "cell_type": "code",
   "execution_count": 65,
   "metadata": {
    "collapsed": false
   },
   "outputs": [
    {
     "name": "stdout",
     "output_type": "stream",
     "text": [
      "Requested url: http://api.socib.es/data-platforms/Mobims_CalaMillor/files/historical/?standard_variable=sea_surface_wave_significant_height\n"
     ]
    }
   ],
   "source": [
    "end_point_plus_aux = '/data-platforms/'+targeted_data_platform['id']+'/files/historical'\n",
    "url_addons = '/?standard_variable=sea_surface_wave_significant_height'\n",
    "request = requests.get('%s%s%s' % (api_url, end_point_plus_aux, url_addons), headers=headers)\n",
    "response = json.loads(request.text)\n",
    "print('Requested url: '+'%s%s%s' % (api_url, end_point_plus_aux, url_addons))"
   ]
  },
  {
   "cell_type": "code",
   "execution_count": 67,
   "metadata": {
    "collapsed": false
   },
   "outputs": [
    {
     "data": {
      "text/html": [
       "<table border=\"1\"><tr><th>files</th><td><table border=\"1\"><tr><th>platform</th><td><table border=\"1\"><tr><th>variables:</th><td><ul><li>sea_surface_wave_maximum_period</li><li>sea_surface_wave_peak_period</li><li>sea_surface_wave_significant_height</li><li>sea_surface_wave_mean_height</li><li>sea_surface_wave_mean_period</li><li>sea_surface_wave_max_height</li><li>sea_surface_wave_from_direction</li><li>sea_surface_wave_mean_directional_dispersion</li></ul></td></tr><tr><th>entries</th><td>79</td></tr></table></td></tr><tr><th>deployment</th><td><table border=\"1\"><tr><th>variables:</th><td></td></tr><tr><th>entries</th><td>0</td></tr></table></td></tr></table></td></tr></table>"
      ],
      "text/plain": [
       "<IPython.core.display.HTML object>"
      ]
     },
     "execution_count": 67,
     "metadata": {},
     "output_type": "execute_result"
    }
   ],
   "source": [
    "files_metadata = {'files':{}}\n",
    "for type_of_netcdf in response['files'].keys():\n",
    "    files_metadata['files'][type_of_netcdf] = {}\n",
    "    for k,v in response['files'][type_of_netcdf].items():\n",
    "        if k == 'entries':\n",
    "            files_metadata['files'][type_of_netcdf][k] = len(v)\n",
    "        else:\n",
    "            files_metadata['files'][type_of_netcdf][k] = v\n",
    "HTML(json2html.convert(json=files_metadata))"
   ]
  },
  {
   "cell_type": "markdown",
   "metadata": {},
   "source": [
    "<h3> REQUESTING A DATA-PLATFORM'S <span>HISTORICAL WITHIN A CERTAIN TIME RANGE</span> </h3>"
   ]
  },
  {
   "cell_type": "markdown",
   "metadata": {},
   "source": [
    "Let's repeat the above query asking only for those netCDFs covering a certain timerange. Let's get first a glimpse of the time coverage of this platform:"
   ]
  },
  {
   "cell_type": "code",
   "execution_count": 68,
   "metadata": {
    "collapsed": false
   },
   "outputs": [
    {
     "data": {
      "text/html": [
       "<table border=\"1\"><tr><th>status</th><td>active</td></tr><tr><th>wmo_naming_authority</th><td>None</td></tr><tr><th>name</th><td>Mobims_CalaMillor</td></tr><tr><th>initial_datetime</th><td>2011-05-20T16:00:00Z</td></tr><tr><th>end_datetime</th><td>2018-12-12T10:59:00Z</td></tr><tr><th>wmo_code</th><td>None</td></tr><tr><th>type</th><td>Coastal Station</td></tr><tr><th>id</th><td>Mobims_CalaMillor</td></tr></table>"
      ],
      "text/plain": [
       "<IPython.core.display.HTML object>"
      ]
     },
     "execution_count": 68,
     "metadata": {},
     "output_type": "execute_result"
    }
   ],
   "source": [
    "HTML(json2html.convert(json=targeted_data_platform))"
   ]
  },
  {
   "cell_type": "markdown",
   "metadata": {},
   "source": [
    "Regarding the above information, let's repeat the query for historical files searching in a specific time range:"
   ]
  },
  {
   "cell_type": "code",
   "execution_count": 69,
   "metadata": {
    "collapsed": false
   },
   "outputs": [
    {
     "name": "stdout",
     "output_type": "stream",
     "text": [
      "Requested url: http://api.socib.es/data-platforms/Mobims_CalaMillor/files/historical?initial_datetime=2011-05-20T00:00:00&end_datetime=2011-06-20T00:00:00\n"
     ]
    }
   ],
   "source": [
    "end_point_plus_aux = '/data-platforms/'+targeted_data_platform['id']+'/files/historical'\n",
    "time_range_start = '2011-05-20T00:00:00' # should match the notation YYYY-MM-DDTHH:MM:SS\n",
    "time_range_end =  '2011-06-20T00:00:00' # should match the notation YYYY-MM-DDTHH:MM:SS\n",
    "url_addons = '?initial_datetime=%s&end_datetime=%s'%(time_range_start,time_range_end)\n",
    "request = requests.get('%s%s%s' % (api_url, end_point_plus_aux, url_addons), headers=headers)\n",
    "response = json.loads(request.text)\n",
    "print('Requested url: '+'%s%s%s' % (api_url, end_point_plus_aux, url_addons))"
   ]
  },
  {
   "cell_type": "code",
   "execution_count": 70,
   "metadata": {
    "collapsed": false
   },
   "outputs": [
    {
     "data": {
      "text/html": [
       "<table border=\"1\"><tr><th>files</th><td><table border=\"1\"><tr><th>platform</th><td><table border=\"1\"><tr><th>variables:</th><td><ul><li>sea_surface_wave_maximum_period</li><li>sea_surface_wave_peak_period</li><li>sea_surface_wave_significant_height</li><li>sea_surface_wave_mean_height</li><li>sea_surface_wave_mean_period</li><li>sea_surface_wave_max_height</li><li>sea_surface_wave_from_direction</li><li>sea_surface_wave_mean_directional_dispersion</li></ul></td></tr><tr><th>entries</th><td>2</td></tr></table></td></tr><tr><th>deployment</th><td><table border=\"1\"><tr><th>variables:</th><td></td></tr><tr><th>entries</th><td>0</td></tr></table></td></tr></table></td></tr></table>"
      ],
      "text/plain": [
       "<IPython.core.display.HTML object>"
      ]
     },
     "execution_count": 70,
     "metadata": {},
     "output_type": "execute_result"
    }
   ],
   "source": [
    "files_metadata = {'files':{}}\n",
    "for type_of_netcdf in response['files'].keys():\n",
    "    files_metadata['files'][type_of_netcdf] = {}\n",
    "    for k,v in response['files'][type_of_netcdf].items():\n",
    "        if k == 'entries':\n",
    "            files_metadata['files'][type_of_netcdf][k] = len(v)\n",
    "        else:\n",
    "            files_metadata['files'][type_of_netcdf][k] = v\n",
    "HTML(json2html.convert(json=files_metadata))"
   ]
  },
  {
   "cell_type": "code",
   "execution_count": 71,
   "metadata": {
    "collapsed": false
   },
   "outputs": [
    {
     "data": {
      "text/html": [
       "<table border=\"1\"><tr><th>http_file</th><th>variables</th><th>last_update</th><th>initial_datetime</th><th>end_datetime</th><th>opendap</th><th>coverage_bounding_box</th><th>processing_level</th></tr><tr><td>http://thredds.socib.es/thredds/fileServer/mooring/waves_recorder/mobims_calamillor/L1/2011/dep20110520_mobims-calamillor_L1_2011-06.nc</td><td><ul><li>sea_surface_wave_maximum_period</li><li>sea_surface_wave_peak_period</li><li>sea_surface_wave_significant_height</li><li>sea_surface_wave_mean_height</li><li>sea_surface_wave_mean_period</li><li>sea_surface_wave_max_height</li><li>sea_surface_wave_from_direction</li><li>sea_surface_wave_mean_directional_dispersion</li></ul></td><td>2016-02-11 08:30:06+00:00</td><td>2011-06-01 00:00:00+00:00</td><td>2011-06-30 23:00:00+00:00</td><td>http://thredds.socib.es/thredds/dodsC/mooring/waves_recorder/mobims_calamillor/L1/2011/dep20110520_mobims-calamillor_L1_2011-06.nc</td><td><table border=\"1\"><tr><th>type</th><td>Polygon</td></tr><tr><th>coordinates</th><td><ul><li><ul><li><ul><li>3.39974</li><li>39.59236</li></ul></li><li><ul><li>3.39974</li><li>39.59236</li></ul></li><li><ul><li>3.39974</li><li>39.59236</li></ul></li><li><ul><li>3.39974</li><li>39.59236</li></ul></li><li><ul><li>3.39974</li><li>39.59236</li></ul></li></ul></li></ul></td></tr></table></td><td>L1</td></tr><tr><td>http://thredds.socib.es/thredds/fileServer/mooring/waves_recorder/mobims_calamillor/L1/2011/dep20110520_mobims-calamillor_L1_2011-05.nc</td><td><ul><li>sea_surface_wave_maximum_period</li><li>sea_surface_wave_peak_period</li><li>sea_surface_wave_significant_height</li><li>sea_surface_wave_mean_height</li><li>sea_surface_wave_mean_period</li><li>sea_surface_wave_max_height</li><li>sea_surface_wave_from_direction</li><li>sea_surface_wave_mean_directional_dispersion</li></ul></td><td>2016-02-11 08:30:06+00:00</td><td>2011-05-20 16:00:00+00:00</td><td>2011-05-31 23:00:00+00:00</td><td>http://thredds.socib.es/thredds/dodsC/mooring/waves_recorder/mobims_calamillor/L1/2011/dep20110520_mobims-calamillor_L1_2011-05.nc</td><td><table border=\"1\"><tr><th>type</th><td>Polygon</td></tr><tr><th>coordinates</th><td><ul><li><ul><li><ul><li>3.39974</li><li>39.59236</li></ul></li><li><ul><li>3.39974</li><li>39.59236</li></ul></li><li><ul><li>3.39974</li><li>39.59236</li></ul></li><li><ul><li>3.39974</li><li>39.59236</li></ul></li><li><ul><li>3.39974</li><li>39.59236</li></ul></li></ul></li></ul></td></tr></table></td><td>L1</td></tr></table>"
      ],
      "text/plain": [
       "<IPython.core.display.HTML object>"
      ]
     },
     "execution_count": 71,
     "metadata": {},
     "output_type": "execute_result"
    }
   ],
   "source": [
    "HTML(json2html.convert(json=response['files']['platform']['entries']))"
   ]
  },
  {
   "cell_type": "markdown",
   "metadata": {},
   "source": [
    "<h3> WHAT ELSE?</h3>"
   ]
  },
  {
   "cell_type": "markdown",
   "metadata": {},
   "source": [
    "<ul><li><b>REQUESTING LATEST DATA-PLATFORM'S FILES</b> <br><br> If you want to know more about how to access a given data-platform's data please have a look at the [Example 9](requesting_a_data_platforms_latest_files.ipynb)('Accessing the latest files of a data-platform'), where it is explained how to request a data-platform lastest files (data-sources's netCDFs)</li></ul>"
   ]
  }
 ],
 "metadata": {
  "kernelspec": {
   "display_name": "Python [Root]",
   "language": "python",
   "name": "Python [Root]"
  },
  "language_info": {
   "codemirror_mode": {
    "name": "ipython",
    "version": 2
   },
   "file_extension": ".py",
   "mimetype": "text/x-python",
   "name": "python",
   "nbconvert_exporter": "python",
   "pygments_lexer": "ipython2",
   "version": "2.7.12"
  }
 },
 "nbformat": 4,
 "nbformat_minor": 0
}

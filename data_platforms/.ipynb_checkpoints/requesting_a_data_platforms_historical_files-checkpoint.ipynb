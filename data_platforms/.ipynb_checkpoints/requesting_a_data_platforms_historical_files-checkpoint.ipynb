{
 "cells": [
  {
   "cell_type": "markdown",
   "metadata": {},
   "source": [
    "<h1 class=\"header\"><img class=\"logo\" src=\"https://github.com/pazrg/SOCIB_API/raw/master/images/socib_logo.png\" width=\"200px\"></h1>"
   ]
  },
  {
   "cell_type": "markdown",
   "metadata": {},
   "source": [
    "<h3> STYLING NOTEBOOK (OPTIONAL)</h3>"
   ]
  },
  {
   "cell_type": "code",
   "execution_count": 8,
   "metadata": {
    "collapsed": false
   },
   "outputs": [
    {
     "data": {
      "text/html": [
       "<style>\n",
       "\n",
       "h1{\n",
       "\tfloat:right !important\n",
       "}\n",
       "\n",
       "h1>img{\n",
       "\twidth: 200px !important\n",
       "}\n",
       "\n",
       "h3{\n",
       "\tbackground-color: #00334C;\n",
       "\tborder: 1px solid #e3e3e3;\n",
       "\tborder-radius: 4px;\n",
       "\tcolor: #3dabb6; \n",
       "\tpadding: 19px\n",
       "}\n",
       "\n",
       "h3>span{\n",
       "\tborder: 1px solid #3dabb6;\n",
       "\tborder-radius: 4px;\n",
       "\tbackground-color: #3dabb6; \n",
       "\tcolor: white; \n",
       "\tpadding: 5px\n",
       "}\n",
       "\n",
       "ul>li>b{\n",
       "\tborder: 1px solid #3dabb6;\n",
       "\tborder-radius: 4px;\n",
       "\tbackground-color: #3dabb6; \n",
       "\tcolor: white; padding: 5px;\n",
       "}\n",
       "</style>\n"
      ],
      "text/plain": [
       "<IPython.core.display.HTML object>"
      ]
     },
     "execution_count": 8,
     "metadata": {},
     "output_type": "execute_result"
    }
   ],
   "source": [
    "from IPython.core.display import HTML\n",
    "import urllib2\n",
    "HTML(urllib2.urlopen('https://raw.githubusercontent.com/pazrg/SOCIB_API/master/style/custom/custom.css').read())"
   ]
  },
  {
   "cell_type": "markdown",
   "metadata": {},
   "source": [
    "<h3> HANDY PYTHON PACKAGES </h3>"
   ]
  },
  {
   "cell_type": "code",
   "execution_count": 74,
   "metadata": {
    "collapsed": false
   },
   "outputs": [],
   "source": [
    "import requests\n",
    "import json\n",
    "import matplotlib.pyplot as plt\n",
    "import numpy as np\n",
    "from mpl_toolkits.basemap import Basemap\n",
    "from matplotlib.patches import Polygon\n",
    "from json2html import *\n",
    "from IPython.display import HTML, display\n",
    "from matplotlib import colors\n",
    "import shapely\n",
    "from shapely.geometry import box\n",
    "from matplotlib.patches import Polygon\n",
    "from datetime import datetime\n",
    "%matplotlib inline"
   ]
  },
  {
   "cell_type": "markdown",
   "metadata": {},
   "source": [
    "<h3> PREREQUISITES </h3>"
   ]
  },
  {
   "cell_type": "code",
   "execution_count": 10,
   "metadata": {
    "collapsed": true
   },
   "outputs": [],
   "source": [
    "api_key = '' #write you SOCIB api_key\n",
    "api_url = 'http://api.socib.es'\n",
    "headers = {\n",
    "    'accept': 'application/vnd.socib+json',\n",
    "    'api_key': api_key,\n",
    "}"
   ]
  },
  {
   "cell_type": "markdown",
   "metadata": {},
   "source": [
    "<h3> REQUESTING A DATA-PLATFORM'S FILES </h3>"
   ]
  },
  {
   "cell_type": "markdown",
   "metadata": {},
   "source": [
    "Let's look for a certain type of data-platforms:"
   ]
  },
  {
   "cell_type": "code",
   "execution_count": 102,
   "metadata": {
    "collapsed": false
   },
   "outputs": [
    {
     "name": "stdout",
     "output_type": "stream",
     "text": [
      "Requested url: http://api.socib.es/data-platforms/?type=Coastal Station\n",
      " \n",
      "6 platforms of type Coastal Station has been used in SOCIB deployments \n"
     ]
    }
   ],
   "source": [
    "end_point = '/data-platforms/'\n",
    "platform_type = 'Coastal Station'\n",
    "url_addons = \"?type=%s\"%(platform_type)\n",
    "request = requests.get('%s%s%s' % (api_url, end_point,url_addons), headers=headers)\n",
    "response = json.loads(request.text)\n",
    "\n",
    "print('Requested url: '+'%s%s%s' % (api_url, end_point,url_addons))\n",
    "print(\" \")\n",
    "print('%s platforms of type %s has been used in SOCIB deployments '% (response['count'], platform_type))"
   ]
  },
  {
   "cell_type": "code",
   "execution_count": 103,
   "metadata": {
    "collapsed": false
   },
   "outputs": [
    {
     "data": {
      "text/html": [
       "<table border=\"1\"><tr><th>wmo_naming_authority</th><th>wmo_code</th><th>type</th><th>name</th><th>is_active</th></tr><tr><td>None</td><td>None</td><td>Coastal Station</td><td>Mobims_CalaMillor</td><td>True</td></tr><tr><td>None</td><td>None</td><td>Coastal Station</td><td>Mobims_PlayaDePalma</td><td>True</td></tr><tr><td>None</td><td>None</td><td>Coastal Station</td><td>Mobims_SonBou</td><td>True</td></tr><tr><td>None</td><td>None</td><td>Coastal Station</td><td>Station_Ciutadella</td><td>True</td></tr><tr><td>None</td><td>None</td><td>Coastal Station</td><td>Station_LaMola</td><td>True</td></tr><tr><td>None</td><td>None</td><td>Coastal Station</td><td>Station_SonBlanc</td><td>True</td></tr></table>"
      ],
      "text/plain": [
       "<IPython.core.display.HTML object>"
      ]
     },
     "execution_count": 103,
     "metadata": {},
     "output_type": "execute_result"
    }
   ],
   "source": [
    "HTML(json2html.convert(json=response['results']))"
   ]
  },
  {
   "cell_type": "markdown",
   "metadata": {},
   "source": [
    "Next we will see how to get historical netCDFs comming form one of the above platforms."
   ]
  },
  {
   "cell_type": "markdown",
   "metadata": {},
   "source": [
    "<h3>EXPLORING THE <span>/DATA-PLATFORM/{NAME}/FILES/HISTORICAL</span> AUXILIARY ENDPOINT</h3>"
   ]
  },
  {
   "cell_type": "markdown",
   "metadata": {},
   "source": [
    "Let's focuse on the first data-platform from above list and request its historical files:"
   ]
  },
  {
   "cell_type": "code",
   "execution_count": 104,
   "metadata": {
    "collapsed": false
   },
   "outputs": [],
   "source": [
    "targeted_data_platform = response['results'][0] #data platform number 0"
   ]
  },
  {
   "cell_type": "code",
   "execution_count": 105,
   "metadata": {
    "collapsed": false
   },
   "outputs": [
    {
     "name": "stdout",
     "output_type": "stream",
     "text": [
      "Requested url: http://api.socib.es/data-platforms/Mobims_CalaMillor/files/historical. Be aware of the name requested\n"
     ]
    }
   ],
   "source": [
    "end_point_plus_aux = '/data-platforms/'+targeted_data_platform['name']+'/files/historical'\n",
    "request = requests.get('%s%s' % (api_url, end_point_plus_aux), headers=headers)\n",
    "response = json.loads(request.text)\n",
    "print('Requested url: '+'%s%s. Be aware of the name requested' % (api_url, end_point_plus_aux))"
   ]
  },
  {
   "cell_type": "code",
   "execution_count": 106,
   "metadata": {
    "collapsed": false
   },
   "outputs": [
    {
     "data": {
      "text/html": [
       "<table border=\"1\"><tr><th>type</th><td>Coastal Station</td></tr><tr><th>variables</th><td><ul><li>sea_surface_wave_peak_period</li><li>sea_surface_wave_mean_period</li><li>sea_surface_wave_maximum_period</li><li>sea_surface_wave_significant_height</li><li>sea_surface_wave_max_height</li><li>sea_surface_wave_mean_height</li><li>sea_surface_wave_from_direction</li><li>sea_surface_wave_mean_directional_dispersion</li><li>wind_speed_of_gust</li><li>wind_speed</li><li>wind_from_direction</li><li>voltage</li><li>relative_humidity</li><li>rain_peak_intensity</li><li>rain_intensity</li><li>rain_duration</li><li>rain_accumulation</li><li>air_temperature</li><li>air_pressure</li><li>acyclic_wind_direction</li></ul></td></tr><tr><th>is_active</th><td>True</td></tr><tr><th>name</th><td>Mobims_CalaMillor</td></tr><tr><th>entries</th><td>255</td></tr></table>"
      ],
      "text/plain": [
       "<IPython.core.display.HTML object>"
      ]
     },
     "execution_count": 106,
     "metadata": {},
     "output_type": "execute_result"
    }
   ],
   "source": [
    "files_metadata = {k:v for k, v in response.items() if k != 'entries'} #skipping the deployment data for later\n",
    "for k, v in response.items():\n",
    "    if k == 'entries':\n",
    "        files_metadata[k] = len(v) \n",
    "HTML(json2html.convert(json=files_metadata))"
   ]
  },
  {
   "cell_type": "code",
   "execution_count": 107,
   "metadata": {
    "collapsed": false
   },
   "outputs": [
    {
     "name": "stdout",
     "output_type": "stream",
     "text": [
      "From above answer we know there are 255 netCDFs (so-called \"entries\") generated in deployemnts involving Mobims_CalaMillor platform\n"
     ]
    }
   ],
   "source": [
    "print('From above answer we know there are %s netCDFs (so-called \"entries\") generated in deployemnts involving %s platform'%(files_metadata['entries'], targeted_data_platform['name']))"
   ]
  },
  {
   "cell_type": "markdown",
   "metadata": {},
   "source": [
    "Let's have a look to the first netCDFs:"
   ]
  },
  {
   "cell_type": "code",
   "execution_count": 66,
   "metadata": {
    "collapsed": false
   },
   "outputs": [],
   "source": [
    "targeted_netCDF = response['entries'][0] #netCDF number 0"
   ]
  },
  {
   "cell_type": "code",
   "execution_count": 67,
   "metadata": {
    "collapsed": false
   },
   "outputs": [
    {
     "data": {
      "text/html": [
       "<table border=\"1\"><tr><th>http_file</th><td>http://thredds.socib.es/thredds/fileServer/mooring/waves_recorder/mobims_calamillor/L1/2017/dep20110520_mobims-calamillor_L1_2017-11.nc</td></tr><tr><th>variables</th><td><ul><li>sea_surface_wave_peak_period</li><li>sea_surface_wave_mean_period</li><li>sea_surface_wave_maximum_period</li><li>sea_surface_wave_significant_height</li><li>sea_surface_wave_max_height</li><li>sea_surface_wave_mean_height</li><li>sea_surface_wave_from_direction</li><li>sea_surface_wave_mean_directional_dispersion</li></ul></td></tr><tr><th>last_update</th><td>2017-11-30 10:41:31+00:00</td></tr><tr><th>initial_datetime</th><td>2017-11-01 00:00:00+00:00</td></tr><tr><th>end_datetime</th><td>2017-11-16 10:00:00+00:00</td></tr><tr><th>opendap</th><td>http://thredds.socib.es/thredds/dodsC/mooring/waves_recorder/mobims_calamillor/L1/2017/dep20110520_mobims-calamillor_L1_2017-11.nc</td></tr><tr><th>coverage_bounding_box</th><td><table border=\"1\"><tr><th>type</th><td>Polygon</td></tr><tr><th>coordinates</th><td><ul><li><ul><li><ul><li>3.39974</li><li>39.59236</li></ul></li><li><ul><li>3.39974</li><li>39.59236</li></ul></li><li><ul><li>3.39974</li><li>39.59236</li></ul></li><li><ul><li>3.39974</li><li>39.59236</li></ul></li><li><ul><li>3.39974</li><li>39.59236</li></ul></li></ul></li></ul></td></tr></table></td></tr><tr><th>processing_level</th><td>L1</td></tr></table>"
      ],
      "text/plain": [
       "<IPython.core.display.HTML object>"
      ]
     },
     "execution_count": 67,
     "metadata": {},
     "output_type": "execute_result"
    }
   ],
   "source": [
    "netCDF_metadata = {k:v for k, v in targeted_netCDF.items()}\n",
    "HTML(json2html.convert(json=netCDF_metadata))"
   ]
  },
  {
   "cell_type": "markdown",
   "metadata": {},
   "source": [
    "For every netCDF retourned you have a number of services to download, access and explore a given data-platform netCDFs (so-called entries)."
   ]
  },
  {
   "cell_type": "markdown",
   "metadata": {},
   "source": [
    "<h3>SUBSETTING THE <span>/DATA-PLATFORM/{NAME}/FILES/HISTORICAL</span> AUXILIARY ENDPOINT</h3>"
   ]
  },
  {
   "cell_type": "markdown",
   "metadata": {},
   "source": [
    "Let's think you only want to recover netCDFs comming form a certain platform in a certain time range. In this case you have 'query params' for filtering the above generic answer and retorun only those netcDFs overlapping with an specific time range."
   ]
  },
  {
   "cell_type": "markdown",
   "metadata": {},
   "source": [
    "Let's get first a glimpse of the time coverage of this platform:"
   ]
  },
  {
   "cell_type": "code",
   "execution_count": 87,
   "metadata": {
    "collapsed": false
   },
   "outputs": [
    {
     "name": "stdout",
     "output_type": "stream",
     "text": [
      "From 2011-05-20 16:00:00+00:00 to 2018-11-03 17:08:43+00:00\n"
     ]
    }
   ],
   "source": [
    "ordered_netCDFs = sorted(response['entries'], key=lambda k: k['initial_datetime']) \n",
    "print('From '+ordered_netCDFs[0]['initial_datetime']+' to '+ordered_netCDFs[len(ordered_netCDFs)-1]['end_datetime'])"
   ]
  },
  {
   "cell_type": "markdown",
   "metadata": {},
   "source": [
    "This does not mean the above platform has been used continuously in the above time window but at least gives a time reference to its operating life based on its first and last available netCDF."
   ]
  },
  {
   "cell_type": "markdown",
   "metadata": {},
   "source": [
    "Regarding the above information, let's repeat the query for historical files searching in a specific time range:"
   ]
  },
  {
   "cell_type": "code",
   "execution_count": 96,
   "metadata": {
    "collapsed": false
   },
   "outputs": [
    {
     "name": "stdout",
     "output_type": "stream",
     "text": [
      "Requested url: http://api.socib.es/data-platforms/Mobims_CalaMillor/files/historical/?from=2011-05-20T00:00:00&to=2011-06-20T00:00:00. Be aware of the name requested\n"
     ]
    }
   ],
   "source": [
    "end_point_plus_aux = '/data-platforms/'+targeted_data_platform['name']+'/files/historical/'\n",
    "time_range_start = '2011-05-20T00:00:00' # should match the notation YYYY-MM-DDTHH:MM:SS\n",
    "time_range_end =  '2011-06-20T00:00:00' # should match the notation YYYY-MM-DDTHH:MM:SS\n",
    "url_addons = '?from=%s&to=%s'%(time_range_start,time_range_end)\n",
    "request = requests.get('%s%s%s' % (api_url, end_point_plus_aux, url_addons), headers=headers)\n",
    "response = json.loads(request.text)\n",
    "print('Requested url: '+'%s%s%s. Be aware of the name requested' % (api_url, end_point_plus_aux, url_addons))"
   ]
  },
  {
   "cell_type": "code",
   "execution_count": 98,
   "metadata": {
    "collapsed": false
   },
   "outputs": [
    {
     "data": {
      "text/html": [
       "<table border=\"1\"><tr><th>type</th><td>Coastal Station</td></tr><tr><th>variables</th><td><ul><li>sea_surface_wave_peak_period</li><li>sea_surface_wave_mean_period</li><li>sea_surface_wave_maximum_period</li><li>sea_surface_wave_significant_height</li><li>sea_surface_wave_max_height</li><li>sea_surface_wave_mean_height</li><li>sea_surface_wave_from_direction</li><li>sea_surface_wave_mean_directional_dispersion</li></ul></td></tr><tr><th>is_active</th><td>True</td></tr><tr><th>name</th><td>Mobims_CalaMillor</td></tr><tr><th>entries</th><td><table border=\"1\"><tr><th>http_file</th><th>variables</th><th>last_update</th><th>initial_datetime</th><th>end_datetime</th><th>opendap</th><th>coverage_bounding_box</th><th>processing_level</th></tr><tr><td>http://thredds.socib.es/thredds/fileServer/mooring/waves_recorder/mobims_calamillor/L1/2011/dep20110520_mobims-calamillor_L1_2011-06.nc</td><td><ul><li>sea_surface_wave_peak_period</li><li>sea_surface_wave_mean_period</li><li>sea_surface_wave_maximum_period</li><li>sea_surface_wave_significant_height</li><li>sea_surface_wave_max_height</li><li>sea_surface_wave_mean_height</li><li>sea_surface_wave_from_direction</li><li>sea_surface_wave_mean_directional_dispersion</li></ul></td><td>2016-02-11 08:30:06+00:00</td><td>2011-06-01 00:00:00+00:00</td><td>2011-06-30 23:00:00+00:00</td><td>http://thredds.socib.es/thredds/dodsC/mooring/waves_recorder/mobims_calamillor/L1/2011/dep20110520_mobims-calamillor_L1_2011-06.nc</td><td><table border=\"1\"><tr><th>type</th><td>Polygon</td></tr><tr><th>coordinates</th><td><ul><li><ul><li><ul><li>3.39974</li><li>39.59236</li></ul></li><li><ul><li>3.39974</li><li>39.59236</li></ul></li><li><ul><li>3.39974</li><li>39.59236</li></ul></li><li><ul><li>3.39974</li><li>39.59236</li></ul></li><li><ul><li>3.39974</li><li>39.59236</li></ul></li></ul></li></ul></td></tr></table></td><td>L1</td></tr><tr><td>http://thredds.socib.es/thredds/fileServer/mooring/waves_recorder/mobims_calamillor/L1/2011/dep20110520_mobims-calamillor_L1_2011-05.nc</td><td><ul><li>sea_surface_wave_peak_period</li><li>sea_surface_wave_mean_period</li><li>sea_surface_wave_maximum_period</li><li>sea_surface_wave_significant_height</li><li>sea_surface_wave_max_height</li><li>sea_surface_wave_mean_height</li><li>sea_surface_wave_from_direction</li><li>sea_surface_wave_mean_directional_dispersion</li></ul></td><td>2016-02-11 08:30:06+00:00</td><td>2011-05-20 16:00:00+00:00</td><td>2011-05-31 23:00:00+00:00</td><td>http://thredds.socib.es/thredds/dodsC/mooring/waves_recorder/mobims_calamillor/L1/2011/dep20110520_mobims-calamillor_L1_2011-05.nc</td><td><table border=\"1\"><tr><th>type</th><td>Polygon</td></tr><tr><th>coordinates</th><td><ul><li><ul><li><ul><li>3.39974</li><li>39.59236</li></ul></li><li><ul><li>3.39974</li><li>39.59236</li></ul></li><li><ul><li>3.39974</li><li>39.59236</li></ul></li><li><ul><li>3.39974</li><li>39.59236</li></ul></li><li><ul><li>3.39974</li><li>39.59236</li></ul></li></ul></li></ul></td></tr></table></td><td>L1</td></tr></table></td></tr></table>"
      ],
      "text/plain": [
       "<IPython.core.display.HTML object>"
      ]
     },
     "execution_count": 98,
     "metadata": {},
     "output_type": "execute_result"
    }
   ],
   "source": [
    "files_metadata = {k:v for k, v in response.items()}\n",
    "HTML(json2html.convert(json=files_metadata))"
   ]
  },
  {
   "cell_type": "markdown",
   "metadata": {},
   "source": [
    "<h3> WHAT ELSE?</h3>"
   ]
  },
  {
   "cell_type": "markdown",
   "metadata": {},
   "source": [
    "<ul><li><b>REQUESTING LATEST DATA-PLATFORM'S FILES</b> <br><br> If you want to know more about how to access a given data-platform's data please have a look at the <a href=\"https://github.com/pazrg/SOCIB_API/blob/master/data_platforms/requesting_a_data_platforms_latest_files.ipynb\" target=\"_blank\">Example 9</a> ('Accessing the data of a latest data-platform'), where it is explained how to request a data-platform latest files (data-sources's netCDFs)</li></ul>"
   ]
  }
 ],
 "metadata": {
  "kernelspec": {
   "display_name": "Python [Root]",
   "language": "python",
   "name": "Python [Root]"
  },
  "language_info": {
   "codemirror_mode": {
    "name": "ipython",
    "version": 2
   },
   "file_extension": ".py",
   "mimetype": "text/x-python",
   "name": "python",
   "nbconvert_exporter": "python",
   "pygments_lexer": "ipython2",
   "version": "2.7.12"
  }
 },
 "nbformat": 4,
 "nbformat_minor": 0
}

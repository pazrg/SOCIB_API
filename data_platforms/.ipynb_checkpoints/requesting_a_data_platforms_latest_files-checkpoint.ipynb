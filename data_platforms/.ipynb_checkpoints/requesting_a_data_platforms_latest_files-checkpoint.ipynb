{
 "cells": [
  {
   "cell_type": "markdown",
   "metadata": {},
   "source": [
    "<h1 class=\"header\"><img class=\"logo\" src=\"../images/socib_logo.png\" width=\"200px\"></h1>"
   ]
  },
  {
   "cell_type": "markdown",
   "metadata": {},
   "source": [
    "<h3> STYLING NOTEBOOK (OPTIONAL)</h3>"
   ]
  },
  {
   "cell_type": "code",
   "execution_count": 1,
   "metadata": {
    "collapsed": false
   },
   "outputs": [
    {
     "data": {
      "text/html": [
       "<style>\n",
       "\n",
       "h1{\n",
       "\tfloat:right !important\n",
       "}\n",
       "\n",
       "h1>img{\n",
       "\twidth: 200px !important\n",
       "}\n",
       "\n",
       "h3{\n",
       "\tbackground-color: #00334C;\n",
       "\tborder: 1px solid #e3e3e3;\n",
       "\tborder-radius: 4px;\n",
       "\tcolor: #3dabb6; \n",
       "\tpadding: 19px\n",
       "}\n",
       "\n",
       "h3>span{\n",
       "\tborder: 1px solid #3dabb6;\n",
       "\tborder-radius: 4px;\n",
       "\tbackground-color: #3dabb6; \n",
       "\tcolor: white; \n",
       "\tpadding: 5px\n",
       "}\n",
       "\n",
       "ul>li>b{\n",
       "\tborder: 1px solid #3dabb6;\n",
       "\tborder-radius: 4px;\n",
       "\tbackground-color: #3dabb6; \n",
       "\tcolor: white; padding: 5px;\n",
       "}\n",
       "</style>\n"
      ],
      "text/plain": [
       "<IPython.core.display.HTML object>"
      ]
     },
     "execution_count": 1,
     "metadata": {},
     "output_type": "execute_result"
    }
   ],
   "source": [
    "from IPython.core.display import HTML\n",
    "import urllib2\n",
    "HTML(urllib2.urlopen('https://raw.githubusercontent.com/socib/API_examples/master/style/custom/custom.css').read())"
   ]
  },
  {
   "cell_type": "markdown",
   "metadata": {},
   "source": [
    "<h3> HANDY PYTHON PACKAGES </h3>"
   ]
  },
  {
   "cell_type": "code",
   "execution_count": 1,
   "metadata": {
    "collapsed": false
   },
   "outputs": [],
   "source": [
    "import requests\n",
    "import json\n",
    "import numpy as np\n",
    "from json2html import *\n",
    "from IPython.display import HTML, display\n",
    "%matplotlib inline"
   ]
  },
  {
   "cell_type": "markdown",
   "metadata": {},
   "source": [
    "<h3> PREREQUISITES </h3>"
   ]
  },
  {
   "cell_type": "code",
   "execution_count": 4,
   "metadata": {
    "collapsed": true
   },
   "outputs": [],
   "source": [
    "api_key = '' #write you SOCIB api_key\n",
    "api_url = 'http://api.socib.es'\n",
    "headers = {\n",
    "    'accept': 'application/vnd.socib+json',\n",
    "    'apikey': api_key,\n",
    "}"
   ]
  },
  {
   "cell_type": "markdown",
   "metadata": {},
   "source": [
    "<h3> REQUESTING A DATA-PLATFORM'S FILES </h3>"
   ]
  },
  {
   "cell_type": "markdown",
   "metadata": {},
   "source": [
    "Let's look for a certain type of data-platforms:"
   ]
  },
  {
   "cell_type": "code",
   "execution_count": 5,
   "metadata": {
    "collapsed": false
   },
   "outputs": [
    {
     "name": "stdout",
     "output_type": "stream",
     "text": [
      "Requested url: http://api.socib.es/data-platforms/?type=Glider\n",
      " \n",
      "15 platforms of type Glider has been used in SOCIB deployments \n"
     ]
    }
   ],
   "source": [
    "end_point = '/data-platforms/'\n",
    "platform_type = 'Glider'\n",
    "url_addons = \"?type=%s\"%(platform_type)\n",
    "request = requests.get('%s%s%s' % (api_url, end_point,url_addons), headers=headers)\n",
    "response = json.loads(request.text)\n",
    "\n",
    "print('Requested url: '+'%s%s%s' % (api_url, end_point,url_addons))\n",
    "print(\" \")\n",
    "print('%s platforms of type %s has been used in SOCIB deployments '% (response['count'], platform_type))"
   ]
  },
  {
   "cell_type": "markdown",
   "metadata": {},
   "source": [
    "As the pagination is 8, we will have to loop all pages to get the full list of the data-platforms of type glider:"
   ]
  },
  {
   "cell_type": "code",
   "execution_count": 6,
   "metadata": {
    "collapsed": false
   },
   "outputs": [],
   "source": [
    "results = response['results']\n",
    "page = response['next']\n",
    "while page != None:\n",
    "    request = requests.get(page, headers=headers)\n",
    "    response = json.loads(request.text)\n",
    "    for glider in response['results']:\n",
    "        results.append(glider)\n",
    "    page = response['next']"
   ]
  },
  {
   "cell_type": "code",
   "execution_count": 7,
   "metadata": {
    "collapsed": false
   },
   "outputs": [
    {
     "data": {
      "text/html": [
       "<table border=\"1\"><tr><th>wmo_naming_authority</th><th>wmo_code</th><th>type</th><th>name</th><th>is_active</th></tr><tr><td>JCOMMOBS</td><td>68968</td><td>Glider</td><td>icoast00</td><td>False</td></tr><tr><td>JCOMMOBS</td><td>68452</td><td>Glider</td><td>ideep00</td><td>False</td></tr><tr><td>JCOMMOBS</td><td>68996</td><td>Glider</td><td>ideep01</td><td>False</td></tr><tr><td>JCOMMOBS</td><td>68966</td><td>Glider</td><td>ideep02</td><td>False</td></tr><tr><td>JCOMMOBS</td><td>68457</td><td>Glider</td><td>sdeep00</td><td>False</td></tr><tr><td>JCOMMOBS</td><td>68967</td><td>Glider</td><td>sdeep01</td><td>False</td></tr><tr><td>JCOMMOBS</td><td>68965</td><td>Glider</td><td>sdeep02</td><td>False</td></tr><tr><td>JCOMMOBS</td><td>68969</td><td>Glider</td><td>sdeep03</td><td>False</td></tr><tr><td>JCOMMOBS</td><td>68997</td><td>Glider</td><td>sdeep04</td><td>False</td></tr><tr><td>JCOMMOBS</td><td>68998</td><td>Glider</td><td>sdeep05</td><td>False</td></tr><tr><td>JCOMMOBS</td><td>n/a</td><td>Glider</td><td>sea003</td><td>False</td></tr><tr><td>JCOMMOBS</td><td>n/a</td><td>Glider</td><td>sp014</td><td>False</td></tr><tr><td>JCOMMOBS</td><td>n/a</td><td>Glider</td><td>sp056</td><td>False</td></tr><tr><td>JCOMMOBS</td><td>n/a</td><td>Glider</td><td>sp059</td><td>False</td></tr><tr><td>n/a</td><td>n/a</td><td>Glider</td><td>teresa</td><td>False</td></tr></table>"
      ],
      "text/plain": [
       "<IPython.core.display.HTML object>"
      ]
     },
     "execution_count": 7,
     "metadata": {},
     "output_type": "execute_result"
    }
   ],
   "source": [
    "HTML(json2html.convert(json=results))"
   ]
  },
  {
   "cell_type": "markdown",
   "metadata": {},
   "source": [
    "Next we will see how to get latest netCDFs comming form one of the above platforms."
   ]
  },
  {
   "cell_type": "markdown",
   "metadata": {},
   "source": [
    "<h3>EXPLORING THE <span>/DATA-PLATFORM/{NAME}/FILES/LATEST</span> AUXILIARY ENDPOINT</h3>"
   ]
  },
  {
   "cell_type": "markdown",
   "metadata": {},
   "source": [
    "Let's focuse on the first data-platform from above list and request its latest files:"
   ]
  },
  {
   "cell_type": "code",
   "execution_count": 8,
   "metadata": {
    "collapsed": false
   },
   "outputs": [],
   "source": [
    "targeted_data_platform = results[0] #data platform number 0"
   ]
  },
  {
   "cell_type": "code",
   "execution_count": 9,
   "metadata": {
    "collapsed": false
   },
   "outputs": [
    {
     "name": "stdout",
     "output_type": "stream",
     "text": [
      "Requested url: http://api.socib.es/data-platforms/icoast00/files/latest. Be aware of the name requested\n"
     ]
    }
   ],
   "source": [
    "end_point_plus_aux = '/data-platforms/'+targeted_data_platform['name']+'/files/latest'\n",
    "request = requests.get('%s%s' % (api_url, end_point_plus_aux), headers=headers)\n",
    "response = json.loads(request.text)\n",
    "print('Requested url: '+'%s%s. Be aware of the name requested' % (api_url, end_point_plus_aux))"
   ]
  },
  {
   "cell_type": "code",
   "execution_count": 10,
   "metadata": {
    "collapsed": false
   },
   "outputs": [
    {
     "data": {
      "text/html": [
       "<table border=\"1\"><tr><th>type</th><td>Glider</td></tr><tr><th>variables</th><td></td></tr><tr><th>is_active</th><td>False</td></tr><tr><th>name</th><td>icoast00</td></tr><tr><th>entries</th><td>0</td></tr></table>"
      ],
      "text/plain": [
       "<IPython.core.display.HTML object>"
      ]
     },
     "execution_count": 10,
     "metadata": {},
     "output_type": "execute_result"
    }
   ],
   "source": [
    "files_metadata = {k:v for k, v in response.items() if k != 'entries'} #skipping the deployment data for later\n",
    "for k, v in response.items():\n",
    "    if k == 'entries':\n",
    "        files_metadata[k] = len(v) \n",
    "HTML(json2html.convert(json=files_metadata))"
   ]
  },
  {
   "cell_type": "markdown",
   "metadata": {},
   "source": [
    "<b>By default, the /DATA-PLATFORM/{NAME}/FILES/LATEST auxiliary endpoint pressume that you are interested only in 'current' latest files</b>. If the above platform is inactive, the number of netCDFs ('entries') is zero, while if it is active, the netCDFs from the last deployment are retourned.\n",
    "\n",
    "Let's see how to overwrite the above defaulting behaviour to get current or simply last available files:"
   ]
  },
  {
   "cell_type": "markdown",
   "metadata": {},
   "source": [
    "<h3>/DATA-PLATFORM/{NAME}/FILES/LATEST WITH PARAMS <span>CURRENT FILES</span></h3>"
   ]
  },
  {
   "cell_type": "code",
   "execution_count": 11,
   "metadata": {
    "collapsed": false
   },
   "outputs": [
    {
     "name": "stdout",
     "output_type": "stream",
     "text": [
      "Requested url: http://api.socib.es/data-platforms/icoast00/files/latest/?current=true. Be aware of the name requested\n"
     ]
    }
   ],
   "source": [
    "end_point_plus_aux = '/data-platforms/'+targeted_data_platform['name']+'/files/latest'\n",
    "url_addons = '/?current=true'\n",
    "request = requests.get('%s%s%s' % (api_url, end_point_plus_aux, url_addons), headers=headers)\n",
    "response = json.loads(request.text)\n",
    "print('Requested url: '+'%s%s%s. Be aware of the name requested' % (api_url, end_point_plus_aux, url_addons))"
   ]
  },
  {
   "cell_type": "code",
   "execution_count": 12,
   "metadata": {
    "collapsed": false
   },
   "outputs": [
    {
     "data": {
      "text/html": [
       "<table border=\"1\"><tr><th>type</th><td>Glider</td></tr><tr><th>variables</th><td></td></tr><tr><th>is_active</th><td>False</td></tr><tr><th>name</th><td>icoast00</td></tr><tr><th>entries</th><td>0</td></tr></table>"
      ],
      "text/plain": [
       "<IPython.core.display.HTML object>"
      ]
     },
     "execution_count": 12,
     "metadata": {},
     "output_type": "execute_result"
    }
   ],
   "source": [
    "files_metadata = {k:v for k, v in response.items() if k != 'entries'} #skipping the deployment data for later\n",
    "for k, v in response.items():\n",
    "    if k == 'entries':\n",
    "        files_metadata[k] = len(v) \n",
    "HTML(json2html.convert(json=files_metadata))"
   ]
  },
  {
   "cell_type": "markdown",
   "metadata": {},
   "source": [
    "<h3>/DATA-PLATFORM/{NAME}/FILES/LATEST WITH PARAMS <span>LAST AVAILABLE FILES</span></h3>"
   ]
  },
  {
   "cell_type": "code",
   "execution_count": 13,
   "metadata": {
    "collapsed": false
   },
   "outputs": [
    {
     "name": "stdout",
     "output_type": "stream",
     "text": [
      "Requested url: http://api.socib.es/data-platforms/icoast00/files/latest/?current=false. Be aware of the name requested\n"
     ]
    }
   ],
   "source": [
    "end_point_plus_aux = '/data-platforms/'+targeted_data_platform['name']+'/files/latest'\n",
    "url_addons = '/?current=false'\n",
    "request = requests.get('%s%s%s' % (api_url, end_point_plus_aux, url_addons), headers=headers)\n",
    "response = json.loads(request.text)\n",
    "print('Requested url: '+'%s%s%s. Be aware of the name requested' % (api_url, end_point_plus_aux, url_addons))"
   ]
  },
  {
   "cell_type": "code",
   "execution_count": 14,
   "metadata": {
    "collapsed": false
   },
   "outputs": [
    {
     "data": {
      "text/html": [
       "<table border=\"1\"><tr><th>type</th><td>Glider</td></tr><tr><th>variables</th><td><ul><li>target_longitude</li><li>target_latitude</li><li>current_target_longitude</li><li>current_target_latitude</li><li>northward_sea_water_velocity</li><li>eastward_sea_water_velocity</li><li>internal_pressure</li><li>boolean</li><li>distance</li><li>voltage</li><li>location_class</li><li>iridium_phone_number</li><li>transmission_retries</li><li>number_of_dive</li><li>transmission_duration</li><li>platform_orientation</li><li>platform_speed_wrt_ground</li><li>electrical_comsumption</li><li>mission_duration</li></ul></td></tr><tr><th>is_active</th><td>False</td></tr><tr><th>name</th><td>icoast00</td></tr><tr><th>entries</th><td>2</td></tr></table>"
      ],
      "text/plain": [
       "<IPython.core.display.HTML object>"
      ]
     },
     "execution_count": 14,
     "metadata": {},
     "output_type": "execute_result"
    }
   ],
   "source": [
    "files_metadata = {k:v for k, v in response.items() if k != 'entries'} #skipping the deployment data for later\n",
    "for k, v in response.items():\n",
    "    if k == 'entries':\n",
    "        files_metadata[k] = len(v) \n",
    "HTML(json2html.convert(json=files_metadata))"
   ]
  },
  {
   "cell_type": "markdown",
   "metadata": {},
   "source": [
    "For every netCDF retourned you have a number of services to download, access and explore a given data-platform netCDFs (so-called entries):"
   ]
  },
  {
   "cell_type": "code",
   "execution_count": 15,
   "metadata": {
    "collapsed": false
   },
   "outputs": [
    {
     "data": {
      "text/html": [
       "<table border=\"1\"><tr><th>type</th><td>Glider</td></tr><tr><th>variables</th><td><ul><li>target_longitude</li><li>target_latitude</li><li>current_target_longitude</li><li>current_target_latitude</li><li>northward_sea_water_velocity</li><li>eastward_sea_water_velocity</li><li>internal_pressure</li><li>boolean</li><li>distance</li><li>voltage</li><li>location_class</li><li>iridium_phone_number</li><li>transmission_retries</li><li>number_of_dive</li><li>transmission_duration</li><li>platform_orientation</li><li>platform_speed_wrt_ground</li><li>electrical_comsumption</li><li>mission_duration</li></ul></td></tr><tr><th>is_active</th><td>False</td></tr><tr><th>name</th><td>icoast00</td></tr><tr><th>entries</th><td><table border=\"1\"><tr><th>http_file</th><th>variables</th><th>last_update</th><th>initial_datetime</th><th>end_datetime</th><th>opendap</th><th>coverage_bounding_box</th><th>processing_level</th></tr><tr><td>http://thredds.socib.es/thredds/fileServer/auv/glider/icoast00-ime_slcost000/L0/2017/dep0007_icoast00_ime-slcost000_L0_2017-06-26.nc</td><td><ul><li>target_longitude</li><li>target_latitude</li><li>current_target_longitude</li><li>current_target_latitude</li><li>northward_sea_water_velocity</li><li>eastward_sea_water_velocity</li><li>internal_pressure</li><li>boolean</li><li>distance</li><li>voltage</li><li>location_class</li><li>iridium_phone_number</li><li>transmission_retries</li><li>number_of_dive</li><li>transmission_duration</li><li>platform_orientation</li><li>platform_speed_wrt_ground</li><li>electrical_comsumption</li><li>mission_duration</li></ul></td><td>2017-07-12 08:34:09+00:00</td><td>2017-06-26 08:02:52+00:00</td><td>2017-07-12 08:19:37+00:00</td><td>http://thredds.socib.es/thredds/dodsC/auv/glider/icoast00-ime_slcost000/L0/2017/dep0007_icoast00_ime-slcost000_L0_2017-06-26.nc</td><td><table border=\"1\"><tr><th>type</th><td>Polygon</td></tr><tr><th>coordinates</th><td><ul><li><ul><li><ul><li>2.5655</li><li>38.2555</li></ul></li><li><ul><li>2.5655</li><li>39.3049</li></ul></li><li><ul><li>3.5357</li><li>39.3049</li></ul></li><li><ul><li>3.5357</li><li>38.2555</li></ul></li><li><ul><li>2.5655</li><li>38.2555</li></ul></li></ul></li></ul></td></tr></table></td><td>L0</td></tr><tr><td>http://thredds.socib.es/thredds/fileServer/auv/glider/icoast00-ime_slcost000/L1/2017/dep0007_icoast00_ime-slcost000_L1_2017-06-26.nc</td><td><ul><li>target_longitude</li><li>target_latitude</li><li>current_target_longitude</li><li>current_target_latitude</li><li>northward_sea_water_velocity</li><li>eastward_sea_water_velocity</li><li>internal_pressure</li><li>boolean</li><li>distance</li><li>voltage</li><li>location_class</li><li>iridium_phone_number</li><li>transmission_retries</li><li>number_of_dive</li><li>transmission_duration</li><li>platform_orientation</li><li>platform_speed_wrt_ground</li><li>electrical_comsumption</li><li>mission_duration</li></ul></td><td>2017-07-12 08:34:09+00:00</td><td>2017-06-26 08:02:52+00:00</td><td>2017-07-12 08:19:37+00:00</td><td>http://thredds.socib.es/thredds/dodsC/auv/glider/icoast00-ime_slcost000/L1/2017/dep0007_icoast00_ime-slcost000_L1_2017-06-26.nc</td><td><table border=\"1\"><tr><th>type</th><td>Polygon</td></tr><tr><th>coordinates</th><td><ul><li><ul><li><ul><li>2.5655</li><li>38.2555</li></ul></li><li><ul><li>2.5655</li><li>39.3049</li></ul></li><li><ul><li>3.5357</li><li>39.3049</li></ul></li><li><ul><li>3.5357</li><li>38.2555</li></ul></li><li><ul><li>2.5655</li><li>38.2555</li></ul></li></ul></li></ul></td></tr></table></td><td>L1</td></tr></table></td></tr></table>"
      ],
      "text/plain": [
       "<IPython.core.display.HTML object>"
      ]
     },
     "execution_count": 15,
     "metadata": {},
     "output_type": "execute_result"
    }
   ],
   "source": [
    "files_metadata = {k:v for k, v in response.items()}\n",
    "HTML(json2html.convert(json=files_metadata))"
   ]
  }
 ],
 "metadata": {
  "kernelspec": {
   "display_name": "Python [Root]",
   "language": "python",
   "name": "Python [Root]"
  },
  "language_info": {
   "codemirror_mode": {
    "name": "ipython",
    "version": 2
   },
   "file_extension": ".py",
   "mimetype": "text/x-python",
   "name": "python",
   "nbconvert_exporter": "python",
   "pygments_lexer": "ipython2",
   "version": "2.7.12"
  }
 },
 "nbformat": 4,
 "nbformat_minor": 0
}

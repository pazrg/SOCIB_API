{
 "cells": [
  {
   "cell_type": "markdown",
   "metadata": {},
   "source": [
    "<h1 class=\"header\"><img class=\"logo\" src=\"../images/socib_logo.png\" width=\"200px\"></h1>"
   ]
  },
  {
   "cell_type": "markdown",
   "metadata": {},
   "source": [
    "<h3> STYLING NOTEBOOK (OPTIONAL)</h3>"
   ]
  },
  {
   "cell_type": "code",
   "execution_count": 177,
   "metadata": {
    "collapsed": false
   },
   "outputs": [
    {
     "data": {
      "text/html": [
       "<style>\n",
       "\n",
       "h1{\n",
       "\tfloat:right !important\n",
       "}\n",
       "\n",
       "h1>img{\n",
       "\twidth: 200px !important\n",
       "}\n",
       "\n",
       "h3{\n",
       "\tbackground-color: #00334C;\n",
       "\tborder: 1px solid #e3e3e3;\n",
       "\tborder-radius: 4px;\n",
       "\tcolor: #3dabb6; \n",
       "\tpadding: 19px\n",
       "}\n",
       "\n",
       "h3>span{\n",
       "\tborder: 1px solid #3dabb6;\n",
       "\tborder-radius: 4px;\n",
       "\tbackground-color: #3dabb6; \n",
       "\tcolor: white; \n",
       "\tpadding: 5px\n",
       "}\n",
       "\n",
       "ul>li>b{\n",
       "\tborder: 1px solid #3dabb6;\n",
       "\tborder-radius: 4px;\n",
       "\tbackground-color: #3dabb6; \n",
       "\tcolor: white; padding: 5px;\n",
       "}\n",
       "</style>\n"
      ],
      "text/plain": [
       "<IPython.core.display.HTML object>"
      ]
     },
     "execution_count": 177,
     "metadata": {},
     "output_type": "execute_result"
    }
   ],
   "source": [
    "from IPython.core.display import HTML\n",
    "import urllib\n",
    "HTML(urllib.urlopen('https://raw.githubusercontent.com/socib/API_examples/master/style/custom/custom.css').read())"
   ]
  },
  {
   "cell_type": "markdown",
   "metadata": {},
   "source": [
    "<h3> HANDY PYTHON PACKAGES </h3>"
   ]
  },
  {
   "cell_type": "code",
   "execution_count": 178,
   "metadata": {
    "collapsed": false
   },
   "outputs": [],
   "source": [
    "import requests\n",
    "import json\n",
    "import numpy as np\n",
    "from json2html import *\n",
    "from IPython.display import HTML, display\n",
    "%matplotlib inline"
   ]
  },
  {
   "cell_type": "markdown",
   "metadata": {},
   "source": [
    "<h3> PREREQUISITES </h3>"
   ]
  },
  {
   "cell_type": "code",
   "execution_count": 179,
   "metadata": {
    "collapsed": true
   },
   "outputs": [],
   "source": [
    "api_key = '' #write you SOCIB api_key\n",
    "api_url = 'http://api.socib.es'\n",
    "headers = {\n",
    "    'accept': 'application/vnd.socib+json',\n",
    "    'apikey': api_key,\n",
    "}"
   ]
  },
  {
   "cell_type": "markdown",
   "metadata": {},
   "source": [
    "<h3> REQUESTING A DATA-PLATFORM'S FILES </h3>"
   ]
  },
  {
   "cell_type": "markdown",
   "metadata": {},
   "source": [
    "Let's look for a certain type of data-platforms:"
   ]
  },
  {
   "cell_type": "code",
   "execution_count": 180,
   "metadata": {
    "collapsed": false
   },
   "outputs": [
    {
     "name": "stdout",
     "output_type": "stream",
     "text": [
      "Requested url: http://api.socib.es/data-platforms/?platform_type=Sea Level\n",
      " \n",
      "6 platforms of type Sea Level has been used in SOCIB deployments \n"
     ]
    }
   ],
   "source": [
    "end_point = '/data-platforms/'\n",
    "platform_type = 'Sea Level'\n",
    "url_addons = \"?platform_type=%s\"%(platform_type)\n",
    "request = requests.get('%s%s%s' % (api_url, end_point,url_addons), headers=headers)\n",
    "response = json.loads(request.text)\n",
    "\n",
    "print('Requested url: '+'%s%s%s' % (api_url, end_point,url_addons))\n",
    "print(\" \")\n",
    "print('%s platforms of type %s has been used in SOCIB deployments '% (response['count'], platform_type))"
   ]
  },
  {
   "cell_type": "markdown",
   "metadata": {},
   "source": [
    "As the pagination is 8, we will have to loop all pages to get the full list of the data-platforms of type glider:"
   ]
  },
  {
   "cell_type": "code",
   "execution_count": 181,
   "metadata": {
    "collapsed": false
   },
   "outputs": [],
   "source": [
    "results = response['results']\n",
    "page = response['next']\n",
    "while page != None:\n",
    "    request = requests.get(page, headers=headers)\n",
    "    response = json.loads(request.text)\n",
    "    for glider in response['results']:\n",
    "        results.append(glider)\n",
    "    page = response['next']"
   ]
  },
  {
   "cell_type": "code",
   "execution_count": 182,
   "metadata": {
    "collapsed": false
   },
   "outputs": [
    {
     "data": {
      "text/html": [
       "<table border=\"1\"><tr><th>status</th><th>wmo_naming_authority</th><th>name</th><th>initial_datetime</th><th>end_datetime</th><th>wmo_code</th><th>type</th><th>id</th></tr><tr><td>active</td><td>None</td><td>Station_Andratx</td><td>2011-06-02T00:01:00Z</td><td>2018-12-03T16:29:00Z</td><td>None</td><td>Sea Level</td><td>Station_Andratx</td></tr><tr><td>active</td><td>None</td><td>Station_ColoniaSantPere</td><td>2015-10-28T16:30:00Z</td><td>2018-12-03T16:29:00Z</td><td>None</td><td>Sea Level</td><td>Station_ColoniaSantPere</td></tr><tr><td>active</td><td>None</td><td>Station_Pollensa</td><td>2011-05-31T21:20:00Z</td><td>2018-12-03T16:29:00Z</td><td>None</td><td>Sea Level</td><td>Station_Pollensa</td></tr><tr><td>active</td><td>None</td><td>Station_PortoCristo</td><td>2016-03-01T23:52:00Z</td><td>2018-12-03T16:29:00Z</td><td>None</td><td>Sea Level</td><td>Station_PortoCristo</td></tr><tr><td>active</td><td>None</td><td>Station_SantAntoni</td><td>2015-03-05T16:45:00Z</td><td>2018-12-03T16:28:03Z</td><td>None</td><td>Sea Level</td><td>Station_SantAntoni</td></tr><tr><td>active</td><td>None</td><td>Station_SaRapita</td><td>2011-05-05T15:22:31Z</td><td>2018-10-24T03:09:00Z</td><td>None</td><td>Sea Level</td><td>Station_SaRapita</td></tr></table>"
      ],
      "text/plain": [
       "<IPython.core.display.HTML object>"
      ]
     },
     "execution_count": 182,
     "metadata": {},
     "output_type": "execute_result"
    }
   ],
   "source": [
    "HTML(json2html.convert(json=results))"
   ]
  },
  {
   "cell_type": "markdown",
   "metadata": {},
   "source": [
    "Next we will see how to get latest netCDFs comming from one of the above platforms."
   ]
  },
  {
   "cell_type": "markdown",
   "metadata": {},
   "source": [
    "<h3>EXPLORING THE <span>/DATA-PLATFORM/{NAME}/FILES/LATEST</span> AUXILIARY ENDPOINT</h3>"
   ]
  },
  {
   "cell_type": "markdown",
   "metadata": {},
   "source": [
    "Let's focuse on the first data-platform from above list and request its latest files:"
   ]
  },
  {
   "cell_type": "code",
   "execution_count": 183,
   "metadata": {
    "collapsed": false
   },
   "outputs": [],
   "source": [
    "targeted_data_platform = results[0] #data platform number 0"
   ]
  },
  {
   "cell_type": "code",
   "execution_count": 184,
   "metadata": {
    "collapsed": false
   },
   "outputs": [
    {
     "name": "stdout",
     "output_type": "stream",
     "text": [
      "Requested url: http://api.socib.es/data-platforms/Station_Andratx/files/latest. Be aware of the name requested\n"
     ]
    }
   ],
   "source": [
    "end_point_plus_aux = '/data-platforms/'+targeted_data_platform['name']+'/files/latest'\n",
    "request = requests.get('%s%s' % (api_url, end_point_plus_aux), headers=headers)\n",
    "response = json.loads(request.text)\n",
    "print('Requested url: '+'%s%s. Be aware of the name requested' % (api_url, end_point_plus_aux))"
   ]
  },
  {
   "cell_type": "code",
   "execution_count": 185,
   "metadata": {
    "collapsed": false
   },
   "outputs": [
    {
     "data": {
      "text/html": [
       "<table border=\"1\"><tr><th>platform</th><td>1</td></tr><tr><th>deployment</th><td>4</td></tr></table>"
      ],
      "text/plain": [
       "<IPython.core.display.HTML object>"
      ]
     },
     "execution_count": 185,
     "metadata": {},
     "output_type": "execute_result"
    }
   ],
   "source": [
    "netCDFs = {k:len(v) for k, v in response['entries'].items()}\n",
    "HTML(json2html.convert(json=netCDFs))"
   ]
  },
  {
   "cell_type": "markdown",
   "metadata": {},
   "source": [
    "As you can see, the netCDFs (so-called 'entries') are grouped in 'platforms' and 'deployments'. Why is that?"
   ]
  },
  {
   "cell_type": "markdown",
   "metadata": {},
   "source": [
    "While 'deployment' entries are ordinary netCDFs originated from one of the intruments deployed; <b>'platform' entries are added-value netCDFs</b> that, built by means of the ordinary ones, offers enriched features to the users like: <ul><li><span><b>derived variables</b></span> (from the original variables measured in the different intruments deployed)</li> or <li>a <span><b>single access point</b></span> (only one file containing the information that otherwise would be splitted in different netCDFs due to the fact that they proceed from different intruments)</li></ul>"
   ]
  },
  {
   "cell_type": "markdown",
   "metadata": {},
   "source": [
    "If no entries of type 'platform' are available is because no added-value product is produced form the ordinary netCDFs. On the other hand it can happen also that no entries of type 'deployments' are available. This happens when the deployments files are kept in SOCIB private thredds because for example, its information is redundant once the 'platform' netCDF is available.  "
   ]
  },
  {
   "cell_type": "markdown",
   "metadata": {},
   "source": [
    "Regarding Sea Level's platforms it is possible to find entries of type 'platform'. These entries contain the <i>water_surface_height_above_reference_datum</i> already computed (saving the user this efforst) and also comprises the rest of the data offered by the different intrument deployed:"
   ]
  },
  {
   "cell_type": "code",
   "execution_count": 195,
   "metadata": {
    "collapsed": false
   },
   "outputs": [
    {
     "data": {
      "text/html": [
       "<table border=\"1\"><tr><th>status</th><td>active</td></tr><tr><th>name</th><td>Buoy_BahiaDePalma</td></tr><tr><th>variables</th><td><ul><li>direction_of_sea_water_velocity</li><li>sea_water_electrical_conductivity</li><li>mass_concentration_of_chlorophyll_in_sea_water</li><li>wind_speed_of_gust</li><li>platform_orientation</li><li>turbidity_of_sea_water</li><li>air_pressure</li><li>sea_surface_wave_significant_height</li><li>air_temperature</li><li>voltage</li><li>sea_water_speed</li><li>surface_net_downward_radiative_flux</li><li>wind_from_direction</li><li>sea_surface_swell_wave_period</li><li>sea_water_temperature</li><li>eastward_wind</li><li>northward_wind</li><li>northward_sea_water_velocity</li><li>sea_water_salinity</li><li>eastward_sea_water_velocity</li></ul></td></tr><tr><th>initial_datetime</th><td>2011-06-16T00:30:00Z</td></tr><tr><th>end_datetime</th><td>2018-12-03T16:30:00Z</td></tr><tr><th>entries</th><td><table border=\"1\"><tr><th>platform</th><td></td></tr><tr><th>deployment</th><td><table border=\"1\"><tr><th>http_file</th><th>variables</th><th>last_update</th><th>initial_datetime</th><th>end_datetime</th><th>opendap</th><th>coverage_bounding_box</th><th>processing_level</th></tr><tr><td>http://thredds.socib.es/thredds/fileServer/mooring/oceanographic_buoy/buoy_bahiadepalma-ime_buoy001/L0/2012/dep0001_buoy-bahiadepalma_ime-buoy001_L0_2012-01.nc</td><td><ul><li>direction_of_sea_water_velocity</li><li>sea_water_electrical_conductivity</li><li>mass_concentration_of_chlorophyll_in_sea_water</li><li>wind_speed_of_gust</li><li>platform_orientation</li><li>turbidity_of_sea_water</li><li>air_pressure</li><li>sea_surface_wave_significant_height</li><li>air_temperature</li><li>voltage</li><li>sea_water_speed</li><li>surface_net_downward_radiative_flux</li><li>wind_from_direction</li><li>sea_surface_swell_wave_period</li><li>sea_water_temperature</li></ul></td><td>2012-01-12 09:20:07+00:00</td><td>2012-01-11 10:03:48+00:00</td><td>2012-01-12 08:43:47+00:00</td><td>http://thredds.socib.es/thredds/dodsC/mooring/oceanographic_buoy/buoy_bahiadepalma-ime_buoy001/L0/2012/dep0001_buoy-bahiadepalma_ime-buoy001_L0_2012-01.nc</td><td><table border=\"1\"><tr><th>type</th><td>Polygon</td></tr><tr><th>coordinates</th><td><ul><li><ul><li><ul><li>2.700405</li><li>39.492848</li></ul></li><li><ul><li>2.700405</li><li>39.492848</li></ul></li><li><ul><li>2.700405</li><li>39.492848</li></ul></li><li><ul><li>2.700405</li><li>39.492848</li></ul></li><li><ul><li>2.700405</li><li>39.492848</li></ul></li></ul></li></ul></td></tr></table></td><td>L0</td></tr><tr><td>http://thredds.socib.es/thredds/fileServer/mooring/oceanographic_buoy/buoy_bahiadepalma-ime_buoy001/L1/2012/dep0001_buoy-bahiadepalma_ime-buoy001_L1_2012-01.nc</td><td><ul><li>direction_of_sea_water_velocity</li><li>eastward_wind</li><li>voltage</li><li>wind_speed_of_gust</li><li>northward_wind</li><li>platform_orientation</li><li>turbidity_of_sea_water</li><li>sea_water_electrical_conductivity</li><li>sea_surface_wave_significant_height</li><li>air_pressure</li><li>northward_sea_water_velocity</li><li>sea_water_speed</li><li>sea_water_salinity</li><li>eastward_sea_water_velocity</li><li>surface_net_downward_radiative_flux</li><li>wind_from_direction</li><li>air_temperature</li><li>sea_surface_swell_wave_period</li><li>sea_water_temperature</li><li>mass_concentration_of_chlorophyll_in_sea_water</li></ul></td><td>2012-01-12 09:20:10+00:00</td><td>2012-01-01 00:00:00+00:00</td><td>2012-01-12 08:40:00+00:00</td><td>http://thredds.socib.es/thredds/dodsC/mooring/oceanographic_buoy/buoy_bahiadepalma-ime_buoy001/L1/2012/dep0001_buoy-bahiadepalma_ime-buoy001_L1_2012-01.nc</td><td><table border=\"1\"><tr><th>type</th><td>Polygon</td></tr><tr><th>coordinates</th><td><ul><li><ul><li><ul><li>2.700405</li><li>39.492848</li></ul></li><li><ul><li>2.700405</li><li>39.492848</li></ul></li><li><ul><li>2.700405</li><li>39.492848</li></ul></li><li><ul><li>2.700405</li><li>39.492848</li></ul></li><li><ul><li>2.700405</li><li>39.492848</li></ul></li></ul></li></ul></td></tr></table></td><td>L1</td></tr></table></td></tr></table></td></tr><tr><th>type</th><td>Oceanographic Buoy</td></tr><tr><th>id</th><td>Buoy_BahiaDePalma</td></tr></table>"
      ],
      "text/plain": [
       "<IPython.core.display.HTML object>"
      ]
     },
     "execution_count": 195,
     "metadata": {},
     "output_type": "execute_result"
    }
   ],
   "source": [
    "files_metadata = {k:v for k, v in response.items()}\n",
    "HTML(json2html.convert(json=files_metadata))"
   ]
  },
  {
   "cell_type": "markdown",
   "metadata": {},
   "source": [
    "<h3>/DATA-PLATFORM/{NAME}/FILES/LATEST WITH PARAMS: <span>FILES WITH A CERTAIN VARIABLE</span></h3>"
   ]
  },
  {
   "cell_type": "markdown",
   "metadata": {},
   "source": [
    "By default, the /DATA-PLATFORM/{NAME}/FILES/LATEST auxiliary endpoint returns the latest deployment files of such platform. If you want to further restrict the retourned files to those containing a certain variable, you should rely on the query parameter 'standard_name':"
   ]
  },
  {
   "cell_type": "markdown",
   "metadata": {},
   "source": [
    "Let's start again and look for certain types of platform:"
   ]
  },
  {
   "cell_type": "code",
   "execution_count": 196,
   "metadata": {
    "collapsed": false
   },
   "outputs": [
    {
     "name": "stdout",
     "output_type": "stream",
     "text": [
      "Requested url: http://api.socib.es/data-platforms/?platform_type=Oceanographic Buoy\n",
      " \n",
      "2 platforms of type Oceanographic Buoy\n"
     ]
    }
   ],
   "source": [
    "end_point = '/data-platforms/'\n",
    "platform_type = 'Oceanographic Buoy'\n",
    "url_addons = \"?platform_type=%s\"%(platform_type)\n",
    "request = requests.get('%s%s%s' % (api_url, end_point,url_addons), headers=headers)\n",
    "response = json.loads(request.text)\n",
    "\n",
    "print('Requested url: '+'%s%s%s' % (api_url, end_point,url_addons))\n",
    "print(\" \")\n",
    "print('%s platforms of type %s'% (response['count'], platform_type ))"
   ]
  },
  {
   "cell_type": "code",
   "execution_count": 197,
   "metadata": {
    "collapsed": false
   },
   "outputs": [
    {
     "data": {
      "text/html": [
       "<table border=\"1\"><tr><th>results</th><td><table border=\"1\"><tr><th>status</th><th>wmo_naming_authority</th><th>name</th><th>initial_datetime</th><th>end_datetime</th><th>wmo_code</th><th>type</th><th>id</th></tr><tr><td>active</td><td>JCOMMOBS</td><td>Buoy_BahiaDePalma</td><td>2011-06-16T00:30:00Z</td><td>2018-12-03T16:30:00Z</td><td>61499</td><td>Oceanographic Buoy</td><td>Buoy_BahiaDePalma</td></tr><tr><td>completed</td><td>JCOMMOBS</td><td>Buoy_CanalDeIbiza</td><td>2013-07-01T00:00:00Z</td><td>2018-05-31T23:00:00Z</td><td>61141</td><td>Oceanographic Buoy</td><td>Buoy_CanalDeIbiza</td></tr></table></td></tr></table>"
      ],
      "text/plain": [
       "<IPython.core.display.HTML object>"
      ]
     },
     "execution_count": 197,
     "metadata": {},
     "output_type": "execute_result"
    }
   ],
   "source": [
    "files_metadata = {k:v for k, v in response.items() if k == 'results'} #skipping the data-platform data for later\n",
    "HTML(json2html.convert(json=files_metadata))"
   ]
  },
  {
   "cell_type": "markdown",
   "metadata": {},
   "source": [
    "Let's focuse on the first data-platform from above list and request its latest files:"
   ]
  },
  {
   "cell_type": "code",
   "execution_count": 198,
   "metadata": {
    "collapsed": false
   },
   "outputs": [
    {
     "name": "stdout",
     "output_type": "stream",
     "text": [
      "Requested url: http://api.socib.es/data-platforms/Buoy_BahiaDePalma/files/latest. Be aware of the name requested\n"
     ]
    }
   ],
   "source": [
    "targeted_data_platform = response['results'][0]\n",
    "end_point_plus_aux = '/data-platforms/'+targeted_data_platform['name']+'/files/latest'\n",
    "request = requests.get('%s%s' % (api_url, end_point_plus_aux), headers=headers)\n",
    "response = json.loads(request.text)\n",
    "print('Requested url: '+'%s%s. Be aware of the name requested' % (api_url, end_point_plus_aux))"
   ]
  },
  {
   "cell_type": "code",
   "execution_count": 199,
   "metadata": {
    "collapsed": false
   },
   "outputs": [
    {
     "data": {
      "text/html": [
       "<table border=\"1\"><tr><th>platform</th><td>0</td></tr><tr><th>deployment</th><td>16</td></tr></table>"
      ],
      "text/plain": [
       "<IPython.core.display.HTML object>"
      ]
     },
     "execution_count": 199,
     "metadata": {},
     "output_type": "execute_result"
    }
   ],
   "source": [
    "netCDFs = {k:len(v) for k, v in response['entries'].items()}\n",
    "HTML(json2html.convert(json=netCDFs))"
   ]
  },
  {
   "cell_type": "markdown",
   "metadata": {},
   "source": [
    "Let's restric to those files containing an specific variable:"
   ]
  },
  {
   "cell_type": "code",
   "execution_count": 200,
   "metadata": {
    "collapsed": false
   },
   "outputs": [
    {
     "name": "stdout",
     "output_type": "stream",
     "text": [
      "Requested url: http://api.socib.es/data-platforms/Buoy_BahiaDePalma/files/latest/?standard_variable=sea_water_temperature&standard_variable=sea_surface_wave_significant_height. Be aware of the name requested\n"
     ]
    }
   ],
   "source": [
    "end_point_plus_aux = '/data-platforms/'+targeted_data_platform['name']+'/files/latest'\n",
    "url_addons = '/?standard_variable=sea_water_temperature&standard_variable=sea_surface_wave_significant_height'\n",
    "request = requests.get('%s%s%s' % (api_url, end_point_plus_aux, url_addons), headers=headers)\n",
    "response = json.loads(request.text)\n",
    "print('Requested url: '+'%s%s%s. Be aware of the name requested' % (api_url, end_point_plus_aux, url_addons))"
   ]
  },
  {
   "cell_type": "code",
   "execution_count": 201,
   "metadata": {
    "collapsed": false
   },
   "outputs": [
    {
     "data": {
      "text/html": [
       "<table border=\"1\"><tr><th>platform</th><td>0</td></tr><tr><th>deployment</th><td>2</td></tr></table>"
      ],
      "text/plain": [
       "<IPython.core.display.HTML object>"
      ]
     },
     "execution_count": 201,
     "metadata": {},
     "output_type": "execute_result"
    }
   ],
   "source": [
    "netCDFs = {k:len(v) for k, v in response['entries'].items()}\n",
    "HTML(json2html.convert(json=netCDFs))"
   ]
  },
  {
   "cell_type": "code",
   "execution_count": 202,
   "metadata": {
    "collapsed": false
   },
   "outputs": [
    {
     "data": {
      "text/html": [
       "<table border=\"1\"><tr><th>status</th><td>active</td></tr><tr><th>name</th><td>Buoy_BahiaDePalma</td></tr><tr><th>variables</th><td><ul><li>direction_of_sea_water_velocity</li><li>sea_water_electrical_conductivity</li><li>mass_concentration_of_chlorophyll_in_sea_water</li><li>wind_speed_of_gust</li><li>platform_orientation</li><li>turbidity_of_sea_water</li><li>air_pressure</li><li>sea_surface_wave_significant_height</li><li>air_temperature</li><li>voltage</li><li>sea_water_speed</li><li>surface_net_downward_radiative_flux</li><li>wind_from_direction</li><li>sea_surface_swell_wave_period</li><li>sea_water_temperature</li><li>eastward_wind</li><li>northward_wind</li><li>northward_sea_water_velocity</li><li>sea_water_salinity</li><li>eastward_sea_water_velocity</li></ul></td></tr><tr><th>initial_datetime</th><td>2011-06-16T00:30:00Z</td></tr><tr><th>end_datetime</th><td>2018-12-03T16:30:00Z</td></tr><tr><th>entries</th><td><table border=\"1\"><tr><th>platform</th><td></td></tr><tr><th>deployment</th><td><table border=\"1\"><tr><th>http_file</th><th>variables</th><th>last_update</th><th>initial_datetime</th><th>end_datetime</th><th>opendap</th><th>coverage_bounding_box</th><th>processing_level</th></tr><tr><td>http://thredds.socib.es/thredds/fileServer/mooring/oceanographic_buoy/buoy_bahiadepalma-ime_buoy001/L0/2012/dep0001_buoy-bahiadepalma_ime-buoy001_L0_2012-01.nc</td><td><ul><li>direction_of_sea_water_velocity</li><li>sea_water_electrical_conductivity</li><li>mass_concentration_of_chlorophyll_in_sea_water</li><li>wind_speed_of_gust</li><li>platform_orientation</li><li>turbidity_of_sea_water</li><li>air_pressure</li><li>sea_surface_wave_significant_height</li><li>air_temperature</li><li>voltage</li><li>sea_water_speed</li><li>surface_net_downward_radiative_flux</li><li>wind_from_direction</li><li>sea_surface_swell_wave_period</li><li>sea_water_temperature</li></ul></td><td>2012-01-12 09:20:07+00:00</td><td>2012-01-11 10:03:48+00:00</td><td>2012-01-12 08:43:47+00:00</td><td>http://thredds.socib.es/thredds/dodsC/mooring/oceanographic_buoy/buoy_bahiadepalma-ime_buoy001/L0/2012/dep0001_buoy-bahiadepalma_ime-buoy001_L0_2012-01.nc</td><td><table border=\"1\"><tr><th>type</th><td>Polygon</td></tr><tr><th>coordinates</th><td><ul><li><ul><li><ul><li>2.700405</li><li>39.492848</li></ul></li><li><ul><li>2.700405</li><li>39.492848</li></ul></li><li><ul><li>2.700405</li><li>39.492848</li></ul></li><li><ul><li>2.700405</li><li>39.492848</li></ul></li><li><ul><li>2.700405</li><li>39.492848</li></ul></li></ul></li></ul></td></tr></table></td><td>L0</td></tr><tr><td>http://thredds.socib.es/thredds/fileServer/mooring/oceanographic_buoy/buoy_bahiadepalma-ime_buoy001/L1/2012/dep0001_buoy-bahiadepalma_ime-buoy001_L1_2012-01.nc</td><td><ul><li>direction_of_sea_water_velocity</li><li>eastward_wind</li><li>voltage</li><li>wind_speed_of_gust</li><li>northward_wind</li><li>platform_orientation</li><li>turbidity_of_sea_water</li><li>sea_water_electrical_conductivity</li><li>sea_surface_wave_significant_height</li><li>air_pressure</li><li>northward_sea_water_velocity</li><li>sea_water_speed</li><li>sea_water_salinity</li><li>eastward_sea_water_velocity</li><li>surface_net_downward_radiative_flux</li><li>wind_from_direction</li><li>air_temperature</li><li>sea_surface_swell_wave_period</li><li>sea_water_temperature</li><li>mass_concentration_of_chlorophyll_in_sea_water</li></ul></td><td>2012-01-12 09:20:10+00:00</td><td>2012-01-01 00:00:00+00:00</td><td>2012-01-12 08:40:00+00:00</td><td>http://thredds.socib.es/thredds/dodsC/mooring/oceanographic_buoy/buoy_bahiadepalma-ime_buoy001/L1/2012/dep0001_buoy-bahiadepalma_ime-buoy001_L1_2012-01.nc</td><td><table border=\"1\"><tr><th>type</th><td>Polygon</td></tr><tr><th>coordinates</th><td><ul><li><ul><li><ul><li>2.700405</li><li>39.492848</li></ul></li><li><ul><li>2.700405</li><li>39.492848</li></ul></li><li><ul><li>2.700405</li><li>39.492848</li></ul></li><li><ul><li>2.700405</li><li>39.492848</li></ul></li><li><ul><li>2.700405</li><li>39.492848</li></ul></li></ul></li></ul></td></tr></table></td><td>L1</td></tr></table></td></tr></table></td></tr><tr><th>type</th><td>Oceanographic Buoy</td></tr><tr><th>id</th><td>Buoy_BahiaDePalma</td></tr></table>"
      ],
      "text/plain": [
       "<IPython.core.display.HTML object>"
      ]
     },
     "execution_count": 202,
     "metadata": {},
     "output_type": "execute_result"
    }
   ],
   "source": [
    "files = {k:v for k, v in response.items()}\n",
    "HTML(json2html.convert(json=files))"
   ]
  },
  {
   "cell_type": "markdown",
   "metadata": {},
   "source": [
    "<h3>/DATA-PLATFORM/{NAME}/FILES/LATEST WITH PARAMS: <span>CURRENT vs LAST AVAILABLE FILES</span></h3>"
   ]
  },
  {
   "cell_type": "markdown",
   "metadata": {},
   "source": [
    "<b>By default, the /DATA-PLATFORM/{NAME}/FILES/LATEST auxiliary endpoint returns the latest deployment data of such platform, not minding if it is current data comming form an active deployment or not</b>. \n",
    "Imagine though that you are only interested in retrieveing the last available data coming from a platform as long as this one is still active (has at least one deployment ongoing). For this purpose, we rely on the 'current' query parameter: setting the query parameter 'current' to 'true' will return no netCDFs for inactive platforms."
   ]
  },
  {
   "cell_type": "markdown",
   "metadata": {},
   "source": [
    "<ul><li><h3>Requesting <span>current files</span> (current=true) from an <span>active platform</span></h3></li></ul>"
   ]
  },
  {
   "cell_type": "code",
   "execution_count": 203,
   "metadata": {
    "collapsed": false
   },
   "outputs": [
    {
     "name": "stdout",
     "output_type": "stream",
     "text": [
      "Requested url: http://api.socib.es/data-platforms/?platform_type=Glider&is_active=True\n",
      " \n",
      "1 platform of type Glider is still active \n"
     ]
    }
   ],
   "source": [
    "end_point = '/data-platforms/'\n",
    "platform_type = 'Glider'\n",
    "url_addons = \"?platform_type=%s&is_active=%s\"%(platform_type, True)\n",
    "request = requests.get('%s%s%s' % (api_url, end_point,url_addons), headers=headers)\n",
    "response = json.loads(request.text)\n",
    "\n",
    "print('Requested url: '+'%s%s%s' % (api_url, end_point,url_addons))\n",
    "print(\" \")\n",
    "print('%s platform of type %s is still active '% (response['count'], platform_type))"
   ]
  },
  {
   "cell_type": "markdown",
   "metadata": {},
   "source": [
    "Let's have a look to one of the active platforms:"
   ]
  },
  {
   "cell_type": "code",
   "execution_count": 204,
   "metadata": {
    "collapsed": false
   },
   "outputs": [
    {
     "data": {
      "text/html": [
       "<table border=\"1\"><tr><th>status</th><td>active</td></tr><tr><th>wmo_naming_authority</th><td>JCOMMOBS</td></tr><tr><th>name</th><td>sdeep01</td></tr><tr><th>initial_datetime</th><td>2013-03-22T11:19:44Z</td></tr><tr><th>end_datetime</th><td>2018-12-03T11:18:05Z</td></tr><tr><th>wmo_code</th><td>68967</td></tr><tr><th>type</th><td>Glider</td></tr><tr><th>id</th><td>sdeep01</td></tr></table>"
      ],
      "text/plain": [
       "<IPython.core.display.HTML object>"
      ]
     },
     "execution_count": 204,
     "metadata": {},
     "output_type": "execute_result"
    }
   ],
   "source": [
    "targeted_data_platform = response['results'][0] #let's choose one of the active platforms retoruned\n",
    "files_metadata = {k:v for k, v in targeted_data_platform.items() if k != 'entries'} #skipping the data-platform data for later\n",
    "HTML(json2html.convert(json=files_metadata))"
   ]
  },
  {
   "cell_type": "markdown",
   "metadata": {},
   "source": [
    "As it is an active platform, we will expect some data retourned when setting current=true:"
   ]
  },
  {
   "cell_type": "code",
   "execution_count": 205,
   "metadata": {
    "collapsed": false
   },
   "outputs": [
    {
     "name": "stdout",
     "output_type": "stream",
     "text": [
      "Requested url: http://api.socib.es/data-platforms/sdeep01/files/latest/?current=True. Be aware of the name requested\n"
     ]
    }
   ],
   "source": [
    "end_point_plus_aux = '/data-platforms/'+targeted_data_platform['name']+'/files/latest'\n",
    "url_addons = '/?current=True'\n",
    "request = requests.get('%s%s%s' % (api_url, end_point_plus_aux, url_addons), headers=headers)\n",
    "response = json.loads(request.text)\n",
    "print('Requested url: '+'%s%s%s. Be aware of the name requested' % (api_url, end_point_plus_aux, url_addons))"
   ]
  },
  {
   "cell_type": "code",
   "execution_count": 206,
   "metadata": {
    "collapsed": false
   },
   "outputs": [
    {
     "data": {
      "text/html": [
       "<table border=\"1\"><tr><th>platform</th><td>0</td></tr><tr><th>deployment</th><td>2</td></tr></table>"
      ],
      "text/plain": [
       "<IPython.core.display.HTML object>"
      ]
     },
     "execution_count": 206,
     "metadata": {},
     "output_type": "execute_result"
    }
   ],
   "source": [
    "netCDFs = {k:len(v) for k, v in response['entries'].items()}\n",
    "HTML(json2html.convert(json=netCDFs))"
   ]
  },
  {
   "cell_type": "code",
   "execution_count": 207,
   "metadata": {
    "collapsed": false
   },
   "outputs": [
    {
     "data": {
      "text/html": [
       "<table border=\"1\"><tr><th>status</th><td>active</td></tr><tr><th>name</th><td>sdeep01</td></tr><tr><th>variables</th><td><ul><li>distance</li><li>internal_pressure</li><li>platform_orientation</li><li>current_target_latitude</li><li>boolean</li><li>target_latitude</li><li>electrical_comsumption</li><li>target_longitude</li><li>location_class</li><li>transmission_duration</li><li>northward_sea_water_velocity</li><li>number_of_dive</li><li>voltage</li><li>eastward_sea_water_velocity</li><li>transmission_retries</li><li>iridium_phone_number</li><li>platform_speed_wrt_ground</li><li>mission_duration</li><li>current_target_longitude</li></ul></td></tr><tr><th>initial_datetime</th><td>2013-03-22T11:19:44Z</td></tr><tr><th>end_datetime</th><td>2018-12-03T11:18:05Z</td></tr><tr><th>entries</th><td><table border=\"1\"><tr><th>platform</th><td></td></tr><tr><th>deployment</th><td><table border=\"1\"><tr><th>http_file</th><th>variables</th><th>last_update</th><th>initial_datetime</th><th>end_datetime</th><th>opendap</th><th>coverage_bounding_box</th><th>processing_level</th></tr><tr><td>http://thredds.socib.es/thredds/fileServer/auv/glider/sdeep01-scb_sldeep001/L0/2018/dep0028_sdeep01_scb-sldeep001_L0_2018-11-14.nc</td><td><ul><li>distance</li><li>internal_pressure</li><li>platform_orientation</li><li>current_target_latitude</li><li>boolean</li><li>target_latitude</li><li>electrical_comsumption</li><li>target_longitude</li><li>location_class</li><li>transmission_duration</li><li>northward_sea_water_velocity</li><li>number_of_dive</li><li>voltage</li><li>eastward_sea_water_velocity</li><li>transmission_retries</li><li>iridium_phone_number</li><li>platform_speed_wrt_ground</li><li>mission_duration</li><li>current_target_longitude</li></ul></td><td>2018-12-03 16:41:20+00:00</td><td>2018-11-14 10:36:11+00:00</td><td>2018-12-03 11:18:05+00:00</td><td>http://thredds.socib.es/thredds/dodsC/auv/glider/sdeep01-scb_sldeep001/L0/2018/dep0028_sdeep01_scb-sldeep001_L0_2018-11-14.nc</td><td><table border=\"1\"><tr><th>type</th><td>Polygon</td></tr><tr><th>coordinates</th><td><ul><li><ul><li><ul><li>1.1194</li><li>38.9977</li></ul></li><li><ul><li>1.1194</li><li>39.0002</li></ul></li><li><ul><li>1.1213</li><li>39.0002</li></ul></li><li><ul><li>1.1213</li><li>38.9977</li></ul></li><li><ul><li>1.1194</li><li>38.9977</li></ul></li></ul></li></ul></td></tr></table></td><td>L0</td></tr><tr><td>http://thredds.socib.es/thredds/fileServer/auv/glider/sdeep01-scb_sldeep001/L1/2018/dep0028_sdeep01_scb-sldeep001_L1_2018-11-14.nc</td><td><ul><li>distance</li><li>internal_pressure</li><li>platform_orientation</li><li>current_target_latitude</li><li>boolean</li><li>target_latitude</li><li>electrical_comsumption</li><li>target_longitude</li><li>location_class</li><li>transmission_duration</li><li>northward_sea_water_velocity</li><li>number_of_dive</li><li>voltage</li><li>eastward_sea_water_velocity</li><li>transmission_retries</li><li>iridium_phone_number</li><li>platform_speed_wrt_ground</li><li>mission_duration</li><li>current_target_longitude</li></ul></td><td>2018-12-03 16:41:20+00:00</td><td>2018-11-14 10:36:11+00:00</td><td>2018-12-03 11:18:05+00:00</td><td>http://thredds.socib.es/thredds/dodsC/auv/glider/sdeep01-scb_sldeep001/L1/2018/dep0028_sdeep01_scb-sldeep001_L1_2018-11-14.nc</td><td><table border=\"1\"><tr><th>type</th><td>Polygon</td></tr><tr><th>coordinates</th><td><ul><li><ul><li><ul><li>1.1194</li><li>38.9977</li></ul></li><li><ul><li>1.1194</li><li>39.0002</li></ul></li><li><ul><li>1.1213</li><li>39.0002</li></ul></li><li><ul><li>1.1213</li><li>38.9977</li></ul></li><li><ul><li>1.1194</li><li>38.9977</li></ul></li></ul></li></ul></td></tr></table></td><td>L1</td></tr></table></td></tr></table></td></tr><tr><th>type</th><td>Glider</td></tr><tr><th>id</th><td>sdeep01</td></tr></table>"
      ],
      "text/plain": [
       "<IPython.core.display.HTML object>"
      ]
     },
     "execution_count": 207,
     "metadata": {},
     "output_type": "execute_result"
    }
   ],
   "source": [
    "files_metadata = {k:v for k, v in response.items()}\n",
    "HTML(json2html.convert(json=files_metadata))"
   ]
  },
  {
   "cell_type": "markdown",
   "metadata": {},
   "source": [
    "For every netCDF retourned you have a number of services to download, access and explore a given data-platform netCDFs (so-called entries)."
   ]
  },
  {
   "cell_type": "markdown",
   "metadata": {},
   "source": [
    "<ul><li><h3>Requesting <span>current files</span> (current=true) from an <span>inactive platform</span></li></ul></h3>"
   ]
  },
  {
   "cell_type": "code",
   "execution_count": 208,
   "metadata": {
    "collapsed": false
   },
   "outputs": [
    {
     "name": "stdout",
     "output_type": "stream",
     "text": [
      "Requested url: http://api.socib.es/data-platforms/?platform_type=Glider&is_active=False\n",
      " \n",
      "14 platforms of type Glider are already completed \n"
     ]
    }
   ],
   "source": [
    "end_point = '/data-platforms/'\n",
    "platform_type = 'Glider'\n",
    "url_addons = \"?platform_type=%s&is_active=%s\"%(platform_type, False)\n",
    "request = requests.get('%s%s%s' % (api_url, end_point,url_addons), headers=headers)\n",
    "response = json.loads(request.text)\n",
    "\n",
    "print('Requested url: '+'%s%s%s' % (api_url, end_point,url_addons))\n",
    "print(\" \")\n",
    "print('%s platforms of type %s are already completed '% (response['count'], platform_type))"
   ]
  },
  {
   "cell_type": "markdown",
   "metadata": {},
   "source": [
    "Let's have a look to one of the inactive platforms:"
   ]
  },
  {
   "cell_type": "code",
   "execution_count": 209,
   "metadata": {
    "collapsed": false
   },
   "outputs": [
    {
     "data": {
      "text/html": [
       "<table border=\"1\"><tr><th>status</th><td>completed</td></tr><tr><th>wmo_naming_authority</th><td>JCOMMOBS</td></tr><tr><th>name</th><td>icoast00</td></tr><tr><th>initial_datetime</th><td>2011-09-20T11:01:46Z</td></tr><tr><th>end_datetime</th><td>2017-07-12T08:19:37Z</td></tr><tr><th>wmo_code</th><td>68968</td></tr><tr><th>type</th><td>Glider</td></tr><tr><th>id</th><td>icoast00</td></tr></table>"
      ],
      "text/plain": [
       "<IPython.core.display.HTML object>"
      ]
     },
     "execution_count": 209,
     "metadata": {},
     "output_type": "execute_result"
    }
   ],
   "source": [
    "targeted_data_platform = response['results'][0] #let's choose one of the active platforms retoruned\n",
    "files_metadata = {k:v for k, v in targeted_data_platform.items()}\n",
    "HTML(json2html.convert(json=files_metadata))"
   ]
  },
  {
   "cell_type": "markdown",
   "metadata": {},
   "source": [
    "As it is an inactive platform, we will expect none data retourned when setting current=true:"
   ]
  },
  {
   "cell_type": "code",
   "execution_count": 210,
   "metadata": {
    "collapsed": false
   },
   "outputs": [
    {
     "name": "stdout",
     "output_type": "stream",
     "text": [
      "Requested url: http://api.socib.es/data-platforms/icoast00/files/latest/?current=True. Be aware of the name requested\n"
     ]
    }
   ],
   "source": [
    "end_point_plus_aux = '/data-platforms/'+targeted_data_platform['name']+'/files/latest'\n",
    "url_addons = '/?current=True'\n",
    "request = requests.get('%s%s%s' % (api_url, end_point_plus_aux, url_addons), headers=headers)\n",
    "response = json.loads(request.text)\n",
    "print('Requested url: '+'%s%s%s. Be aware of the name requested' % (api_url, end_point_plus_aux, url_addons))"
   ]
  },
  {
   "cell_type": "code",
   "execution_count": 212,
   "metadata": {
    "collapsed": false
   },
   "outputs": [
    {
     "data": {
      "text/html": [
       "<table border=\"1\"><tr><th>platform</th><td>0</td></tr><tr><th>deployment</th><td>0</td></tr></table>"
      ],
      "text/plain": [
       "<IPython.core.display.HTML object>"
      ]
     },
     "execution_count": 212,
     "metadata": {},
     "output_type": "execute_result"
    }
   ],
   "source": [
    "netCDFs = {k:len(v) for k, v in response['entries'].items()}\n",
    "HTML(json2html.convert(json=netCDFs))"
   ]
  }
 ],
 "metadata": {
  "kernelspec": {
   "display_name": "Python [Root]",
   "language": "python",
   "name": "Python [Root]"
  },
  "language_info": {
   "codemirror_mode": {
    "name": "ipython",
    "version": 2
   },
   "file_extension": ".py",
   "mimetype": "text/x-python",
   "name": "python",
   "nbconvert_exporter": "python",
   "pygments_lexer": "ipython2",
   "version": "2.7.12"
  }
 },
 "nbformat": 4,
 "nbformat_minor": 0
}

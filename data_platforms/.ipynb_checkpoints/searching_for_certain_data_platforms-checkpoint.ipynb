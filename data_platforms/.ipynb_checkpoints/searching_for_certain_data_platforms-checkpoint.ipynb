{
 "cells": [
  {
   "cell_type": "markdown",
   "metadata": {},
   "source": [
    "<h1 class=\"header\"><img class=\"logo\" src=\"https://github.com/pazrg/SOCIB_API/raw/master/images/socib_logo.png\" width=\"200px\"></h1>"
   ]
  },
  {
   "cell_type": "markdown",
   "metadata": {},
   "source": [
    "<h3> STYLING NOTEBOOK (OPTIONAL)</h3>"
   ]
  },
  {
   "cell_type": "code",
   "execution_count": 17,
   "metadata": {
    "collapsed": false
   },
   "outputs": [
    {
     "data": {
      "text/html": [
       "<style>\n",
       "\n",
       "h1{\n",
       "\tfloat:right !important\n",
       "}\n",
       "\n",
       "h1>img{\n",
       "\twidth: 200px !important\n",
       "}\n",
       "\n",
       "h3{\n",
       "\tbackground-color: #00334C;\n",
       "\tborder: 1px solid #e3e3e3;\n",
       "\tborder-radius: 4px;\n",
       "\tcolor: #3dabb6; \n",
       "\tpadding: 19px\n",
       "}\n",
       "\n",
       "h3>span{\n",
       "\tborder: 1px solid #3dabb6;\n",
       "\tborder-radius: 4px;\n",
       "\tbackground-color: #3dabb6; \n",
       "\tcolor: white; \n",
       "\tpadding: 5px\n",
       "}\n",
       "\n",
       "ul>li>b{\n",
       "\tborder: 1px solid #3dabb6;\n",
       "\tborder-radius: 4px;\n",
       "\tbackground-color: #3dabb6; \n",
       "\tcolor: white; padding: 5px;\n",
       "}\n",
       "</style>\n"
      ],
      "text/plain": [
       "<IPython.core.display.HTML object>"
      ]
     },
     "execution_count": 17,
     "metadata": {},
     "output_type": "execute_result"
    }
   ],
   "source": [
    "from IPython.core.display import HTML\n",
    "import urllib2\n",
    "HTML(urllib2.urlopen('https://raw.githubusercontent.com/pazrg/SOCIB_API/master/style/custom/custom.css').read())"
   ]
  },
  {
   "cell_type": "markdown",
   "metadata": {},
   "source": [
    "<h3>HANDY PYTHON PACKAGES</h3>"
   ]
  },
  {
   "cell_type": "code",
   "execution_count": 18,
   "metadata": {
    "collapsed": true
   },
   "outputs": [],
   "source": [
    "import requests\n",
    "import json\n",
    "import matplotlib.pyplot as plt\n",
    "import numpy as np\n",
    "from mpl_toolkits.basemap import Basemap\n",
    "from matplotlib.patches import Polygon\n",
    "from json2html import *\n",
    "from IPython.display import HTML\n",
    "%matplotlib inline"
   ]
  },
  {
   "cell_type": "markdown",
   "metadata": {},
   "source": [
    "<h3>PREREQUISITES</h3>"
   ]
  },
  {
   "cell_type": "code",
   "execution_count": 21,
   "metadata": {
    "collapsed": true
   },
   "outputs": [],
   "source": [
    "api_key = '' #write you SOCIB api_key\n",
    "api_url = 'http://api.socib.es'\n",
    "headers = {\n",
    "    'accept': 'application/vnd.socib+json',\n",
    "    'api_key': api_key,\n",
    "}"
   ]
  },
  {
   "cell_type": "markdown",
   "metadata": {},
   "source": [
    "<h3>  HOW DO I SEARCH FOR CERTIAN DATA-PLATFORM? </h3>"
   ]
  },
  {
   "cell_type": "markdown",
   "metadata": {},
   "source": [
    "As we already saw in [Quick start](https://github.com/pazrg/SOCIB_API/blob/master/tips/quick_start.ipynb) and [What is a data-platform?](https://github.com/pazrg/SOCIB_API/blob/master/data_platforms/what_is_a_data_platform.ipynb) there is an ENDPOINT that allows users to explore all the data-platforms (platforms used in SOCIB's deployments):"
   ]
  },
  {
   "cell_type": "code",
   "execution_count": 22,
   "metadata": {
    "collapsed": false
   },
   "outputs": [
    {
     "name": "stdout",
     "output_type": "stream",
     "text": [
      "Requested url: http://api.socib.es/data-platforms/\n",
      "A total of 206 platforms has been used in SOCIB's deployments\n"
     ]
    }
   ],
   "source": [
    "end_point = '/data-platforms/'\n",
    "request = requests.get('%s%s' % (api_url, end_point), headers=headers)\n",
    "response = json.loads(request.text)\n",
    "\n",
    "print('Requested url: '+'%s%s' % (api_url, end_point))\n",
    "print(\"A total of %s platforms has been used in SOCIB's deployments\"%(response['count']))"
   ]
  },
  {
   "cell_type": "markdown",
   "metadata": {},
   "source": [
    "This enpoint enables also users to set up certain searching criteria via the so called ENDPOINT'S 'PARAMS': additional url elements that filter the initial/bare ENDPOINT response based on the platform type). <br>Let's see how many data-platforms is available per platform type."
   ]
  },
  {
   "cell_type": "markdown",
   "metadata": {},
   "source": [
    "<h3>  SEARCHING DATA-PLATFORMS BY <span>PLATFORM TYPE</span></h3>"
   ]
  },
  {
   "cell_type": "code",
   "execution_count": 23,
   "metadata": {
    "collapsed": false
   },
   "outputs": [
    {
     "name": "stdout",
     "output_type": "stream",
     "text": [
      "Requested url: http://api.socib.es/data-platforms/?type=Oceanographic Buoy\n",
      " \n",
      "2 platforms of type Oceanographic Buoy has been used in SOCIB deployments \n"
     ]
    }
   ],
   "source": [
    "end_point = '/data-platforms/'\n",
    "platform_type = 'Oceanographic Buoy'\n",
    "url_addons = \"?type=%s\"%(platform_type)\n",
    "request = requests.get('%s%s%s' % (api_url, end_point,url_addons), headers=headers)\n",
    "response = json.loads(request.text)\n",
    "\n",
    "print('Requested url: '+'%s%s%s' % (api_url, end_point,url_addons))\n",
    "print(\" \")\n",
    "print('%s platforms of type %s has been used in SOCIB deployments '% (response['count'], platform_type))"
   ]
  },
  {
   "cell_type": "code",
   "execution_count": 24,
   "metadata": {
    "collapsed": false
   },
   "outputs": [
    {
     "data": {
      "text/html": [
       "<table border=\"1\"><tr><th>wmo_naming_authority</th><th>wmo_code</th><th>type</th><th>name</th><th>is_active</th></tr><tr><td>JCOMMOBS</td><td>61499</td><td>Oceanographic Buoy</td><td>Buoy_BahiaDePalma</td><td>True</td></tr><tr><td>JCOMMOBS</td><td>61141</td><td>Oceanographic Buoy</td><td>Buoy_CanalDeIbiza</td><td>False</td></tr></table>"
      ],
      "text/plain": [
       "<IPython.core.display.HTML object>"
      ]
     },
     "execution_count": 24,
     "metadata": {},
     "output_type": "execute_result"
    }
   ],
   "source": [
    "HTML(json2html.convert(json=response['results']))"
   ]
  },
  {
   "cell_type": "markdown",
   "metadata": {},
   "source": [
    "Let's extend this and get the number of data-platforms available for each platform type:"
   ]
  },
  {
   "cell_type": "markdown",
   "metadata": {},
   "source": [
    "Form [Quick start](https://github.com/pazrg/SOCIB_API/blob/master/tips/quick_start.ipynb) we know the different platofrm types available at SOCIB: "
   ]
  },
  {
   "cell_type": "code",
   "execution_count": 25,
   "metadata": {
    "collapsed": true
   },
   "outputs": [],
   "source": [
    "end_point = '/platform-types/'\n",
    "request = requests.get('%s%s' % (api_url, end_point), headers=headers)\n",
    "list_of_platform_types = json.loads(request.text)"
   ]
  },
  {
   "cell_type": "markdown",
   "metadata": {},
   "source": [
    "Let's repeat the above query for every platform type:"
   ]
  },
  {
   "cell_type": "code",
   "execution_count": 26,
   "metadata": {
    "collapsed": true
   },
   "outputs": [],
   "source": [
    "data = {}\n",
    "for platform_type in list_of_platform_types:\n",
    "    end_point = '/data-platforms/'\n",
    "    url_addons = \"?type=%s\"%(platform_type)\n",
    "    request = requests.get('%s%s%s' % (api_url, end_point,url_addons), headers=headers)\n",
    "    response = json.loads(request.text)\n",
    "    data[platform_type] = response['count']"
   ]
  },
  {
   "cell_type": "code",
   "execution_count": 27,
   "metadata": {
    "collapsed": false
   },
   "outputs": [
    {
     "data": {
      "text/html": [
       "<table border=\"1\"><tr><th>Turtle</th><td>0</td></tr><tr><th>Surface drifter</th><td>155</td></tr><tr><th>Profiler drifter</th><td>13</td></tr><tr><th>Coastal Station</th><td>6</td></tr><tr><th>Oceanographic Buoy</th><td>2</td></tr><tr><th>Sea Level</th><td>6</td></tr><tr><th>HF-Radar</th><td>1</td></tr><tr><th>Research Vessel</th><td>3</td></tr><tr><th>Weather Station</th><td>5</td></tr><tr><th>Flowmeter</th><td>0</td></tr><tr><th>Glider</th><td>15</td></tr></table>"
      ],
      "text/plain": [
       "<IPython.core.display.HTML object>"
      ]
     },
     "execution_count": 27,
     "metadata": {},
     "output_type": "execute_result"
    }
   ],
   "source": [
    "HTML(json2html.convert(json=data))"
   ]
  },
  {
   "cell_type": "markdown",
   "metadata": {},
   "source": [
    "<h3>WHAT ELSE?</h3>"
   ]
  },
  {
   "cell_type": "markdown",
   "metadata": {},
   "source": [
    "<ul><li><b>REQUESTING A DATA-PLATFORM'S DATA</b> <br><br> If you want to know more about how to access a given data-platform's data please have a look at the <a href=\"https://github.com/pazrg/SOCIB_API/blob/master/data_platforms/requesting_a_data_platform_data.ipynb\" target=\"_blank\">Example 8</a> ('Accessing the data of a data-platform'), where it is explained how to request a data-platform data via it's data-sources (deployments)</li></ul>"
   ]
  }
 ],
 "metadata": {
  "kernelspec": {
   "display_name": "Python [Root]",
   "language": "python",
   "name": "Python [Root]"
  },
  "language_info": {
   "codemirror_mode": {
    "name": "ipython",
    "version": 2
   },
   "file_extension": ".py",
   "mimetype": "text/x-python",
   "name": "python",
   "nbconvert_exporter": "python",
   "pygments_lexer": "ipython2",
   "version": "2.7.12"
  }
 },
 "nbformat": 4,
 "nbformat_minor": 0
}

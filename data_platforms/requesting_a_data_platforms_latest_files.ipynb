{
 "cells": [
  {
   "cell_type": "markdown",
   "metadata": {},
   "source": [
    "<h1 class=\"header\"><img class=\"logo\" src=\"../images/socib_logo.png\" width=\"200px\"></h1>"
   ]
  },
  {
   "cell_type": "markdown",
   "metadata": {},
   "source": [
    "<h3> STYLING NOTEBOOK (OPTIONAL)</h3>"
   ]
  },
  {
   "cell_type": "code",
   "execution_count": 64,
   "metadata": {
    "collapsed": false
   },
   "outputs": [
    {
     "data": {
      "text/html": [
       "<style>\n",
       "\n",
       "h1{\n",
       "\tfloat:right !important\n",
       "}\n",
       "\n",
       "h1>img{\n",
       "\twidth: 200px !important\n",
       "}\n",
       "\n",
       "h3{\n",
       "\tbackground-color: #00334C;\n",
       "\tborder: 1px solid #e3e3e3;\n",
       "\tborder-radius: 4px;\n",
       "\tcolor: #3dabb6; \n",
       "\tpadding: 19px\n",
       "}\n",
       "\n",
       "h3>span{\n",
       "\tborder: 1px solid #3dabb6;\n",
       "\tborder-radius: 4px;\n",
       "\tbackground-color: #3dabb6; \n",
       "\tcolor: white; \n",
       "\tpadding: 5px\n",
       "}\n",
       "\n",
       "ul>li>b{\n",
       "\tborder: 1px solid #3dabb6;\n",
       "\tborder-radius: 4px;\n",
       "\tbackground-color: #3dabb6; \n",
       "\tcolor: white; padding: 5px;\n",
       "}\n",
       "</style>\n"
      ],
      "text/plain": [
       "<IPython.core.display.HTML object>"
      ]
     },
     "execution_count": 64,
     "metadata": {},
     "output_type": "execute_result"
    }
   ],
   "source": [
    "from IPython.core.display import HTML\n",
    "import urllib\n",
    "HTML(urllib.urlopen('https://raw.githubusercontent.com/socib/API_examples/master/style/custom/custom.css').read())"
   ]
  },
  {
   "cell_type": "markdown",
   "metadata": {},
   "source": [
    "<h3> HANDY PYTHON PACKAGES </h3>"
   ]
  },
  {
   "cell_type": "code",
   "execution_count": 65,
   "metadata": {
    "collapsed": false
   },
   "outputs": [],
   "source": [
    "import requests\n",
    "import json\n",
    "import numpy as np\n",
    "from json2html import *\n",
    "from IPython.display import HTML, display\n",
    "%matplotlib inline"
   ]
  },
  {
   "cell_type": "markdown",
   "metadata": {},
   "source": [
    "<h3> PREREQUISITES </h3>"
   ]
  },
  {
   "cell_type": "code",
   "execution_count": 66,
   "metadata": {
    "collapsed": true
   },
   "outputs": [],
   "source": [
    "api_key = '' #write you SOCIB api_key\n",
    "api_url = 'http://api.socib.es'\n",
    "headers = {\n",
    "    'accept': 'application/vnd.socib+json',\n",
    "    'apikey': api_key,\n",
    "}"
   ]
  },
  {
   "cell_type": "markdown",
   "metadata": {},
   "source": [
    "<h3>DATA-PLATFORM'S FILES </h3>"
   ]
  },
  {
   "cell_type": "markdown",
   "metadata": {},
   "source": [
    "Data platforms can offer 2 type of files: \n",
    "<ul>\n",
    "    <li><span><b>deployment files</b></span>: are the ordinary netCDFs originated from the intruments on board of the platform. <br>These files are therefore the same kind as the ones offered in the data-source endpoint (the so-called <i>entries</i>). </li><br>\n",
    "    <li><span><b>platform files</b></span>: <i>added-value</i> netCDFs obtained after performing higher level operations over the data directly derived from the intruments on board of the platform. These files are therefore <i>enriched files</i> and can,  for example, self-contain all the data comming from the different intruments deployed (a single file per platfrom intead of the different files per instrument) and even procure new variables derived form the data comming from the different instruments. </li>\n",
    "</ul>"
   ]
  },
  {
   "cell_type": "markdown",
   "metadata": {},
   "source": [
    "Let's see illustrate this by requesting a platform data."
   ]
  },
  {
   "cell_type": "markdown",
   "metadata": {},
   "source": [
    "<h3> REQUESTING A DATA-PLATFORM'S  <span>LATEST FILES</span> </h3>"
   ]
  },
  {
   "cell_type": "markdown",
   "metadata": {},
   "source": [
    "Let's look for a certain type of data-platforms:"
   ]
  },
  {
   "cell_type": "code",
   "execution_count": 67,
   "metadata": {
    "collapsed": false
   },
   "outputs": [
    {
     "name": "stdout",
     "output_type": "stream",
     "text": [
      "Requested url: http://api.socib.es/data-platforms/?platform_type=Sea Level\n",
      " \n",
      "6 platforms of type Sea Level has been used in SOCIB deployments \n"
     ]
    }
   ],
   "source": [
    "end_point = '/data-platforms/'\n",
    "platform_type = 'Sea Level'\n",
    "url_addons = \"?platform_type=%s\"%(platform_type)\n",
    "request = requests.get('%s%s%s' % (api_url, end_point,url_addons), headers=headers)\n",
    "response = json.loads(request.text)\n",
    "\n",
    "print('Requested url: '+'%s%s%s' % (api_url, end_point,url_addons))\n",
    "print(\" \")\n",
    "print('%s platforms of type %s has been used in SOCIB deployments '% (response['count'], platform_type))"
   ]
  },
  {
   "cell_type": "markdown",
   "metadata": {},
   "source": [
    "As the pagination is 8, we will have to loop all pages to get the full list of the data-platforms of type glider:"
   ]
  },
  {
   "cell_type": "code",
   "execution_count": 68,
   "metadata": {
    "collapsed": false
   },
   "outputs": [],
   "source": [
    "results = response['results']\n",
    "page = response['next']\n",
    "while page != None:\n",
    "    request = requests.get(page, headers=headers)\n",
    "    response = json.loads(request.text)\n",
    "    for glider in response['results']:\n",
    "        results.append(glider)\n",
    "    page = response['next']"
   ]
  },
  {
   "cell_type": "code",
   "execution_count": 69,
   "metadata": {
    "collapsed": false
   },
   "outputs": [
    {
     "data": {
      "text/html": [
       "<table border=\"1\"><tr><th>status</th><th>wmo_naming_authority</th><th>name</th><th>initial_datetime</th><th>end_datetime</th><th>wmo_code</th><th>type</th><th>id</th></tr><tr><td>active</td><td>None</td><td>Station_Andratx</td><td>2011-06-02T00:01:00Z</td><td>2018-12-12T10:59:00Z</td><td>None</td><td>Sea Level</td><td>Station_Andratx</td></tr><tr><td>active</td><td>None</td><td>Station_ColoniaSantPere</td><td>2015-10-28T16:30:00Z</td><td>2018-12-12T10:29:00Z</td><td>None</td><td>Sea Level</td><td>Station_ColoniaSantPere</td></tr><tr><td>active</td><td>None</td><td>Station_Pollensa</td><td>2011-05-31T21:20:00Z</td><td>2018-12-12T10:59:00Z</td><td>None</td><td>Sea Level</td><td>Station_Pollensa</td></tr><tr><td>active</td><td>None</td><td>Station_PortoCristo</td><td>2016-03-01T23:52:00Z</td><td>2018-12-12T10:59:00Z</td><td>None</td><td>Sea Level</td><td>Station_PortoCristo</td></tr><tr><td>active</td><td>None</td><td>Station_SantAntoni</td><td>2015-03-05T16:45:00Z</td><td>2018-12-12T10:58:02Z</td><td>None</td><td>Sea Level</td><td>Station_SantAntoni</td></tr><tr><td>active</td><td>None</td><td>Station_SaRapita</td><td>2011-05-05T15:22:31Z</td><td>2018-12-12T10:59:00Z</td><td>None</td><td>Sea Level</td><td>Station_SaRapita</td></tr></table>"
      ],
      "text/plain": [
       "<IPython.core.display.HTML object>"
      ]
     },
     "execution_count": 69,
     "metadata": {},
     "output_type": "execute_result"
    }
   ],
   "source": [
    "HTML(json2html.convert(json=results))"
   ]
  },
  {
   "cell_type": "markdown",
   "metadata": {},
   "source": [
    "Let's focuse on the first data-platform from above list and request its latest files:"
   ]
  },
  {
   "cell_type": "code",
   "execution_count": 70,
   "metadata": {
    "collapsed": false
   },
   "outputs": [],
   "source": [
    "targeted_data_platform = results[0] #data platform number 0"
   ]
  },
  {
   "cell_type": "code",
   "execution_count": 71,
   "metadata": {
    "collapsed": false
   },
   "outputs": [
    {
     "name": "stdout",
     "output_type": "stream",
     "text": [
      "Requested url: http://api.socib.es/data-platforms/Station_Andratx/files/latest\n"
     ]
    }
   ],
   "source": [
    "end_point_plus_aux = '/data-platforms/'+targeted_data_platform['id']+'/files/latest'\n",
    "request = requests.get('%s%s' % (api_url, end_point_plus_aux), headers=headers)\n",
    "response = json.loads(request.text)\n",
    "print('Requested url: '+'%s%s' % (api_url, end_point_plus_aux))"
   ]
  },
  {
   "cell_type": "markdown",
   "metadata": {},
   "source": [
    "Let's see the type of netCDFs composing these latest files:"
   ]
  },
  {
   "cell_type": "code",
   "execution_count": 72,
   "metadata": {
    "collapsed": false
   },
   "outputs": [
    {
     "data": {
      "text/html": [
       "<table border=\"1\"><tr><th>files</th><td><table border=\"1\"><tr><th>platform</th><td><table border=\"1\"><tr><th>variables:</th><td><ul><li>sea_water_temperature</li><li>sea_water_pressure</li><li>water_surface_height_above_reference_datum</li><li>air_pressure</li></ul></td></tr><tr><th>entries</th><td><table border=\"1\"><tr><th>http_file</th><th>variables</th><th>last_update</th><th>initial_datetime</th><th>end_datetime</th><th>opendap</th><th>coverage_bounding_box</th><th>processing_level</th></tr><tr><td>http://thredds.socib.es/thredds/fileServer/mooring/sea_level/station_andratx/L1/2018/dep20110602_station-andratx_L1_2018-12.nc</td><td><ul><li>sea_water_temperature</li><li>sea_water_pressure</li><li>water_surface_height_above_reference_datum</li><li>air_pressure</li></ul></td><td>2018-12-12 11:01:23+00:00</td><td>2018-12-01 00:00:00+00:00</td><td>2018-12-12 10:59:00+00:00</td><td>http://thredds.socib.es/thredds/dodsC/mooring/sea_level/station_andratx/L1/2018/dep20110602_station-andratx_L1_2018-12.nc</td><td><table border=\"1\"><tr><th>type</th><td>Polygon</td></tr><tr><th>coordinates</th><td><ul><li><ul><li><ul><li>2.38539</li><li>39.546164</li></ul></li><li><ul><li>2.38539</li><li>39.546164</li></ul></li><li><ul><li>2.38539</li><li>39.546164</li></ul></li><li><ul><li>2.38539</li><li>39.546164</li></ul></li><li><ul><li>2.38539</li><li>39.546164</li></ul></li></ul></li></ul></td></tr></table></td><td>L1</td></tr></table></td></tr></table></td></tr><tr><th>deployment</th><td><table border=\"1\"><tr><th>variables:</th><td><ul><li>air_pressure</li><li>sea_water_temperature</li><li>sea_water_pressure</li></ul></td></tr><tr><th>entries</th><td><table border=\"1\"><tr><th>http_file</th><th>variables</th><th>last_update</th><th>initial_datetime</th><th>end_datetime</th><th>opendap</th><th>coverage_bounding_box</th><th>processing_level</th></tr><tr><td>http://thredds.socib.es/thredds/fileServer/mooring/barometer/station_andratx-scb_baro003/L0/2018/dep0002_station-andratx_scb-baro003_L0_2018-12.nc</td><td><ul><li>air_pressure</li></ul></td><td>2018-12-12 11:01:17+00:00</td><td>2018-12-01 00:00:00+00:00</td><td>2018-12-12 10:58:58+00:00</td><td>http://thredds.socib.es/thredds/dodsC/mooring/barometer/station_andratx-scb_baro003/L0/2018/dep0002_station-andratx_scb-baro003_L0_2018-12.nc</td><td><table border=\"1\"><tr><th>type</th><td>Polygon</td></tr><tr><th>coordinates</th><td><ul><li><ul><li><ul><li>2.378461</li><li>39.54419</li></ul></li><li><ul><li>2.378461</li><li>39.54419</li></ul></li><li><ul><li>2.378461</li><li>39.54419</li></ul></li><li><ul><li>2.378461</li><li>39.54419</li></ul></li><li><ul><li>2.378461</li><li>39.54419</li></ul></li></ul></li></ul></td></tr></table></td><td>L0</td></tr><tr><td>http://thredds.socib.es/thredds/fileServer/mooring/barometer/station_andratx-scb_baro003/L1/2018/dep0002_station-andratx_scb-baro003_L1_2018-12.nc</td><td><ul><li>air_pressure</li></ul></td><td>2018-12-12 11:01:18+00:00</td><td>2018-12-01 00:00:00+00:00</td><td>2018-12-12 10:59:00+00:00</td><td>http://thredds.socib.es/thredds/dodsC/mooring/barometer/station_andratx-scb_baro003/L1/2018/dep0002_station-andratx_scb-baro003_L1_2018-12.nc</td><td><table border=\"1\"><tr><th>type</th><td>Polygon</td></tr><tr><th>coordinates</th><td><ul><li><ul><li><ul><li>2.378461</li><li>39.54419</li></ul></li><li><ul><li>2.378461</li><li>39.54419</li></ul></li><li><ul><li>2.378461</li><li>39.54419</li></ul></li><li><ul><li>2.378461</li><li>39.54419</li></ul></li><li><ul><li>2.378461</li><li>39.54419</li></ul></li></ul></li></ul></td></tr></table></td><td>L1</td></tr><tr><td>http://thredds.socib.es/thredds/fileServer/mooring/tide_gauge/station_andratx-ime_sbe26003/L0/2018/dep0005_station-andratx_ime-sbe26003_L0_2018-12.nc</td><td><ul><li>sea_water_temperature</li><li>sea_water_pressure</li></ul></td><td>2018-12-12 11:01:19+00:00</td><td>2018-12-05 19:35:15+00:00</td><td>2018-12-12 10:58:13+00:00</td><td>http://thredds.socib.es/thredds/dodsC/mooring/tide_gauge/station_andratx-ime_sbe26003/L0/2018/dep0005_station-andratx_ime-sbe26003_L0_2018-12.nc</td><td><table border=\"1\"><tr><th>type</th><td>Polygon</td></tr><tr><th>coordinates</th><td><ul><li><ul><li><ul><li>2.378461</li><li>39.54419</li></ul></li><li><ul><li>2.378461</li><li>39.54419</li></ul></li><li><ul><li>2.378461</li><li>39.54419</li></ul></li><li><ul><li>2.378461</li><li>39.54419</li></ul></li><li><ul><li>2.378461</li><li>39.54419</li></ul></li></ul></li></ul></td></tr></table></td><td>L0</td></tr><tr><td>http://thredds.socib.es/thredds/fileServer/mooring/tide_gauge/station_andratx-ime_sbe26003/L1/2018/dep0005_station-andratx_ime-sbe26003_L1_2018-12.nc</td><td><ul><li>sea_water_temperature</li><li>sea_water_pressure</li></ul></td><td>2018-12-12 11:01:20+00:00</td><td>2018-12-05 19:35:00+00:00</td><td>2018-12-12 10:58:00+00:00</td><td>http://thredds.socib.es/thredds/dodsC/mooring/tide_gauge/station_andratx-ime_sbe26003/L1/2018/dep0005_station-andratx_ime-sbe26003_L1_2018-12.nc</td><td><table border=\"1\"><tr><th>type</th><td>Polygon</td></tr><tr><th>coordinates</th><td><ul><li><ul><li><ul><li>2.378461</li><li>39.54419</li></ul></li><li><ul><li>2.378461</li><li>39.54419</li></ul></li><li><ul><li>2.378461</li><li>39.54419</li></ul></li><li><ul><li>2.378461</li><li>39.54419</li></ul></li><li><ul><li>2.378461</li><li>39.54419</li></ul></li></ul></li></ul></td></tr></table></td><td>L1</td></tr></table></td></tr></table></td></tr></table></td></tr></table>"
      ],
      "text/plain": [
       "<IPython.core.display.HTML object>"
      ]
     },
     "execution_count": 72,
     "metadata": {},
     "output_type": "execute_result"
    }
   ],
   "source": [
    "HTML(json2html.convert(json=response))"
   ]
  },
  {
   "cell_type": "markdown",
   "metadata": {},
   "source": [
    "As we already expected, the netCDFs are grouped in 'platforms' and 'deployments'.<br>\n",
    "It is possible to see also how 'platform' netCDFs provide in only one file the information contained in the 'deployment' netCDFs (single access point to the data instead of several) plus a new derived variable: water_surface_height_above_reference_datum"
   ]
  },
  {
   "cell_type": "markdown",
   "metadata": {},
   "source": [
    "Either way, for every netCDF retourned you have a number of services to download, access and explore a given data-platform files."
   ]
  },
  {
   "cell_type": "markdown",
   "metadata": {},
   "source": [
    "<h3>REQUESTING A DATA-PLATFORM'S <span>LATEST FILES WITH A CERTAIN VARIABLE</span></h3>"
   ]
  },
  {
   "cell_type": "markdown",
   "metadata": {},
   "source": [
    "By default, the /DATA-PLATFORM/{NAME}/FILES/LATEST auxiliary endpoint returns the latest files of such platform. If you want to further restrict the retourned files to those containing a certain variable, you should rely on the query parameter <i>'standard_variable'</i>."
   ]
  },
  {
   "cell_type": "markdown",
   "metadata": {},
   "source": [
    "For example, let's repeat the above query but targeting only those files containing 'air pressure':"
   ]
  },
  {
   "cell_type": "code",
   "execution_count": 73,
   "metadata": {
    "collapsed": false
   },
   "outputs": [
    {
     "name": "stdout",
     "output_type": "stream",
     "text": [
      "Requested url: http://api.socib.es/data-platforms/Station_Andratx/files/latest/?standard_variable=air_pressure\n"
     ]
    }
   ],
   "source": [
    "end_point_plus_aux = '/data-platforms/'+targeted_data_platform['id']+'/files/latest'\n",
    "url_addons = '/?standard_variable=air_pressure'\n",
    "request = requests.get('%s%s%s' % (api_url, end_point_plus_aux, url_addons), headers=headers)\n",
    "response = json.loads(request.text)\n",
    "print('Requested url: '+'%s%s%s' % (api_url, end_point_plus_aux, url_addons))"
   ]
  },
  {
   "cell_type": "markdown",
   "metadata": {},
   "source": [
    "Let's see the type of netCDFs composing these latest files:"
   ]
  },
  {
   "cell_type": "code",
   "execution_count": 74,
   "metadata": {
    "collapsed": false
   },
   "outputs": [
    {
     "data": {
      "text/html": [
       "<table border=\"1\"><tr><th>files</th><td><table border=\"1\"><tr><th>platform</th><td><table border=\"1\"><tr><th>variables:</th><td><ul><li>sea_water_temperature</li><li>sea_water_pressure</li><li>water_surface_height_above_reference_datum</li><li>air_pressure</li></ul></td></tr><tr><th>entries</th><td><table border=\"1\"><tr><th>http_file</th><th>variables</th><th>last_update</th><th>initial_datetime</th><th>end_datetime</th><th>opendap</th><th>coverage_bounding_box</th><th>processing_level</th></tr><tr><td>http://thredds.socib.es/thredds/fileServer/mooring/sea_level/station_andratx/L1/2018/dep20110602_station-andratx_L1_2018-12.nc</td><td><ul><li>sea_water_temperature</li><li>sea_water_pressure</li><li>water_surface_height_above_reference_datum</li><li>air_pressure</li></ul></td><td>2018-12-12 11:01:23+00:00</td><td>2018-12-01 00:00:00+00:00</td><td>2018-12-12 10:59:00+00:00</td><td>http://thredds.socib.es/thredds/dodsC/mooring/sea_level/station_andratx/L1/2018/dep20110602_station-andratx_L1_2018-12.nc</td><td><table border=\"1\"><tr><th>type</th><td>Polygon</td></tr><tr><th>coordinates</th><td><ul><li><ul><li><ul><li>2.38539</li><li>39.546164</li></ul></li><li><ul><li>2.38539</li><li>39.546164</li></ul></li><li><ul><li>2.38539</li><li>39.546164</li></ul></li><li><ul><li>2.38539</li><li>39.546164</li></ul></li><li><ul><li>2.38539</li><li>39.546164</li></ul></li></ul></li></ul></td></tr></table></td><td>L1</td></tr></table></td></tr></table></td></tr><tr><th>deployment</th><td><table border=\"1\"><tr><th>variables:</th><td><ul><li>air_pressure</li></ul></td></tr><tr><th>entries</th><td><table border=\"1\"><tr><th>http_file</th><th>variables</th><th>last_update</th><th>initial_datetime</th><th>end_datetime</th><th>opendap</th><th>coverage_bounding_box</th><th>processing_level</th></tr><tr><td>http://thredds.socib.es/thredds/fileServer/mooring/barometer/station_andratx-scb_baro003/L0/2018/dep0002_station-andratx_scb-baro003_L0_2018-12.nc</td><td><ul><li>air_pressure</li></ul></td><td>2018-12-12 11:01:17+00:00</td><td>2018-12-01 00:00:00+00:00</td><td>2018-12-12 10:58:58+00:00</td><td>http://thredds.socib.es/thredds/dodsC/mooring/barometer/station_andratx-scb_baro003/L0/2018/dep0002_station-andratx_scb-baro003_L0_2018-12.nc</td><td><table border=\"1\"><tr><th>type</th><td>Polygon</td></tr><tr><th>coordinates</th><td><ul><li><ul><li><ul><li>2.378461</li><li>39.54419</li></ul></li><li><ul><li>2.378461</li><li>39.54419</li></ul></li><li><ul><li>2.378461</li><li>39.54419</li></ul></li><li><ul><li>2.378461</li><li>39.54419</li></ul></li><li><ul><li>2.378461</li><li>39.54419</li></ul></li></ul></li></ul></td></tr></table></td><td>L0</td></tr><tr><td>http://thredds.socib.es/thredds/fileServer/mooring/barometer/station_andratx-scb_baro003/L1/2018/dep0002_station-andratx_scb-baro003_L1_2018-12.nc</td><td><ul><li>air_pressure</li></ul></td><td>2018-12-12 11:01:18+00:00</td><td>2018-12-01 00:00:00+00:00</td><td>2018-12-12 10:59:00+00:00</td><td>http://thredds.socib.es/thredds/dodsC/mooring/barometer/station_andratx-scb_baro003/L1/2018/dep0002_station-andratx_scb-baro003_L1_2018-12.nc</td><td><table border=\"1\"><tr><th>type</th><td>Polygon</td></tr><tr><th>coordinates</th><td><ul><li><ul><li><ul><li>2.378461</li><li>39.54419</li></ul></li><li><ul><li>2.378461</li><li>39.54419</li></ul></li><li><ul><li>2.378461</li><li>39.54419</li></ul></li><li><ul><li>2.378461</li><li>39.54419</li></ul></li><li><ul><li>2.378461</li><li>39.54419</li></ul></li></ul></li></ul></td></tr></table></td><td>L1</td></tr></table></td></tr></table></td></tr></table></td></tr></table>"
      ],
      "text/plain": [
       "<IPython.core.display.HTML object>"
      ]
     },
     "execution_count": 74,
     "metadata": {},
     "output_type": "execute_result"
    }
   ],
   "source": [
    "HTML(json2html.convert(json=response))"
   ]
  },
  {
   "cell_type": "markdown",
   "metadata": {},
   "source": [
    "And two specific variables?"
   ]
  },
  {
   "cell_type": "code",
   "execution_count": 75,
   "metadata": {
    "collapsed": false
   },
   "outputs": [
    {
     "name": "stdout",
     "output_type": "stream",
     "text": [
      "Requested url: http://api.socib.es/data-platforms/Station_Andratx/files/latest/?standard_variable=air_pressure&standard_variable=water_surface_height_above_reference_datum\n"
     ]
    }
   ],
   "source": [
    "end_point_plus_aux = '/data-platforms/'+targeted_data_platform['id']+'/files/latest'\n",
    "url_addons = '/?standard_variable=air_pressure&standard_variable=water_surface_height_above_reference_datum'\n",
    "request = requests.get('%s%s%s' % (api_url, end_point_plus_aux, url_addons), headers=headers)\n",
    "response = json.loads(request.text)\n",
    "print('Requested url: '+'%s%s%s' % (api_url, end_point_plus_aux, url_addons))"
   ]
  },
  {
   "cell_type": "code",
   "execution_count": 76,
   "metadata": {
    "collapsed": false
   },
   "outputs": [
    {
     "data": {
      "text/html": [
       "<table border=\"1\"><tr><th>files</th><td><table border=\"1\"><tr><th>platform</th><td><table border=\"1\"><tr><th>variables:</th><td><ul><li>sea_water_temperature</li><li>sea_water_pressure</li><li>water_surface_height_above_reference_datum</li><li>air_pressure</li></ul></td></tr><tr><th>entries</th><td><table border=\"1\"><tr><th>http_file</th><th>variables</th><th>last_update</th><th>initial_datetime</th><th>end_datetime</th><th>opendap</th><th>coverage_bounding_box</th><th>processing_level</th></tr><tr><td>http://thredds.socib.es/thredds/fileServer/mooring/sea_level/station_andratx/L1/2018/dep20110602_station-andratx_L1_2018-12.nc</td><td><ul><li>sea_water_temperature</li><li>sea_water_pressure</li><li>water_surface_height_above_reference_datum</li><li>air_pressure</li></ul></td><td>2018-12-12 11:01:23+00:00</td><td>2018-12-01 00:00:00+00:00</td><td>2018-12-12 10:59:00+00:00</td><td>http://thredds.socib.es/thredds/dodsC/mooring/sea_level/station_andratx/L1/2018/dep20110602_station-andratx_L1_2018-12.nc</td><td><table border=\"1\"><tr><th>type</th><td>Polygon</td></tr><tr><th>coordinates</th><td><ul><li><ul><li><ul><li>2.38539</li><li>39.546164</li></ul></li><li><ul><li>2.38539</li><li>39.546164</li></ul></li><li><ul><li>2.38539</li><li>39.546164</li></ul></li><li><ul><li>2.38539</li><li>39.546164</li></ul></li><li><ul><li>2.38539</li><li>39.546164</li></ul></li></ul></li></ul></td></tr></table></td><td>L1</td></tr></table></td></tr></table></td></tr><tr><th>deployment</th><td><table border=\"1\"><tr><th>variables:</th><td></td></tr><tr><th>entries</th><td></td></tr></table></td></tr></table></td></tr></table>"
      ],
      "text/plain": [
       "<IPython.core.display.HTML object>"
      ]
     },
     "execution_count": 76,
     "metadata": {},
     "output_type": "execute_result"
    }
   ],
   "source": [
    "HTML(json2html.convert(json=response))"
   ]
  },
  {
   "cell_type": "markdown",
   "metadata": {},
   "source": [
    "<h3>REQUESTING A DATA-PLATFORM'S <span>CURRENT FILES</span></h3>"
   ]
  },
  {
   "cell_type": "markdown",
   "metadata": {},
   "source": [
    "By default, the /DATA-PLATFORM/{NAME}/FILES/LATEST auxiliary endpoint returns the latest data of a platform, not minding if it is current data (comming from active deployments) or not. "
   ]
  },
  {
   "cell_type": "markdown",
   "metadata": {},
   "source": [
    "If you are interested in retrieveing only current data from a given platform then on the query parameter <i>'current'</i>. Setting the query parameter to 'true' will ensure that you only retrieve netCDFs if the platform is active."
   ]
  },
  {
   "cell_type": "markdown",
   "metadata": {},
   "source": [
    "<ul><li><h3>current files from <span>active platforms</span></h3></li></ul>"
   ]
  },
  {
   "cell_type": "markdown",
   "metadata": {},
   "source": [
    "Let's ask for a certain type of platform with status active:"
   ]
  },
  {
   "cell_type": "code",
   "execution_count": 77,
   "metadata": {
    "collapsed": false
   },
   "outputs": [
    {
     "name": "stdout",
     "output_type": "stream",
     "text": [
      "Requested url: http://api.socib.es/data-platforms/?platform_type=Glider&is_active=True\n",
      " \n",
      "1 platform of type Glider is still active \n"
     ]
    }
   ],
   "source": [
    "end_point = '/data-platforms/'\n",
    "platform_type = 'Glider'\n",
    "url_addons = \"?platform_type=%s&is_active=%s\"%(platform_type, True)\n",
    "request = requests.get('%s%s%s' % (api_url, end_point,url_addons), headers=headers)\n",
    "response = json.loads(request.text)\n",
    "\n",
    "print('Requested url: '+'%s%s%s' % (api_url, end_point,url_addons))\n",
    "print(\" \")\n",
    "print('%s platform of type %s is still active '% (response['count'], platform_type))"
   ]
  },
  {
   "cell_type": "markdown",
   "metadata": {},
   "source": [
    "Let's have a look to one of the active platforms:"
   ]
  },
  {
   "cell_type": "code",
   "execution_count": 78,
   "metadata": {
    "collapsed": false
   },
   "outputs": [
    {
     "data": {
      "text/html": [
       "<table border=\"1\"><tr><th>status</th><td>active</td></tr><tr><th>wmo_naming_authority</th><td>JCOMMOBS</td></tr><tr><th>name</th><td>ideep02</td></tr><tr><th>initial_datetime</th><td>2011-10-19T07:50:03Z</td></tr><tr><th>end_datetime</th><td>2018-12-12T10:59:18Z</td></tr><tr><th>wmo_code</th><td>68966</td></tr><tr><th>type</th><td>Glider</td></tr><tr><th>id</th><td>ideep02</td></tr></table>"
      ],
      "text/plain": [
       "<IPython.core.display.HTML object>"
      ]
     },
     "execution_count": 78,
     "metadata": {},
     "output_type": "execute_result"
    }
   ],
   "source": [
    "targeted_data_platform = response['results'][0] #let's choose one of the active platforms retourned\n",
    "HTML(json2html.convert(json=targeted_data_platform))"
   ]
  },
  {
   "cell_type": "markdown",
   "metadata": {},
   "source": [
    "As it is an active platform, we will expect some data retourned when setting current=true:"
   ]
  },
  {
   "cell_type": "code",
   "execution_count": 79,
   "metadata": {
    "collapsed": false
   },
   "outputs": [
    {
     "name": "stdout",
     "output_type": "stream",
     "text": [
      "Requested url: http://api.socib.es/data-platforms/ideep02/files/latest/?current=True\n"
     ]
    }
   ],
   "source": [
    "end_point_plus_aux = '/data-platforms/'+targeted_data_platform['id']+'/files/latest'\n",
    "url_addons = '/?current=True'\n",
    "request = requests.get('%s%s%s' % (api_url, end_point_plus_aux, url_addons), headers=headers)\n",
    "response = json.loads(request.text)\n",
    "print('Requested url: '+'%s%s%s' % (api_url, end_point_plus_aux, url_addons))"
   ]
  },
  {
   "cell_type": "code",
   "execution_count": 80,
   "metadata": {
    "collapsed": false
   },
   "outputs": [
    {
     "data": {
      "text/html": [
       "<table border=\"1\"><tr><th>files</th><td><table border=\"1\"><tr><th>platform</th><td><table border=\"1\"><tr><th>variables:</th><td></td></tr><tr><th>entries</th><td></td></tr></table></td></tr><tr><th>deployment</th><td><table border=\"1\"><tr><th>variables:</th><td><ul><li>distance</li><li>internal_pressure</li><li>platform_orientation</li><li>current_target_latitude</li><li>boolean</li><li>target_latitude</li><li>electrical_comsumption</li><li>target_longitude</li><li>location_class</li><li>transmission_duration</li><li>northward_sea_water_velocity</li><li>number_of_dive</li><li>voltage</li><li>eastward_sea_water_velocity</li><li>transmission_retries</li><li>iridium_phone_number</li><li>platform_speed_wrt_ground</li><li>mission_duration</li><li>current_target_longitude</li></ul></td></tr><tr><th>entries</th><td><table border=\"1\"><tr><th>http_file</th><th>variables</th><th>last_update</th><th>initial_datetime</th><th>end_datetime</th><th>opendap</th><th>coverage_bounding_box</th><th>processing_level</th></tr><tr><td>http://thredds.socib.es/thredds/fileServer/auv/glider/ideep02-ime_sldeep002/L0/2018/dep0010_ideep02_ime-sldeep002_L0_2018-12-04.nc</td><td><ul><li>distance</li><li>internal_pressure</li><li>platform_orientation</li><li>current_target_latitude</li><li>boolean</li><li>target_latitude</li><li>electrical_comsumption</li><li>target_longitude</li><li>location_class</li><li>transmission_duration</li><li>northward_sea_water_velocity</li><li>number_of_dive</li><li>voltage</li><li>eastward_sea_water_velocity</li><li>transmission_retries</li><li>iridium_phone_number</li><li>platform_speed_wrt_ground</li><li>mission_duration</li><li>current_target_longitude</li></ul></td><td>2018-12-12 11:02:18+00:00</td><td>2018-12-04 10:05:42+00:00</td><td>2018-12-12 10:59:18+00:00</td><td>http://thredds.socib.es/thredds/dodsC/auv/glider/ideep02-ime_sldeep002/L0/2018/dep0010_ideep02_ime-sldeep002_L0_2018-12-04.nc</td><td>None</td><td>L0</td></tr></table></td></tr></table></td></tr></table></td></tr></table>"
      ],
      "text/plain": [
       "<IPython.core.display.HTML object>"
      ]
     },
     "execution_count": 80,
     "metadata": {},
     "output_type": "execute_result"
    }
   ],
   "source": [
    "HTML(json2html.convert(json=response))"
   ]
  },
  {
   "cell_type": "markdown",
   "metadata": {},
   "source": [
    "<ul><li><h3>current files from <span>inactive platforms</span></h3></li></ul>"
   ]
  },
  {
   "cell_type": "markdown",
   "metadata": {},
   "source": [
    "Let's ask for a certain type of platform with status inactive:"
   ]
  },
  {
   "cell_type": "code",
   "execution_count": 81,
   "metadata": {
    "collapsed": false
   },
   "outputs": [
    {
     "name": "stdout",
     "output_type": "stream",
     "text": [
      "Requested url: http://api.socib.es/data-platforms/?platform_type=Glider&is_active=False\n",
      " \n",
      "14 platforms of type Glider are already completed \n"
     ]
    }
   ],
   "source": [
    "end_point = '/data-platforms/'\n",
    "platform_type = 'Glider'\n",
    "url_addons = \"?platform_type=%s&is_active=%s\"%(platform_type, False)\n",
    "request = requests.get('%s%s%s' % (api_url, end_point,url_addons), headers=headers)\n",
    "response = json.loads(request.text)\n",
    "\n",
    "print('Requested url: '+'%s%s%s' % (api_url, end_point,url_addons))\n",
    "print(\" \")\n",
    "print('%s platforms of type %s are already completed '% (response['count'], platform_type))"
   ]
  },
  {
   "cell_type": "markdown",
   "metadata": {},
   "source": [
    "Let's have a look to one of the inactive platforms:"
   ]
  },
  {
   "cell_type": "code",
   "execution_count": 82,
   "metadata": {
    "collapsed": false
   },
   "outputs": [
    {
     "data": {
      "text/html": [
       "<table border=\"1\"><tr><th>status</th><td>completed</td></tr><tr><th>wmo_naming_authority</th><td>JCOMMOBS</td></tr><tr><th>name</th><td>icoast00</td></tr><tr><th>initial_datetime</th><td>2011-09-20T11:01:46Z</td></tr><tr><th>end_datetime</th><td>2017-07-12T08:19:37Z</td></tr><tr><th>wmo_code</th><td>68968</td></tr><tr><th>type</th><td>Glider</td></tr><tr><th>id</th><td>icoast00</td></tr></table>"
      ],
      "text/plain": [
       "<IPython.core.display.HTML object>"
      ]
     },
     "execution_count": 82,
     "metadata": {},
     "output_type": "execute_result"
    }
   ],
   "source": [
    "targeted_data_platform = response['results'][0] #let's choose one of the active platforms retoruned\n",
    "HTML(json2html.convert(json=targeted_data_platform))"
   ]
  },
  {
   "cell_type": "markdown",
   "metadata": {},
   "source": [
    "As it is an inactive platform, we will expect none data retourned when setting current=true:"
   ]
  },
  {
   "cell_type": "code",
   "execution_count": 83,
   "metadata": {
    "collapsed": false
   },
   "outputs": [
    {
     "name": "stdout",
     "output_type": "stream",
     "text": [
      "Requested url: http://api.socib.es/data-platforms/icoast00/files/latest/?current=True. Be aware of the name requested\n"
     ]
    }
   ],
   "source": [
    "end_point_plus_aux = '/data-platforms/'+targeted_data_platform['name']+'/files/latest'\n",
    "url_addons = '/?current=True'\n",
    "request = requests.get('%s%s%s' % (api_url, end_point_plus_aux, url_addons), headers=headers)\n",
    "response = json.loads(request.text)\n",
    "print('Requested url: '+'%s%s%s. Be aware of the name requested' % (api_url, end_point_plus_aux, url_addons))"
   ]
  },
  {
   "cell_type": "code",
   "execution_count": 84,
   "metadata": {
    "collapsed": false
   },
   "outputs": [
    {
     "data": {
      "text/html": [
       "<table border=\"1\"><tr><th>files</th><td><table border=\"1\"><tr><th>platform</th><td><table border=\"1\"><tr><th>variables:</th><td></td></tr><tr><th>entries</th><td></td></tr></table></td></tr><tr><th>deployment</th><td><table border=\"1\"><tr><th>variables:</th><td></td></tr><tr><th>entries</th><td></td></tr></table></td></tr></table></td></tr></table>"
      ],
      "text/plain": [
       "<IPython.core.display.HTML object>"
      ]
     },
     "execution_count": 84,
     "metadata": {},
     "output_type": "execute_result"
    }
   ],
   "source": [
    "HTML(json2html.convert(json=response))"
   ]
  }
 ],
 "metadata": {
  "kernelspec": {
   "display_name": "Python [Root]",
   "language": "python",
   "name": "Python [Root]"
  },
  "language_info": {
   "codemirror_mode": {
    "name": "ipython",
    "version": 2
   },
   "file_extension": ".py",
   "mimetype": "text/x-python",
   "name": "python",
   "nbconvert_exporter": "python",
   "pygments_lexer": "ipython2",
   "version": "2.7.12"
  }
 },
 "nbformat": 4,
 "nbformat_minor": 0
}

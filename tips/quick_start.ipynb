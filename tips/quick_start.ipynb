{
 "cells": [
  {
   "cell_type": "markdown",
   "metadata": {},
   "source": [
    "<h3>HANDY PYTHON PACKAGES </h3>"
   ]
  },
  {
   "cell_type": "code",
   "execution_count": 1,
   "metadata": {
    "collapsed": true
   },
   "outputs": [],
   "source": [
    "import requests\n",
    "import json"
   ]
  },
  {
   "cell_type": "markdown",
   "metadata": {
    "collapsed": true
   },
   "source": [
    "<h3> SOCIB API </h3>"
   ]
  },
  {
   "cell_type": "markdown",
   "metadata": {},
   "source": [
    "[SOCIB API](http://api.socib.es) is a new way to communicate with SOCIB servers (hosting SOCIB data). This communication channel is represented by an generic url (SOCIB API url) and users can play (query) with such url in order to retrieve information and data from SOCIB servers. The elements that trigger a response when added to the generic API url are called ENDPOINTS. "
   ]
  },
  {
   "cell_type": "markdown",
   "metadata": {},
   "source": [
    "A prerrequisite to be able to interact with SOCIB API is getting a so-called 'api_key', which is a credential given by socib Data Center team that grants the access to the API capabilities. Get yours [here](http://www.socib.es/users/protllan/socibAPI/). "
   ]
  },
  {
   "cell_type": "code",
   "execution_count": 2,
   "metadata": {
    "collapsed": true
   },
   "outputs": [],
   "source": [
    "api_key = '' #write you SOCIB api_key"
   ]
  },
  {
   "cell_type": "code",
   "execution_count": 3,
   "metadata": {
    "collapsed": true
   },
   "outputs": [],
   "source": [
    "api_url = 'http://api.socib.es'\n",
    "headers = {\n",
    "    'accept': 'application/vnd.socib+json',\n",
    "    'api_key': api_key,\n",
    "}"
   ]
  },
  {
   "cell_type": "markdown",
   "metadata": {},
   "source": [
    "Some examples about the potencial of the API follows:"
   ]
  },
  {
   "cell_type": "markdown",
   "metadata": {},
   "source": [
    "<h3>WHICH PLATFORM TYPES COMPOSE SOCIB MULTIPLATFORM OBSERVING SYSTEM?</h3>"
   ]
  },
  {
   "cell_type": "code",
   "execution_count": 4,
   "metadata": {
    "collapsed": false
   },
   "outputs": [
    {
     "name": "stdout",
     "output_type": "stream",
     "text": [
      "Requested url: http://api.socib.es/platform-types/\n",
      " \n",
      "There are a total of 11 platforms involved in SOCIB metocean observations:\n",
      " \n",
      "Coastal Station\n",
      "Flowmeter\n",
      "Glider\n",
      "HF-Radar\n",
      "Oceanographic Buoy\n",
      "Profiler drifter\n",
      "Research Vessel\n",
      "Sea Level\n",
      "Surface drifter\n",
      "Turtle\n",
      "Weather Station\n"
     ]
    }
   ],
   "source": [
    "end_point = '/platform-types/'\n",
    "request = requests.get('%s%s' % (api_url, end_point), headers=headers)\n",
    "response = json.loads(request.text)\n",
    "print('Requested url: '+'%s%s' % (api_url, end_point))\n",
    "print(' ')\n",
    "print('There are a total of %s platforms involved in SOCIB metocean observations:'%(len(response)))\n",
    "print(' ')\n",
    "for platform in response:\n",
    "    print(platform.decode('utf-8'))"
   ]
  },
  {
   "cell_type": "markdown",
   "metadata": {},
   "source": [
    "<h3>HOW MANY SOCIB INSTRUMENTS ARE RETRIEVEING DATA FROM THE OCEAN?</h3>"
   ]
  },
  {
   "cell_type": "code",
   "execution_count": 5,
   "metadata": {
    "collapsed": false
   },
   "outputs": [
    {
     "name": "stdout",
     "output_type": "stream",
     "text": [
      "Requested url: http://api.socib.es/instrument-types/\n",
      " \n",
      "Therer are a total of 21 instruments:\n",
      " \n",
      "Barometer\n",
      "Conductivity and Temperature Recorder\n",
      "CTD\n",
      "Currentmeter\n",
      "Current profiler\n",
      "Current Profiler\n",
      "Flowmeter\n",
      "Glider\n",
      "GPS\n",
      "HF-Radar\n",
      "Multiparameter probe\n",
      "Oceanographic Buoy\n",
      "Profiler drifter\n",
      "Status\n",
      "Surface drifter\n",
      "Temperature Recorder\n",
      "Thermosalinometer\n",
      "Tide gauge\n",
      "Turtle\n",
      "Waves recorder\n",
      "Weather Station\n"
     ]
    }
   ],
   "source": [
    "end_point = '/instrument-types/'\n",
    "request = requests.get('%s%s' % (api_url, end_point), headers=headers)\n",
    "response = json.loads(request.text)\n",
    "\n",
    "print('Requested url: '+'%s%s' % (api_url, end_point))\n",
    "print(' ')\n",
    "print('Therer are a total of %s instruments:'%(len(response)))\n",
    "print(' ')\n",
    "for instrument in response:\n",
    "    print(instrument)"
   ]
  },
  {
   "cell_type": "markdown",
   "metadata": {},
   "source": [
    "<h3>HOW MANY VARIABLES ARE BEING MONITORED BY SOCIB?</h3>"
   ]
  },
  {
   "cell_type": "code",
   "execution_count": 6,
   "metadata": {
    "collapsed": false
   },
   "outputs": [
    {
     "name": "stdout",
     "output_type": "stream",
     "text": [
      "Requested url: http://api.socib.es/standard-variables/\n",
      " \n",
      "SOCIB is monitoring a total of 108 variables:\n",
      " \n",
      "   650nm_scattering_in_sea_water\n",
      "   acyclic_current_direction\n",
      "   acyclic_wind_direction\n",
      "   air_pressure\n",
      "   air_pressure_at_sea_level\n",
      "   air_temperature\n",
      "   altimeter_range\n",
      "   altitude\n",
      "   backscattering_ratio\n",
      "   barotropic_eastward_sea_water_velocity\n",
      "   barotropic_northward_sea_water_velocity\n",
      "   chl_a_fluorescence\n",
      "   codar_quality_control\n",
      "   colored_dissolved_organic_matter_in_sea_water\n",
      "   dew_point_temperature\n",
      "   direction_of_sea_water_velocity\n",
      "   direction_of_sea_water_velocity_on_sea_floor\n",
      "   dissolved_oxygen_in_sea_water\n",
      "   downwelling_photosynthetic_photon_flux_in_sea_water\n",
      "   downwelling_radiative_flux_in_sea_water\n",
      "   eastward_sea_water_velocity\n",
      "   eastward_sea_water_velocity_on_sea_floor\n",
      "   eastward_wind\n",
      "   error_sea_water_velocity\n",
      "   error_sea_water_velocity_on_sea_floor\n",
      "   fractional_saturation_of_oxygen_in_sea_water\n",
      "   global_average_sea_level_change\n",
      "   gradient\n",
      "   heat_index\n",
      "   height\n",
      "   height_above_sea_floor\n",
      "   land_binary_mask\n",
      "   mass_concentration_of_chlorophyll_in_sea_water\n",
      "   mass_concentration_of_oxygen_in_sea_water\n",
      "   northward_sea_water_velocity\n",
      "   northward_sea_water_velocity_on_sea_floor\n",
      "   northward_wind\n",
      "   oxygen_reduction_potential\n",
      "   rain_accumulation\n",
      "   rain_duration\n",
      "   rainfall_amount\n",
      "   rain_intensity\n",
      "   rain_peak_intensity\n",
      "   relative_humidity\n",
      "   sea_floor_depth_below_sea_surface_beam1\n",
      "   sea_floor_depth_below_sea_surface_beam2\n",
      "   sea_floor_depth_below_sea_surface_beam3\n",
      "   sea_floor_depth_below_sea_surface_beam4\n",
      "   sea_floor_minimum_depth_below_sea_surface_among_beams\n",
      "   sea_surface_height_above_geoid\n",
      "   sea_surface_height_above_sea_level\n",
      "   sea_surface_swell_wave_period\n",
      "   sea_surface_swell_wave_zero_upcrossing_period\n",
      "   sea_surface_wave_from_direction\n",
      "   sea_surface_wave_max_height\n",
      "   sea_surface_wave_maximum_period\n",
      "   sea_surface_wave_mean_directional_dispersion\n",
      "   sea_surface_wave_mean_height\n",
      "   sea_surface_wave_mean_period\n",
      "   sea_surface_wave_mean_period_from_variance_spectral_density_second_frequency_moment\n",
      "   sea_surface_wave_peak_direction\n",
      "   sea_surface_wave_peak_period\n",
      "   sea_surface_wave_period_at_variance_spectral_density_maximum\n",
      "   sea_surface_wave_period_at_wave_energy_peak\n",
      "   sea_surface_wave_significant_height\n",
      "   sea_surface_wave_significant_period\n",
      "   sea_surface_wave_to_direction\n",
      "   sea_surface_wave_zero_upcrossing_period\n",
      "   sea_water_average_noise_amplitude_among_beams\n",
      "   sea_water_density\n",
      "   sea_water_electrical_conductivity\n",
      "   sea_water_noise_amplitude_beam\n",
      "   sea_water_noise_amplitude_beam_1\n",
      "   sea_water_noise_amplitude_beam_2\n",
      "   sea_water_noise_amplitude_beam_3\n",
      "   sea_water_noise_amplitude_beam_4\n",
      "   sea_water_particle_distribution_correlation_magnitude_from_acoustic_beams\n",
      "   sea_water_percent_good_pings_1\n",
      "   sea_water_percent_good_pings_2\n",
      "   sea_water_percent_good_pings_3\n",
      "   sea_water_percent_good_pings_4\n",
      "   sea_water_percent_good_velocity\n",
      "   sea_water_ph_reported_on_total_scale\n",
      "   sea_water_potential_density\n",
      "   sea_water_potential_temperature\n",
      "   sea_water_practical_salinity\n",
      "   sea_water_pressure\n",
      "   sea_water_salinity\n",
      "   sea_water_sigma_t\n",
      "   sea_water_speed\n",
      "   sea_water_speed_deviation\n",
      "   sea_water_speed_on_sea_floor\n",
      "   sea_water_temperature\n",
      "   speed_of_sound_in_sea_water\n",
      "   surface_downward_northward_stress\n",
      "   surface_downwelling_photosynthetic_photon_flux_in_air\n",
      "   surface_net_downward_radiative_flux\n",
      "   total_dissolved_solids\n",
      "   turbidity_of_sea_water\n",
      "   upward_sea_water_velocity\n",
      "   upward_sea_water_velocity_on_sea_floor\n",
      "   volume_beam_attenuation_coefficient_of_radiative_flux_in_sea_water\n",
      "   water_surface_height_above_reference_datum\n",
      "   water_vapor_partial_pressure_in_air\n",
      "   water_volume_transport_into_sea_water_from_rivers\n",
      "   wind_from_direction\n",
      "   wind_speed\n",
      "   wind_speed_of_gust\n"
     ]
    }
   ],
   "source": [
    "end_point = '/standard-variables/'\n",
    "request = requests.get('%s%s' % (api_url, end_point), headers=headers)\n",
    "response = json.loads(request.text)\n",
    "\n",
    "print('Requested url: '+'%s%s' % (api_url, end_point))\n",
    "print(' ')\n",
    "print('SOCIB is monitoring a total of %s variables:'%(len(response)))\n",
    "print(' ')\n",
    "for standard_variable in response:\n",
    "    print('   '+standard_variable['standard_name'])"
   ]
  },
  {
   "cell_type": "markdown",
   "metadata": {},
   "source": [
    "<h3>HOW MANY DEPLOYMENTS HAS SOCIB EVER PERFORMED?</h3>"
   ]
  },
  {
   "cell_type": "markdown",
   "metadata": {},
   "source": [
    "Deployments are an instrument&platform enssemble deployed (placed or released) to retrieve data from the ocean. During the time period this combo is active, the data measured by it is stored in a number of netCDFs files. Examples: the release of a drifting buoy, the mooring of a coastal station...<br>\n",
    "SOCIB API data-sources allows users to access SOCIB 'deployments'. "
   ]
  },
  {
   "cell_type": "code",
   "execution_count": 7,
   "metadata": {
    "collapsed": false,
    "scrolled": true
   },
   "outputs": [
    {
     "name": "stdout",
     "output_type": "stream",
     "text": [
      "Requested url: http://api.socib.es/data-sources/\n",
      " \n",
      "SOCIB has performed so far a total of 769 deployments\n"
     ]
    }
   ],
   "source": [
    "end_point = '/data-sources/'\n",
    "request = requests.get('%s%s' % (api_url, end_point), headers=headers)\n",
    "response = json.loads(request.text)\n",
    "\n",
    "print('Requested url: '+'%s%s' % (api_url, end_point))\n",
    "print(' ')\n",
    "print('SOCIB has performed so far a total of %s deployments'%(response['count']))"
   ]
  },
  {
   "cell_type": "markdown",
   "metadata": {},
   "source": [
    "To know how to access the data collected by a deployment users shall explore SOCIB [data-source ENDPOINT](https://github.com/pazrg/SOCIB_API/blob/master/data_sources/)"
   ]
  },
  {
   "cell_type": "markdown",
   "metadata": {},
   "source": [
    "<h3>HOW MANY DATA-PLATFORMS DOES SOCIB OFFER FROM THE ABOVE DEPLOYMENTS?</h3>"
   ]
  },
  {
   "cell_type": "markdown",
   "metadata": {},
   "source": [
    "SOCIB data-platforms wrapp data-sources(deployments) sharing the same platform which enables then a quick recovery of the latest or historical data comming from a specific platform. <br>\n",
    "A certain SOCIB data-platform can be composed then by a single data-source (i.e only one deployment has been performed with it) or serveral (i.e more than one deloyment has been perfomed with it). "
   ]
  },
  {
   "cell_type": "code",
   "execution_count": 8,
   "metadata": {
    "collapsed": false
   },
   "outputs": [
    {
     "name": "stdout",
     "output_type": "stream",
     "text": [
      "Requested url: http://api.socib.es/data-platforms/\n",
      " \n",
      "SOCIB offers a total of 206 data-platforms\n"
     ]
    }
   ],
   "source": [
    "end_point = '/data-platforms/'\n",
    "request = requests.get('%s%s' % (api_url, end_point), headers=headers)\n",
    "response = json.loads(request.text)\n",
    "\n",
    "print('Requested url: '+'%s%s' % (api_url, end_point))\n",
    "print(' ')\n",
    "print('SOCIB offers a total of %s data-platforms'%(response['count']))"
   ]
  },
  {
   "cell_type": "markdown",
   "metadata": {},
   "source": [
    "To know how to access the data collected by a group of deployment users shall explore SOCIB [data-platforms ENDPOINT](https://github.com/pazrg/SOCIB_API/blob/master/data_platforms/)"
   ]
  },
  {
   "cell_type": "markdown",
   "metadata": {},
   "source": [
    "SOCIB data-platforms constitute the first level of abstraction build over the data-sources, being the second one the so-called SOCIB data-products."
   ]
  },
  {
   "cell_type": "markdown",
   "metadata": {},
   "source": [
    "<h3>HOW MANY DATA-PRODUCTS DOES SOCIB OFFER FROM THE ABOVE DEPLOYMENTS?</h3>"
   ]
  },
  {
   "cell_type": "markdown",
   "metadata": {},
   "source": [
    "SOCIB data-products wrapp data-sources (deployments) sharing the same context into one single entity. This context can represent campaings (i.e CANALES), projects (i.e ABACUS), operations (maintenance) etc. <br>A certain SOCIB data-product can be composed then by a single data-source (i.e such data-source was deployed lonely) or serveral (i.e data-sources deployed during the same event). "
   ]
  },
  {
   "cell_type": "code",
   "execution_count": 9,
   "metadata": {
    "collapsed": false
   },
   "outputs": [
    {
     "name": "stdout",
     "output_type": "stream",
     "text": [
      "Requested url: http://api.socib.es/data-products/\n",
      " \n",
      "SOCIB has composed so far a total of 169 data-products by grouping deployments\n"
     ]
    }
   ],
   "source": [
    "end_point = '/data-products/'\n",
    "request = requests.get('%s%s' % (api_url, end_point), headers=headers)\n",
    "response = json.loads(request.text)\n",
    "\n",
    "print('Requested url: '+'%s%s' % (api_url, end_point))\n",
    "print(' ')\n",
    "print('SOCIB has composed so far a total of %s data-products by grouping deployments'%(response['count']))"
   ]
  },
  {
   "cell_type": "markdown",
   "metadata": {},
   "source": [
    "SOCIB data-products constitute the second level of abstraction build over the data-sources, being the first one the so-called SOCIB data-products."
   ]
  },
  {
   "cell_type": "markdown",
   "metadata": {},
   "source": [
    "To know how to access the data collected by a group of deployment users shall explore SOCIB [data-product ENDPOINT](https://github.com/pazrg/SOCIB_API/blob/master/data_products/)"
   ]
  }
 ],
 "metadata": {
  "kernelspec": {
   "display_name": "Python [Root]",
   "language": "python",
   "name": "Python [Root]"
  },
  "language_info": {
   "codemirror_mode": {
    "name": "ipython",
    "version": 2
   },
   "file_extension": ".py",
   "mimetype": "text/x-python",
   "name": "python",
   "nbconvert_exporter": "python",
   "pygments_lexer": "ipython2",
   "version": "2.7.12"
  }
 },
 "nbformat": 4,
 "nbformat_minor": 0
}

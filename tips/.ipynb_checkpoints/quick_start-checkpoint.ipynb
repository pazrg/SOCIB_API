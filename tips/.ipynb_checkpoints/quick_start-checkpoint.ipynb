{
 "cells": [
  {
   "cell_type": "markdown",
   "metadata": {},
   "source": [
    "<h3>HANDY PYTHON PACKAGES </h3>"
   ]
  },
  {
   "cell_type": "code",
   "execution_count": 1,
   "metadata": {
    "collapsed": true
   },
   "outputs": [],
   "source": [
    "import requests\n",
    "import json\n",
    "from json2html import *\n",
    "from IPython.display import HTML"
   ]
  },
  {
   "cell_type": "markdown",
   "metadata": {
    "collapsed": true
   },
   "source": [
    "<h3> SOCIB API </h3>"
   ]
  },
  {
   "cell_type": "markdown",
   "metadata": {},
   "source": [
    "[SOCIB API](http://api.socib.es) is a new way to communicate with SOCIB servers (hosting SOCIB data). This communication channel is represented by an generic url (SOCIB API url) and users can play (query) with such url in order to retrieve information and data from SOCIB servers. The elements that trigger a response when added to the generic API url are called ENDPOINTS. "
   ]
  },
  {
   "cell_type": "markdown",
   "metadata": {},
   "source": [
    "A prerrequisite to be able to interact with SOCIB API is getting a so-called 'api_key', which is a credential given by socib Data Center team that grants the access to the API capabilities. Get yours [here](http://api.socib.es/home/). "
   ]
  },
  {
   "cell_type": "code",
   "execution_count": 2,
   "metadata": {
    "collapsed": true
   },
   "outputs": [],
   "source": [
    "api_key = '' #write you SOCIB api_key"
   ]
  },
  {
   "cell_type": "code",
   "execution_count": 3,
   "metadata": {
    "collapsed": true
   },
   "outputs": [],
   "source": [
    "api_url = 'http://api.socib.es'\n",
    "headers = {\n",
    "    'accept': 'application/vnd.socib+json',\n",
    "    'apikey': api_key,\n",
    "}"
   ]
  },
  {
   "cell_type": "markdown",
   "metadata": {},
   "source": [
    "Some examples about the potencial of the API follows:"
   ]
  },
  {
   "cell_type": "markdown",
   "metadata": {},
   "source": [
    "<h3>WHICH PLATFORM TYPES COMPOSE SOCIB MULTIPLATFORM OBSERVING SYSTEM?</h3>"
   ]
  },
  {
   "cell_type": "code",
   "execution_count": 5,
   "metadata": {
    "collapsed": false
   },
   "outputs": [
    {
     "name": "stdout",
     "output_type": "stream",
     "text": [
      "Requested url: http://api.socib.es/platform-types/\n",
      " \n",
      "There are a total of 11 platforms involved in SOCIB metocean observations:\n"
     ]
    },
    {
     "data": {
      "text/html": [
       "<ul><li>Coastal Station</li><li>Flowmeter</li><li>Glider</li><li>HF-Radar</li><li>Oceanographic Buoy</li><li>Profiler drifter</li><li>Research Vessel</li><li>Sea Level</li><li>Surface drifter</li><li>Turtle</li><li>Weather Station</li></ul>"
      ],
      "text/plain": [
       "<IPython.core.display.HTML object>"
      ]
     },
     "execution_count": 5,
     "metadata": {},
     "output_type": "execute_result"
    }
   ],
   "source": [
    "end_point = '/platform-types/'\n",
    "request = requests.get('%s%s' % (api_url, end_point), headers=headers)\n",
    "response = json.loads(request.text)\n",
    "print('Requested url: '+'%s%s' % (api_url, end_point))\n",
    "print(' ')\n",
    "print('There are a total of %s platforms involved in SOCIB metocean observations:'%(len(response)))\n",
    "HTML(json2html.convert(json=response))"
   ]
  },
  {
   "cell_type": "markdown",
   "metadata": {},
   "source": [
    "<h3>WHICH INSTRUMENT TYPES COMPOSE SOCIB MULTIPLATFORM OBSERVING SYSTEM?</h3>"
   ]
  },
  {
   "cell_type": "code",
   "execution_count": 6,
   "metadata": {
    "collapsed": false
   },
   "outputs": [
    {
     "name": "stdout",
     "output_type": "stream",
     "text": [
      "Requested url: http://api.socib.es/instrument-types/\n",
      " \n",
      "Therer are a total of 21 instruments:\n"
     ]
    },
    {
     "data": {
      "text/html": [
       "<ul><li>Barometer</li><li>Conductivity and Temperature Recorder</li><li>CTD</li><li>Currentmeter</li><li>Current profiler</li><li>Current Profiler</li><li>Flowmeter</li><li>Glider</li><li>GPS</li><li>HF-Radar</li><li>Multiparameter probe</li><li>Oceanographic Buoy</li><li>Profiler drifter</li><li>Status</li><li>Surface drifter</li><li>Temperature Recorder</li><li>Thermosalinometer</li><li>Tide gauge</li><li>Turtle</li><li>Waves recorder</li><li>Weather Station</li></ul>"
      ],
      "text/plain": [
       "<IPython.core.display.HTML object>"
      ]
     },
     "execution_count": 6,
     "metadata": {},
     "output_type": "execute_result"
    }
   ],
   "source": [
    "end_point = '/instrument-types/'\n",
    "request = requests.get('%s%s' % (api_url, end_point), headers=headers)\n",
    "response = json.loads(request.text)\n",
    "\n",
    "print('Requested url: '+'%s%s' % (api_url, end_point))\n",
    "print(' ')\n",
    "print('Therer are a total of %s instruments:'%(len(response)))\n",
    "HTML(json2html.convert(json=response))"
   ]
  },
  {
   "cell_type": "markdown",
   "metadata": {},
   "source": [
    "<h3>HOW MANY VARIABLES ARE BEING MONITORED BY SOCIB?</h3>"
   ]
  },
  {
   "cell_type": "code",
   "execution_count": 22,
   "metadata": {
    "collapsed": false
   },
   "outputs": [
    {
     "name": "stdout",
     "output_type": "stream",
     "text": [
      "Requested url: http://api.socib.es/standard-variables/\n",
      " \n",
      "SOCIB is monitoring a total of 108 variables:\n",
      " \n"
     ]
    },
    {
     "data": {
      "text/html": [
       "<table border=\"1\"><tr><th>standard_name</th><th>description</th></tr><tr><td>650nm_scattering_in_sea_water</td><td>None</td></tr><tr><td>acyclic_current_direction</td><td>None</td></tr><tr><td>acyclic_wind_direction</td><td>None</td></tr><tr><td>air_pressure</td><td>None</td></tr><tr><td>air_pressure_at_sea_level</td><td>sea_level means mean sea level, which is close to the geoid in sea areas. Air pressure at sea level is the quantity often abbreviated as MSLP or PMSL.</td></tr><tr><td>air_temperature</td><td>Air temperature is the bulk temperature of the air, not the surface (skin) temperature.</td></tr><tr><td>altimeter_range</td><td>An altimeter operates by sending out a short pulse of radiation and measuring the time required for the pulse to return from the sea surface; this measurement is used to calculate the distance between the instrument and the sea surface.  That measurement is called the \"altimeter range\" and does not include any range corrections.</td></tr><tr><td>altitude</td><td>Altitude is the (geometric) height above the geoid, which is the reference geopotential surface. The geoid is similar to mean sea level.</td></tr><tr><td>backscattering_ratio</td><td> Scattering of radiation is its deflection from its incident path without loss of energy.  Backwards scattering refers to the sum of scattering into all backward angles i.e. scattering_angle exceeding pi/2 radians. A scattering_angle should not be specified with this quantity.  \"Backscattering ratio\" is the ratio of the  quantity with standard name volume_attenuated_backwards_scattering_function_in_air to the quantity with standard name volume_attenuated_backwards_scattering_function_in_air_assuming_no_aerosol_or_cloud.</td></tr><tr><td>barotropic_eastward_sea_water_velocity</td><td>A velocity is a vector quantity. \"Eastward\" indicates a vector component which is positive when directed eastward (negative westward).</td></tr><tr><td>barotropic_northward_sea_water_velocity</td><td>A velocity is a vector quantity. \"Northward\" indicates a vector component which is positive when directed northward (negative southward).</td></tr><tr><td>chl_a_fluorescence</td><td>&amp;nbsp;In vivo fluorescence measured using a fluorometer (Seapoint sensor, FLSP) </td></tr><tr><td>codar_quality_control</td><td>Codar hf radar quality control for eastward and northward sea water velocity, and covariance quality</td></tr><tr><td>colored_dissolved_organic_matter_in_sea_water</td><td>None</td></tr><tr><td>dew_point_temperature</td><td>Dew point temperature is the temperature at which a parcel of air reaches saturation upon being cooled at constant pressure and specific humidity.</td></tr><tr><td>direction_of_sea_water_velocity</td><td>\"direction_of_X\" means direction of a vector, a bearing. A velocity is a vector quantity.</td></tr><tr><td>direction_of_sea_water_velocity_on_sea_floor</td><td>\"direction_of_X\" means direction of a vector, a bearing. A velocity is a vector quantity.</td></tr><tr><td>dissolved_oxygen_in_sea_water</td><td>DOXY would contain the dissolved oxygen value in Âľmol/kg. In DOXY, we would&amp;nbsp;correct for temperature, pressure and salinity effects by using the real-time PRES, TEMP and&amp;nbsp;PSAL fields DOXY_ADJUSTED would contain the DOXY values corrected from any drift or offset of&amp;nbsp; the DO, pressure, salinity or temperature sensors. While DOXY is estimated from PRES, &amp;nbsp;- 2 - TEMP and PSAL, DOXY_ADJUSTED would be estimated from PRES_ADJUSTED,&amp;nbsp;TEMP_ADJUSTED and PSAL_ADJUSTED.</td></tr><tr><td>downwelling_photosynthetic_photon_flux_in_sea_water</td><td>Downwelling radiation is radiation from above. It does not mean \"net downward\". \"Photosynthetic\" radiation is the part of the spectrum which is used in photosynthesis e.g. 300-700 nm. The range of wavelengths could be specified precisely by the bounds of a coordinate of radiation_wavelength. A photon flux is specified in terms of numbers of photons expressed in moles. In accordance with common usage in geophysical disciplines, \"flux\" implies per unit area, called \"flux density\" in physics.</td></tr><tr><td>downwelling_radiative_flux_in_sea_water</td><td>Downwelling radiation is radiation from above. It does not mean \"net downward\". Radiative flux is the sum of shortwave and longwave radiative fluxes. When thought of as being incident on a surface, a radiative flux is sometimes called \"irradiance\". In addition, it is identical with the quantity measured by a cosine-collector light-meter and sometimes called \"vector irradiance\". In accordance with common usage in geophysical disciplines, \"flux\" implies per unit area, called \"flux density\" in physics.</td></tr><tr><td>eastward_sea_water_velocity</td><td>A velocity is a vector quantity. \"Eastward\" indicates a vector component which is positive when directed eastward (negative westward).</td></tr><tr><td>eastward_sea_water_velocity_on_sea_floor</td><td>A velocity is a vector quantity. \"Eastward\" indicates a vector component which is positive when directed eastward (negative westward).</td></tr><tr><td>eastward_wind</td><td>\"Eastward\" indicates a vector component which is positive when directed eastward (negative westward). Wind is defined as a two-dimensional (horizontal) air velocity vector, with no vertical component. (Vertical motion in the atmosphere has the standard name upward_air_velocity.)</td></tr><tr><td>error_sea_water_velocity</td><td>RDI's four-beam ADCP incorporates a unique data quality measure called Error Velocity, something not\n",
       "possible with three-beam systems.\n",
       "Three dimensional velocity calculations assume that the beams are all seeing the same flow field. Error\n",
       "Velocity evaluates how well this assumption is being met, providing a quantitative base for QA/QC at\n",
       "each depth layer of each ping.</td></tr><tr><td>error_sea_water_velocity_on_sea_floor</td><td>RDI's four-beam ADCP incorporates a unique data quality measure called Error Velocity, something not\n",
       "possible with three-beam systems.\n",
       "Three dimensional velocity calculations assume that the beams are all seeing the same flow field. Error\n",
       "Velocity evaluates how well this assumption is being met, providing a quantitative base for QA/QC at\n",
       "each depth layer of each ping.</td></tr><tr><td>fractional_saturation_of_oxygen_in_sea_water</td><td>Fractional saturation is the ratio of some measure of concentration to the saturated value of the same quantity.</td></tr><tr><td>global_average_sea_level_change</td><td>Global average sea level change is due to change in volume of the water in the ocean, caused by mass and/or density change, or to change in the volume of the ocean basins, caused by tectonics etc. It is sometimes called \"eustatic\", which is a term that also has other definitions. It differs from the change in the global average sea surface height relative to the centre of the Earth by the global average vertical movement of the ocean floor. Zero sea level change is an arbitrary level.</td></tr><tr><td>gradient</td><td>None</td></tr><tr><td>heat_index</td><td>Combines&amp;nbsp;air&amp;nbsp;temperature&amp;nbsp;and&amp;nbsp;relative humidity, in shaded areas, as an attempt to determine the human-perceived equivalent temperature, as how hot it would feel if the humidity were some other value in the shade.</td></tr><tr><td>height</td><td>Height is the vertical distance above the surface.</td></tr><tr><td>height_above_sea_floor</td><td>None</td></tr><tr><td>land_binary_mask</td><td>X_binary_mask has 1 where condition X is met, 0 elsewhere. 1 = land, 0 = sea.</td></tr><tr><td>mass_concentration_of_chlorophyll_in_sea_water</td><td> Mass concentration means mass per unit volume and is used in the construction mass_concentration_of_X_in_Y, where X is a material constituent of Y.  A chemical species denoted by X may be described by a single term such as 'nitrogen' or a phrase such as 'nox_expressed_as_nitrogen'. Chlorophyll is the green pigment found in most plants, algae and cyanobacteria.  The presence of chlorophyll is essential for photosynthesis to take place.  There are five different forms of chlorophyll that occur naturally.  All contain a chlorin ring (chemical formula C20H16N4) which gives the green pigment and a side chain whose structure varies.  The naturally occurring forms of chlorophyll contain between 35 and 55 carbon atoms.</td></tr><tr><td>mass_concentration_of_oxygen_in_sea_water</td><td>Mass concentration means mass per unit volume and is used in the construction mass_concentration_of_X_in_Y, where X is a material constituent of Y.</td></tr><tr><td>northward_sea_water_velocity</td><td>A velocity is a vector quantity. \"Northward\" indicates a vector component which is positive when directed northward (negative southward).</td></tr><tr><td>northward_sea_water_velocity_on_sea_floor</td><td>A velocity is a vector quantity. \"Northward\" indicates a vector component which is positive when directed northward (negative southward).</td></tr><tr><td>northward_wind</td><td>\"Northward\" indicates a vector component which is positive when directed northward (negative southward). Wind is defined as a two-dimensional (horizontal) air velocity vector, with no vertical component. (Vertical motion in the atmosphere has the standard name upward_air_velocity.)</td></tr><tr><td>oxygen_reduction_potential</td><td>None</td></tr><tr><td>rain_accumulation</td><td>None</td></tr><tr><td>rain_duration</td><td>None</td></tr><tr><td>rainfall_amount</td><td>\"Amount\" means mass per unit area.</td></tr><tr><td>rain_intensity</td><td>None</td></tr><tr><td>rain_peak_intensity</td><td>None</td></tr><tr><td>relative_humidity</td><td>None</td></tr><tr><td>sea_floor_depth_below_sea_surface_beam1</td><td>The sea_floor_depth_below_sea_surface is the vertical distance between the sea surface and the seabed as measured at a given point in space including the variance caused by tides and possibly waves.</td></tr><tr><td>sea_floor_depth_below_sea_surface_beam2</td><td>The sea_floor_depth_below_sea_surface is the vertical distance between the sea surface and the seabed as measured at a given point in space including the variance caused by tides and possibly waves.</td></tr><tr><td>sea_floor_depth_below_sea_surface_beam3</td><td>The sea_floor_depth_below_sea_surface is the vertical distance between the sea surface and the seabed as measured at a given point in space including the variance caused by tides and possibly waves.</td></tr><tr><td>sea_floor_depth_below_sea_surface_beam4</td><td>The sea_floor_depth_below_sea_surface is the vertical distance between the sea surface and the seabed as measured at a given point in space including the variance caused by tides and possibly waves.</td></tr><tr><td>sea_floor_minimum_depth_below_sea_surface_among_beams</td><td>The sea_floor_depth_below_sea_surface is the vertical distance between the sea surface and the seabed as measured at a given point in space including the variance caused by tides and possibly waves.</td></tr><tr><td>sea_surface_height_above_geoid</td><td>The geoid is a surface of constant geopotential with which mean sea level would coincide if the ocean were at rest. (The volume enclosed between the geoid and the sea floor equals the mean volume of water in the ocean.) In an ocean GCM the geoid is the surface of zero depth, or the rigid lid if the model uses that approximation. \"Sea surface height\" is a time-varying quantity. By definition of the geoid, the global average of the time-mean sea surface height (i.e. mean sea level) above the geoid must be zero. The standard name for the height of the sea surface above mean sea level is sea_surface_height_above_sea_level. The standard name for the height of the sea surface above the reference ellipsoid is sea_surface_height_above_reference_ellipsoid.</td></tr><tr><td>sea_surface_height_above_sea_level</td><td>sea_level means mean sea level, which is close to the geoid in sea areas. \"Sea surface height\" is a time-varying quantity. The standard name for the height of the sea surface above the geoid is sea_surface_height_above_geoid. The standard name for the height of the sea surface above the reference ellipsoid is sea_surface_height_above_reference_ellipsoid.</td></tr><tr><td>sea_surface_swell_wave_period</td><td>A period is an interval of time, or the time-period of an oscillation. Swell waves are waves on the ocean surface.</td></tr><tr><td>sea_surface_swell_wave_zero_upcrossing_period</td><td>A period is an interval of time, or the time-period of an oscillation. The zero upcrossing period is defined as the time interval between consecutive occasions on which the surface height passes upward above the mean level. Swell waves are waves on the ocean surface.</td></tr><tr><td>sea_surface_wave_from_direction</td><td>\"from_direction\" is used in the construction X_from_direction and indicates the direction from which the velocity vector of X is coming.</td></tr><tr><td>sea_surface_wave_max_height</td><td>Altura mĂĄxima de oleaje</td></tr><tr><td>sea_surface_wave_maximum_period</td><td>A period is an interval of time, or the time-period of an oscillation.</td></tr><tr><td>sea_surface_wave_mean_directional_dispersion</td><td>Sea surface wave mean directional dispersion is the mean directional dispersion in degrees of the sea surface waves.</td></tr><tr><td>sea_surface_wave_mean_height</td><td>Altura de ola promedio</td></tr><tr><td>sea_surface_wave_mean_period</td><td>A period is an interval of time, or the time-period of an oscillation.</td></tr><tr><td>sea_surface_wave_mean_period_from_variance_spectral_density_second_frequency_moment</td><td>The wave directional spectrum can be written as a  five dimensional function S(t,x,y,f,theta) where t is time, x and y are horizontal coordinates (such as longitude and latitude), f is frequency and theta is direction.  S has the standard name sea_surface_wave_directional_variance_spectral_density.  S can be integrated over direction to give S1= integral(S dtheta) and this quantity has the standard name sea_surface_wave_variance_spectral_density.  Frequency moments, M(n) of S1 can then be calculated as follows: M(n) = integral(S1 f^n df), where f^n is f to the power of n.  The second wave period, T(m2) is calculated as the square root of the ratio M(0)/M(2).</td></tr><tr><td>sea_surface_wave_peak_direction</td><td>None</td></tr><tr><td>sea_surface_wave_peak_period</td><td>Periodo de pico Tp</td></tr><tr><td>sea_surface_wave_period_at_variance_spectral_density_maximum</td><td>A period is an interval of time, or the time-period of an oscillation.  The sea_surface_wave_period_at_variance_spectral_density_maximum, sometimes called peak wave period, is the period of the most energetic waves in the total wave spectrum at a specific location.</td></tr><tr><td>sea_surface_wave_period_at_wave_energy_peak</td><td>None</td></tr><tr><td>sea_surface_wave_significant_height</td><td>Height is the vertical distance above the surface.</td></tr><tr><td>sea_surface_wave_significant_period</td><td>A period is an interval of time, or the time-period of an oscillation.</td></tr><tr><td>sea_surface_wave_to_direction</td><td>\"to_direction\" is used in the construction X_to_direction and indicates the direction towards which the velocity vector of X is headed.</td></tr><tr><td>sea_surface_wave_zero_upcrossing_period</td><td>A period is an interval of time, or the time-period of an oscillation. The zero upcrossing period is defined as the time interval between consecutive occasions on which the surface height passes upward above the mean level.</td></tr><tr><td>sea_water_average_noise_amplitude_among_beams</td><td>None</td></tr><tr><td>sea_water_density</td><td>Sea water density is the in-situ density (not the potential density). If 1000 kg m-3 is subtracted, the standard name sea_water_sigma_t should be chosen instead.</td></tr><tr><td>sea_water_electrical_conductivity</td><td>None</td></tr><tr><td>sea_water_noise_amplitude_beam</td><td>None</td></tr><tr><td>sea_water_noise_amplitude_beam_1</td><td>None</td></tr><tr><td>sea_water_noise_amplitude_beam_2</td><td>None</td></tr><tr><td>sea_water_noise_amplitude_beam_3</td><td>None</td></tr><tr><td>sea_water_noise_amplitude_beam_4</td><td>None</td></tr><tr><td>sea_water_particle_distribution_correlation_magnitude_from_acoustic_beams</td><td>Particle distribution correlation magnitude from ADCP acoustic beams.</td></tr><tr><td>sea_water_percent_good_pings_1</td><td>&amp;nbsp;The percentage of good three-beam solutions (one beam\n",
       "rejected).</td></tr><tr><td>sea_water_percent_good_pings_2</td><td>&amp;nbsp;The percentage of good transformations (error\n",
       "velocity threshold not exceeded).</td></tr><tr><td>sea_water_percent_good_pings_3</td><td>The percentage of measurements\n",
       "where more than one beam was bad.</td></tr><tr><td>sea_water_percent_good_pings_4</td><td>The percentage\n",
       "of measurements with four-beam solutions.</td></tr><tr><td>sea_water_percent_good_velocity</td><td>PERG1 + PERG4</td></tr><tr><td>sea_water_ph_reported_on_total_scale</td><td> 'sea_water_pH_reported_on_total_scale' is the measure of acidity of seawater, defined as the negative logarithm of the activity of dissolved hydrogen ions plus bisulfate ions in a sea water medium; it can be measured or calculated; when measured the scale is defined according to a series of buffers prepared in artificial seawater containing bisulfate.  The quantity may be written as pH(total) = -log([H+](free) + [HSO4-]).\n",
       "</td></tr><tr><td>sea_water_potential_density</td><td>Potential density is the density a parcel of air or sea water would have if moved adiabatically to a reference pressure, by default assumed to be sea level pressure. For sea water potential density, if 1000 kg m-3 is subtracted, the standard name sea_water_sigma_theta should be chosen instead.</td></tr><tr><td>sea_water_potential_temperature</td><td>Potential temperature is the temperature a parcel of air or sea water would have if moved adiabatically to sea level pressure.</td></tr><tr><td>sea_water_practical_salinity</td><td>Practical Salinity, S_P, is defined on the Practical Salinity Scale of 1978 (PSS-78) and is calculated from the electrical conductivity of sea water (as well as temperature and pressure). Officially S_P is dimensionless so that, while convenient, and while it is common practice, it is not officially sanctioned to say S_P = 35 psu. Often authors use PSS-78, as in S_P = 35 PSS-78. If salinity was measured using remote sensing techniques and not conductivity, then it is recommended that additional metadata (calibration/validation information) be described in the variable comment attribute. This name should be used to describe salinity observations made from 1978 onwards (Practical Salinity is the salinity quantity stored by national data centres for post-1978 observations). The only exception to this is where the observed salinities are definitely known not to be recorded on the Practical Salinity Scale. There are also standard names for the precisely defined salinity quantities sea_water_knudsen_salinity, S_K (used for salinity observations between 1901 and 1966), sea_water_cox_salinity, S_C (used for salinity observations between 1967 and 1977), sea_water_absolute_salinity, S_A, sea_water_preformed_salinity, S_*, and sea_water_reference_salinity. Salinity quantities that do not match any of the precise definitions should be given the more general standard name of sea_water_salinity. Reference: www.teos-10.org; Lewis, 1980 doi:10.1109/JOE.1980.1145448</td></tr><tr><td>sea_water_pressure</td><td>\"Sea water pressure\" is the pressure that exists in the mediumof sea water.  It includes the pressure due to overlying sea water, sea ice, air and any other medium that may be present.</td></tr><tr><td>sea_water_salinity</td><td>The unit of salinity is PSU, which is dimensionless. The units attribute should be given as 1e-3 or 0.001 i.e. parts per thousand if salinity is in PSU.</td></tr><tr><td>sea_water_sigma_t</td><td>Sigma-t of sea water is the density of water at atmospheric pressure (i.e. the surface) having the same temperature and salinity, minus 1000 kg m-3. Note that sea water sigma is not the same quantity as the dimensionless ocean sigma coordinate (see Appendix D of the CF convention), for which there is another standard name.</td></tr><tr><td>sea_water_speed</td><td>Speed is the magnitude of velocity.</td></tr><tr><td>sea_water_speed_deviation</td><td>deviation of sea_water_speedSpeed is the magnitude of velocity.</td></tr><tr><td>sea_water_speed_on_sea_floor</td><td>Speed is the magnitude of velocity.</td></tr><tr><td>sea_water_temperature</td><td>None</td></tr><tr><td>speed_of_sound_in_sea_water</td><td>Speed is the magnitude of velocity.</td></tr><tr><td>surface_downward_northward_stress</td><td>The surface called \"surface\" means the lower boundary of the atmosphere. \"Northward\" indicates a vector component which is positive when directed northward (negative southward). \"Downward\" indicates a vector component which is positive when directed downward (negative upward). \"Downward northward\" indicates the ZY component of a tensor. A downward northward stress is a downward flux of northward momentum, which accelerates the lower medium northward and the upper medium southward. The surface downward stress is the windstress on the surface.</td></tr><tr><td>surface_downwelling_photosynthetic_photon_flux_in_air</td><td>The surface called \"surface\" means the lower boundary of the atmosphere. Downwelling radiation is radiation from above. It does not mean \"net downward\". \"Photosynthetic\" radiation is the part of the spectrum which is used in photosynthesis e.g. 300-700 nm. The range of wavelengths could be specified precisely by the bounds of a coordinate of radiation_wavelength. A photon flux is specified in terms of numbers of photons expressed in moles. In accordance with common usage in geophysical disciplines, \"flux\" implies per unit area, called \"flux density\" in physics.</td></tr><tr><td>surface_net_downward_radiative_flux</td><td>The surface called \"surface\" means the lower boundary of the atmosphere. \"Downward\" indicates a vector component which is positive when directed downward (negative upward). Net downward radiation is the difference between radiation from above (downwelling) and radiation from below (upwelling). Radiative flux is the sum of shortwave and longwave radiative fluxes. In accordance with common usage in geophysical disciplines, \"flux\" implies per unit area, called \"flux density\" in physics. Unless indicated in the cell_methods attribute, a quantity is assumed to apply to the whole area of each horizontal grid box. Previously, the qualifier where_type was used to specify that the quantity applies only to the part of the grid box of the named type.  Names containing the where_type qualifier are deprecated and newly created data should use the cell_methods attribute to indicate the horizontal area to which the quantity applies.</td></tr><tr><td>total_dissolved_solids</td><td>None</td></tr><tr><td>turbidity_of_sea_water</td><td>None</td></tr><tr><td>upward_sea_water_velocity</td><td>A velocity is a vector quantity. \"Upward\" indicates a vector component which is positive when directed upward (negative downward).</td></tr><tr><td>upward_sea_water_velocity_on_sea_floor</td><td>A velocity is a vector quantity. \"Upward\" indicates a vector component which is positive when directed upward (negative downward).</td></tr><tr><td>volume_beam_attenuation_coefficient_of_radiative_flux_in_sea_water</td><td>Radiative flux is the sum of shortwave and longwave radiative fluxes. In accordance with common usage in geophysical disciplines, \"flux\" implies per unit area, called \"flux density\" in physics. The volume scattering/absorption/attenuation coefficient is the fractional change of radiative flux per unit path length due to the stated process. Coefficients with canonical units of m2 s-1 i.e. multiplied by density have standard names with specific_ instead of volume_. The scattering/absorption/attenuation coefficient is assumed to be an integral over all wavelengths, unless a coordinate of radiation_wavelength is included to specify the wavelength. Attenuation is the sum of absorption and scattering. Attenuation is sometimes called \"extinction\". Beam attenuation refers to the decrease of radiative flux along the direction of the incident path. It is distinguished from attenuation of the downwelling component of radiative flux from any incident direction, also called \"diffuse\" attenuation.</td></tr><tr><td>water_surface_height_above_reference_datum</td><td>'Water surface height above reference datum' means the height of the upper surface of a body of liquid water, such as sea, lake or river, above an arbitrary reference datum. The altitude of the datum should be provided in a variable with standard name water_surface_reference_datum_altitude. The surface called \"surface\" means the lower boundary of the atmosphere.</td></tr><tr><td>water_vapor_partial_pressure_in_air</td><td> The partial pressure of a gaseous constituent of air is the pressure which it alone would exert with unchanged temperature and number of moles per unit volume. </td></tr><tr><td>water_volume_transport_into_sea_water_from_rivers</td><td>\"Water\" means water in all phases. The water flux or volume transport into sea water from rivers is the inflow to the ocean, often applied to the surface in ocean models.</td></tr><tr><td>wind_from_direction</td><td>Wind is defined as a two-dimensional (horizontal) air velocity vector, with no vertical component. (Vertical motion in the atmosphere has the standard name upward_air_velocity.) In meteorological reports, the direction of the wind vector is usually (but not always) given as the direction from which it is blowing (wind_from_direction) (westerly, northerly, etc.). In other contexts, such as atmospheric modelling, it is often natural to give the direction in the usual manner of vectors as the heading or the direction to which it is blowing (wind_to_direction) (eastward, southward, etc.) \"from_direction\" is used in the construction X_from_direction and indicates the direction from which the velocity vector of X is coming.</td></tr><tr><td>wind_speed</td><td>Speed is the magnitude of velocity. Wind is defined as a two-dimensional (horizontal) air velocity vector, with no vertical component. (Vertical motion in the atmosphere has the standard name upward_air_velocity.) The wind speed is the magnitude of the wind velocity.</td></tr><tr><td>wind_speed_of_gust</td><td>Speed is the magnitude of velocity. Wind is defined as a two-dimensional (horizontal) air velocity vector, with no vertical component. (Vertical motion in the atmosphere has the standard name upward_air_velocity.) The wind speed is the magnitude of the wind velocity. A gust is a sudden brief period of high wind speed. In an observed timeseries of wind speed, the gust wind speed can be indicated by a cell_methods of maximum for the time-interval. In an atmospheric model which has a parametrised calculation of gustiness, the gust wind speed may be separately diagnosed from the wind speed.</td></tr></table>"
      ],
      "text/plain": [
       "<IPython.core.display.HTML object>"
      ]
     },
     "execution_count": 22,
     "metadata": {},
     "output_type": "execute_result"
    }
   ],
   "source": [
    "end_point = '/standard-variables/'\n",
    "request = requests.get('%s%s' % (api_url, end_point), headers=headers)\n",
    "response = json.loads(request.text)\n",
    "\n",
    "print('Requested url: '+'%s%s' % (api_url, end_point))\n",
    "print(' ')\n",
    "print('SOCIB is monitoring a total of %s variables:'%(len(response)))\n",
    "print(' ')\n",
    "HTML(json2html.convert(json=[{'standard_name':item['standard_name'], 'description': item['description']} for item in response]))"
   ]
  },
  {
   "cell_type": "markdown",
   "metadata": {},
   "source": [
    "<h3>HOW MANY DEPLOYMENTS HAS SOCIB EVER PERFORMED?</h3>"
   ]
  },
  {
   "cell_type": "markdown",
   "metadata": {},
   "source": [
    "Deployments are an instrument&platform enssemble deployed (placed or released) to retrieve data from the ocean. During the time period this combo is active, the data measured by it is stored in a number of netCDFs files. Examples: the release of a drifting buoy, the mooring of a coastal station...<br>"
   ]
  },
  {
   "cell_type": "code",
   "execution_count": 8,
   "metadata": {
    "collapsed": false,
    "scrolled": true
   },
   "outputs": [
    {
     "name": "stdout",
     "output_type": "stream",
     "text": [
      "Requested url: http://api.socib.es/data-sources/\n",
      " \n",
      "SOCIB has performed so far a total of 839 deployments\n"
     ]
    }
   ],
   "source": [
    "end_point = '/data-sources/'\n",
    "request = requests.get('%s%s' % (api_url, end_point), headers=headers)\n",
    "response = json.loads(request.text)\n",
    "\n",
    "print('Requested url: '+'%s%s' % (api_url, end_point))\n",
    "print(' ')\n",
    "print('SOCIB has performed so far a total of %s deployments'%(response['count']))"
   ]
  },
  {
   "cell_type": "markdown",
   "metadata": {},
   "source": [
    "To know about data-sources explore SOCIB [data-source ENDPOINT](https://github.com/socib/API_examples/blob/master/data_sources/)"
   ]
  },
  {
   "cell_type": "markdown",
   "metadata": {},
   "source": [
    "<h3>HOW MANY DATA-PLATFORMS DOES SOCIB OFFER?</h3>"
   ]
  },
  {
   "cell_type": "markdown",
   "metadata": {},
   "source": [
    "SOCIB data-platforms wrapp data-sources(deployments) sharing the same platform which enables then a quick recovery of the latest or historical data comming from a specific platform. <br>\n",
    "A certain SOCIB data-platform can be composed then by a single data-source (i.e only one deployment has been performed such platform) or serveral (i.e more than one deloyment has been perfomed with such platform). "
   ]
  },
  {
   "cell_type": "code",
   "execution_count": 9,
   "metadata": {
    "collapsed": false
   },
   "outputs": [
    {
     "name": "stdout",
     "output_type": "stream",
     "text": [
      "Requested url: http://api.socib.es/data-platforms/\n",
      " \n",
      "SOCIB offers a total of 211 data-platforms (deployments grouped by parent platform)\n"
     ]
    }
   ],
   "source": [
    "end_point = '/data-platforms/'\n",
    "request = requests.get('%s%s' % (api_url, end_point), headers=headers)\n",
    "response = json.loads(request.text)\n",
    "\n",
    "print('Requested url: '+'%s%s' % (api_url, end_point))\n",
    "print(' ')\n",
    "print('SOCIB offers a total of %s data-platforms (deployments grouped by parent platform)'%(response['count']))"
   ]
  },
  {
   "cell_type": "markdown",
   "metadata": {},
   "source": [
    "To know more about data-products explore SOCIB [data-platforms ENDPOINT](https://github.com/socib/API_examples/blob/master/data_platforms/)"
   ]
  },
  {
   "cell_type": "markdown",
   "metadata": {},
   "source": [
    "SOCIB data-platforms constitute the first level of abstraction build over the data-sources, being the second one the so-called SOCIB data-products."
   ]
  },
  {
   "cell_type": "markdown",
   "metadata": {},
   "source": [
    "<h3>HOW MANY DATA-PRODUCTS DOES SOCIB OFFER?</h3>"
   ]
  },
  {
   "cell_type": "markdown",
   "metadata": {},
   "source": [
    "SOCIB data-products wrapp data-sources sharing the same deployment context into one single entity. This context can represent campaings (i.e CANALES), projects (i.e ABACUS), operations (maintenance) etc. <br>A certain SOCIB data-product can be composed then by a single data-source (i.e such data-source was deployed lonely) or serveral (i.e data-sources deployed during the same event). "
   ]
  },
  {
   "cell_type": "code",
   "execution_count": 10,
   "metadata": {
    "collapsed": false
   },
   "outputs": [
    {
     "name": "stdout",
     "output_type": "stream",
     "text": [
      "Requested url: http://api.socib.es/data-products/\n",
      " \n",
      "SOCIB has composed so far a total of 172 data-products by grouping deployments\n"
     ]
    }
   ],
   "source": [
    "end_point = '/data-products/'\n",
    "request = requests.get('%s%s' % (api_url, end_point), headers=headers)\n",
    "response = json.loads(request.text)\n",
    "\n",
    "print('Requested url: '+'%s%s' % (api_url, end_point))\n",
    "print(' ')\n",
    "print('SOCIB has composed so far a total of %s data-products by grouping deployments'%(response['count']))"
   ]
  },
  {
   "cell_type": "markdown",
   "metadata": {},
   "source": [
    "SOCIB data-products constitute the second level of abstraction build over the data-sources, being the first one the so-called SOCIB data-products."
   ]
  },
  {
   "cell_type": "markdown",
   "metadata": {},
   "source": [
    "To know more about data-products explore SOCIB [data-product ENDPOINT](https://github.com/socib/API_examples/blob/master/data_products/)"
   ]
  }
 ],
 "metadata": {
  "kernelspec": {
   "display_name": "Python [Root]",
   "language": "python",
   "name": "Python [Root]"
  },
  "language_info": {
   "codemirror_mode": {
    "name": "ipython",
    "version": 2
   },
   "file_extension": ".py",
   "mimetype": "text/x-python",
   "name": "python",
   "nbconvert_exporter": "python",
   "pygments_lexer": "ipython2",
   "version": "2.7.12"
  }
 },
 "nbformat": 4,
 "nbformat_minor": 0
}
